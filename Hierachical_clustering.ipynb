{
 "cells": [
  {
   "cell_type": "code",
   "execution_count": 3,
   "metadata": {},
   "outputs": [],
   "source": [
    "import pyemma\n",
    "import numpy as np\n",
    "import pyemma.coordinates as coor\n",
    "import matplotlib as mpl\n",
    "import matplotlib.pyplot as plt\n",
    "import sys\n",
    "import os\n",
    "from matplotlib.pyplot import cm\n",
    "from collections import OrderedDict\n",
    "import mdtraj as md\n",
    "import itertools\n",
    "import time\n",
    "import indices\n",
    "from indices.base import BaseComparisons as bc\n",
    "from indices.faith import Faith as Fai\n",
    "from indices.russell_rao import RussellRao as RR\n",
    "import scipy.cluster.hierarchy as shc\n",
    "from matplotlib import gridspec\n",
    "from matplotlib import pyplot\n",
    "import mdtraj\n",
    "import seaborn as sns\n",
    "import collections\n",
    "from sklearn.metrics.cluster import v_measure_score as v_meas\n",
    "from sklearn.metrics.cluster import normalized_mutual_info_score as nmi\n",
    "from sklearn.cluster import AgglomerativeClustering\n",
    "from sklearn.metrics import pairwise_distances"
   ]
  },
  {
   "cell_type": "markdown",
   "metadata": {},
   "source": [
    "## Let's try it..."
   ]
  },
  {
   "cell_type": "code",
   "execution_count": 36,
   "metadata": {},
   "outputs": [],
   "source": [
    "Threshold = 1\n",
    "traj_prefix = '/orange/alberto.perezant/liweichang/msm/MultipleComparisons/datasets'\n",
    "trajs=['complete_Gmut_steady_2.dcd','ward_Gmut_steady_1.dcd','cluster_Gmut_steady_0.dcd']\n",
    "w_as=[]\n",
    "for i in range(3):\n",
    "    traj_file = traj_prefix+'/DESRES-Trajectory_NuG2_result/tree/cluster_1_score/'+trajs[i]\n",
    "    native_pdb = traj_prefix+'/NuG2.pdb'\n",
    "    feat = coor.featurizer(native_pdb)\n",
    "    residues = np.arange(18,56)\n",
    "    pairs = []                                                                                 \n",
    "    for i,r1 in enumerate(range(18)):\n",
    "        for r2 in residues[::2]:\n",
    "            pairs.append([r1,r2])\n",
    "\n",
    "    pairs = np.array(pairs)\n",
    "    feature=feat.add_residue_mindist(pairs, scheme='ca',threshold=Threshold,periodic=False)\n",
    "    inp = pyemma.coordinates.load(traj_file, features=feat)\n",
    "    compare=bc(inp)\n",
    "    w_as.append(compare.w_a)\n",
    "    "
   ]
  },
  {
   "cell_type": "code",
   "execution_count": 61,
   "metadata": {
    "scrolled": false
   },
   "outputs": [
    {
     "data": {
      "image/png": "[encoded data removed]",
      "text/plain": [
       "<Figure size 309.6x288 with 1 Axes>"
      ]
     },
     "metadata": {
      "needs_background": "light"
     },
     "output_type": "display_data"
    }
   ],
   "source": [
    "fig,ax=plt.subplots(1,1,figsize=(4.3,4))\n",
    "plt.bar([0.5,0.75,1],height=w_as,color=['r','b','g'],width=0.15)\n",
    "plt.xlim(0.3,1.2)\n",
    "plt.yticks([0,5,10,15])\n",
    "plt.xticks([0.5,0.75,1])\n",
    "ax.set_xticklabels(['complete','ward','extended'])\n",
    "ax.set_ylabel('Extended similarity',fontsize=14)\n",
    "ax.tick_params(right=False, top=False, bottom=True,labelright=False, labeltop=False,axis=\"both\", direction='in', length=3)\n",
    "ax.tick_params(axis='both', which='major', labelsize=13)\n",
    "plt.savefig('/orange/alberto.perezant/liweichang/msm/MultipleComparisons/datasets/Fig_6b.pdf')\n"
   ]
  },
  {
   "cell_type": "markdown",
   "metadata": {},
   "source": [
    "## 3GB1"
   ]
  },
  {
   "cell_type": "code",
   "execution_count": 4,
   "metadata": {},
   "outputs": [],
   "source": [
    "Threshold = 0.6\n",
    "\n",
    "\n",
    "traj_file = '/blue/alberto.perezant/liweichang/msm/MultipleComparisons/test_data/protein/samples_3gb1_withrandom_shuffled.dcd'\n",
    "native_pdb = '/blue/alberto.perezant/liweichang/msm/MultipleComparisons/test_data/protein/3GB1.pdb'\n",
    "traj = md.load_dcd(traj_file,top=native_pdb)\n",
    "feat = coor.featurizer(native_pdb)\n",
    "residues = np.arange(0,56)\n",
    "pairs = []                                                                                 \n",
    "for i,r1 in enumerate(range(56)):\n",
    "    for r2 in residues[r1:]:\n",
    "        pairs.append([r1,r2])\n",
    "\n",
    "pairs = np.array(pairs)\n",
    "feature=feat.add_residue_mindist(pairs, scheme='closest-heavy',threshold=Threshold,periodic=False)\n",
    "inp = pyemma.coordinates.load(traj_file, features=feat)\n",
    "# compare=bc(inp)\n",
    "# w_as.append(compare.w_a)\n",
    "np.savez('proteinG_shuffled_fingerprint.npz',inp.astype(np.int32))"
   ]
  },
  {
   "cell_type": "code",
   "execution_count": 11,
   "metadata": {},
   "outputs": [
    {
     "data": {
      "text/plain": [
       "(1923,)"
      ]
     },
     "execution_count": 11,
     "metadata": {},
     "output_type": "execute_result"
    }
   ],
   "source": [
    "# for i in range(30):\n",
    "#     sample_index=np.random.choice(traj.n_frames,1200,replace=False)\n",
    "#     traj[sample_index].save_dcd('test_data/protein/test_linkages/subsample_3gb1_{}.dcd'.format(i))\n",
    "#     label=[int(i) for i in np.loadtxt('test_data/protein/samples_3gb1_shuffled_label.dat')]\n",
    "#     np.savetxt('test_data/protein/test_linkages/subsample_3gb1_label_{}.dat'.format(i),np.array(label)[sample_index])"
   ]
  },
  {
   "cell_type": "code",
   "execution_count": 27,
   "metadata": {
    "scrolled": true
   },
   "outputs": [
    {
     "name": "stdout",
     "output_type": "stream",
     "text": [
      "all_c shape = (1000000, 3)\n",
      "step 0 time = 24.24 s\n",
      "all_c shape = (1403650, 3)\n",
      "step 1 time = 11.53 s\n",
      "final matrix shape =  (1676, 1676)\n",
      "total time = 36.11 s\n"
     ]
    }
   ],
   "source": [
    "# %%timeit -n1 -r1 \n",
    "all_start = time.time()\n",
    "all_input = list(itertools.combinations(inp, 2))\n",
    "batch_size=1000000\n",
    "inp_sliced=[all_input[i*batch_size:(i+1)*batch_size] for i in range(int(len(all_input)/batch_size))]\n",
    "if int(len(inp_sliced)) < len(all_input)/batch_size:\n",
    "    inp_sliced.append(all_input[len(inp_sliced)*batch_size:])\n",
    "for i in range(len(inp_sliced)):\n",
    "    temp_start = time.time()\n",
    "    temp_c = np.zeros((int(len(inp_sliced[i])),3))\n",
    "    temp_input = np.array(inp_sliced[i])\n",
    "    product = temp_input.reshape(-1,2,temp_input.shape[-1]).sum(1)\n",
    "    for row in range(3):\n",
    "        temp_c[:,row] = np.sum(product==row,axis=1)\n",
    "    if i == 0:\n",
    "        all_c = temp_c\n",
    "    else:\n",
    "        all_c = np.concatenate((all_c,temp_c),axis=0)\n",
    "    print('all_c shape =', all_c.shape)\n",
    "    temp_end = time.time()\n",
    "    temp_time = temp_end - temp_start\n",
    "    print('step {} time ='.format(i),round(temp_time,2),'s')\n",
    "\n",
    "\n",
    "###calculate similarity\n",
    "#simi = all_c[:,0]+all_c[:,2]\n",
    "simi = all_c[:,2]\n",
    "###try Faith\n",
    "Faith=False\n",
    "if Faith:\n",
    "    faith_simi = 0.5*all_c[:,0]+all_c[:,2]\n",
    "    denominate = all_c[:,0]+all_c[:,1]+all_c[:,2]\n",
    "    w_p = faith_simi/denominate\n",
    "    simi_matrix = np.zeros((len(inp),len(inp)))\n",
    "    indices = np.triu_indices(len(inp),k=1)\n",
    "    indices = (indices[1],indices[0])\n",
    "    simi_matrix[indices] = w_p\n",
    "else:\n",
    "    simi_matrix = np.zeros((len(inp),len(inp)))\n",
    "    indices = np.triu_indices(len(inp),k=1)\n",
    "    indices = (indices[1],indices[0])\n",
    "    simi_matrix[indices] = simi\n",
    "print('final matrix shape = ', simi_matrix.shape)\n",
    "all_end = time.time()\n",
    "all_time = all_end - all_start\n",
    "print('total time =', round(all_time,2),'s')"
   ]
  },
  {
   "cell_type": "code",
   "execution_count": 28,
   "metadata": {},
   "outputs": [
    {
     "data": {
      "image/png": "[encoded data removed]",
      "text/plain": [
       "<Figure size 432x288 with 1 Axes>"
      ]
     },
     "metadata": {
      "needs_background": "light"
     },
     "output_type": "display_data"
    }
   ],
   "source": [
    "#np.unravel_index(np.argmax(simi, axis=None),simi.shape)\n",
    "fliped_simi_matrix = np.fliplr(simi_matrix)\n",
    "mirror_binary_simi=simi_matrix+np.rot90(fliped_simi_matrix)\n",
    "sum_mirror_binary_simi = np.sum(mirror_binary_simi.T,axis=1)\n",
    "sum_mirror_binary_simi_index = np.vstack((sum_mirror_binary_simi,range(len(sum_mirror_binary_simi)))).T\n",
    "outlier_ratio = 0.15\n",
    "plt.scatter(range(sum_mirror_binary_simi.shape[0]-int(sum_mirror_binary_simi.shape[0]*outlier_ratio)),sorted(sum_mirror_binary_simi)[int(sum_mirror_binary_simi.shape[0]*outlier_ratio):],marker='.')\n",
    "plt.scatter(range(sum_mirror_binary_simi.shape[0]),sum_mirror_binary_simi,marker='.')\n",
    "# plt.scatter(sample_index,sum_mirror_binary_simi[sample_index],marker='.')\n",
    "sorted_sum_mirror_binary_simi_index = sum_mirror_binary_simi_index[sum_mirror_binary_simi_index[:,0].argsort()][::-1]\n",
    "sorted_sum_mirror_binary_simi_index = sorted_sum_mirror_binary_simi_index.astype('int')\n",
    "index_aa=[]\n",
    "# for index_a,i in enumerate(sum_mirror_binary_simi_index[:,0]):\n",
    "#     if 360000 <i :\n",
    "#         index_aa.append(int(sum_mirror_binary_simi_index[:,1][index_a]))\n",
    "for index_a,i in enumerate(sum_mirror_binary_simi):\n",
    "    if 1140000 <i and index_a>1446:\n",
    "        index_aa.append(index_a)\n",
    "# plt.scatter(a,sum_mirror_binary_simi[a],marker='.')\n",
    "        "
   ]
  },
  {
   "cell_type": "code",
   "execution_count": 9,
   "metadata": {},
   "outputs": [
    {
     "data": {
      "text/plain": [
       "400"
      ]
     },
     "execution_count": 9,
     "metadata": {},
     "output_type": "execute_result"
    }
   ],
   "source": [
    "sorted_sum_mirror_binary_simi_index = sum_mirror_binary_simi_index[sum_mirror_binary_simi_index[:,0].argsort()]\n",
    "sorted_sum_mirror_binary_simi_index = sorted_sum_mirror_binary_simi_index.astype('int')\n",
    "sorted_sum_mirror_binary_simi_index = sorted_sum_mirror_binary_simi_index[int(sum_mirror_binary_simi.shape[0]*outlier_ratio):]\n",
    "sample_index=sorted_sum_mirror_binary_simi_index[:,1].tolist()\n",
    "# simi_matrix = simi_matrix[:,sample_index][sample_index]\n",
    "# simi_matrix\n",
    "# inp.shape[0]\n",
    "len(sample_index)"
   ]
  },
  {
   "cell_type": "code",
   "execution_count": 29,
   "metadata": {
    "scrolled": true
   },
   "outputs": [
    {
     "name": "stdout",
     "output_type": "stream",
     "text": [
      "merge 1600 clusters time = 24.9 s\n",
      "merge 1500 clusters time = 59.39 s\n",
      "merge 1400 clusters time = 94.55 s\n",
      "merge 1300 clusters time = 127.15 s\n",
      "merge 1200 clusters time = 158.95 s\n",
      "merge 1100 clusters time = 187.58 s\n",
      "merge 1000 clusters time = 214.59 s\n",
      "merge 900 clusters time = 241.32 s\n",
      "merge 800 clusters time = 271.06 s\n",
      "merge 700 clusters time = 295.03 s\n",
      "merge 600 clusters time = 319.42 s\n",
      "merge 500 clusters time = 340.49 s\n",
      "merge 400 clusters time = 359.28 s\n",
      "merge 300 clusters time = 375.95 s\n",
      "merge 200 clusters time = 389.83 s\n",
      "merge 100 clusters time = 401.88 s\n",
      "merge 2 clusters time = 410.44 s\n"
     ]
    }
   ],
   "source": [
    "import pandas  as pd\n",
    "all_start=time.time()\n",
    "inp_copy=inp#[sample_index]\n",
    "df = pd.DataFrame(simi_matrix,columns=pd.MultiIndex.from_tuples([('{}'.format(i),'{}'.format(i)) for i in range(1,len(inp_copy)+1)],names=['cluster', 'frame']))\n",
    "dic={}\n",
    "hie_tree=[]\n",
    "dentrom=[]\n",
    "time_step=[]\n",
    "while df.shape[0] > 2:\n",
    "    ###update df\n",
    "    frame_column=[i[1] for i in df.columns.to_list()]\n",
    "    hie_tree.append(frame_column)\n",
    "    new_max=np.argmax(df, axis=None)     ###2.5s\n",
    "\n",
    "    del_index = np.unravel_index(new_max, df.shape)\n",
    "    max_value = df.to_numpy()[del_index[0]][del_index[1]] ###0.1s\n",
    "\n",
    "    ###get temp inp\n",
    "    delete_row=[int(i) for i in df.columns[del_index[0]][1].split(',') ]\n",
    "    delete_cluster_row=[int(i) for i in df.columns[del_index[0]][0].split(',')]\n",
    "    delete_column=[int(i) for i in df.columns[del_index[1]][1].split(',') ]\n",
    "    delete_cluster_column=[int(i) for i in df.columns[del_index[1]][0].split(',')]\n",
    "    dentrom.append([*delete_cluster_column,*delete_cluster_row])\n",
    "\n",
    "    delete_all=delete_column+delete_row\n",
    "    insert_index='{}'.format(delete_all)[1:-1]   ###0.1s\n",
    "    insert_cluster_index='{}'.format(2*len(inp) - df.shape[0]+1)\n",
    "    df.drop(columns=[('{}'.format(delete_cluster_column)[1:-1],'{}'.format(delete_column)[1:-1]),('{}'.format(delete_cluster_row)[1:-1],'{}'.format(delete_row)[1:-1])],axis=1,inplace=True)\n",
    "    df.drop(index=[*del_index],axis=0,inplace=True)\n",
    "    df.reset_index(drop=True,inplace=True)\n",
    "    temp_w_sim=[]            ###1s\n",
    "\n",
    "    ###get temp inp\n",
    "   # print(df.columns)\n",
    "    frame_column=[i[1] for i in df.columns.to_list() ]\n",
    "    columns=[[int(d) for d in [*i.split(',')]] for i in frame_column]\n",
    "    temp_inp=[[inp_copy[d-1] for d in m] for m in columns]    ###0.1s\n",
    "\n",
    "    ###perform comparison\n",
    "#     if Faith:\n",
    "#         for i in temp_inp:\n",
    "#             compare=Fai(np.concatenate(([inp_copy[d-1] for d in delete_all],i),axis=0))\n",
    "#             temp_w_sim.append(compare.Fai_1sim_wdis)\n",
    "#     else:\n",
    "    for i in temp_inp:\n",
    "       # compare=bc(np.concatenate(([inp_copy[d-1] for d in delete_all],i),axis=0))\n",
    "        compare=bc(np.concatenate((inp_copy[np.array(delete_all)-1],i),axis=0))\n",
    "        temp_w_sim.append(compare.w_a)         ###1s\n",
    "#     temp_start = time.time()\n",
    "  #  inp_copy = temp_inp\n",
    "    temp_w_sim=[0]+temp_w_sim\n",
    "    df.loc[-1] = [0]*df.shape[1] # adding a row\n",
    "    df.index = df.index + 1  # shifting index\n",
    "    df = df.sort_index()  # sorting by index\n",
    "   # print(df.shape)\n",
    "    if df.shape[0] % 100 == 0:\n",
    "        all_end = time.time()\n",
    "        all_time = all_end - all_start\n",
    "        print('merge {} clusters time ='.format(df.shape[0]), round(all_time,2),'s')\n",
    "        time_step.append(round(all_time,4))\n",
    "    df.insert(loc=0, column=(insert_cluster_index,insert_index), value=temp_w_sim)\n",
    "\n",
    "    dic[insert_index]=max_value\n",
    "temp_end = time.time() \n",
    "temp_time = temp_end - all_start          \n",
    "print('merge {} clusters time ='.format(df.shape[0]), round(temp_time,2),'s')\n",
    "time_step.append(round(temp_time,4))\n",
    "last_two = [int(i[0]) for i in df.columns.to_list()]\n",
    "dentrogram = np.vstack(dentrom)-np.ones((1,2))\n",
    "values = np.max(simi_matrix)-np.array([*dic.values()],ndmin=2)+2\n",
    "num_frames = np.array([len(i) for i in [[int(d) for d in [*k.split(',')]] for k in list(dic.keys())]],ndmin=2)\n",
    "tree = np.hstack((dentrogram,values.T,num_frames.T))\n",
    "tree = np.vstack((tree, [[last_two[0]-1,last_two[1]-1,np.max(simi_matrix)-df.to_numpy()[1][0],len(inp)]]))"
   ]
  },
  {
   "cell_type": "code",
   "execution_count": 11,
   "metadata": {
    "scrolled": true
   },
   "outputs": [],
   "source": [
    "def plot_simi_threshold(tree,p,min_simi=True,save=False):\n",
    "    plt.figure(figsize=(20, 8))\n",
    "    dend = shc.dendrogram(tree,p=p,truncate_mode='lastp')\n",
    "    if min_simi:\n",
    "        plt.axhline(y=min_simi, color='r', linestyle='-')\n",
    "    plt.xlabel('Num_samples')\n",
    "    plt.ylabel('Simi_value')\n",
    "    if save:\n",
    "        plt.savefig('simi_threshold_tree.png')\n",
    "\n",
    "def get_step_index(hie_tree,cluster_step):\n",
    "    label_index = [[int(i)-1 for i in hie_tree[cluster_step][d].split(',')] for d in range(len(hie_tree[cluster_step]))]\n",
    "    label_index = sorted(label_index, key=lambda x:len(x), reverse=True)\n",
    "    return label_index\n",
    "def plot_test_result(true_rmsd,hie_tree,cluster_step,setylim,save=False):\n",
    "    colors = ['grey', 'purple', 'blue', 'green', 'orange', 'red',\n",
    "             'black','brown','navy','indigo','cyan','teal','violet','royalblue']\n",
    "    fig, ax = plt.subplots(figsize=(6, 4))\n",
    "    gs = gridspec.GridSpec(1, 2, width_ratios=[15, 1]) \n",
    "    ax0 = plt.subplot(gs[0])\n",
    "    ax1 = plt.subplot(gs[1])\n",
    "    label_index = [[int(i)-1 for i in hie_tree[cluster_step][d].split(',')] for d in range(len(hie_tree[cluster_step]))]\n",
    "    label_index = sorted(label_index, key=lambda x:len(x), reverse=True)\n",
    "    if len(label_index) > 10:\n",
    "        label_index = label_index[:10]\n",
    "    test_rmsd = [[true_rmsd[i] for i in label_index[d]] for d in range(len(label_index))]\n",
    "    for index,i in enumerate(test_rmsd):\n",
    "        ax0.scatter(label_index[index],i,marker='.',color=colors[index])\n",
    "    percentage=[len(i)/len(true_rmsd) for i in test_rmsd]\n",
    "    sum_percentage = [0.0]+[sum(percentage[:i]) for i in range(1,len(percentage))]+[1.0]\n",
    "    ax0.set_xlabel('Sample')\n",
    "    ax0.set_ylabel('RMSD')\n",
    "    cmap = mpl.colors.ListedColormap(colors[:len(test_rmsd)])\n",
    "    print(colors[:len(test_rmsd)])\n",
    "    norm = mpl.colors.BoundaryNorm(sum_percentage, cmap.N)\n",
    "    cb2 = mpl.colorbar.ColorbarBase(ax1, cmap=cmap,\n",
    "                                    norm=norm,\n",
    "                                    boundaries=sum_percentage,\n",
    "                                    ticks=sum_percentage+[1.0],\n",
    "                                    spacing='proportional')\n",
    "    cb2.set_label('Cluster samples ratio')\n",
    "    if setylim:\n",
    "        ax0.set_ylim(setylim[0],setylim[1])\n",
    "    if save:\n",
    "        plt.savefig('simi_threshold_tree.png')\n",
    "    return label_index"
   ]
  },
  {
   "cell_type": "code",
   "execution_count": 15,
   "metadata": {},
   "outputs": [],
   "source": [
    "traj = md.load_dcd('../proteinG_3gb1/yhalfres_0_0/trajectory.00.dcd',top='../proteinG_3gb1/3GB1.pdb')\n",
    "topfile=traj.top\n",
    "pdb=md.load_pdb('../proteinG_3gb1/3GB1.pdb')\n",
    "all_CA=topfile.select(\"backbone==1\")\n",
    "traj=traj[::10]#0][sample_index]\n",
    "true_rmsd=md.rmsd(traj,pdb,atom_indices=all_CA)\n",
    "#label_index = plot_test_result(true_rmsd,hie_tree,-4,setylim=[0,1])\n",
    "# plt.scatter(range(len(index_aa)),true_rmsd[index_aa])"
   ]
  },
  {
   "cell_type": "code",
   "execution_count": 207,
   "metadata": {},
   "outputs": [],
   "source": [
    "import copy \n",
    "rest_index = [i for i in range(len(inp)) if i not in list(np.array(range(9998))[::20])]\n",
    "origi_index = list(np.array(range(len(inp)))[::20])\n",
    "rest_label_index = copy.deepcopy(label_index)"
   ]
  },
  {
   "cell_type": "code",
   "execution_count": 32,
   "metadata": {},
   "outputs": [
    {
     "data": {
      "text/plain": [
       "[34, 6]"
      ]
     },
     "execution_count": 32,
     "metadata": {},
     "output_type": "execute_result"
    }
   ],
   "source": [
    "# all_label_index_bc = [bc(inp_copy[label_index[i]]).total_w_sim for i in range(len(label_index))]\n",
    "# all_label_index_bc\n",
    "#[len(rest_label_index[i]) for i in range(len(label_index))]\n",
    "list(np.array([1,2,34,6,7,4,7,8])[[2,3]])"
   ]
  },
  {
   "cell_type": "code",
   "execution_count": 17,
   "metadata": {},
   "outputs": [],
   "source": [
    "# colors = ['grey', 'purple', 'blue', 'green', 'orange', 'red',\n",
    "#              'black','brown','navy','indigo','cyan','teal','violet','royalblue']\n",
    "# traj = md.load_dcd('../proteinG_3gb1/yhalfres_0_0/trajectory.00.dcd',top='../proteinG_3gb1/3GB1.pdb')\n",
    "# for i in range(len(label_index)):\n",
    "#     true_rmsd=md.rmsd(traj[rest_label_index[i]],pdb,atom_indices=all_CA)\n",
    "#     plt.scatter(rest_label_index[i],true_rmsd,color=colors[i],marker='.')\n",
    "# plt.ylim(0,1)"
   ]
  },
  {
   "cell_type": "code",
   "execution_count": 69,
   "metadata": {
    "scrolled": true
   },
   "outputs": [],
   "source": [
    "# all_start=time.time()\n",
    "# inp = pyemma.coordinates.load('../proteinG_3gb1/yhalfres_0_0/trajectory.00.dcd', features=feat)\n",
    "# rest_inp = inp[rest_index]\n",
    "# for rest_inp_index, d in enumerate(rest_inp):\n",
    "#     change_index = []\n",
    "#     for i in range(len(label_index)):\n",
    "#        # before = bc(inp_copy[label_index[i]]).total_w_sim\n",
    "#         after = bc(np.concatenate((inp_copy[label_index[i]],[d]),axis=0)).total_w_sim\n",
    "#         change = (all_label_index_bc[i] - after)/all_label_index_bc[i]\n",
    "#         change_index.append(change)\n",
    "#         belong_index = np.argmin(change_index)\n",
    "#     if rest_inp_index % 100 == 0:\n",
    "#         print(rest_inp_index, ' finished')\n",
    "#     rest_label_index[belong_index].append(rest_index[rest_inp_index])\n",
    "# temp_end = time.time() \n",
    "# temp_time = temp_end - all_start  \n",
    "# print('time =', round(temp_time,2),'s')"
   ]
  },
  {
   "cell_type": "code",
   "execution_count": 7,
   "metadata": {},
   "outputs": [],
   "source": [
    "# label_concate = np.concatenate(label_index)\n",
    "traj = md.load_dcd(traj_file,top='../proteinG_3gb1/3GB1.pdb')\n",
    "topfile=traj.top\n",
    "pdb=md.load_pdb('../proteinG_3gb1/3GB1.pdb')\n",
    "all_CA=topfile.select(\"backbone==1\")\n",
    "# rmsd=md.rmsd(traj,pdb,atom_indices=all_CA)\n",
    "# traj_cluster=traj[label_concate]\n",
    "# cluster_rmsd=md.rmsd(traj_cluster,pdb,atom_indices=all_CA)\n",
    "# for index,i in enumerate(label_index):\n",
    "#     traj_cluster=traj[i]\n",
    "#     cluster_rmsd=md.rmsd(traj_cluster,pdb,atom_indices=all_CA)\n",
    "#     plt.scatter(i,list(cluster_rmsd),marker='.',label=index)\n",
    "# traj_cluster=traj[label_concate]\n",
    "# plt.ylim(0,2)\n",
    "# plt.legend()"
   ]
  },
  {
   "cell_type": "code",
   "execution_count": 62,
   "metadata": {},
   "outputs": [],
   "source": [
    "# b=[i for i in range(rmsd.shape[0]) if i not in a]\n",
    "traj_cluster=md.load_dcd('test_data/protein/samples_3gb1_withrandom_shuffled.dcd',top=native_pdb)\n",
    "(traj_cluster[labels==0][3]+traj_cluster[labels==1][0]+traj_cluster[labels==2][0]+traj_cluster[labels==3][0]\\\n",
    "+traj_cluster[labels==4][0]+traj_cluster[labels==5][0]).save_pdb('test_data/protein/seeds_3gb1.pdb')"
   ]
  },
  {
   "cell_type": "code",
   "execution_count": 11,
   "metadata": {
    "scrolled": true
   },
   "outputs": [
    {
     "name": "stderr",
     "output_type": "stream",
     "text": [
      "/home/liweichang/anaconda3/envs/msm/lib/python3.7/site-packages/ipykernel_launcher.py:10: DeprecationWarning: `np.int` is a deprecated alias for the builtin `int`. To silence this warning, use `int` by itself. Doing this will not modify any behavior and is safe. When replacing `np.int`, you may wish to use e.g. `np.int64` or `np.int32` to specify the precision. If you wish to review your current use, check the release note link for additional information.\n",
      "Deprecated in NumPy 1.20; for more details and guidance: https://numpy.org/devdocs/release/1.20.0-notes.html#deprecations\n",
      "  # Remove the CWD from sys.path while we load stuff.\n"
     ]
    },
    {
     "name": "stdout",
     "output_type": "stream",
     "text": [
      "0\n",
      "100\n",
      "200\n",
      "300\n",
      "400\n",
      "500\n",
      "600\n",
      "700\n",
      "800\n",
      "900\n",
      "1000\n",
      "1100\n",
      "1200\n",
      "1300\n",
      "1400\n",
      "1500\n",
      "1600\n",
      "1700\n",
      "1800\n",
      "1900\n",
      "(1849926,)\n"
     ]
    },
    {
     "data": {
      "image/png": "[encoded data removed]",
      "text/plain": [
       "<Figure size 432x288 with 2 Axes>"
      ]
     },
     "metadata": {
      "needs_background": "light"
     },
     "output_type": "display_data"
    }
   ],
   "source": [
    "traj_cluster=md.load_dcd('test_data/protein/samples_3gb1_withrandom_shuffled.dcd',top=native_pdb)\n",
    "labels=np.loadtxt('test_data/protein/samples_3gb1_label_withrandom_shuffled.dat')\n",
    "traj_cluster=traj_cluster[labels==0]+traj_cluster[labels==1]+traj_cluster[labels==2]+traj_cluster[labels==3]+traj_cluster[labels==4]\\\n",
    "            +traj_cluster[labels==5]+traj_cluster[labels==-1]\n",
    "rmsd_2d=np.zeros((len(traj_cluster),len(traj_cluster)))\n",
    "upper_indices = np.triu_indices(len(traj_cluster),k=0)\n",
    "lower_indices = (upper_indices[1],upper_indices[0])\n",
    "r2d = []\n",
    "for i in range(len(traj_cluster)):\n",
    "    r2d.append(md.rmsd(traj_cluster[i:],traj_cluster[i],atom_indices=all_CA))\n",
    "    if i % 100 == 0:\n",
    "        print(i)\n",
    "print(np.concatenate(r2d).shape)\n",
    "rmsd_2d[lower_indices] = np.concatenate(r2d)\n",
    "rmsd_2d[upper_indices] = np.concatenate(r2d)\n",
    "sns.heatmap(rmsd_2d*10,square=True,xticklabels=200,yticklabels=200,cmap='bwr',cbar_kws={'label':'RMSD'},vmin=0,vmax=10)\n",
    "plt.xlabel(\"Frame #\")\n",
    "plt.ylabel(\"Frame #\")\n",
    "ax = plt.gca()\n",
    "ax.tick_params(direction='out')\n",
    "plt.tight_layout()\n",
    "plt.savefig('/orange/alberto.perezant/liweichang/msm/MultipleComparisons/datasets/Fig_S2b.pdf')\n"
   ]
  },
  {
   "cell_type": "code",
   "execution_count": 30,
   "metadata": {
    "scrolled": false
   },
   "outputs": [
    {
     "data": {
      "text/plain": [
       "[385, 345, 297, 224, 218, 207]"
      ]
     },
     "execution_count": 30,
     "metadata": {},
     "output_type": "execute_result"
    },
    {
     "data": {
      "image/png": "[encoded data removed]",
      "text/plain": [
       "<Figure size 1440x576 with 1 Axes>"
      ]
     },
     "metadata": {
      "needs_background": "light"
     },
     "output_type": "display_data"
    }
   ],
   "source": [
    "plot_simi_threshold(tree,20,min_simi=False)\n",
    "# [len(i) for i in label_index]\n",
    "# list(dic.items())[-20:]\n",
    "[385, 345, 297, 224, 218, 207]"
   ]
  },
  {
   "cell_type": "code",
   "execution_count": 31,
   "metadata": {},
   "outputs": [
    {
     "name": "stdout",
     "output_type": "stream",
     "text": [
      "[219, 233, 238, 251, 339, 396]\n",
      "[207, 218, 224, 297, 345, 385]\n"
     ]
    }
   ],
   "source": [
    "label=[int(i) for i in np.loadtxt('test_data/protein/samples_3gb1_shuffled_label.dat')]\n",
    "cluster_label=np.zeros((len(traj)))\n",
    "for i in range(len(label_index)):\n",
    "    cluster_label[label_index[i]]=i\n",
    "cluster_label=np.array([i for i in np.array(cluster_label) if i != -1])\n",
    "# v_meas(np.array([i for i in np.array(label) if i != -1]),cluster_label[np.array(label)!=-1])\n",
    "print(sorted([(np.array(label)==i).sum() for i in range(6)]))\n",
    "print(sorted([385, 345, 297, 224, 218, 207]))"
   ]
  },
  {
   "cell_type": "code",
   "execution_count": 320,
   "metadata": {
    "scrolled": false
   },
   "outputs": [
    {
     "data": {
      "text/plain": [
       "array([[2845.        , 2844.        ,  107.30237154, 1012.        ],\n",
       "       [2842.        , 2835.        ,   95.10895884,  413.        ],\n",
       "       [2843.        , 2841.        ,   81.52773376,  631.        ]])"
      ]
     },
     "execution_count": 320,
     "metadata": {},
     "output_type": "execute_result"
    }
   ],
   "source": [
    "# list(dic.items())[-2][0]\n",
    "# len([int(s) for s in list(dic.items())[-2][0].split(',')])\n",
    "# checks=[int(i-inp_len) for i in np.concatenate(tree[np.array(step)[np.array(diff)>5]][:,:2]) if i > inp_len]\n",
    "# print(checks[25:])\n",
    "# checks=np.array(list(dic.items()))[:,0][checks[25:]]\n",
    "# checkss=np.unique(np.concatenate([[int(s) for s in d.split(',')] for d in checks]))\n",
    "tree[np.array(step)[np.array(diff)>20]]"
   ]
  },
  {
   "cell_type": "code",
   "execution_count": 442,
   "metadata": {},
   "outputs": [
    {
     "data": {
      "text/plain": [
       "array([[3.96000000e+02, 4.23000000e+02, 2.00000000e+00, 2.00000000e+00],\n",
       "       [3.98000000e+02, 4.25000000e+02, 2.00000000e+00, 2.00000000e+00],\n",
       "       [3.99000000e+02, 4.26000000e+02, 2.00000000e+00, 2.00000000e+00],\n",
       "       ...,\n",
       "       [3.36700000e+03, 3.36500000e+03, 1.52374723e+02, 4.51000000e+02],\n",
       "       [3.36900000e+03, 3.36200000e+03, 1.68263754e+02, 1.23600000e+03],\n",
       "       [3.37100000e+03, 3.37000000e+03, 1.87494961e+02, 1.68700000e+03]])"
      ]
     },
     "execution_count": 442,
     "metadata": {},
     "output_type": "execute_result"
    }
   ],
   "source": [
    "tree#[3371-inp_len]"
   ]
  },
  {
   "cell_type": "code",
   "execution_count": 31,
   "metadata": {},
   "outputs": [
    {
     "data": {
      "text/plain": [
       "1182"
      ]
     },
     "execution_count": 31,
     "metadata": {},
     "output_type": "execute_result"
    }
   ],
   "source": [
    "diff=[]\n",
    "single_merge=[]\n",
    "single_merge_step=[]\n",
    "step=[]\n",
    "inp_len=inp.shape[0]\n",
    "for i in list(range(tree.shape[0]))[1:][::-1]:\n",
    "    a=tree[i][0]\n",
    "    b=tree[i][1]\n",
    "    if a > inp_len:\n",
    "        a=tree[i][0]-inp_len\n",
    "        if b > inp_len:\n",
    "            b=tree[i][1]-inp_len\n",
    "            temp_diff = tree[i][2] - max(tree[int(a)][2],tree[int(b)][2])\n",
    "            diff.append(temp_diff)\n",
    "            step.append(i)\n",
    "        else:\n",
    "            temp_diff = tree[i][2] - tree[int(a)][2]\n",
    "            diff.append(temp_diff)\n",
    "            step.append(i)\n",
    "            single_merge.append(temp_diff)\n",
    "            single_merge_step.append(b)\n",
    "    else:\n",
    "        if b > inp_len:\n",
    "            b=tree[i][1]-inp_len\n",
    "            temp_diff = tree[i][2] - tree[int(b)][2]\n",
    "            diff.append(temp_diff)\n",
    "            step.append(i)\n",
    "            single_merge.append(temp_diff)\n",
    "            single_merge_step.append(a)\n",
    "len(diff)"
   ]
  },
  {
   "cell_type": "code",
   "execution_count": 33,
   "metadata": {},
   "outputs": [],
   "source": [
    "np.array(step)[np.array(diff)>10]\n",
    "# np.array(list(dic.items()))[-1][1]\n",
    "# len([[int(s) for s in d.split(',')] for d in np.array(list(dic.items()))[:,0]][-2])\n",
    "# tree[-2]\n",
    "np.save('3gb1_clustering_tree.npy',tree)"
   ]
  },
  {
   "cell_type": "code",
   "execution_count": 48,
   "metadata": {
    "scrolled": true
   },
   "outputs": [
    {
     "data": {
      "text/plain": [
       "array([[3.34800000e+03, 3.34100000e+03, 9.51510143e+01, 1.33100000e+03],\n",
       "       [3.34700000e+03, 3.34500000e+03, 8.61583630e+01, 1.12400000e+03],\n",
       "       [3.34600000e+03, 3.34000000e+03, 7.46710817e+01, 9.06000000e+02],\n",
       "       [3.34400000e+03, 3.32300000e+03, 6.23519062e+01, 6.82000000e+02],\n",
       "       [3.33200000e+03, 3.23800000e+03, 4.89595376e+01, 1.73000000e+02],\n",
       "       [2.95100000e+03, 1.28300000e+03, 3.78235294e+01, 1.70000000e+01],\n",
       "       [2.44500000e+03, 1.60400000e+03, 3.50000000e+01, 3.00000000e+00],\n",
       "       [2.14000000e+03, 9.62000000e+02, 3.10000000e+01, 3.00000000e+00],\n",
       "       [2.16200000e+03, 4.80000000e+02, 2.90000000e+01, 3.00000000e+00],\n",
       "       [2.09300000e+03, 1.52300000e+03, 2.70000000e+01, 3.00000000e+00],\n",
       "       [1.83200000e+03, 2.37000000e+02, 2.50000000e+01, 3.00000000e+00],\n",
       "       [1.74400000e+03, 1.75000000e+02, 2.50000000e+01, 3.00000000e+00],\n",
       "       [1.97600000e+03, 1.00000000e+00, 2.50000000e+01, 3.00000000e+00],\n",
       "       [1.70700000e+03, 1.36100000e+03, 1.70000000e+01, 3.00000000e+00],\n",
       "       [1.68100000e+03, 1.14000000e+03, 1.70000000e+01, 3.00000000e+00]])"
      ]
     },
     "execution_count": 48,
     "metadata": {},
     "output_type": "execute_result"
    }
   ],
   "source": [
    "checks=np.array(list(dic.items()))[:,0][np.array(step)[np.array(diff)>7][5:]]\n",
    "checkss=np.unique(np.concatenate([[int(s) for s in d.split(',')] for d in checks]))\n",
    "tree[np.array(step)[np.array(diff)>7]]\n",
    "# tree[np.array(step[:100])[np.array(diff[:100])>15]][:,3]\n"
   ]
  },
  {
   "cell_type": "code",
   "execution_count": 32,
   "metadata": {},
   "outputs": [
    {
     "data": {
      "text/plain": [
       "<matplotlib.collections.PathCollection at 0x2acbcde9ded0>"
      ]
     },
     "execution_count": 32,
     "metadata": {},
     "output_type": "execute_result"
    },
    {
     "data": {
      "image/png": "[encoded data removed]",
      "text/plain": [
       "<Figure size 432x288 with 1 Axes>"
      ]
     },
     "metadata": {
      "needs_background": "light"
     },
     "output_type": "display_data"
    }
   ],
   "source": [
    "# diff=[tree[:,2][i]-tree[:,2][i-1] for i in range(1,tree[:,2].shape[0]-1)]\n",
    "plt.scatter(step[:50],diff[:50],marker='.',linewidths=3,color='black')\n",
    "plt.scatter(step[2:5],diff[2:5],marker='.',linewidths=10,color='r')\n",
    "# plt.scatter(single_merge_step,single_merge,marker='.')\n",
    "# np.array(step)[np.array(diff)>5]\n",
    "# [[int(s) for s in d.split(',')] for d in checks]"
   ]
  }
 ],
 "metadata": {
  "hide_input": false,
  "kernelspec": {
   "display_name": "Python 3",
   "language": "python",
   "name": "python3"
  },
  "language_info": {
   "codemirror_mode": {
    "name": "ipython",
    "version": 3
   },
   "file_extension": ".py",
   "mimetype": "text/x-python",
   "name": "python",
   "nbconvert_exporter": "python",
   "pygments_lexer": "ipython3",
   "version": "3.7.7"
  }
 },
 "nbformat": 4,
 "nbformat_minor": 4
}
