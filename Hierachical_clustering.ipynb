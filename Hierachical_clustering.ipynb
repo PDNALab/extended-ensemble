{
 "cells": [
  {
   "cell_type": "code",
   "execution_count": 1,
   "metadata": {},
   "outputs": [],
   "source": [
    "import pyemma\n",
    "import numpy as np\n",
    "import pyemma.coordinates as coor\n",
    "import matplotlib as mpl\n",
    "import matplotlib.pyplot as plt\n",
    "import sys\n",
    "import os\n",
    "from matplotlib.pyplot import cm\n",
    "from collections import OrderedDict\n",
    "import mdtraj as md\n",
    "import itertools\n",
    "import time\n",
    "import indices\n",
    "from indices.base import BaseComparisons as bc\n",
    "from indices.faith import Faith as Fai\n",
    "import scipy.cluster.hierarchy as shc\n",
    "from matplotlib import gridspec\n",
    "from matplotlib import pyplot\n",
    "import mdtraj\n",
    "import seaborn as sns"
   ]
  },
  {
   "cell_type": "markdown",
   "metadata": {},
   "source": [
    "## Let's try it..."
   ]
  },
  {
   "cell_type": "code",
   "execution_count": 52,
   "metadata": {},
   "outputs": [],
   "source": [
    "Threshold = 0.6\n",
    "traj = md.load_dcd('test_data/protein/3gb1.dcd',top='test_data/protein/3GB1.pdb')\n",
    "topfile=traj.top\n",
    "feat = coor.featurizer(topfile)\n",
    "residues = np.arange(0,56)\n",
    "pairs = []                                                                                 \n",
    "for i,r1 in enumerate(residues):\n",
    "    for r2 in residues[i+1::2]:\n",
    "        pairs.append([r1,r2])\n",
    "pairs = np.array(pairs)\n",
    "feature=feat.add_residue_mindist(pairs, scheme='closest-heavy',threshold=Threshold,periodic=False)\n",
    "inp = pyemma.coordinates.load('test_data/protein/3gb1.dcd', features=feat)\n",
    "inp=inp[::10]\n",
    "traj = traj[::10]\n",
    "traj_index = [i for i in range(traj.n_frames) if i not in index_aa]\n",
    "inp=inp[traj_index]\n",
    "traj = traj[traj_index]"
   ]
  },
  {
   "cell_type": "code",
   "execution_count": 18,
   "metadata": {},
   "outputs": [],
   "source": [
    "inp=inp[::10]"
   ]
  },
  {
   "cell_type": "code",
   "execution_count": 53,
   "metadata": {
    "scrolled": true
   },
   "outputs": [
    {
     "name": "stdout",
     "output_type": "stream",
     "text": [
      "all_c shape = (397386, 3)\n",
      "step 0 time = 1.7 s\n",
      "final matrix shape =  (892, 892)\n",
      "total time = 1.74 s\n"
     ]
    }
   ],
   "source": [
    "# %%timeit -n1 -r1 \n",
    "\n",
    "all_start = time.time()\n",
    "all_input = list(itertools.combinations(inp, 2))\n",
    "batch_size=1000000\n",
    "inp_sliced=[all_input[i*batch_size:(i+1)*batch_size] for i in range(int(len(all_input)/batch_size))]\n",
    "if int(len(inp_sliced)) < len(all_input)/batch_size:\n",
    "    inp_sliced.append(all_input[len(inp_sliced)*batch_size:])\n",
    "for i in range(len(inp_sliced)):\n",
    "    temp_start = time.time()\n",
    "    temp_c = np.zeros((int(len(inp_sliced[i])),3))\n",
    "    temp_input = np.array(inp_sliced[i])\n",
    "    product = temp_input.reshape(-1,2,temp_input.shape[-1]).sum(1)\n",
    "    for row in range(3):\n",
    "        temp_c[:,row] = np.sum(product==row,axis=1)\n",
    "    if i == 0:\n",
    "        all_c = temp_c\n",
    "    else:\n",
    "        all_c = np.concatenate((all_c,temp_c),axis=0)\n",
    "    print('all_c shape =', all_c.shape)\n",
    "    temp_end = time.time()\n",
    "    temp_time = temp_end - temp_start\n",
    "    print('step {} time ='.format(i),round(temp_time,2),'s')\n",
    "\n",
    "\n",
    "###calculate similarity\n",
    "simi = all_c[:,0]+all_c[:,2]\n",
    "###try Faith\n",
    "Faith=False\n",
    "if Faith:\n",
    "    faith_simi = 0.5*all_c[:,0]+all_c[:,2]\n",
    "    denominate = all_c[:,0]+all_c[:,1]+all_c[:,2]\n",
    "    w_p = faith_simi/denominate\n",
    "    simi_matrix = np.zeros((len(inp),len(inp)))\n",
    "    indices = np.triu_indices(len(inp),k=1)\n",
    "    indices = (indices[1],indices[0])\n",
    "    simi_matrix[indices] = w_p\n",
    "else:\n",
    "    simi_matrix = np.zeros((len(inp),len(inp)))\n",
    "    indices = np.triu_indices(len(inp),k=1)\n",
    "    indices = (indices[1],indices[0])\n",
    "    simi_matrix[indices] = simi\n",
    "print('final matrix shape = ', simi_matrix.shape)\n",
    "all_end = time.time()\n",
    "all_time = all_end - all_start\n",
    "print('total time =', round(all_time,2),'s')"
   ]
  },
  {
   "cell_type": "code",
   "execution_count": 20,
   "metadata": {},
   "outputs": [
    {
     "data": {
      "image/png": "[encoded data removed]",
      "text/plain": [
       "<Figure size 432x288 with 1 Axes>"
      ]
     },
     "metadata": {
      "needs_background": "light"
     },
     "output_type": "display_data"
    }
   ],
   "source": [
    "#np.unravel_index(np.argmax(simi, axis=None),simi.shape)\n",
    "simi_matrix\n",
    "mirror_binary_simi=simi_matrix+np.rot90(np.fliplr(simi_matrix))\n",
    "sum_mirror_binary_simi = np.sum(mirror_binary_simi.T,axis=1)\n",
    "sum_mirror_binary_simi_index = np.vstack((sum_mirror_binary_simi,range(len(sum_mirror_binary_simi)))).T\n",
    "plt.scatter(range(sum_mirror_binary_simi.shape[0]),sum_mirror_binary_simi)\n",
    "index_aa=[]\n",
    "for index_a,i in enumerate(sum_mirror_binary_simi_index[:,0]):\n",
    "    if sum_mirror_binary_simi[index_a] < 690000:\n",
    "        index_aa.append(index_a)"
   ]
  },
  {
   "cell_type": "code",
   "execution_count": 54,
   "metadata": {
    "scrolled": true
   },
   "outputs": [
    {
     "name": "stdout",
     "output_type": "stream",
     "text": [
      "merge 800 clusters time = 6.53 s\n",
      "merge 700 clusters time = 13.32 s\n",
      "merge 600 clusters time = 19.15 s\n",
      "merge 500 clusters time = 24.82 s\n",
      "merge 400 clusters time = 29.86 s\n",
      "merge 300 clusters time = 34.46 s\n",
      "merge 200 clusters time = 38.45 s\n",
      "merge 100 clusters time = 42.12 s\n",
      "merge 2 clusters time = 45.34 s\n"
     ]
    }
   ],
   "source": [
    "import pandas  as pd\n",
    "all_start=time.time()\n",
    "df = pd.DataFrame(simi_matrix,columns=pd.MultiIndex.from_tuples([('{}'.format(i),'{}'.format(i)) for i in range(1,len(inp)+1)],names=['cluster', 'frame']))\n",
    "inp_copy=inp\n",
    "dic={}\n",
    "hie_tree=[]\n",
    "dentrom=[]\n",
    "time_step=[]\n",
    "while df.shape[0] > 2:\n",
    "    ###update df\n",
    "    frame_column=[i[1] for i in df.columns.to_list()]\n",
    "    hie_tree.append(frame_column)\n",
    "    new_max=np.argmax(df, axis=None)     ###2.5s\n",
    "\n",
    "    del_index = np.unravel_index(new_max, df.shape)\n",
    "    max_value = df.to_numpy()[del_index[0]][del_index[1]] ###0.1s\n",
    "\n",
    "    ###get temp inp\n",
    "    delete_row=[int(i) for i in df.columns[del_index[0]][1].split(',') ]\n",
    "    delete_cluster_row=[int(i) for i in df.columns[del_index[0]][0].split(',')]\n",
    "    delete_column=[int(i) for i in df.columns[del_index[1]][1].split(',') ]\n",
    "    delete_cluster_column=[int(i) for i in df.columns[del_index[1]][0].split(',')]\n",
    "    dentrom.append([*delete_cluster_column,*delete_cluster_row])\n",
    "\n",
    "    delete_all=delete_column+delete_row\n",
    "    insert_index='{}'.format(delete_all)[1:-1]   ###0.1s\n",
    "    insert_cluster_index='{}'.format(2*len(inp) - df.shape[0]+1)\n",
    "    df.drop(columns=[('{}'.format(delete_cluster_column)[1:-1],'{}'.format(delete_column)[1:-1]),('{}'.format(delete_cluster_row)[1:-1],'{}'.format(delete_row)[1:-1])],axis=1,inplace=True)\n",
    "    df.drop(index=[*del_index],axis=0,inplace=True)\n",
    "    df.reset_index(drop=True,inplace=True)\n",
    "    temp_w_sim=[]            ###1s\n",
    "\n",
    "    ###get temp inp\n",
    "   # print(df.columns)\n",
    "    frame_column=[i[1] for i in df.columns.to_list() ]\n",
    "    columns=[[int(d) for d in [*i.split(',')]] for i in frame_column]\n",
    "    temp_inp=[[inp_copy[d-1] for d in m] for m in columns]    ###0.1s\n",
    "\n",
    "    ###perform comparison\n",
    "#     if Faith:\n",
    "#         for i in temp_inp:\n",
    "#             compare=Fai(np.concatenate(([inp_copy[d-1] for d in delete_all],i),axis=0))\n",
    "#             temp_w_sim.append(compare.Fai_1sim_wdis)\n",
    "#     else:\n",
    "    for i in temp_inp:\n",
    "        compare=bc(np.concatenate(([inp_copy[d-1] for d in delete_all],i),axis=0))\n",
    "        temp_w_sim.append(compare.total_w_sim)         ###1s\n",
    "\n",
    "#     temp_start = time.time()\n",
    "  #  inp_copy = temp_inp\n",
    "    temp_w_sim=[0]+temp_w_sim\n",
    "    df.loc[-1] = [0]*df.shape[1] # adding a row\n",
    "    df.index = df.index + 1  # shifting index\n",
    "    df = df.sort_index()  # sorting by index\n",
    "   # print(df.shape)\n",
    "    if df.shape[0] % 100 == 0:\n",
    "        all_end = time.time()\n",
    "        all_time = all_end - all_start\n",
    "        print('merge {} clusters time ='.format(df.shape[0]), round(all_time,2),'s')\n",
    "        time_step.append(round(all_time,4))\n",
    "    df.insert(loc=0, column=(insert_cluster_index,insert_index), value=temp_w_sim)\n",
    "\n",
    "    dic[insert_index]=max_value\n",
    "temp_end = time.time() \n",
    "temp_time = temp_end - all_start          \n",
    "print('merge {} clusters time ='.format(df.shape[0]), round(temp_time,2),'s')\n",
    "time_step.append(round(temp_time,4))\n",
    "last_two = [int(i[0]) for i in df.columns.to_list()]\n",
    "dentrogram = np.vstack(dentrom)-np.ones((1,2))\n",
    "values = np.max(simi_matrix)-np.array([*dic.values()],ndmin=2)+2\n",
    "num_frames = np.array([len(i) for i in [[int(d) for d in [*k.split(',')]] for k in list(dic.keys())]],ndmin=2)\n",
    "tree = np.hstack((dentrogram,values.T,num_frames.T))\n",
    "tree = np.vstack((tree, [[last_two[0]-1,last_two[1]-1,np.max(simi_matrix)-df.to_numpy()[1][0],len(inp)]]))"
   ]
  },
  {
   "cell_type": "code",
   "execution_count": 55,
   "metadata": {
    "scrolled": true
   },
   "outputs": [],
   "source": [
    "def plot_simi_threshold(tree,p,min_simi,save=False):\n",
    "    plt.figure(figsize=(20, 8))\n",
    "    dend = shc.dendrogram(tree,p=p,truncate_mode='lastp')\n",
    "    plt.axhline(y=min_simi, color='r', linestyle='-')\n",
    "    plt.xlabel('Num_samples')\n",
    "    plt.ylabel('Simi_value')\n",
    "    if save:\n",
    "        plt.savefig('simi_threshold_tree.png')\n",
    "def plot_test_result(true_rmsd,hie_tree,cluster_step,save=False):\n",
    "    colors = ['grey', 'purple', 'blue', 'green', 'orange', 'red',\n",
    "             'black','brown','navy','indigo','cyan','teal','violet','royalblue']\n",
    "    fig, ax = plt.subplots(figsize=(6, 4))\n",
    "    gs = gridspec.GridSpec(1, 2, width_ratios=[15, 1]) \n",
    "    ax0 = plt.subplot(gs[0])\n",
    "    ax1 = plt.subplot(gs[1])\n",
    "    label_index = [[int(i)-1 for i in hie_tree[cluster_step][d].split(',')] for d in range(len(hie_tree[cluster_step]))]\n",
    "    label_index = sorted(label_index, key=lambda x:len(x), reverse=True)\n",
    "    if len(label_index) > 10:\n",
    "        label_index = label_index[:10]\n",
    "    test_rmsd = [[true_rmsd[i] for i in label_index[d]] for d in range(len(label_index))]\n",
    "    for index,i in enumerate(test_rmsd):\n",
    "        ax0.scatter(label_index[index],i,marker='.',color=colors[index])\n",
    "    percentage=[len(i)/len(true_rmsd) for i in test_rmsd]\n",
    "    sum_percentage = [0.0]+[sum(percentage[:i]) for i in range(1,len(percentage))]+[1.0]\n",
    "    ax0.set_xlabel('Sample')\n",
    "    ax0.set_ylabel('RMSD')\n",
    "    cmap = mpl.colors.ListedColormap(colors[:len(test_rmsd)])\n",
    "    print(colors[:len(test_rmsd)])\n",
    "    norm = mpl.colors.BoundaryNorm(sum_percentage, cmap.N)\n",
    "    cb2 = mpl.colorbar.ColorbarBase(ax1, cmap=cmap,\n",
    "                                    norm=norm,\n",
    "                                    boundaries=sum_percentage,\n",
    "                                    ticks=sum_percentage+[1.0],\n",
    "                                    spacing='proportional')\n",
    "    cb2.set_label('Cluster samples ratio')\n",
    "    if save:\n",
    "        plt.savefig('simi_threshold_tree.png')\n",
    "    return label_index"
   ]
  },
  {
   "cell_type": "code",
   "execution_count": 64,
   "metadata": {
    "scrolled": true
   },
   "outputs": [
    {
     "name": "stdout",
     "output_type": "stream",
     "text": [
      "['grey', 'purple', 'blue', 'green', 'orange', 'red']\n"
     ]
    },
    {
     "data": {
      "image/png": "[encoded data removed]",
      "text/plain": [
       "<Figure size 432x288 with 2 Axes>"
      ]
     },
     "metadata": {
      "needs_background": "light"
     },
     "output_type": "display_data"
    }
   ],
   "source": [
    "# traj = md.load_dcd('test_data/protein/3gb1.dcd',top='test_data/protein/3GB1.pdb')\n",
    "# topfile=traj.top\n",
    "# pdb=md.load_pdb('test_data/protein/3GB1.pdb')\n",
    "# all_CA=topfile.select(\"backbone==1\")\n",
    "# traj=traj[::10]\n",
    "true_rmsd=md.rmsd(traj,pdb,atom_indices=all_CA)\n",
    "label_index = plot_test_result(true_rmsd,hie_tree,-4)\n",
    "#plt.scatter(range(len(true_rmsd)),true_rmsd)\n",
    "#plt.scatter(index_aa,true_rmsd[index_aa],color='r')"
   ]
  },
  {
   "cell_type": "code",
   "execution_count": 42,
   "metadata": {},
   "outputs": [
    {
     "data": {
      "text/plain": [
       "108"
      ]
     },
     "execution_count": 42,
     "metadata": {},
     "output_type": "execute_result"
    }
   ],
   "source": [
    "len(index_aa)"
   ]
  },
  {
   "cell_type": "code",
   "execution_count": 66,
   "metadata": {},
   "outputs": [
    {
     "data": {
      "text/plain": [
       "<matplotlib.collections.PathCollection at 0x7f03ac4fca90>"
      ]
     },
     "execution_count": 66,
     "metadata": {},
     "output_type": "execute_result"
    },
    {
     "data": {
      "image/png": "[encoded data removed]",
      "text/plain": [
       "<Figure size 432x288 with 1 Axes>"
      ]
     },
     "metadata": {
      "needs_background": "light"
     },
     "output_type": "display_data"
    }
   ],
   "source": [
    "label_concate = np.concatenate(label_index)\n",
    "# traj = md.load_dcd('../proteinG_3gb1/yhalfres_0_0/trajectory.00.dcd',top='../proteinG_3gb1/3GB1.pdb')\n",
    "# topfile=traj.top\n",
    "# pdb=md.load_pdb('../proteinG_3gb1/3GB1.pdb')\n",
    "# all_CA=topfile.select(\"backbone==1\")\n",
    "traj_cluster=traj[label_concate]\n",
    "cluster_rmsd=md.rmsd(traj_cluster,pdb,atom_indices=all_CA)\n",
    "plt.scatter(range(len(cluster_rmsd)),list(cluster_rmsd),marker='.')\n",
    "#plt.ylim(0,2)"
   ]
  },
  {
   "cell_type": "code",
   "execution_count": 67,
   "metadata": {},
   "outputs": [
    {
     "name": "stdout",
     "output_type": "stream",
     "text": [
      "0\n",
      "100\n",
      "200\n",
      "300\n",
      "400\n",
      "500\n",
      "600\n",
      "700\n",
      "800\n",
      "(398278,)\n"
     ]
    },
    {
     "data": {
      "image/png": "[encoded data removed]",
      "text/plain": [
       "<Figure size 432x288 with 2 Axes>"
      ]
     },
     "metadata": {
      "needs_background": "light"
     },
     "output_type": "display_data"
    }
   ],
   "source": [
    "rmsd_2d=np.zeros((len(traj_cluster),len(traj_cluster)))\n",
    "upper_indices = np.triu_indices(len(traj_cluster),k=0)\n",
    "lower_indices = (upper_indices[1],upper_indices[0])\n",
    "r2d = []\n",
    "for i in range(len(traj_cluster)):\n",
    "    r2d.append(md.rmsd(traj_cluster[i:],traj_cluster[i],atom_indices=all_CA))\n",
    "    if i % 100 == 0:\n",
    "        print(i)\n",
    "print(np.concatenate(r2d).shape)\n",
    "rmsd_2d[lower_indices] = np.concatenate(r2d)\n",
    "rmsd_2d[upper_indices] = np.concatenate(r2d)\n",
    "sns.heatmap(rmsd_2d*10,square=True,xticklabels=100,yticklabels=100,cmap='bwr',cbar_kws={'label':'RMSD'},vmin=0,vmax=10)\n",
    "plt.xlabel(\"Frame #\")\n",
    "plt.ylabel(\"Frame #\")\n",
    "ax = plt.gca()\n",
    "ax.tick_params(direction='out')\n",
    "plt.tight_layout()\n",
    "#plt.savefig('test_Faith_1000samples_-40cluster_2drmsd.png')"
   ]
  },
  {
   "cell_type": "code",
   "execution_count": 94,
   "metadata": {},
   "outputs": [
    {
     "data": {
      "image/png": "[encoded data removed]",
      "text/plain": [
       "<Figure size 1440x576 with 1 Axes>"
      ]
     },
     "metadata": {
      "needs_background": "light"
     },
     "output_type": "display_data"
    }
   ],
   "source": [
    "plot_simi_threshold(tree,10,60)"
   ]
  },
  {
   "cell_type": "code",
   "execution_count": 142,
   "metadata": {},
   "outputs": [
    {
     "data": {
      "text/plain": [
       "(0.0, 1.5)"
      ]
     },
     "execution_count": 142,
     "metadata": {},
     "output_type": "execute_result"
    },
    {
     "data": {
      "image/png": "[encoded data removed]",
      "text/plain": [
       "<Figure size 432x288 with 1 Axes>"
      ]
     },
     "metadata": {
      "needs_background": "light"
     },
     "output_type": "display_data"
    }
   ],
   "source": [
    "traj = md.load_dcd('../proteinG_3gb1/yhalfres_0_0/trajectory.00.dcd',top='../proteinG_3gb1/3GB1.pdb')\n",
    "topfile=traj.top\n",
    "pdb=md.load_pdb('../proteinG_3gb1/3GB1.pdb')\n",
    "len(traj)\n",
    "all_CA=topfile.select(\"backbone==1\")\n",
    "all_CA\n",
    "rmsd=md.rmsd(traj,pdb,atom_indices=all_CA)\n",
    "#list(rmsd)\n",
    "plt.scatter(range(len(rmsd)),list(rmsd),marker='.')\n",
    "plt.ylim(0,1.5)"
   ]
  },
  {
   "cell_type": "code",
   "execution_count": 143,
   "metadata": {
    "scrolled": true
   },
   "outputs": [
    {
     "data": {
      "text/plain": [
       "Text(0, 0.5, 'RMSD')"
      ]
     },
     "execution_count": 143,
     "metadata": {},
     "output_type": "execute_result"
    },
    {
     "data": {
      "image/png": "[encoded data removed]",
      "text/plain": [
       "<Figure size 432x288 with 1 Axes>"
      ]
     },
     "metadata": {
      "needs_background": "light"
     },
     "output_type": "display_data"
    }
   ],
   "source": [
    "traj=traj[::10]\n",
    "true_rmsd=md.rmsd(traj,pdb,atom_indices=all_CA)\n",
    "#list(rmsd)\n",
    "plt.scatter(range(len(true_rmsd)),list(true_rmsd),marker='.')\n",
    "plt.xlabel('Sample')\n",
    "plt.ylabel('RMSD')"
   ]
  },
  {
   "cell_type": "code",
   "execution_count": 15,
   "metadata": {},
   "outputs": [],
   "source": [
    "def correct_ratio(x):\n",
    "    unfold = np.sum((x>0.8) & (x<1.8))/x.shape[0]\n",
    "    intermediate = np.sum((x>0.25) & (x<0.45))/x.shape[0]\n",
    "    fold = np.sum((x>0.0) & (x<0.25))/x.shape[0]\n",
    "    molten = np.sum((x>0.45) & (x<0.8))/x.shape[0]\n",
    "    other = 1-unfold-intermediate-fold-molten\n",
    "    ratio = [round(unfold,4),round(intermediate,4),round(fold,4),round(molten,4),round(other,4)]\n",
    "    return ratio"
   ]
  },
  {
   "cell_type": "code",
   "execution_count": 68,
   "metadata": {
    "scrolled": true
   },
   "outputs": [
    {
     "name": "stderr",
     "output_type": "stream",
     "text": [
      "/home/liwei/Prorgram/miniconda3/envs/msm/lib/python3.7/site-packages/mdtraj/core/trajectory.py:1129: FutureWarning: Using a non-tuple sequence for multidimensional indexing is deprecated; use `arr[tuple(seq)]` instead of `arr[seq]`. In the future this will be interpreted as an array index, `arr[np.array(seq)]`, which will result either in an error or a different result.\n",
      "  xyz = self.xyz[key]\n",
      "/home/liwei/Prorgram/miniconda3/envs/msm/lib/python3.7/site-packages/mdtraj/core/trajectory.py:1130: FutureWarning: Using a non-tuple sequence for multidimensional indexing is deprecated; use `arr[tuple(seq)]` instead of `arr[seq]`. In the future this will be interpreted as an array index, `arr[np.array(seq)]`, which will result either in an error or a different result.\n",
      "  time = self.time[key]\n"
     ]
    },
    {
     "name": "stdout",
     "output_type": "stream",
     "text": [
      "0\n",
      "100\n",
      "200\n",
      "300\n",
      "400\n",
      "500\n",
      "600\n",
      "700\n",
      "800\n"
     ]
    }
   ],
   "source": [
    "all_clust=[[int(d) for d in [*i.split(',')]] for i in list(dic.keys())]\n",
    "ave_rmsd = []\n",
    "all_rmsd = []\n",
    "for index,i in enumerate(all_clust):\n",
    "    \n",
    "    traj_comp=traj[[np.array(i)-1]]\n",
    "    rmsd=md.rmsd(traj_comp,pdb,atom_indices=all_CA)\n",
    "    ave_rmsd.append(np.average(rmsd))\n",
    "    all_rmsd.append(rmsd)\n",
    "    if index % 100 == 0:\n",
    "        print(index)\n",
    "    #print(rmsd)"
   ]
  },
  {
   "cell_type": "code",
   "execution_count": 146,
   "metadata": {
    "scrolled": true
   },
   "outputs": [
    {
     "data": {
      "text/plain": [
       "[0.252, 0.307, 0.349, 0.091, 0.001]"
      ]
     },
     "execution_count": 146,
     "metadata": {},
     "output_type": "execute_result"
    }
   ],
   "source": [
    "correct_ratio(true_rmsd)"
   ]
  },
  {
   "cell_type": "code",
   "execution_count": 69,
   "metadata": {
    "scrolled": true
   },
   "outputs": [
    {
     "name": "stdout",
     "output_type": "stream",
     "text": [
      "2 [0.0, 1.0, 0.0, 0.0, 0.0]\n",
      "2 [0.0, 0.0, 1.0, 0.0, 0.0]\n",
      "2 [0.0, 0.0, 1.0, 0.0, 0.0]\n",
      "2 [0.0, 0.0, 1.0, 0.0, 0.0]\n",
      "2 [0.0, 0.0, 1.0, 0.0, 0.0]\n",
      "2 [1.0, 0.0, 0.0, 0.0, 0.0]\n",
      "2 [0.0, 1.0, 0.0, 0.0, 0.0]\n",
      "2 [0.0, 1.0, 0.0, 0.0, 0.0]\n",
      "2 [0.0, 1.0, 0.0, 0.0, 0.0]\n",
      "2 [0.0, 1.0, 0.0, 0.0, 0.0]\n",
      "2 [0.0, 0.0, 1.0, 0.0, 0.0]\n",
      "2 [0.0, 1.0, 0.0, 0.0, 0.0]\n",
      "2 [0.0, 0.0, 1.0, 0.0, 0.0]\n",
      "2 [0.0, 0.0, 1.0, 0.0, 0.0]\n",
      "2 [0.0, 0.0, 1.0, 0.0, 0.0]\n",
      "2 [0.0, 0.0, 1.0, 0.0, 0.0]\n",
      "2 [0.0, 0.0, 1.0, 0.0, 0.0]\n",
      "2 [0.0, 0.0, 1.0, 0.0, 0.0]\n",
      "2 [0.0, 1.0, 0.0, 0.0, 0.0]\n",
      "2 [0.0, 0.0, 1.0, 0.0, 0.0]\n",
      "2 [0.0, 1.0, 0.0, 0.0, 0.0]\n",
      "2 [0.0, 1.0, 0.0, 0.0, 0.0]\n",
      "2 [0.0, 0.0, 1.0, 0.0, 0.0]\n",
      "2 [1.0, 0.0, 0.0, 0.0, 0.0]\n",
      "2 [0.0, 1.0, 0.0, 0.0, 0.0]\n",
      "2 [0.0, 0.0, 1.0, 0.0, 0.0]\n",
      "2 [1.0, 0.0, 0.0, 0.0, 0.0]\n",
      "2 [0.0, 0.0, 1.0, 0.0, 0.0]\n",
      "2 [0.0, 1.0, 0.0, 0.0, 0.0]\n",
      "2 [1.0, 0.0, 0.0, 0.0, 0.0]\n",
      "4 [1.0, 0.0, 0.0, 0.0, 0.0]\n",
      "2 [0.0, 1.0, 0.0, 0.0, 0.0]\n",
      "2 [0.0, 1.0, 0.0, 0.0, 0.0]\n",
      "2 [0.0, 1.0, 0.0, 0.0, 0.0]\n",
      "2 [0.0, 1.0, 0.0, 0.0, 0.0]\n",
      "2 [0.0, 0.0, 1.0, 0.0, 0.0]\n",
      "2 [0.0, 0.0, 1.0, 0.0, 0.0]\n",
      "2 [0.0, 0.0, 1.0, 0.0, 0.0]\n",
      "2 [0.0, 1.0, 0.0, 0.0, 0.0]\n",
      "2 [0.0, 0.0, 1.0, 0.0, 0.0]\n",
      "2 [0.0, 1.0, 0.0, 0.0, 0.0]\n",
      "2 [0.0, 0.0, 1.0, 0.0, 0.0]\n",
      "2 [0.0, 1.0, 0.0, 0.0, 0.0]\n",
      "2 [0.0, 0.0, 1.0, 0.0, 0.0]\n",
      "2 [0.0, 1.0, 0.0, 0.0, 0.0]\n",
      "2 [0.0, 0.0, 1.0, 0.0, 0.0]\n",
      "2 [0.0, 0.0, 1.0, 0.0, 0.0]\n",
      "2 [0.0, 0.0, 1.0, 0.0, 0.0]\n",
      "2 [0.0, 0.0, 1.0, 0.0, 0.0]\n",
      "2 [0.0, 0.0, 1.0, 0.0, 0.0]\n",
      "2 [0.0, 0.0, 1.0, 0.0, 0.0]\n",
      "2 [0.0, 1.0, 0.0, 0.0, 0.0]\n",
      "2 [0.0, 1.0, 0.0, 0.0, 0.0]\n",
      "2 [0.0, 0.0, 1.0, 0.0, 0.0]\n",
      "2 [1.0, 0.0, 0.0, 0.0, 0.0]\n",
      "2 [0.0, 1.0, 0.0, 0.0, 0.0]\n",
      "2 [0.0, 0.0, 1.0, 0.0, 0.0]\n",
      "2 [0.0, 1.0, 0.0, 0.0, 0.0]\n",
      "2 [0.0, 0.0, 1.0, 0.0, 0.0]\n",
      "2 [0.0, 0.0, 1.0, 0.0, 0.0]\n",
      "2 [0.0, 0.0, 1.0, 0.0, 0.0]\n",
      "2 [1.0, 0.0, 0.0, 0.0, 0.0]\n",
      "2 [1.0, 0.0, 0.0, 0.0, 0.0]\n",
      "2 [1.0, 0.0, 0.0, 0.0, 0.0]\n",
      "2 [0.0, 1.0, 0.0, 0.0, 0.0]\n",
      "2 [0.0, 0.0, 1.0, 0.0, 0.0]\n",
      "2 [0.0, 0.0, 1.0, 0.0, 0.0]\n",
      "2 [0.0, 1.0, 0.0, 0.0, 0.0]\n",
      "2 [0.0, 1.0, 0.0, 0.0, 0.0]\n",
      "2 [0.0, 1.0, 0.0, 0.0, 0.0]\n",
      "4 [0.0, 1.0, 0.0, 0.0, 0.0]\n",
      "4 [0.0, 1.0, 0.0, 0.0, 0.0]\n",
      "4 [1.0, 0.0, 0.0, 0.0, 0.0]\n",
      "2 [0.0, 1.0, 0.0, 0.0, 0.0]\n",
      "2 [1.0, 0.0, 0.0, 0.0, 0.0]\n",
      "2 [0.0, 1.0, 0.0, 0.0, 0.0]\n",
      "2 [0.0, 0.0, 1.0, 0.0, 0.0]\n",
      "2 [0.0, 1.0, 0.0, 0.0, 0.0]\n",
      "2 [0.0, 1.0, 0.0, 0.0, 0.0]\n",
      "2 [0.0, 0.0, 1.0, 0.0, 0.0]\n",
      "3 [0.0, 0.0, 1.0, 0.0, 0.0]\n",
      "4 [0.0, 0.0, 1.0, 0.0, 0.0]\n",
      "2 [1.0, 0.0, 0.0, 0.0, 0.0]\n",
      "2 [0.0, 0.0, 1.0, 0.0, 0.0]\n",
      "2 [0.0, 0.0, 1.0, 0.0, 0.0]\n",
      "2 [0.0, 0.0, 1.0, 0.0, 0.0]\n",
      "2 [0.0, 1.0, 0.0, 0.0, 0.0]\n",
      "2 [0.0, 1.0, 0.0, 0.0, 0.0]\n",
      "2 [0.0, 0.0, 1.0, 0.0, 0.0]\n",
      "2 [0.0, 0.0, 1.0, 0.0, 0.0]\n",
      "4 [0.0, 0.0, 1.0, 0.0, 0.0]\n",
      "2 [0.0, 1.0, 0.0, 0.0, 0.0]\n",
      "2 [0.0, 1.0, 0.0, 0.0, 0.0]\n",
      "2 [0.0, 0.0, 1.0, 0.0, 0.0]\n",
      "2 [0.0, 0.0, 1.0, 0.0, 0.0]\n",
      "2 [0.0, 0.0, 1.0, 0.0, 0.0]\n",
      "2 [0.0, 0.0, 1.0, 0.0, 0.0]\n",
      "2 [0.0, 0.0, 1.0, 0.0, 0.0]\n",
      "2 [0.0, 0.0, 1.0, 0.0, 0.0]\n",
      "2 [0.0, 0.0, 1.0, 0.0, 0.0]\n",
      "2 [0.0, 1.0, 0.0, 0.0, 0.0]\n",
      "2 [0.0, 1.0, 0.0, 0.0, 0.0]\n",
      "2 [0.0, 0.0, 1.0, 0.0, 0.0]\n",
      "2 [0.0, 1.0, 0.0, 0.0, 0.0]\n",
      "2 [0.0, 1.0, 0.0, 0.0, 0.0]\n",
      "2 [1.0, 0.0, 0.0, 0.0, 0.0]\n",
      "2 [1.0, 0.0, 0.0, 0.0, 0.0]\n",
      "2 [0.0, 0.0, 1.0, 0.0, 0.0]\n",
      "2 [0.0, 1.0, 0.0, 0.0, 0.0]\n",
      "2 [0.0, 0.0, 1.0, 0.0, 0.0]\n",
      "2 [0.0, 0.0, 1.0, 0.0, 0.0]\n",
      "4 [0.0, 0.0, 1.0, 0.0, 0.0]\n",
      "4 [0.0, 1.0, 0.0, 0.0, 0.0]\n",
      "4 [0.0, 0.0, 1.0, 0.0, 0.0]\n",
      "5 [0.0, 0.0, 1.0, 0.0, 0.0]\n",
      "6 [0.0, 1.0, 0.0, 0.0, 0.0]\n",
      "4 [0.0, 1.0, 0.0, 0.0, 0.0]\n",
      "4 [0.0, 0.0, 1.0, 0.0, 0.0]\n",
      "4 [0.0, 0.0, 1.0, 0.0, 0.0]\n",
      "4 [0.0, 0.0, 1.0, 0.0, 0.0]\n",
      "4 [0.0, 0.0, 1.0, 0.0, 0.0]\n",
      "4 [0.0, 1.0, 0.0, 0.0, 0.0]\n",
      "2 [0.0, 1.0, 0.0, 0.0, 0.0]\n",
      "2 [0.0, 1.0, 0.0, 0.0, 0.0]\n",
      "2 [0.0, 1.0, 0.0, 0.0, 0.0]\n",
      "2 [0.0, 1.0, 0.0, 0.0, 0.0]\n",
      "2 [0.0, 1.0, 0.0, 0.0, 0.0]\n",
      "2 [1.0, 0.0, 0.0, 0.0, 0.0]\n",
      "2 [0.0, 0.0, 1.0, 0.0, 0.0]\n",
      "2 [0.0, 1.0, 0.0, 0.0, 0.0]\n",
      "2 [0.0, 1.0, 0.0, 0.0, 0.0]\n",
      "4 [0.0, 1.0, 0.0, 0.0, 0.0]\n",
      "2 [0.0, 0.0, 1.0, 0.0, 0.0]\n",
      "2 [0.0, 0.0, 1.0, 0.0, 0.0]\n",
      "2 [1.0, 0.0, 0.0, 0.0, 0.0]\n",
      "2 [0.0, 0.0, 1.0, 0.0, 0.0]\n",
      "2 [0.0, 1.0, 0.0, 0.0, 0.0]\n",
      "2 [0.0, 1.0, 0.0, 0.0, 0.0]\n",
      "2 [1.0, 0.0, 0.0, 0.0, 0.0]\n",
      "2 [0.0, 0.0, 1.0, 0.0, 0.0]\n",
      "2 [0.0, 0.0, 1.0, 0.0, 0.0]\n",
      "2 [0.0, 0.0, 1.0, 0.0, 0.0]\n",
      "2 [0.0, 0.0, 1.0, 0.0, 0.0]\n",
      "2 [0.0, 1.0, 0.0, 0.0, 0.0]\n",
      "2 [0.0, 1.0, 0.0, 0.0, 0.0]\n",
      "2 [0.0, 1.0, 0.0, 0.0, 0.0]\n",
      "2 [0.0, 0.0, 1.0, 0.0, 0.0]\n",
      "2 [0.0, 0.0, 1.0, 0.0, 0.0]\n",
      "2 [0.0, 0.0, 1.0, 0.0, 0.0]\n",
      "2 [0.0, 0.0, 1.0, 0.0, 0.0]\n",
      "5 [0.0, 0.0, 1.0, 0.0, 0.0]\n",
      "2 [0.0, 1.0, 0.0, 0.0, 0.0]\n",
      "2 [0.0, 1.0, 0.0, 0.0, 0.0]\n",
      "2 [1.0, 0.0, 0.0, 0.0, 0.0]\n",
      "2 [0.0, 0.0, 1.0, 0.0, 0.0]\n",
      "2 [0.0, 0.0, 1.0, 0.0, 0.0]\n",
      "2 [0.0, 0.0, 1.0, 0.0, 0.0]\n",
      "2 [0.0, 1.0, 0.0, 0.0, 0.0]\n",
      "2 [0.0, 1.0, 0.0, 0.0, 0.0]\n",
      "2 [0.0, 0.0, 1.0, 0.0, 0.0]\n",
      "2 [0.0, 1.0, 0.0, 0.0, 0.0]\n",
      "2 [1.0, 0.0, 0.0, 0.0, 0.0]\n",
      "2 [0.0, 1.0, 0.0, 0.0, 0.0]\n",
      "2 [0.0, 0.0, 1.0, 0.0, 0.0]\n",
      "2 [0.0, 0.0, 1.0, 0.0, 0.0]\n",
      "6 [0.0, 0.0, 1.0, 0.0, 0.0]\n",
      "6 [0.0, 0.0, 1.0, 0.0, 0.0]\n",
      "7 [0.0, 1.0, 0.0, 0.0, 0.0]\n",
      "4 [0.0, 1.0, 0.0, 0.0, 0.0]\n",
      "4 [0.0, 0.0, 1.0, 0.0, 0.0]\n",
      "4 [0.0, 1.0, 0.0, 0.0, 0.0]\n",
      "4 [0.0, 0.0, 1.0, 0.0, 0.0]\n",
      "5 [0.0, 1.0, 0.0, 0.0, 0.0]\n",
      "5 [0.0, 0.0, 1.0, 0.0, 0.0]\n",
      "6 [1.0, 0.0, 0.0, 0.0, 0.0]\n",
      "6 [1.0, 0.0, 0.0, 0.0, 0.0]\n",
      "6 [0.0, 0.0, 1.0, 0.0, 0.0]\n",
      "7 [0.0, 0.0, 1.0, 0.0, 0.0]\n",
      "6 [0.0, 1.0, 0.0, 0.0, 0.0]\n",
      "4 [0.0, 0.0, 1.0, 0.0, 0.0]\n",
      "4 [0.0, 1.0, 0.0, 0.0, 0.0]\n",
      "9 [0.0, 1.0, 0.0, 0.0, 0.0]\n",
      "4 [0.0, 0.0, 1.0, 0.0, 0.0]\n",
      "4 [0.0, 0.0, 1.0, 0.0, 0.0]\n",
      "4 [0.0, 1.0, 0.0, 0.0, 0.0]\n",
      "4 [0.0, 0.0, 1.0, 0.0, 0.0]\n",
      "4 [0.0, 0.0, 1.0, 0.0, 0.0]\n",
      "4 [0.0, 1.0, 0.0, 0.0, 0.0]\n",
      "4 [0.0, 0.0, 1.0, 0.0, 0.0]\n",
      "4 [0.0, 0.0, 1.0, 0.0, 0.0]\n",
      "2 [1.0, 0.0, 0.0, 0.0, 0.0]\n",
      "2 [1.0, 0.0, 0.0, 0.0, 0.0]\n",
      "2 [1.0, 0.0, 0.0, 0.0, 0.0]\n",
      "2 [0.0, 1.0, 0.0, 0.0, 0.0]\n",
      "2 [0.0, 1.0, 0.0, 0.0, 0.0]\n",
      "5 [0.0, 1.0, 0.0, 0.0, 0.0]\n",
      "2 [0.0, 1.0, 0.0, 0.0, 0.0]\n",
      "2 [0.0, 0.0, 1.0, 0.0, 0.0]\n",
      "2 [0.0, 1.0, 0.0, 0.0, 0.0]\n",
      "2 [0.0, 1.0, 0.0, 0.0, 0.0]\n",
      "2 [1.0, 0.0, 0.0, 0.0, 0.0]\n",
      "2 [1.0, 0.0, 0.0, 0.0, 0.0]\n",
      "2 [0.0, 0.0, 1.0, 0.0, 0.0]\n",
      "2 [0.0, 0.0, 1.0, 0.0, 0.0]\n",
      "2 [0.0, 0.0, 1.0, 0.0, 0.0]\n",
      "2 [0.0, 0.0, 1.0, 0.0, 0.0]\n",
      "2 [0.0, 1.0, 0.0, 0.0, 0.0]\n",
      "2 [0.0, 1.0, 0.0, 0.0, 0.0]\n",
      "6 [0.0, 0.0, 1.0, 0.0, 0.0]\n",
      "2 [0.0, 0.0, 1.0, 0.0, 0.0]\n",
      "2 [0.0, 0.0, 1.0, 0.0, 0.0]\n",
      "2 [0.0, 0.0, 1.0, 0.0, 0.0]\n",
      "2 [0.0, 1.0, 0.0, 0.0, 0.0]\n",
      "5 [0.0, 1.0, 0.0, 0.0, 0.0]\n",
      "2 [1.0, 0.0, 0.0, 0.0, 0.0]\n",
      "2 [0.0, 1.0, 0.0, 0.0, 0.0]\n",
      "2 [0.0, 1.0, 0.0, 0.0, 0.0]\n",
      "2 [0.0, 0.0, 1.0, 0.0, 0.0]\n",
      "2 [0.0, 0.0, 1.0, 0.0, 0.0]\n",
      "2 [0.0, 0.0, 1.0, 0.0, 0.0]\n",
      "2 [0.0, 0.0, 1.0, 0.0, 0.0]\n",
      "2 [0.0, 0.0, 1.0, 0.0, 0.0]\n",
      "2 [0.0, 1.0, 0.0, 0.0, 0.0]\n",
      "2 [0.0, 1.0, 0.0, 0.0, 0.0]\n",
      "2 [0.0, 1.0, 0.0, 0.0, 0.0]\n",
      "2 [1.0, 0.0, 0.0, 0.0, 0.0]\n",
      "2 [0.0, 0.0, 1.0, 0.0, 0.0]\n",
      "2 [0.0, 1.0, 0.0, 0.0, 0.0]\n",
      "2 [0.0, 1.0, 0.0, 0.0, 0.0]\n",
      "2 [0.0, 0.0, 1.0, 0.0, 0.0]\n",
      "2 [0.0, 0.0, 1.0, 0.0, 0.0]\n",
      "2 [0.0, 0.0, 1.0, 0.0, 0.0]\n",
      "2 [0.0, 0.0, 1.0, 0.0, 0.0]\n",
      "2 [1.0, 0.0, 0.0, 0.0, 0.0]\n",
      "5 [0.0, 0.0, 1.0, 0.0, 0.0]\n",
      "2 [0.0, 1.0, 0.0, 0.0, 0.0]\n",
      "2 [0.0, 0.0, 1.0, 0.0, 0.0]\n",
      "6 [0.0, 1.0, 0.0, 0.0, 0.0]\n",
      "4 [1.0, 0.0, 0.0, 0.0, 0.0]\n",
      "4 [0.0, 1.0, 0.0, 0.0, 0.0]\n",
      "4 [0.0, 0.0, 1.0, 0.0, 0.0]\n",
      "7 [1.0, 0.0, 0.0, 0.0, 0.0]\n",
      "10 [0.0, 1.0, 0.0, 0.0, 0.0]\n",
      "6 [0.0, 1.0, 0.0, 0.0, 0.0]\n",
      "6 [0.0, 1.0, 0.0, 0.0, 0.0]\n",
      "6 [0.0, 0.0, 1.0, 0.0, 0.0]\n",
      "6 [0.0, 0.0, 1.0, 0.0, 0.0]\n",
      "7 [1.0, 0.0, 0.0, 0.0, 0.0]\n",
      "7 [0.0, 0.0, 1.0, 0.0, 0.0]\n",
      "8 [0.0, 0.0, 1.0, 0.0, 0.0]\n",
      "6 [0.0, 0.0, 1.0, 0.0, 0.0]\n",
      "4 [0.0, 1.0, 0.0, 0.0, 0.0]\n",
      "4 [1.0, 0.0, 0.0, 0.0, 0.0]\n",
      "4 [0.0, 1.0, 0.0, 0.0, 0.0]\n",
      "2 [1.0, 0.0, 0.0, 0.0, 0.0]\n",
      "2 [0.0, 1.0, 0.0, 0.0, 0.0]\n",
      "2 [0.0, 1.0, 0.0, 0.0, 0.0]\n",
      "2 [1.0, 0.0, 0.0, 0.0, 0.0]\n",
      "3 [0.0, 1.0, 0.0, 0.0, 0.0]\n",
      "4 [0.0, 1.0, 0.0, 0.0, 0.0]\n",
      "2 [1.0, 0.0, 0.0, 0.0, 0.0]\n",
      "2 [0.0, 0.0, 1.0, 0.0, 0.0]\n",
      "2 [0.0, 0.0, 1.0, 0.0, 0.0]\n",
      "2 [0.0, 1.0, 0.0, 0.0, 0.0]\n",
      "2 [0.0, 0.0, 1.0, 0.0, 0.0]\n",
      "2 [0.0, 0.0, 1.0, 0.0, 0.0]\n",
      "2 [0.0, 0.0, 1.0, 0.0, 0.0]\n",
      "2 [0.0, 0.0, 1.0, 0.0, 0.0]\n",
      "5 [0.0, 0.0, 1.0, 0.0, 0.0]\n",
      "2 [0.0, 0.0, 1.0, 0.0, 0.0]\n",
      "2 [1.0, 0.0, 0.0, 0.0, 0.0]\n",
      "2 [0.0, 1.0, 0.0, 0.0, 0.0]\n",
      "2 [0.0, 1.0, 0.0, 0.0, 0.0]\n",
      "2 [0.0, 0.0, 1.0, 0.0, 0.0]\n",
      "2 [0.0, 0.0, 1.0, 0.0, 0.0]\n",
      "2 [0.0, 0.0, 1.0, 0.0, 0.0]\n",
      "2 [0.0, 1.0, 0.0, 0.0, 0.0]\n",
      "8 [1.0, 0.0, 0.0, 0.0, 0.0]\n",
      "2 [0.0, 1.0, 0.0, 0.0, 0.0]\n",
      "2 [0.0, 0.0, 1.0, 0.0, 0.0]\n",
      "2 [0.0, 0.0, 1.0, 0.0, 0.0]\n",
      "2 [1.0, 0.0, 0.0, 0.0, 0.0]\n",
      "2 [0.0, 0.0, 1.0, 0.0, 0.0]\n",
      "2 [0.0, 0.0, 1.0, 0.0, 0.0]\n",
      "2 [0.0, 1.0, 0.0, 0.0, 0.0]\n",
      "2 [0.0, 1.0, 0.0, 0.0, 0.0]\n",
      "2 [0.0, 1.0, 0.0, 0.0, 0.0]\n",
      "5 [0.0, 1.0, 0.0, 0.0, 0.0]\n",
      "2 [1.0, 0.0, 0.0, 0.0, 0.0]\n",
      "2 [0.0, 1.0, 0.0, 0.0, 0.0]\n",
      "2 [0.0, 1.0, 0.0, 0.0, 0.0]\n",
      "2 [0.0, 1.0, 0.0, 0.0, 0.0]\n",
      "2 [0.0, 0.0, 1.0, 0.0, 0.0]\n",
      "2 [0.0, 1.0, 0.0, 0.0, 0.0]\n",
      "2 [0.0, 0.0, 1.0, 0.0, 0.0]\n",
      "2 [1.0, 0.0, 0.0, 0.0, 0.0]\n",
      "2 [0.0, 0.0, 1.0, 0.0, 0.0]\n",
      "8 [0.0, 1.0, 0.0, 0.0, 0.0]\n",
      "12 [0.0, 1.0, 0.0, 0.0, 0.0]\n",
      "6 [0.0, 0.0, 1.0, 0.0, 0.0]\n",
      "6 [0.0, 1.0, 0.0, 0.0, 0.0]\n",
      "6 [0.0, 0.0, 1.0, 0.0, 0.0]\n",
      "6 [0.0, 0.0, 1.0, 0.0, 0.0]\n",
      "5 [0.0, 1.0, 0.0, 0.0, 0.0]\n",
      "7 [0.0, 0.0, 1.0, 0.0, 0.0]\n",
      "7 [0.0, 1.0, 0.0, 0.0, 0.0]\n",
      "7 [0.0, 1.0, 0.0, 0.0, 0.0]\n",
      "7 [0.0, 0.0, 1.0, 0.0, 0.0]\n",
      "4 [0.0, 0.0, 1.0, 0.0, 0.0]\n",
      "4 [0.0, 1.0, 0.0, 0.0, 0.0]\n",
      "4 [0.0, 0.0, 1.0, 0.0, 0.0]\n",
      "4 [0.0, 0.0, 1.0, 0.0, 0.0]\n",
      "4 [0.0, 1.0, 0.0, 0.0, 0.0]\n",
      "4 [0.0, 0.0, 1.0, 0.0, 0.0]\n",
      "4 [1.0, 0.0, 0.0, 0.0, 0.0]\n",
      "4 [0.0, 0.0, 1.0, 0.0, 0.0]\n",
      "8 [0.0, 0.0, 1.0, 0.0, 0.0]\n",
      "5 [0.0, 1.0, 0.0, 0.0, 0.0]\n",
      "6 [0.0, 1.0, 0.0, 0.0, 0.0]\n",
      "6 [0.0, 1.0, 0.0, 0.0, 0.0]\n",
      "6 [0.0, 0.0, 1.0, 0.0, 0.0]\n",
      "6 [0.0, 1.0, 0.0, 0.0, 0.0]\n",
      "8 [0.0, 0.0, 1.0, 0.0, 0.0]\n",
      "5 [0.0, 0.0, 1.0, 0.0, 0.0]\n",
      "10 [0.0, 0.0, 1.0, 0.0, 0.0]\n",
      "7 [0.0, 0.0, 1.0, 0.0, 0.0]\n",
      "7 [0.0, 0.0, 1.0, 0.0, 0.0]\n",
      "13 [0.0, 1.0, 0.0, 0.0, 0.0]\n",
      "7 [0.0, 1.0, 0.0, 0.0, 0.0]\n",
      "10 [1.0, 0.0, 0.0, 0.0, 0.0]\n",
      "4 [0.0, 0.0, 1.0, 0.0, 0.0]\n",
      "6 [0.0, 0.0, 1.0, 0.0, 0.0]\n",
      "4 [0.0, 0.0, 1.0, 0.0, 0.0]\n",
      "4 [0.0, 1.0, 0.0, 0.0, 0.0]\n",
      "4 [0.0, 0.0, 1.0, 0.0, 0.0]\n",
      "4 [0.0, 0.0, 1.0, 0.0, 0.0]\n",
      "8 [0.0, 0.0, 1.0, 0.0, 0.0]\n",
      "4 [0.0, 0.0, 1.0, 0.0, 0.0]\n",
      "4 [0.0, 1.0, 0.0, 0.0, 0.0]\n",
      "2 [0.0, 1.0, 0.0, 0.0, 0.0]\n",
      "2 [1.0, 0.0, 0.0, 0.0, 0.0]\n",
      "2 [0.0, 1.0, 0.0, 0.0, 0.0]\n",
      "2 [1.0, 0.0, 0.0, 0.0, 0.0]\n",
      "2 [0.0, 1.0, 0.0, 0.0, 0.0]\n",
      "2 [1.0, 0.0, 0.0, 0.0, 0.0]\n",
      "2 [1.0, 0.0, 0.0, 0.0, 0.0]\n",
      "6 [0.0, 0.0, 1.0, 0.0, 0.0]\n",
      "2 [0.0, 0.0, 1.0, 0.0, 0.0]\n",
      "2 [0.0, 1.0, 0.0, 0.0, 0.0]\n",
      "2 [1.0, 0.0, 0.0, 0.0, 0.0]\n",
      "2 [0.0, 0.0, 1.0, 0.0, 0.0]\n",
      "2 [1.0, 0.0, 0.0, 0.0, 0.0]\n",
      "2 [1.0, 0.0, 0.0, 0.0, 0.0]\n",
      "2 [1.0, 0.0, 0.0, 0.0, 0.0]\n",
      "2 [0.0, 0.0, 1.0, 0.0, 0.0]\n",
      "2 [0.0, 0.0, 1.0, 0.0, 0.0]\n",
      "2 [0.0, 1.0, 0.0, 0.0, 0.0]\n",
      "2 [1.0, 0.0, 0.0, 0.0, 0.0]\n",
      "2 [0.0, 0.0, 1.0, 0.0, 0.0]\n",
      "2 [1.0, 0.0, 0.0, 0.0, 0.0]\n",
      "7 [0.0, 0.0, 1.0, 0.0, 0.0]\n",
      "2 [0.0, 0.0, 1.0, 0.0, 0.0]\n",
      "2 [0.0, 1.0, 0.0, 0.0, 0.0]\n",
      "2 [0.0, 0.0, 1.0, 0.0, 0.0]\n",
      "2 [0.0, 1.0, 0.0, 0.0, 0.0]\n",
      "2 [0.0, 0.0, 1.0, 0.0, 0.0]\n",
      "2 [0.0, 1.0, 0.0, 0.0, 0.0]\n",
      "2 [0.0, 1.0, 0.0, 0.0, 0.0]\n",
      "2 [0.0, 1.0, 0.0, 0.0, 0.0]\n",
      "8 [1.0, 0.0, 0.0, 0.0, 0.0]\n",
      "2 [0.0, 0.0, 1.0, 0.0, 0.0]\n",
      "5 [0.0, 0.0, 1.0, 0.0, 0.0]\n",
      "9 [0.0, 1.0, 0.0, 0.0, 0.0]\n",
      "7 [0.0, 0.0, 1.0, 0.0, 0.0]\n",
      "7 [0.0, 1.0, 0.0, 0.0, 0.0]\n",
      "7 [0.0, 0.0, 1.0, 0.0, 0.0]\n",
      "5 [0.0, 1.0, 0.0, 0.0, 0.0]\n",
      "6 [0.0, 1.0, 0.0, 0.0, 0.0]\n",
      "6 [0.0, 0.0, 1.0, 0.0, 0.0]\n",
      "6 [0.0, 1.0, 0.0, 0.0, 0.0]\n",
      "5 [0.0, 0.0, 1.0, 0.0, 0.0]\n",
      "14 [0.0, 1.0, 0.0, 0.0, 0.0]\n",
      "9 [0.0, 0.0, 1.0, 0.0, 0.0]\n",
      "9 [0.0, 1.0, 0.0, 0.0, 0.0]\n",
      "4 [0.0, 1.0, 0.0, 0.0, 0.0]\n",
      "4 [1.0, 0.0, 0.0, 0.0, 0.0]\n",
      "4 [0.0, 0.0, 1.0, 0.0, 0.0]\n",
      "4 [1.0, 0.0, 0.0, 0.0, 0.0]\n",
      "4 [0.0, 0.0, 1.0, 0.0, 0.0]\n",
      "4 [0.0, 0.0, 1.0, 0.0, 0.0]\n",
      "4 [0.0, 1.0, 0.0, 0.0, 0.0]\n",
      "8 [0.0, 0.0, 1.0, 0.0, 0.0]\n",
      "8 [0.0, 1.0, 0.0, 0.0, 0.0]\n",
      "5 [1.0, 0.0, 0.0, 0.0, 0.0]\n",
      "10 [0.0, 0.0, 1.0, 0.0, 0.0]\n",
      "10 [0.0, 1.0, 0.0, 0.0, 0.0]\n",
      "6 [0.0, 1.0, 0.0, 0.0, 0.0]\n",
      "6 [0.0, 0.0, 1.0, 0.0, 0.0]\n",
      "9 [0.0, 0.0, 1.0, 0.0, 0.0]\n",
      "9 [0.0, 0.0, 1.0, 0.0, 0.0]\n",
      "5 [1.0, 0.0, 0.0, 0.0, 0.0]\n",
      "7 [0.0, 1.0, 0.0, 0.0, 0.0]\n",
      "11 [0.0, 0.0, 1.0, 0.0, 0.0]\n",
      "6 [0.0, 0.0, 1.0, 0.0, 0.0]\n",
      "4 [0.0, 0.0, 1.0, 0.0, 0.0]\n",
      "4 [0.0, 0.0, 1.0, 0.0, 0.0]\n",
      "8 [0.0, 1.0, 0.0, 0.0, 0.0]\n",
      "4 [0.0, 0.0, 1.0, 0.0, 0.0]\n",
      "8 [0.0, 1.0, 0.0, 0.0, 0.0]\n",
      "4 [0.0, 1.0, 0.0, 0.0, 0.0]\n",
      "4 [0.0, 0.0, 1.0, 0.0, 0.0]\n",
      "2 [1.0, 0.0, 0.0, 0.0, 0.0]\n",
      "2 [0.0, 1.0, 0.0, 0.0, 0.0]\n",
      "2 [1.0, 0.0, 0.0, 0.0, 0.0]\n",
      "15 [0.0, 1.0, 0.0, 0.0, 0.0]\n",
      "2 [0.0, 1.0, 0.0, 0.0, 0.0]\n",
      "2 [0.0, 1.0, 0.0, 0.0, 0.0]\n",
      "2 [1.0, 0.0, 0.0, 0.0, 0.0]\n",
      "2 [0.0, 1.0, 0.0, 0.0, 0.0]\n",
      "2 [1.0, 0.0, 0.0, 0.0, 0.0]\n",
      "2 [0.0, 1.0, 0.0, 0.0, 0.0]\n",
      "6 [0.0, 0.0, 1.0, 0.0, 0.0]\n",
      "2 [0.0, 0.0, 1.0, 0.0, 0.0]\n",
      "11 [1.0, 0.0, 0.0, 0.0, 0.0]\n",
      "2 [0.0, 0.0, 1.0, 0.0, 0.0]\n",
      "8 [0.0, 0.0, 1.0, 0.0, 0.0]\n",
      "2 [0.0, 1.0, 0.0, 0.0, 0.0]\n",
      "2 [0.0, 0.0, 1.0, 0.0, 0.0]\n",
      "2 [0.0, 1.0, 0.0, 0.0, 0.0]\n",
      "8 [0.0, 0.0, 1.0, 0.0, 0.0]\n",
      "2 [0.0, 0.0, 1.0, 0.0, 0.0]\n",
      "2 [1.0, 0.0, 0.0, 0.0, 0.0]\n",
      "8 [0.0, 0.0, 1.0, 0.0, 0.0]\n",
      "5 [0.0, 0.0, 1.0, 0.0, 0.0]\n",
      "6 [0.0, 1.0, 0.0, 0.0, 0.0]\n",
      "2 [0.0, 0.0, 1.0, 0.0, 0.0]\n",
      "2 [0.0, 0.0, 1.0, 0.0, 0.0]\n",
      "2 [0.0, 0.0, 1.0, 0.0, 0.0]\n",
      "8 [0.0, 0.0, 1.0, 0.0, 0.0]\n",
      "11 [0.0, 1.0, 0.0, 0.0, 0.0]\n",
      "9 [0.0, 1.0, 0.0, 0.0, 0.0]\n",
      "8 [0.0, 1.0, 0.0, 0.0, 0.0]\n",
      "8 [0.0, 0.0, 1.0, 0.0, 0.0]\n",
      "6 [0.0, 1.0, 0.0, 0.0, 0.0]\n",
      "6 [0.0, 0.0, 1.0, 0.0, 0.0]\n",
      "6 [0.0, 1.0, 0.0, 0.0, 0.0]\n",
      "6 [0.0, 0.0, 1.0, 0.0, 0.0]\n",
      "7 [0.0, 0.0, 1.0, 0.0, 0.0]\n",
      "9 [0.0, 0.0, 1.0, 0.0, 0.0]\n",
      "11 [0.0, 1.0, 0.0, 0.0, 0.0]\n",
      "4 [0.0, 1.0, 0.0, 0.0, 0.0]\n",
      "4 [0.0, 1.0, 0.0, 0.0, 0.0]\n",
      "4 [0.0, 0.0, 1.0, 0.0, 0.0]\n",
      "4 [0.0, 0.0, 1.0, 0.0, 0.0]\n",
      "4 [0.0, 1.0, 0.0, 0.0, 0.0]\n",
      "4 [1.0, 0.0, 0.0, 0.0, 0.0]\n",
      "4 [1.0, 0.0, 0.0, 0.0, 0.0]\n",
      "4 [0.0, 0.0, 1.0, 0.0, 0.0]\n",
      "4 [0.0, 0.0, 1.0, 0.0, 0.0]\n",
      "4 [0.0, 1.0, 0.0, 0.0, 0.0]\n",
      "8 [0.0, 1.0, 0.0, 0.0, 0.0]\n",
      "16 [0.0, 1.0, 0.0, 0.0, 0.0]\n",
      "9 [1.0, 0.0, 0.0, 0.0, 0.0]\n",
      "10 [0.0, 0.0, 1.0, 0.0, 0.0]\n",
      "10 [0.0, 0.0, 1.0, 0.0, 0.0]\n",
      "10 [0.0, 1.0, 0.0, 0.0, 0.0]\n",
      "5 [1.0, 0.0, 0.0, 0.0, 0.0]\n",
      "10 [0.0, 0.0, 1.0, 0.0, 0.0]\n",
      "12 [1.0, 0.0, 0.0, 0.0, 0.0]\n",
      "6 [0.0, 1.0, 0.0, 0.0, 0.0]\n",
      "8 [0.0, 0.0, 1.0, 0.0, 0.0]\n",
      "8 [0.0, 1.0, 0.0, 0.0, 0.0]\n",
      "8 [0.0, 0.0, 1.0, 0.0, 0.0]\n",
      "8 [0.0, 1.0, 0.0, 0.0, 0.0]\n",
      "11 [0.0, 1.0, 0.0, 0.0, 0.0]\n",
      "6 [1.0, 0.0, 0.0, 0.0, 0.0]\n",
      "6 [0.0, 0.0, 1.0, 0.0, 0.0]\n",
      "9 [0.0, 0.0, 1.0, 0.0, 0.0]\n",
      "6 [0.0, 0.0, 1.0, 0.0, 0.0]\n",
      "4 [1.0, 0.0, 0.0, 0.0, 0.0]\n",
      "4 [0.0, 0.0, 1.0, 0.0, 0.0]\n",
      "4 [0.0, 0.0, 1.0, 0.0, 0.0]\n",
      "2 [1.0, 0.0, 0.0, 0.0, 0.0]\n",
      "2 [1.0, 0.0, 0.0, 0.0, 0.0]\n",
      "2 [0.0, 1.0, 0.0, 0.0, 0.0]\n",
      "7 [0.0, 1.0, 0.0, 0.0, 0.0]\n",
      "2 [1.0, 0.0, 0.0, 0.0, 0.0]\n",
      "2 [1.0, 0.0, 0.0, 0.0, 0.0]\n",
      "2 [1.0, 0.0, 0.0, 0.0, 0.0]\n",
      "2 [0.0, 1.0, 0.0, 0.0, 0.0]\n",
      "2 [0.0, 0.0, 1.0, 0.0, 0.0]\n",
      "2 [0.0, 0.0, 1.0, 0.0, 0.0]\n",
      "2 [0.0, 0.0, 1.0, 0.0, 0.0]\n",
      "2 [0.0, 0.0, 1.0, 0.0, 0.0]\n",
      "2 [0.0, 1.0, 0.0, 0.0, 0.0]\n",
      "2 [0.0, 1.0, 0.0, 0.0, 0.0]\n",
      "6 [0.0, 0.0, 1.0, 0.0, 0.0]\n",
      "18 [0.0, 0.0, 1.0, 0.0, 0.0]\n",
      "7 [0.0, 0.0, 1.0, 0.0, 0.0]\n",
      "12 [0.0, 1.0, 0.0, 0.0, 0.0]\n",
      "17 [0.0, 1.0, 0.0, 0.0, 0.0]\n",
      "10 [1.0, 0.0, 0.0, 0.0, 0.0]\n",
      "5 [0.0, 0.0, 1.0, 0.0, 0.0]\n",
      "8 [0.0, 1.0, 0.0, 0.0, 0.0]\n",
      "8 [0.0, 1.0, 0.0, 0.0, 0.0]\n",
      "6 [1.0, 0.0, 0.0, 0.0, 0.0]\n",
      "6 [0.0, 0.0, 1.0, 0.0, 0.0]\n",
      "6 [0.0, 1.0, 0.0, 0.0, 0.0]\n",
      "9 [0.0, 0.0, 1.0, 0.0, 0.0]\n",
      "12 [0.0, 1.0, 0.0, 0.0, 0.0]\n",
      "13 [1.0, 0.0, 0.0, 0.0, 0.0]\n",
      "10 [0.0, 0.0, 1.0, 0.0, 0.0]\n",
      "19 [0.0, 0.0, 1.0, 0.0, 0.0]\n",
      "11 [0.0, 0.0, 1.0, 0.0, 0.0]\n",
      "4 [1.0, 0.0, 0.0, 0.0, 0.0]\n",
      "8 [0.0, 0.0, 1.0, 0.0, 0.0]\n",
      "10 [0.0, 1.0, 0.0, 0.0, 0.0]\n",
      "6 [0.0, 1.0, 0.0, 0.0, 0.0]\n",
      "12 [0.0, 1.0, 0.0, 0.0, 0.0]\n",
      "6 [0.0, 0.0, 1.0, 0.0, 0.0]\n",
      "6 [0.0, 0.0, 1.0, 0.0, 0.0]\n",
      "6 [0.0, 1.0, 0.0, 0.0, 0.0]\n",
      "7 [0.0, 0.0, 1.0, 0.0, 0.0]\n",
      "8 [0.0, 1.0, 0.0, 0.0, 0.0]\n",
      "27 [0.0, 0.0, 1.0, 0.0, 0.0]\n",
      "19 [0.0, 1.0, 0.0, 0.0, 0.0]\n",
      "10 [0.0, 1.0, 0.0, 0.0, 0.0]\n",
      "20 [0.0, 0.0, 1.0, 0.0, 0.0]\n",
      "12 [0.0, 0.0, 1.0, 0.0, 0.0]\n",
      "6 [0.0, 0.0, 1.0, 0.0, 0.0]\n",
      "12 [0.0, 1.0, 0.0, 0.0, 0.0]\n",
      "6 [0.0, 0.0, 1.0, 0.0, 0.0]\n",
      "8 [0.0, 0.0, 1.0, 0.0, 0.0]\n",
      "6 [0.0, 0.0, 1.0, 0.0, 0.0]\n",
      "4 [0.0, 1.0, 0.0, 0.0, 0.0]\n",
      "10 [0.0, 0.0, 1.0, 0.0, 0.0]\n",
      "2 [0.0, 1.0, 0.0, 0.0, 0.0]\n",
      "2 [0.0, 1.0, 0.0, 0.0, 0.0]\n",
      "2 [1.0, 0.0, 0.0, 0.0, 0.0]\n",
      "2 [1.0, 0.0, 0.0, 0.0, 0.0]\n",
      "2 [0.0, 0.0, 1.0, 0.0, 0.0]\n",
      "3 [0.0, 0.0, 1.0, 0.0, 0.0]\n",
      "4 [0.0, 0.0, 1.0, 0.0, 0.0]\n",
      "3 [1.0, 0.0, 0.0, 0.0, 0.0]\n",
      "4 [1.0, 0.0, 0.0, 0.0, 0.0]\n",
      "2 [1.0, 0.0, 0.0, 0.0, 0.0]\n",
      "2 [1.0, 0.0, 0.0, 0.0, 0.0]\n",
      "10 [0.0, 0.0, 1.0, 0.0, 0.0]\n",
      "2 [0.0, 0.0, 1.0, 0.0, 0.0]\n",
      "2 [1.0, 0.0, 0.0, 0.0, 0.0]\n",
      "2 [1.0, 0.0, 0.0, 0.0, 0.0]\n",
      "8 [0.0, 0.0, 1.0, 0.0, 0.0]\n",
      "2 [1.0, 0.0, 0.0, 0.0, 0.0]\n",
      "10 [1.0, 0.0, 0.0, 0.0, 0.0]\n",
      "2 [0.0, 0.0, 1.0, 0.0, 0.0]\n",
      "2 [0.0, 0.0, 1.0, 0.0, 0.0]\n",
      "14 [0.0, 1.0, 0.0, 0.0, 0.0]\n",
      "14 [0.0, 1.0, 0.0, 0.0, 0.0]\n",
      "12 [0.0, 1.0, 0.0, 0.0, 0.0]\n",
      "5 [0.0, 0.0, 1.0, 0.0, 0.0]\n",
      "7 [0.0, 0.0, 1.0, 0.0, 0.0]\n",
      "12 [0.0, 0.0, 1.0, 0.0, 0.0]\n",
      "12 [0.0, 0.0, 1.0, 0.0, 0.0]\n",
      "9 [0.0, 1.0, 0.0, 0.0, 0.0]\n",
      "12 [0.0, 0.0, 1.0, 0.0, 0.0]\n",
      "20 [0.0, 1.0, 0.0, 0.0, 0.0]\n",
      "10 [0.0, 0.0, 1.0, 0.0, 0.0]\n",
      "10 [0.0, 1.0, 0.0, 0.0, 0.0]\n",
      "7 [0.0, 1.0, 0.0, 0.0, 0.0]\n",
      "4 [0.0, 1.0, 0.0, 0.0, 0.0]\n",
      "4 [1.0, 0.0, 0.0, 0.0, 0.0]\n",
      "7 [0.0, 1.0, 0.0, 0.0, 0.0]\n",
      "14 [0.0, 1.0, 0.0, 0.0, 0.0]\n",
      "10 [0.0, 1.0, 0.0, 0.0, 0.0]\n",
      "11 [0.0, 0.0, 1.0, 0.0, 0.0]\n",
      "9 [0.0, 1.0, 0.0, 0.0, 0.0]\n",
      "14 [0.0, 1.0, 0.0, 0.0, 0.0]\n",
      "11 [0.0, 0.0, 1.0, 0.0, 0.0]\n",
      "8 [1.0, 0.0, 0.0, 0.0, 0.0]\n",
      "8 [0.0, 0.0, 1.0, 0.0, 0.0]\n",
      "10 [0.0, 1.0, 0.0, 0.0, 0.0]\n",
      "14 [0.0, 1.0, 0.0, 0.0, 0.0]\n",
      "12 [1.0, 0.0, 0.0, 0.0, 0.0]\n",
      "8 [1.0, 0.0, 0.0, 0.0, 0.0]\n",
      "6 [0.0, 0.0, 1.0, 0.0, 0.0]\n",
      "8 [0.0, 0.0, 1.0, 0.0, 0.0]\n",
      "6 [0.0, 0.0, 1.0, 0.0, 0.0]\n",
      "8 [0.0, 0.0, 1.0, 0.0, 0.0]\n",
      "12 [0.0, 0.0, 1.0, 0.0, 0.0]\n",
      "4 [1.0, 0.0, 0.0, 0.0, 0.0]\n",
      "2 [0.0, 1.0, 0.0, 0.0, 0.0]\n",
      "2 [0.0, 1.0, 0.0, 0.0, 0.0]\n",
      "2 [1.0, 0.0, 0.0, 0.0, 0.0]\n",
      "2 [0.0, 1.0, 0.0, 0.0, 0.0]\n",
      "2 [0.0, 1.0, 0.0, 0.0, 0.0]\n",
      "2 [1.0, 0.0, 0.0, 0.0, 0.0]\n",
      "2 [1.0, 0.0, 0.0, 0.0, 0.0]\n",
      "2 [1.0, 0.0, 0.0, 0.0, 0.0]\n",
      "2 [1.0, 0.0, 0.0, 0.0, 0.0]\n",
      "2 [1.0, 0.0, 0.0, 0.0, 0.0]\n",
      "14 [1.0, 0.0, 0.0, 0.0, 0.0]\n",
      "2 [1.0, 0.0, 0.0, 0.0, 0.0]\n",
      "13 [0.0, 0.0, 1.0, 0.0, 0.0]\n",
      "2 [1.0, 0.0, 0.0, 0.0, 0.0]\n",
      "2 [0.0, 0.0, 1.0, 0.0, 0.0]\n",
      "2 [0.0, 0.0, 1.0, 0.0, 0.0]\n",
      "20 [0.0, 1.0, 0.0, 0.0, 0.0]\n",
      "9 [0.0, 0.0, 1.0, 0.0, 0.0]\n",
      "30 [0.0, 0.0, 1.0, 0.0, 0.0]\n",
      "15 [0.0, 1.0, 0.0, 0.0, 0.0]\n",
      "24 [0.0, 1.0, 0.0, 0.0, 0.0]\n",
      "8 [0.0, 1.0, 0.0, 0.0, 0.0]\n",
      "8 [0.0, 0.0, 1.0, 0.0, 0.0]\n",
      "8 [0.0, 0.0, 1.0, 0.0, 0.0]\n",
      "14 [0.0, 0.0, 1.0, 0.0, 0.0]\n",
      "6 [0.0, 0.0, 1.0, 0.0, 0.0]\n",
      "12 [0.0, 1.0, 0.0, 0.0, 0.0]\n",
      "18 [0.0, 1.0, 0.0, 0.0, 0.0]\n",
      "15 [0.0, 1.0, 0.0, 0.0, 0.0]\n",
      "10 [0.0, 1.0, 0.0, 0.0, 0.0]\n",
      "11 [0.0, 0.0, 1.0, 0.0, 0.0]\n",
      "11 [0.0, 1.0, 0.0, 0.0, 0.0]\n",
      "15 [0.0, 1.0, 0.0, 0.0, 0.0]\n",
      "4 [0.0, 0.0, 1.0, 0.0, 0.0]\n",
      "4 [1.0, 0.0, 0.0, 0.0, 0.0]\n",
      "4 [1.0, 0.0, 0.0, 0.0, 0.0]\n",
      "4 [0.0, 0.0, 1.0, 0.0, 0.0]\n",
      "4 [1.0, 0.0, 0.0, 0.0, 0.0]\n",
      "14 [0.0, 0.0, 1.0, 0.0, 0.0]\n",
      "28 [0.0, 0.0, 1.0, 0.0, 0.0]\n",
      "10 [0.0, 1.0, 0.0, 0.0, 0.0]\n",
      "13 [0.0, 0.0, 1.0, 0.0, 0.0]\n",
      "7 [0.0, 0.0, 1.0, 0.0, 0.0]\n",
      "7 [0.0, 0.0, 1.0, 0.0, 0.0]\n",
      "7 [0.0, 0.0, 1.0, 0.0, 0.0]\n",
      "11 [0.0, 0.0, 1.0, 0.0, 0.0]\n",
      "8 [0.0, 1.0, 0.0, 0.0, 0.0]\n",
      "9 [1.0, 0.0, 0.0, 0.0, 0.0]\n",
      "30 [0.0, 1.0, 0.0, 0.0, 0.0]\n",
      "7 [1.0, 0.0, 0.0, 0.0, 0.0]\n",
      "24 [1.0, 0.0, 0.0, 0.0, 0.0]\n",
      "6 [1.0, 0.0, 0.0, 0.0, 0.0]\n",
      "17 [0.0, 0.0, 1.0, 0.0, 0.0]\n",
      "4 [1.0, 0.0, 0.0, 0.0, 0.0]\n",
      "4 [1.0, 0.0, 0.0, 0.0, 0.0]\n",
      "2 [1.0, 0.0, 0.0, 0.0, 0.0]\n",
      "2 [1.0, 0.0, 0.0, 0.0, 0.0]\n",
      "2 [0.0, 1.0, 0.0, 0.0, 0.0]\n",
      "2 [1.0, 0.0, 0.0, 0.0, 0.0]\n",
      "2 [1.0, 0.0, 0.0, 0.0, 0.0]\n",
      "2 [1.0, 0.0, 0.0, 0.0, 0.0]\n",
      "15 [0.0, 0.0, 1.0, 0.0, 0.0]\n",
      "27 [0.0, 1.0, 0.0, 0.0, 0.0]\n",
      "10 [1.0, 0.0, 0.0, 0.0, 0.0]\n",
      "42 [0.0, 0.0, 1.0, 0.0, 0.0]\n",
      "8 [0.0, 0.0, 1.0, 0.0, 0.0]\n",
      "16 [0.0, 1.0, 0.0, 0.0, 0.0]\n",
      "14 [0.0, 1.0, 0.0, 0.0, 0.0]\n",
      "14 [0.0, 0.0, 1.0, 0.0, 0.0]\n",
      "21 [0.0, 1.0, 0.0, 0.0, 0.0]\n",
      "10 [0.0, 1.0, 0.0, 0.0, 0.0]\n",
      "5 [1.0, 0.0, 0.0, 0.0, 0.0]\n",
      "5 [1.0, 0.0, 0.0, 0.0, 0.0]\n",
      "7 [0.0, 0.0, 1.0, 0.0, 0.0]\n",
      "4 [0.0, 0.0, 1.0, 0.0, 0.0]\n",
      "31 [0.0, 1.0, 0.0, 0.0, 0.0]\n",
      "28 [0.0, 1.0, 0.0, 0.0, 0.0]\n",
      "10 [0.0, 0.0, 1.0, 0.0, 0.0]\n",
      "23 [0.0, 1.0, 0.0, 0.0, 0.0]\n",
      "6 [1.0, 0.0, 0.0, 0.0, 0.0]\n",
      "13 [0.0, 0.0, 1.0, 0.0, 0.0]\n",
      "19 [0.0, 1.0, 0.0, 0.0, 0.0]\n",
      "15 [0.0, 0.0, 1.0, 0.0, 0.0]\n",
      "10 [0.0, 0.0, 1.0, 0.0, 0.0]\n",
      "25 [1.0, 0.0, 0.0, 0.0, 0.0]\n",
      "13 [0.0, 0.0, 1.0, 0.0, 0.0]\n",
      "4 [1.0, 0.0, 0.0, 0.0, 0.0]\n",
      "6 [1.0, 0.0, 0.0, 0.0, 0.0]\n",
      "4 [1.0, 0.0, 0.0, 0.0, 0.0]\n",
      "2 [1.0, 0.0, 0.0, 0.0, 0.0]\n",
      "2 [1.0, 0.0, 0.0, 0.0, 0.0]\n",
      "2 [0.0, 0.5, 0.5, 0.0, 0.0]\n",
      "2 [1.0, 0.0, 0.0, 0.0, 0.0]\n",
      "15 [0.0, 0.0, 1.0, 0.0, 0.0]\n",
      "70 [0.0, 0.0, 1.0, 0.0, 0.0]\n",
      "25 [0.0, 1.0, 0.0, 0.0, 0.0]\n",
      "19 [0.0, 0.0, 1.0, 0.0, 0.0]\n",
      "21 [0.0, 0.0, 1.0, 0.0, 0.0]\n",
      "28 [0.0, 1.0, 0.0, 0.0, 0.0]\n",
      "21 [0.0, 1.0, 0.0, 0.0, 0.0]\n",
      "9 [0.0, 0.0, 1.0, 0.0, 0.0]\n",
      "11 [0.0, 0.0, 1.0, 0.0, 0.0]\n",
      "43 [0.0, 1.0, 0.0, 0.0, 0.0]\n",
      "24 [0.0, 1.0, 0.0, 0.0, 0.0]\n",
      "4 [1.0, 0.0, 0.0, 0.0, 0.0]\n",
      "4 [0.0, 1.0, 0.0, 0.0, 0.0]\n",
      "13 [1.0, 0.0, 0.0, 0.0, 0.0]\n",
      "14 [1.0, 0.0, 0.0, 0.0, 0.0]\n",
      "17 [0.0, 1.0, 0.0, 0.0, 0.0]\n",
      "29 [0.0, 1.0, 0.0, 0.0, 0.0]\n",
      "13 [0.0, 0.0, 1.0, 0.0, 0.0]\n",
      "26 [1.0, 0.0, 0.0, 0.0, 0.0]\n",
      "71 [0.0, 0.0, 1.0, 0.0, 0.0]\n",
      "4 [0.0, 1.0, 0.0, 0.0, 0.0]\n",
      "2 [0.0, 0.0, 0.0, 1.0, 0.0]\n",
      "2 [0.0, 1.0, 0.0, 0.0, 0.0]\n",
      "2 [0.0, 1.0, 0.0, 0.0, 0.0]\n",
      "2 [0.0, 0.5, 0.5, 0.0, 0.0]\n",
      "4 [0.0, 0.75, 0.25, 0.0, 0.0]\n",
      "2 [1.0, 0.0, 0.0, 0.0, 0.0]\n",
      "4 [1.0, 0.0, 0.0, 0.0, 0.0]\n",
      "26 [0.0, 1.0, 0.0, 0.0, 0.0]\n",
      "25 [0.0, 0.0, 1.0, 0.0, 0.0]\n",
      "21 [0.0, 0.0, 1.0, 0.0, 0.0]\n",
      "20 [0.0, 0.0, 1.0, 0.0, 0.0]\n",
      "13 [0.0, 0.0, 1.0, 0.0, 0.0]\n",
      "8 [1.0, 0.0, 0.0, 0.0, 0.0]\n",
      "66 [0.0, 1.0, 0.0, 0.0, 0.0]\n",
      "28 [0.0, 0.0, 1.0, 0.0, 0.0]\n",
      "7 [1.0, 0.0, 0.0, 0.0, 0.0]\n",
      "6 [1.0, 0.0, 0.0, 0.0, 0.0]\n",
      "6 [1.0, 0.0, 0.0, 0.0, 0.0]\n",
      "25 [0.0, 1.0, 0.0, 0.0, 0.0]\n",
      "47 [0.0, 1.0, 0.0, 0.0, 0.0]\n",
      "5 [1.0, 0.0, 0.0, 0.0, 0.0]\n",
      "22 [0.0, 0.0, 1.0, 0.0, 0.0]\n",
      "4 [0.0, 1.0, 0.0, 0.0, 0.0]\n",
      "4 [1.0, 0.0, 0.0, 0.0, 0.0]\n",
      "4 [1.0, 0.0, 0.0, 0.0, 0.0]\n",
      "35 [0.0, 0.0, 1.0, 0.0, 0.0]\n",
      "9 [1.0, 0.0, 0.0, 0.0, 0.0]\n",
      "6 [1.0, 0.0, 0.0, 0.0, 0.0]\n",
      "72 [0.0, 0.0, 1.0, 0.0, 0.0]\n",
      "23 [0.0, 0.0, 1.0, 0.0, 0.0]\n",
      "38 [0.0, 0.0, 1.0, 0.0, 0.0]\n",
      "14 [0.0, 0.0, 1.0, 0.0, 0.0]\n",
      "90 [0.0, 1.0, 0.0, 0.0, 0.0]\n",
      "18 [1.0, 0.0, 0.0, 0.0, 0.0]\n",
      "34 [0.0, 1.0, 0.0, 0.0, 0.0]\n",
      "12 [0.0, 0.0, 1.0, 0.0, 0.0]\n",
      "4 [1.0, 0.0, 0.0, 0.0, 0.0]\n",
      "2 [1.0, 0.0, 0.0, 0.0, 0.0]\n",
      "5 [1.0, 0.0, 0.0, 0.0, 0.0]\n",
      "2 [0.0, 1.0, 0.0, 0.0, 0.0]\n",
      "2 [1.0, 0.0, 0.0, 0.0, 0.0]\n",
      "2 [1.0, 0.0, 0.0, 0.0, 0.0]\n",
      "2 [1.0, 0.0, 0.0, 0.0, 0.0]\n",
      "27 [1.0, 0.0, 0.0, 0.0, 0.0]\n",
      "8 [1.0, 0.0, 0.0, 0.0, 0.0]\n",
      "42 [0.0, 1.0, 0.0, 0.0, 0.0]\n",
      "12 [0.0, 0.0, 1.0, 0.0, 0.0]\n",
      "4 [0.0, 1.0, 0.0, 0.0, 0.0]\n",
      "119 [0.0, 1.0, 0.0, 0.0, 0.0]\n",
      "36 [0.0, 0.0, 1.0, 0.0, 0.0]\n",
      "25 [0.0, 0.0, 1.0, 0.0, 0.0]\n",
      "73 [0.0, 0.0, 1.0, 0.0, 0.0]\n",
      "6 [1.0, 0.0, 0.0, 0.0, 0.0]\n",
      "22 [0.0, 0.0, 1.0, 0.0, 0.0]\n",
      "36 [0.0, 0.0, 1.0, 0.0, 0.0]\n",
      "48 [0.0, 1.0, 0.0, 0.0, 0.0]\n",
      "52 [0.0, 0.0, 1.0, 0.0, 0.0]\n",
      "6 [0.0, 1.0, 0.0, 0.0, 0.0]\n",
      "2 [1.0, 0.0, 0.0, 0.0, 0.0]\n",
      "2 [0.0, 1.0, 0.0, 0.0, 0.0]\n",
      "2 [0.0, 1.0, 0.0, 0.0, 0.0]\n",
      "2 [1.0, 0.0, 0.0, 0.0, 0.0]\n",
      "2 [1.0, 0.0, 0.0, 0.0, 0.0]\n",
      "30 [0.0, 0.0, 1.0, 0.0, 0.0]\n",
      "5 [1.0, 0.0, 0.0, 0.0, 0.0]\n",
      "23 [1.0, 0.0, 0.0, 0.0, 0.0]\n",
      "120 [0.0, 1.0, 0.0, 0.0, 0.0]\n",
      "6 [0.0, 1.0, 0.0, 0.0, 0.0]\n",
      "10 [1.0, 0.0, 0.0, 0.0, 0.0]\n",
      "31 [0.0, 0.0, 1.0, 0.0, 0.0]\n",
      "4 [0.0, 1.0, 0.0, 0.0, 0.0]\n",
      "74 [0.0, 0.0, 1.0, 0.0, 0.0]\n",
      "10 [1.0, 0.0, 0.0, 0.0, 0.0]\n",
      "29 [1.0, 0.0, 0.0, 0.0, 0.0]\n",
      "9 [1.0, 0.0, 0.0, 0.0, 0.0]\n",
      "61 [0.0, 0.0, 1.0, 0.0, 0.0]\n",
      "76 [0.0, 1.0, 0.0, 0.0, 0.0]\n",
      "25 [0.0, 0.0, 1.0, 0.0, 0.0]\n",
      "10 [1.0, 0.0, 0.0, 0.0, 0.0]\n",
      "6 [1.0, 0.0, 0.0, 0.0, 0.0]\n",
      "2 [0.0, 1.0, 0.0, 0.0, 0.0]\n",
      "2 [1.0, 0.0, 0.0, 0.0, 0.0]\n",
      "14 [1.0, 0.0, 0.0, 0.0, 0.0]\n",
      "3 [1.0, 0.0, 0.0, 0.0, 0.0]\n",
      "121 [0.0, 1.0, 0.0, 0.0, 0.0]\n",
      "74 [0.0, 0.0, 1.0, 0.0, 0.0]\n",
      "10 [1.0, 0.0, 0.0, 0.0, 0.0]\n",
      "35 [0.0, 0.0, 1.0, 0.0, 0.0]\n",
      "75 [0.0, 0.0133, 0.9867, 0.0, 0.0]\n",
      "169 [0.0, 1.0, 0.0, 0.0, 0.0]\n",
      "6 [1.0, 0.0, 0.0, 0.0, 0.0]\n",
      "8 [0.0, 1.0, 0.0, 0.0, 0.0]\n",
      "8 [1.0, 0.0, 0.0, 0.0, 0.0]\n",
      "37 [0.0, 0.027, 0.973, 0.0, 0.0]\n",
      "86 [0.0, 0.0, 1.0, 0.0, 0.0]\n",
      "86 [0.0, 0.0, 1.0, 0.0, 0.0]\n",
      "30 [1.0, 0.0, 0.0, 0.0, 0.0]\n",
      "179 [0.0, 1.0, 0.0, 0.0, 0.0]\n",
      "7 [0.0, 1.0, 0.0, 0.0, 0.0]\n",
      "12 [1.0, 0.0, 0.0, 0.0, 0.0]\n",
      "77 [0.0, 1.0, 0.0, 0.0, 0.0]\n",
      "20 [1.0, 0.0, 0.0, 0.0, 0.0]\n",
      "8 [1.0, 0.0, 0.0, 0.0, 0.0]\n",
      "76 [0.0, 0.0263, 0.9737, 0.0, 0.0]\n",
      "7 [1.0, 0.0, 0.0, 0.0, 0.0]\n",
      "24 [1.0, 0.0, 0.0, 0.0, 0.0]\n",
      "65 [0.0, 0.0, 1.0, 0.0, 0.0]\n",
      "11 [1.0, 0.0, 0.0, 0.0, 0.0]\n",
      "180 [0.0056, 0.9944, 0.0, 0.0, 0.0]\n",
      "5 [1.0, 0.0, 0.0, 0.0, 0.0]\n",
      "87 [0.0, 0.0115, 0.9885, 0.0, 0.0]\n",
      "123 [0.0, 0.0081, 0.9919, 0.0, 0.0]\n",
      "14 [1.0, 0.0, 0.0, 0.0, 0.0]\n",
      "78 [0.0, 0.0385, 0.9615, 0.0, 0.0]\n",
      "181 [0.011, 0.989, 0.0, 0.0, 0.0]\n",
      "10 [0.0, 1.0, 0.0, 0.0, 0.0]\n",
      "44 [1.0, 0.0, 0.0, 0.0, 0.0]\n",
      "4 [1.0, 0.0, 0.0, 0.0, 0.0]\n",
      "78 [0.0128, 0.9872, 0.0, 0.0, 0.0]\n",
      "10 [1.0, 0.0, 0.0, 0.0, 0.0]\n",
      "182 [0.011, 0.9835, 0.0, 0.0055, 0.0]\n",
      "124 [0.0, 0.0081, 0.9839, 0.0081, -0.0]\n",
      "11 [0.0, 1.0, 0.0, 0.0, 0.0]\n",
      "88 [0.0114, 0.0114, 0.9773, 0.0, 0.0]\n",
      "11 [1.0, 0.0, 0.0, 0.0, 0.0]\n",
      "66 [0.0152, 0.0, 0.9848, 0.0, 0.0]\n",
      "183 [0.0164, 0.9781, 0.0, 0.0055, 0.0]\n",
      "22 [1.0, 0.0, 0.0, 0.0, 0.0]\n",
      "79 [0.0, 0.038, 0.9494, 0.0127, 0.0]\n",
      "17 [1.0, 0.0, 0.0, 0.0, 0.0]\n",
      "45 [1.0, 0.0, 0.0, 0.0, 0.0]\n",
      "13 [0.0, 1.0, 0.0, 0.0, 0.0]\n",
      "15 [1.0, 0.0, 0.0, 0.0, 0.0]\n",
      "125 [0.0, 0.008, 0.976, 0.016, 0.0]\n",
      "184 [0.0217, 0.9728, 0.0, 0.0054, 0.0]\n",
      "79 [0.0127, 0.9747, 0.0, 0.0127, 0.0]\n",
      "25 [1.0, 0.0, 0.0, 0.0, 0.0]\n",
      "12 [0.0, 1.0, 0.0, 0.0, 0.0]\n",
      "89 [0.0225, 0.0112, 0.9663, 0.0, -0.0]\n",
      "16 [1.0, 0.0, 0.0, 0.0, 0.0]\n",
      "185 [0.0216, 0.9676, 0.0, 0.0108, 0.0]\n",
      "12 [1.0, 0.0, 0.0, 0.0, 0.0]\n",
      "191 [0.0052, 0.0052, 0.9791, 0.0105, 0.0]\n",
      "80 [0.0, 0.0375, 0.9375, 0.025, 0.0]\n",
      "186 [0.0215, 0.9624, 0.0, 0.0161, -0.0]\n",
      "46 [1.0, 0.0, 0.0, 0.0, 0.0]\n",
      "193 [0.0052, 0.0155, 0.9689, 0.0104, -0.0]\n",
      "80 [0.025, 0.9625, 0.0, 0.0125, -0.0]\n",
      "187 [0.0267, 0.9572, 0.0, 0.016, -0.0]\n",
      "90 [0.0333, 0.0111, 0.9556, 0.0, 0.0]\n",
      "6 [1.0, 0.0, 0.0, 0.0, 0.0]\n",
      "14 [0.0, 1.0, 0.0, 0.0, 0.0]\n",
      "194 [0.0052, 0.0155, 0.9639, 0.0155, 0.0]\n",
      "27 [1.0, 0.0, 0.0, 0.0, 0.0]\n",
      "188 [0.0319, 0.9521, 0.0, 0.016, -0.0]\n",
      "82 [0.0, 0.061, 0.9146, 0.0244, -0.0]\n",
      "57 [1.0, 0.0, 0.0, 0.0, 0.0]\n",
      "14 [1.0, 0.0, 0.0, 0.0, 0.0]\n",
      "196 [0.0051, 0.0255, 0.9541, 0.0153, 0.0]\n",
      "190 [0.0316, 0.9526, 0.0, 0.0158, 0.0]\n",
      "198 [0.0152, 0.0253, 0.9444, 0.0152, -0.0]\n",
      "194 [0.0309, 0.9536, 0.0, 0.0155, -0.0]\n",
      "82 [0.0488, 0.939, 0.0, 0.0122, 0.0]\n",
      "92 [0.0326, 0.0109, 0.9348, 0.0217, -0.0]\n",
      "84 [1.0, 0.0, 0.0, 0.0, 0.0]\n",
      "86 [0.0, 0.093, 0.8837, 0.0233, 0.0]\n",
      "200 [0.025, 0.025, 0.935, 0.015, -0.0]\n",
      "198 [0.0303, 0.9545, 0.0, 0.0152, -0.0]\n",
      "92 [1.0, 0.0, 0.0, 0.0, 0.0]\n",
      "19 [1.0, 0.0, 0.0, 0.0, 0.0]\n",
      "204 [0.0441, 0.0245, 0.9167, 0.0147, 0.0]\n",
      "201 [0.0448, 0.9403, 0.0, 0.0149, -0.0]\n",
      "98 [1.0, 0.0, 0.0, 0.0, 0.0]\n",
      "283 [0.0459, 0.9399, 0.0, 0.0141, -0.0]\n",
      "38 [1.0, 0.0, 0.0, 0.0, 0.0]\n",
      "217 [0.0415, 0.0829, 0.8618, 0.0138, -0.0]\n",
      "98 [0.0918, 0.0102, 0.8776, 0.0204, 0.0]\n",
      "22 [1.0, 0.0, 0.0, 0.0, 0.0]\n",
      "297 [0.0438, 0.9428, 0.0, 0.0135, -0.0]\n",
      "117 [1.0, 0.0, 0.0, 0.0, 0.0]\n",
      "315 [0.0571, 0.0603, 0.8667, 0.0159, -0.0]\n",
      "314 [0.0955, 0.8917, 0.0, 0.0127, -0.0]\n",
      "401 [0.0449, 0.0673, 0.8703, 0.0175, 0.0]\n",
      "336 [0.1548, 0.8333, 0.0, 0.0119, -0.0]\n",
      "439 [0.1276, 0.0615, 0.795, 0.0159, -0.0]\n",
      "775 [0.1394, 0.3961, 0.4503, 0.0142, -0.0]\n"
     ]
    }
   ],
   "source": [
    "accuracy=[]\n",
    "for i in range(len(all_rmsd)):\n",
    "    if len(all_rmsd[i])>1:\n",
    "        ratio = correct_ratio(all_rmsd[i])\n",
    "        print(len(all_rmsd[i]),ratio)#,'|',[*dic.keys()][i])\n",
    "        accuracy.append(np.max(ratio))"
   ]
  },
  {
   "cell_type": "code",
   "execution_count": 71,
   "metadata": {},
   "outputs": [
    {
     "data": {
      "image/png": "[encoded data removed]",
      "text/plain": [
       "<Figure size 432x288 with 1 Axes>"
      ]
     },
     "metadata": {
      "needs_background": "light"
     },
     "output_type": "display_data"
    }
   ],
   "source": [
    "num_frames = np.array([len(i) for i in [[int(d) for d in [*k.split(',')]] for k in list(dic.keys())]],ndmin=2)\n",
    "plt.scatter(range(len(accuracy)),accuracy,marker='.',linewidths=0.1,color='b',label='Percentage of correct samples in cluster')\n",
    "plt.scatter(range(num_frames.shape[1]),*(num_frames/num_frames.shape[1]).tolist(),marker='.',linewidths=0.1,color='r',label='Percentage of samples in cluster')\n",
    "#plt.scatter(*(num_frames).tolist(),accuracy,marker='.',color='r')\n",
    "\n",
    "plt.xlabel('Clustering_step')\n",
    "plt.ylabel('Assignment_accuracy')\n",
    "plt.legend()\n",
    "plt.savefig('test_Faith_proteinG_1000samples_without_outlier_accuracy.png')"
   ]
  },
  {
   "cell_type": "code",
   "execution_count": 189,
   "metadata": {
    "scrolled": true
   },
   "outputs": [
    {
     "name": "stdout",
     "output_type": "stream",
     "text": [
      "125 | 0.586 | 758.328\n",
      "79 | 0.602 | 758.101\n",
      "25 | 0.571 | 758.08\n",
      "12 | 0.78 | 757.833\n",
      "89 | 0.599 | 757.629\n",
      "16 | 0.541 | 757.625\n",
      "185 | 0.632 | 757.6\n",
      "12 | 0.656 | 757.5\n",
      "191 | 0.579 | 757.257\n",
      "2 | 0.971 | 757.0\n"
     ]
    }
   ],
   "source": [
    "for i in range(-10,0):\n",
    "    print(len(all_clust[i]),'|',round(ave_rmsd[i],3),'|',round([*dic.values()][i],3))"
   ]
  },
  {
   "cell_type": "code",
   "execution_count": 112,
   "metadata": {
    "scrolled": true
   },
   "outputs": [
    {
     "data": {
      "text/plain": [
       "897"
      ]
     },
     "execution_count": 112,
     "metadata": {},
     "output_type": "execute_result"
    }
   ],
   "source": [
    "len([*[*dic.keys()][99].split(',')])"
   ]
  },
  {
   "cell_type": "markdown",
   "metadata": {},
   "source": [
    "## We will try k-means++ from here"
   ]
  },
  {
   "cell_type": "code",
   "execution_count": 28,
   "metadata": {},
   "outputs": [],
   "source": [
    "Threshold = 0.6\n",
    "traj = md.load_dcd('test_data/protein/3gb1.dcd',top='test_data/protein/3GB1.pdb')\n",
    "topfile=traj.top\n",
    "pdb = md.load_pdb('test_data/protein/3GB1.pdb')\n",
    "feat = coor.featurizer(topfile)\n",
    "residues = np.arange(0,56)\n",
    "pairs = []                                                                                 \n",
    "for i,r1 in enumerate(residues):\n",
    "    for r2 in residues[i+1::2]:\n",
    "        pairs.append([r1,r2])\n",
    "pairs = np.array(pairs)\n",
    "feature=feat.add_residue_mindist(pairs, scheme='closest-heavy',threshold=Threshold,periodic=False)\n",
    "inp = pyemma.coordinates.load('test_data/protein/3gb1.dcd', features=feat)\n",
    "inp=inp[::10]\n",
    "traj = traj[::10]\n",
    "traj_index = [i for i in range(traj.n_frames) if i not in index_aa]\n",
    "inp=inp[traj_index]\n",
    "traj = traj[traj_index]"
   ]
  },
  {
   "cell_type": "code",
   "execution_count": 29,
   "metadata": {},
   "outputs": [
    {
     "name": "stdout",
     "output_type": "stream",
     "text": [
      "all_c shape = (397386, 3)\n",
      "step 0 time = 1.72 s\n",
      "final matrix shape =  (892, 892)\n",
      "total time = 1.76 s\n"
     ]
    }
   ],
   "source": [
    "all_start = time.time()\n",
    "all_input = list(itertools.combinations(inp, 2))\n",
    "batch_size=1000000\n",
    "inp_sliced=[all_input[i*batch_size:(i+1)*batch_size] for i in range(int(len(all_input)/batch_size))]\n",
    "if int(len(inp_sliced)) < len(all_input)/batch_size:\n",
    "    inp_sliced.append(all_input[len(inp_sliced)*batch_size:])\n",
    "for i in range(len(inp_sliced)):\n",
    "    temp_start = time.time()\n",
    "    temp_c = np.zeros((int(len(inp_sliced[i])),3))\n",
    "    temp_input = np.array(inp_sliced[i])\n",
    "    product = temp_input.reshape(-1,2,temp_input.shape[-1]).sum(1)\n",
    "    for row in range(3):\n",
    "        temp_c[:,row] = np.sum(product==row,axis=1)\n",
    "    if i == 0:\n",
    "        all_c = temp_c\n",
    "    else:\n",
    "        all_c = np.concatenate((all_c,temp_c),axis=0)\n",
    "    print('all_c shape =', all_c.shape)\n",
    "    temp_end = time.time()\n",
    "    temp_time = temp_end - temp_start\n",
    "    print('step {} time ='.format(i),round(temp_time,2),'s')\n",
    "\n",
    "###calculate similarity\n",
    "simi = all_c[:,0]+all_c[:,2]\n",
    "disimi = all_c[:,1]\n",
    "denominate = all_c[:,0]+all_c[:,1]+all_c[:,2]\n",
    "w_p = simi/denominate\n",
    "simi_matrix = np.zeros((len(inp),len(inp)))\n",
    "mirror_simi_matrix = np.zeros((len(inp),len(inp)))\n",
    "upper_indices = np.triu_indices(len(inp),k=1)\n",
    "lower_indices = (upper_indices[1],upper_indices[0])\n",
    "simi_matrix[lower_indices] = simi\n",
    "mirror_simi_matrix[upper_indices] = simi\n",
    "mirror_simi_matrix[lower_indices] = simi\n",
    "np.fill_diagonal(mirror_simi_matrix,np.Inf)\n",
    "print('final matrix shape = ', simi_matrix.shape)\n",
    "all_end = time.time()\n",
    "all_time = all_end - all_start\n",
    "print('total time =', round(all_time,2),'s')"
   ]
  },
  {
   "cell_type": "code",
   "execution_count": 33,
   "metadata": {},
   "outputs": [
    {
     "data": {
      "text/plain": [
       "277"
      ]
     },
     "execution_count": 33,
     "metadata": {},
     "output_type": "execute_result"
    }
   ],
   "source": [
    "traj_index.index(382)"
   ]
  },
  {
   "cell_type": "code",
   "execution_count": 34,
   "metadata": {},
   "outputs": [],
   "source": [
    "#centroid = np.random.randint(0,len(inp),3)\n",
    "centroid = [148,697,277]"
   ]
  },
  {
   "cell_type": "code",
   "execution_count": 35,
   "metadata": {},
   "outputs": [
    {
     "name": "stdout",
     "output_type": "stream",
     "text": [
      "[[148, 121], [697, 686], [277, 806]]\n"
     ]
    }
   ],
   "source": [
    "### Assigning the most similar sample to each centroid\n",
    "mirror_max_matrix = np.zeros((len(inp),len(inp)))\n",
    "mirror_max_matrix[upper_indices] = simi\n",
    "mirror_max_matrix[lower_indices] = simi\n",
    "max_index = np.argmax(mirror_max_matrix[:,centroid],axis=0)\n",
    "first_step = [[centroid[index],max_index[index]] for index in range(len(max_index))]\n",
    "second_step_index = [i for i in range(inp.shape[0]) if i not in list(np.concatenate(first_step))]\n",
    "print(first_step)"
   ]
  },
  {
   "cell_type": "code",
   "execution_count": 36,
   "metadata": {},
   "outputs": [
    {
     "data": {
      "text/plain": [
       "array([0.87399685, 0.8820699 , 0.33895   , 0.33139157, 0.07938181,\n",
       "       0.08370326], dtype=float32)"
      ]
     },
     "execution_count": 36,
     "metadata": {},
     "output_type": "execute_result"
    }
   ],
   "source": [
    "all_CA=topfile.select(\"backbone==1\")\n",
    "md.rmsd(traj[np.concatenate(first_step)],pdb,atom_indices=all_CA)"
   ]
  },
  {
   "cell_type": "code",
   "execution_count": 37,
   "metadata": {
    "scrolled": true
   },
   "outputs": [
    {
     "name": "stdout",
     "output_type": "stream",
     "text": [
      "total time = 2.18 s\n"
     ]
    }
   ],
   "source": [
    "all_start = time.time()\n",
    "k_clusters = first_step\n",
    "while len(second_step_index) > 0:\n",
    "    random_int = np.random.randint(0,len(second_step_index))\n",
    "    single = second_step_index[random_int]\n",
    "    k_max = np.argmax([bc(np.concatenate(([inp[single]],inp[k_clusters[k]]),axis=0)).total_w_sim for k in range(len(k_clusters))],axis=None)\n",
    "#    k_max = np.argmax([Fai(np.concatenate(([inp[single]],inp[k_clusters[k]]),axis=0)).Fai_1sim_wdis for k in range(len(k_clusters))],axis=None)\n",
    "    k_clusters[k_max] = k_clusters[k_max] + [single]\n",
    "    second_step_index.remove(single)\n",
    "all_end = time.time()\n",
    "all_time = all_end - all_start\n",
    "print('total time =', round(all_time,2),'s')"
   ]
  },
  {
   "cell_type": "code",
   "execution_count": 51,
   "metadata": {},
   "outputs": [
    {
     "data": {
      "image/png": "[encoded data removed]",
      "text/plain": [
       "<Figure size 432x288 with 1 Axes>"
      ]
     },
     "metadata": {
      "needs_background": "light"
     },
     "output_type": "display_data"
    }
   ],
   "source": [
    "traj = md.load_dcd('test_data/protein/3gb1.dcd',top='test_data/protein/3GB1.pdb')\n",
    "topfile=traj.top\n",
    "pdb = md.load_pdb('test_data/protein/3GB1.pdb')\n",
    "traj = traj[::10]\n",
    "out_lier = md.rmsd(traj[index_aa],pdb,atom_indices=all_CA)\n",
    "plt.scatter(index_aa,out_lier,marker='.',color='b',label='outliers')\n",
    "traj_index = [i for i in range(traj.n_frames) if i not in index_aa]\n",
    "#traj = traj[traj_index]\n",
    "ori_index = [[traj_index[i] for i in d] for d in k_clusters]\n",
    "for index,i in enumerate(ori_index):\n",
    "    true_rmsd=md.rmsd(traj[i],pdb,atom_indices=all_CA)\n",
    "    plt.scatter(i,true_rmsd,marker='.',label='cluster {0}; {1}'.format(index+1,max(ratio[index])))\n",
    "plt.legend()\n",
    "plt.xlabel('Sample')\n",
    "plt.ylabel('RMSD') \n",
    "plt.savefig('test_1000samples_kmeans_1drmsd.png')"
   ]
  },
  {
   "cell_type": "code",
   "execution_count": 49,
   "metadata": {},
   "outputs": [
    {
     "name": "stdout",
     "output_type": "stream",
     "text": [
      "[163, 354, 375]\n"
     ]
    }
   ],
   "source": [
    "print([len(i) for i in k_clusters])\n",
    "ratio=[correct_ratio(md.rmsd(traj[i],pdb,atom_indices=all_CA)) for i in ori_index]"
   ]
  },
  {
   "cell_type": "code",
   "execution_count": null,
   "metadata": {},
   "outputs": [],
   "source": [
    "### compare triple array\n",
    "for k in range(len(first_step)):\n",
    "    a=np.zeros((len(second_step_index),len(first_step[k])+1))\n",
    "    a[:,0] = second_step_index\n",
    "    a[:,[1,2]] = first_step[k]\n",
    "    a=a.astype('int')\n",
    "    all_input = [inp[i] for i in a]\n",
    "    all_array_input = np.vstack([all_input])\n",
    "    all_product = all_array_input.reshape(-1,3,all_array_input.shape[-1]).sum(1)\n",
    "    temp_c = np.zeros((len(second_step_index),len(first_step[0])+2))\n",
    "    for row in range(len(first_step[0])+2):\n",
    "        temp_c[:,row] = np.sum(all_product==row,axis=1)\n",
    "    if k == 0:\n",
    "        all_c = temp_c\n",
    "    else:\n",
    "        all_c = np.concatenate((all_c,temp_c),axis=0)\n",
    "        \n",
    "### find centroids step by step\n",
    "min_index = (np.argmin(mirror_simi_matrix[:,first_centroid]),first_centroid)\n",
    "centroid = [first_centroid]\n",
    "k=2\n",
    "for i in range(k):\n",
    "    ave_array = np.average(mirror_simi_matrix[:,centroid],axis=1)\n",
    "    print(ave_array.shape)\n",
    "    min_index = np.argmin(ave_array)\n",
    "    centroid.append(min_index)\n",
    "    print(centroid)\n",
    "centroid"
   ]
  },
  {
   "cell_type": "markdown",
   "metadata": {},
   "source": [
    "## Here is the playground"
   ]
  },
  {
   "cell_type": "code",
   "execution_count": 4,
   "metadata": {},
   "outputs": [],
   "source": [
    "all_data=np.loadtxt('test_data/origin_1000.dat')\n",
    "all_data=all_data[:,0:2]#[np.random.randint(0,1000,900)]\n",
    "pairs = list(itertools.combinations(all_data, 2))"
   ]
  },
  {
   "cell_type": "code",
   "execution_count": 13,
   "metadata": {
    "scrolled": true
   },
   "outputs": [
    {
     "data": {
      "image/png": "[encoded data removed]",
      "text/plain": [
       "<Figure size 432x288 with 1 Axes>"
      ]
     },
     "metadata": {
      "needs_background": "light"
     },
     "output_type": "display_data"
    }
   ],
   "source": [
    "plt.scatter(all_data[:,0],all_data[:,1],marker='.')\n",
    "#plt.scatter(all_data[:,0][0],all_data[:,1][0],marker='.',color='r')\n",
    "plt.scatter(all_data[:,0][index_aa],all_data[:,1][index_aa],marker='.',color='r')\n",
    "#plt.scatter(all_data[:,0][sorted_sum_mirror_binary_simi_index[:,1][:20]],all_data[:,1][sorted_sum_mirror_binary_simi_index[:,1][:20]],marker='.',color='r')\n",
    "plt.savefig('test_origin_1000_dataset_margin.png')"
   ]
  },
  {
   "cell_type": "code",
   "execution_count": 4,
   "metadata": {},
   "outputs": [],
   "source": [
    "def min_distance(x,threshold):\n",
    "    pairs = list(itertools.combinations(x, 2))\n",
    "    pair_array = np.array(pairs)\n",
    "    distance=np.linalg.norm(pair_array[:,0]-pair_array[:,1],axis=1)\n",
    "    distance_cut=[distance>1]\n",
    "    return"
   ]
  },
  {
   "cell_type": "code",
   "execution_count": 6,
   "metadata": {},
   "outputs": [
    {
     "name": "stdout",
     "output_type": "stream",
     "text": [
      "[[1. 1. 1. ... 0. 0. 0.]\n",
      " [1. 1. 1. ... 0. 0. 0.]\n",
      " [1. 1. 1. ... 0. 0. 0.]\n",
      " ...\n",
      " [0. 0. 0. ... 1. 0. 0.]\n",
      " [0. 0. 0. ... 0. 1. 0.]\n",
      " [0. 0. 0. ... 0. 0. 1.]]\n"
     ]
    }
   ],
   "source": [
    "#pairs = list(itertools.combinations(, 2))\n",
    "simi_matrix = np.zeros((len(all_data),len(all_data)))\n",
    "mirror_simi_matrix = np.zeros((len(all_data),len(all_data)))\n",
    "upper_indices = np.triu_indices(len(all_data),k=1)\n",
    "lower_indices = (upper_indices[1],upper_indices[0])\n",
    "pair_array = np.array(pairs)\n",
    "distance=np.linalg.norm(pair_array[:,0]-pair_array[:,1],axis=1)\n",
    "distance_cut=distance<0.05\n",
    "simi_matrix[lower_indices] = distance_cut\n",
    "mirror_simi_matrix[upper_indices] = distance_cut\n",
    "mirror_simi_matrix[lower_indices] = distance_cut\n",
    "np.fill_diagonal(mirror_simi_matrix,1)\n",
    "print(mirror_simi_matrix.T)"
   ]
  },
  {
   "cell_type": "code",
   "execution_count": 7,
   "metadata": {},
   "outputs": [],
   "source": [
    "from clustering import *\n",
    "simi_matrix , _, time= binary_simi_matrix(mirror_simi_matrix)\n",
    "mirror_binary_simi=simi_matrix+np.rot90(np.fliplr(simi_matrix))\n",
    "sum_mirror_binary_simi = np.sum(mirror_binary_simi.T,axis=1)"
   ]
  },
  {
   "cell_type": "code",
   "execution_count": 11,
   "metadata": {},
   "outputs": [
    {
     "data": {
      "image/png": "[encoded data removed]",
      "text/plain": [
       "<Figure size 432x288 with 1 Axes>"
      ]
     },
     "metadata": {
      "needs_background": "light"
     },
     "output_type": "display_data"
    }
   ],
   "source": [
    "sum_mirror_binary_simi_index = np.vstack((sum_mirror_binary_simi,range(len(sum_mirror_binary_simi)))).T\n",
    "plt.scatter(range(sum_mirror_binary_simi.shape[0]),sum_mirror_binary_simi)\n",
    "index_aa=[]\n",
    "for index_a,i in enumerate(sum_mirror_binary_simi):\n",
    "    if 945000<sum_mirror_binary_simi[index_a]:# < 620000:\n",
    "        index_aa.append(index_a)"
   ]
  },
  {
   "cell_type": "code",
   "execution_count": 8,
   "metadata": {},
   "outputs": [
    {
     "data": {
      "text/plain": [
       "array([[768776,    848],\n",
       "       [768776,    375],\n",
       "       [768776,    119],\n",
       "       ...,\n",
       "       [676306,    518],\n",
       "       [674016,    736],\n",
       "       [674016,    391]])"
      ]
     },
     "execution_count": 8,
     "metadata": {},
     "output_type": "execute_result"
    }
   ],
   "source": [
    "sorted_sum_mirror_binary_simi_index = sum_mirror_binary_simi_index[sum_mirror_binary_simi_index[:,0].argsort()][::-1]\n",
    "sorted_sum_mirror_binary_simi_index = sorted_sum_mirror_binary_simi_index.astype('int')\n",
    "sorted_sum_mirror_binary_simi_index"
   ]
  },
  {
   "cell_type": "code",
   "execution_count": 9,
   "metadata": {},
   "outputs": [
    {
     "name": "stderr",
     "output_type": "stream",
     "text": [
      "/home/liwei/Prorgram/miniconda3/envs/msm/lib/python3.7/site-packages/ipykernel_launcher.py:3: FutureWarning: Using a non-tuple sequence for multidimensional indexing is deprecated; use `arr[tuple(seq)]` instead of `arr[seq]`. In the future this will be interpreted as an array index, `arr[np.array(seq)]`, which will result either in an error or a different result.\n",
      "  This is separate from the ipykernel package so we can avoid doing imports until\n"
     ]
    }
   ],
   "source": [
    "all_compare=[]\n",
    "for i in range(1,len(all_data)):\n",
    "    all_compare+=list(itertools.combinations(np.vstack((mirror_simi_matrix[sorted_sum_mirror_binary_simi_index[:,1][i]],mirror_simi_matrix[[sorted_sum_mirror_binary_simi_index[:,1][:i]]])),2))[:i]"
   ]
  },
  {
   "cell_type": "code",
   "execution_count": null,
   "metadata": {},
   "outputs": [],
   "source": [
    "all_input = all_compare\n",
    "batch_size=1000000\n",
    "inp_sliced=[all_input[i*batch_size:(i+1)*batch_size] for i in range(int(len(all_input)/batch_size))]\n",
    "if int(len(inp_sliced)) < len(all_input)/batch_size:\n",
    "    inp_sliced.append(all_input[len(inp_sliced)*batch_size:])\n",
    "for i in range(len(inp_sliced)):\n",
    "    temp_c = np.zeros((int(len(inp_sliced[i])),3))\n",
    "    temp_input = np.array(inp_sliced[i])\n",
    "    product = temp_input.reshape(-1,2,temp_input.shape[-1]).sum(1)\n",
    "#    product = np.linalg.norm(temp_input[:,0]-temp_input[:,1],axis=1)\n",
    "    for row in range(3):\n",
    "        temp_c[:,row] = np.sum(product==row,axis=1)\n",
    "    if i == 0:\n",
    "        all_c = temp_c\n",
    "    else:\n",
    "        all_c = np.concatenate((all_c,temp_c),axis=0)\n",
    "\n",
    "###calculate similarity\n",
    "\n",
    "simi = all_c[:,0]+all_c[:,2]\n",
    "dis_simi = all_c[:,1] #- all_c[:,2] - all_c[:,0]\n",
    "\n",
    "simi_matrix = np.zeros((len(all_data),len(all_data)))\n",
    "dis_simi_matrix = np.zeros((len(all_data),len(all_data)))\n",
    "indices = np.triu_indices(len(all_data),k=1)\n",
    "indices = (indices[1],indices[0])\n",
    "simi_matrix[indices] = simi\n",
    "dis_simi_matrix[indices] = simi"
   ]
  },
  {
   "cell_type": "code",
   "execution_count": 81,
   "metadata": {},
   "outputs": [],
   "source": [
    "upper_indices = np.triu_indices(len(all_data),k=1)\n",
    "dis_simi_matrix[upper_indices] = np.Inf\n",
    "np.fill_diagonal(dis_simi_matrix,np.Inf)\n",
    "#min_dis_simi = np.array([dis_simi_matrix[i].sum()/i for i in range(len(all_data))])#,axis=1)\n",
    "min_dis_simi = np.min(dis_simi_matrix,axis=1)\n",
    "min_dis_simi[0] = min_dis_simi[1:].max()\n",
    "#dis_simi_matrix[0] = dis_simi_matrix.max()\n",
    "dis_all = np.vstack((min_dis_simi,sorted_sum_mirror_binary_simi_index[:,1])).T"
   ]
  },
  {
   "cell_type": "code",
   "execution_count": 82,
   "metadata": {},
   "outputs": [
    {
     "data": {
      "text/plain": [
       "array([[779.,   0.],\n",
       "       [763.,   1.],\n",
       "       [760.,   2.],\n",
       "       ...,\n",
       "       [748., 785.],\n",
       "       [737., 786.],\n",
       "       [740., 787.]])"
      ]
     },
     "execution_count": 82,
     "metadata": {},
     "output_type": "execute_result"
    }
   ],
   "source": [
    "sorted_dis_all = dis_all[dis_all[:,1].argsort()]\n",
    "sorted_dis_all"
   ]
  },
  {
   "cell_type": "code",
   "execution_count": 83,
   "metadata": {},
   "outputs": [
    {
     "data": {
      "text/plain": [
       "<matplotlib.collections.PathCollection at 0x7f03540f6b50>"
      ]
     },
     "execution_count": 83,
     "metadata": {},
     "output_type": "execute_result"
    },
    {
     "data": {
      "image/png": "[encoded data removed]",
      "text/plain": [
       "<Figure size 432x288 with 1 Axes>"
      ]
     },
     "metadata": {
      "needs_background": "light"
     },
     "output_type": "display_data"
    }
   ],
   "source": [
    "plt.scatter(sum_mirror_binary_simi,sorted_dis_all[:,0])"
   ]
  },
  {
   "cell_type": "code",
   "execution_count": 93,
   "metadata": {},
   "outputs": [],
   "source": [
    "index_aa=[]\n",
    "for index_a,i in enumerate(sorted_dis_all[:,0]):\n",
    "    if 592000<sum_mirror_binary_simi[index_a] < 620000:\n",
    "        index_aa.append(index_a)\n",
    "        "
   ]
  },
  {
   "cell_type": "code",
   "execution_count": 79,
   "metadata": {},
   "outputs": [
    {
     "data": {
      "text/plain": [
       "array([  2.26770809, 381.        ])"
      ]
     },
     "execution_count": 79,
     "metadata": {},
     "output_type": "execute_result"
    }
   ],
   "source": [
    "sorted_dis_all[381]#.sum()#==mirror_simi_matrix[381]"
   ]
  },
  {
   "cell_type": "code",
   "execution_count": 78,
   "metadata": {},
   "outputs": [
    {
     "data": {
      "text/plain": [
       "[311, 381]"
      ]
     },
     "execution_count": 78,
     "metadata": {},
     "output_type": "execute_result"
    }
   ],
   "source": [
    "index_aa"
   ]
  },
  {
   "cell_type": "code",
   "execution_count": null,
   "metadata": {},
   "outputs": [],
   "source": []
  }
 ],
 "metadata": {
  "hide_input": false,
  "kernelspec": {
   "display_name": "Python 3",
   "language": "python",
   "name": "python3"
  },
  "language_info": {
   "codemirror_mode": {
    "name": "ipython",
    "version": 3
   },
   "file_extension": ".py",
   "mimetype": "text/x-python",
   "name": "python",
   "nbconvert_exporter": "python",
   "pygments_lexer": "ipython3",
   "version": "3.7.6"
  }
 },
 "nbformat": 4,
 "nbformat_minor": 4
}
