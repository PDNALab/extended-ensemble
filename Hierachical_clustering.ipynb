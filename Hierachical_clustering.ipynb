{
 "cells": [
  {
   "cell_type": "code",
   "execution_count": 3,
   "metadata": {},
   "outputs": [],
   "source": [
    "import pyemma\n",
    "import numpy as np\n",
    "import pyemma.coordinates as coor\n",
    "import matplotlib as mpl\n",
    "import matplotlib.pyplot as plt\n",
    "import sys\n",
    "import os\n",
    "from matplotlib.pyplot import cm\n",
    "from collections import OrderedDict\n",
    "import mdtraj as md\n",
    "import itertools\n",
    "import time\n",
    "import indices\n",
    "from indices.base import BaseComparisons as bc\n",
    "from indices.faith import Faith as Fai\n",
    "from indices.russell_rao import RussellRao as RR\n",
    "import scipy.cluster.hierarchy as shc\n",
    "from matplotlib import gridspec\n",
    "from matplotlib import pyplot\n",
    "import mdtraj\n",
    "import seaborn as sns\n",
    "import collections\n",
    "from sklearn.metrics.cluster import v_measure_score as v_meas\n",
    "from sklearn.metrics.cluster import normalized_mutual_info_score as nmi\n",
    "from sklearn.cluster import AgglomerativeClustering\n",
    "from sklearn.metrics import pairwise_distances"
   ]
  },
  {
   "cell_type": "markdown",
   "metadata": {},
   "source": [
    "## Let's try it..."
   ]
  },
  {
   "cell_type": "code",
<<<<<<< HEAD
   "execution_count": 36,
   "metadata": {},
   "outputs": [],
   "source": [
    "Threshold = 1\n",
    "traj_prefix = '/orange/alberto.perezant/liweichang/msm/MultipleComparisons/datasets'\n",
    "trajs=['complete_Gmut_steady_2.dcd','ward_Gmut_steady_1.dcd','cluster_Gmut_steady_0.dcd']\n",
    "w_as=[]\n",
    "for i in range(3):\n",
    "    traj_file = traj_prefix+'/DESRES-Trajectory_NuG2_result/tree/cluster_1_score/'+trajs[i]\n",
    "    native_pdb = traj_prefix+'/NuG2.pdb'\n",
    "    #traj_file = '/blue/alberto.perezant/liweichang/msm/MultipleComparisons/test_data/protein/traj_native.dcd'\n",
    "    #native_pdb = '/blue/alberto.perezant/liweichang/msm/MultipleComparisons/test_data/protein/3GB1.pdb'\n",
    "    # traj = md.load_pdb(traj_file)\n",
    "    feat = coor.featurizer(native_pdb)\n",
    "    residues = np.arange(18,56)\n",
    "    pairs = []                                                                                 \n",
    "    for i,r1 in enumerate(range(18)):\n",
    "        for r2 in residues[::2]:\n",
    "            pairs.append([r1,r2])\n",
    "\n",
    "    pairs = np.array(pairs)\n",
    "    feature=feat.add_residue_mindist(pairs, scheme='ca',threshold=Threshold,periodic=False)\n",
    "    inp = pyemma.coordinates.load(traj_file, features=feat)\n",
    "    compare=bc(inp)\n",
    "    w_as.append(compare.w_a)\n",
    "    "
   ]
  },
  {
   "cell_type": "code",
   "execution_count": 37,
   "metadata": {},
   "outputs": [
    {
     "ename": "AttributeError",
     "evalue": "'BaseComparisons' object has no attribute 'RR_1sim_wdis'",
     "output_type": "error",
     "traceback": [
      "\u001b[0;31m---------------------------------------------------------------------------\u001b[0m",
      "\u001b[0;31mAttributeError\u001b[0m                            Traceback (most recent call last)",
      "\u001b[0;32m<ipython-input-37-728a00d013a2>\u001b[0m in \u001b[0;36m<module>\u001b[0;34m\u001b[0m\n\u001b[0;32m----> 1\u001b[0;31m \u001b[0mcompare\u001b[0m\u001b[0;34m.\u001b[0m\u001b[0mRR_1sim_wdis\u001b[0m\u001b[0;34m\u001b[0m\u001b[0;34m\u001b[0m\u001b[0m\n\u001b[0m",
      "\u001b[0;31mAttributeError\u001b[0m: 'BaseComparisons' object has no attribute 'RR_1sim_wdis'"
     ]
    }
   ],
   "source": [
    "compare.RR_1sim_wdis"
   ]
  },
  {
   "cell_type": "code",
   "execution_count": 61,
   "metadata": {
    "scrolled": false
   },
   "outputs": [
    {
     "data": {
      "image/png": "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\n",
      "text/plain": [
       "<Figure size 309.6x288 with 1 Axes>"
      ]
     },
     "metadata": {
      "needs_background": "light"
     },
     "output_type": "display_data"
    }
   ],
   "source": [
    "fig,ax=plt.subplots(1,1,figsize=(4.3,4))\n",
    "plt.bar([0.5,0.75,1],height=w_as,color=['r','b','g'],width=0.15)\n",
    "plt.xlim(0.3,1.2)\n",
    "plt.yticks([0,5,10,15])\n",
    "plt.xticks([0.5,0.75,1])\n",
    "ax.set_xticklabels(['complete','ward','extended'])\n",
    "ax.set_ylabel('Extended similarity',fontsize=14)\n",
    "ax.tick_params(right=False, top=False, bottom=True,labelright=False, labeltop=False,axis=\"both\", direction='in', length=3)\n",
    "ax.tick_params(axis='both', which='major', labelsize=13)\n",
    "plt.savefig('/orange/alberto.perezant/liweichang/msm/MultipleComparisons/datasets/Fig_6b.pdf')\n"
   ]
  },
  {
   "cell_type": "markdown",
   "metadata": {},
   "source": [
    "## 3GB1"
   ]
  },
  {
   "cell_type": "code",
   "execution_count": 4,
=======
   "execution_count": 52,
>>>>>>> ecb73c54a487c966d00eb80a38967405cf0f7fbe
   "metadata": {},
   "outputs": [],
   "source": [
    "Threshold = 0.6\n",
<<<<<<< HEAD
    "\n",
    "\n",
    "traj_file = '/blue/alberto.perezant/liweichang/msm/MultipleComparisons/test_data/protein/samples_3gb1_withrandom_shuffled.dcd'\n",
    "native_pdb = '/blue/alberto.perezant/liweichang/msm/MultipleComparisons/test_data/protein/3GB1.pdb'\n",
    "traj = md.load_dcd(traj_file,top=native_pdb)\n",
    "feat = coor.featurizer(native_pdb)\n",
=======
    "traj = md.load_dcd('test_data/protein/3gb1.dcd',top='test_data/protein/3GB1.pdb')\n",
    "topfile=traj.top\n",
    "feat = coor.featurizer(topfile)\n",
>>>>>>> ecb73c54a487c966d00eb80a38967405cf0f7fbe
    "residues = np.arange(0,56)\n",
    "pairs = []                                                                                 \n",
    "for i,r1 in enumerate(range(56)):\n",
    "    for r2 in residues[r1:]:\n",
    "        pairs.append([r1,r2])\n",
    "\n",
    "pairs = np.array(pairs)\n",
    "feature=feat.add_residue_mindist(pairs, scheme='closest-heavy',threshold=Threshold,periodic=False)\n",
<<<<<<< HEAD
    "inp = pyemma.coordinates.load(traj_file, features=feat)\n",
    "# compare=bc(inp)\n",
    "# w_as.append(compare.w_a)\n",
    "np.savez('proteinG_shuffled_fingerprint.npz',inp.astype(np.int32))"
=======
    "inp = pyemma.coordinates.load('test_data/protein/3gb1.dcd', features=feat)\n",
    "inp=inp[::10]\n",
    "traj = traj[::10]\n",
    "traj_index = [i for i in range(traj.n_frames) if i not in index_aa]\n",
    "inp=inp[traj_index]\n",
    "traj = traj[traj_index]"
>>>>>>> ecb73c54a487c966d00eb80a38967405cf0f7fbe
   ]
  },
  {
   "cell_type": "code",
<<<<<<< HEAD
   "execution_count": 11,
=======
   "execution_count": 18,
>>>>>>> ecb73c54a487c966d00eb80a38967405cf0f7fbe
   "metadata": {},
   "outputs": [
    {
     "data": {
      "text/plain": [
       "(1923,)"
      ]
     },
     "execution_count": 11,
     "metadata": {},
     "output_type": "execute_result"
    }
   ],
   "source": [
<<<<<<< HEAD
    "# for i in range(30):\n",
    "#     sample_index=np.random.choice(traj.n_frames,1200,replace=False)\n",
    "#     traj[sample_index].save_dcd('test_data/protein/test_linkages/subsample_3gb1_{}.dcd'.format(i))\n",
    "#     label=[int(i) for i in np.loadtxt('test_data/protein/samples_3gb1_shuffled_label.dat')]\n",
    "#     np.savetxt('test_data/protein/test_linkages/subsample_3gb1_label_{}.dat'.format(i),np.array(label)[sample_index])"
=======
    "inp=inp[::10]"
>>>>>>> ecb73c54a487c966d00eb80a38967405cf0f7fbe
   ]
  },
  {
   "cell_type": "code",
<<<<<<< HEAD
   "execution_count": 27,
=======
   "execution_count": 53,
>>>>>>> ecb73c54a487c966d00eb80a38967405cf0f7fbe
   "metadata": {
    "scrolled": true
   },
   "outputs": [
    {
     "name": "stdout",
     "output_type": "stream",
     "text": [
<<<<<<< HEAD
      "all_c shape = (1000000, 3)\n",
      "step 0 time = 24.24 s\n",
      "all_c shape = (1403650, 3)\n",
      "step 1 time = 11.53 s\n",
      "final matrix shape =  (1676, 1676)\n",
      "total time = 36.11 s\n"
=======
      "all_c shape = (397386, 3)\n",
      "step 0 time = 1.7 s\n",
      "final matrix shape =  (892, 892)\n",
      "total time = 1.74 s\n"
>>>>>>> ecb73c54a487c966d00eb80a38967405cf0f7fbe
     ]
    }
   ],
   "source": [
    "# %%timeit -n1 -r1 \n",
    "all_start = time.time()\n",
    "all_input = list(itertools.combinations(inp, 2))\n",
    "batch_size=1000000\n",
    "inp_sliced=[all_input[i*batch_size:(i+1)*batch_size] for i in range(int(len(all_input)/batch_size))]\n",
    "if int(len(inp_sliced)) < len(all_input)/batch_size:\n",
    "    inp_sliced.append(all_input[len(inp_sliced)*batch_size:])\n",
    "for i in range(len(inp_sliced)):\n",
    "    temp_start = time.time()\n",
    "    temp_c = np.zeros((int(len(inp_sliced[i])),3))\n",
    "    temp_input = np.array(inp_sliced[i])\n",
    "    product = temp_input.reshape(-1,2,temp_input.shape[-1]).sum(1)\n",
    "    for row in range(3):\n",
    "        temp_c[:,row] = np.sum(product==row,axis=1)\n",
    "    if i == 0:\n",
    "        all_c = temp_c\n",
    "    else:\n",
    "        all_c = np.concatenate((all_c,temp_c),axis=0)\n",
    "    print('all_c shape =', all_c.shape)\n",
    "    temp_end = time.time()\n",
    "    temp_time = temp_end - temp_start\n",
    "    print('step {} time ='.format(i),round(temp_time,2),'s')\n",
    "\n",
    "\n",
    "###calculate similarity\n",
    "#simi = all_c[:,0]+all_c[:,2]\n",
    "simi = all_c[:,2]\n",
    "###try Faith\n",
    "Faith=False\n",
    "if Faith:\n",
    "    faith_simi = 0.5*all_c[:,0]+all_c[:,2]\n",
    "    denominate = all_c[:,0]+all_c[:,1]+all_c[:,2]\n",
    "    w_p = faith_simi/denominate\n",
    "    simi_matrix = np.zeros((len(inp),len(inp)))\n",
    "    indices = np.triu_indices(len(inp),k=1)\n",
    "    indices = (indices[1],indices[0])\n",
    "    simi_matrix[indices] = w_p\n",
    "else:\n",
    "    simi_matrix = np.zeros((len(inp),len(inp)))\n",
    "    indices = np.triu_indices(len(inp),k=1)\n",
    "    indices = (indices[1],indices[0])\n",
    "    simi_matrix[indices] = simi\n",
    "print('final matrix shape = ', simi_matrix.shape)\n",
    "all_end = time.time()\n",
    "all_time = all_end - all_start\n",
    "print('total time =', round(all_time,2),'s')"
   ]
  },
  {
   "cell_type": "code",
<<<<<<< HEAD
   "execution_count": 28,
=======
   "execution_count": 20,
>>>>>>> ecb73c54a487c966d00eb80a38967405cf0f7fbe
   "metadata": {},
   "outputs": [
    {
     "data": {
<<<<<<< HEAD
      "image/png": "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\n",
=======
      "image/png": "iVBORw0KGgoAAAANSUhEUgAAAYoAAAD4CAYAAADy46FuAAAABHNCSVQICAgIfAhkiAAAAAlwSFlzAAALEgAACxIB0t1+/AAAADh0RVh0U29mdHdhcmUAbWF0cGxvdGxpYiB2ZXJzaW9uMy4yLjEsIGh0dHA6Ly9tYXRwbG90bGliLm9yZy+j8jraAAAgAElEQVR4nO29fZRc1XXo+dvdKkkl/FBLRHnLNMjCX7BQCJLVA8owLy+CBJEQQw8flhhY1ouZYcbjcQz200R64UUC4yBHLwYnWeEtxp8YjIUBd4QxFuRBJmuxkECyhLFsNAYDkhri6EVqTOgGVXfv+ePe27p965z7VVXd1d37t1YvlU7VuXXurXv3PmfvffYWVcUwDMMwfHRM9gAMwzCM9sYUhWEYhpGKKQrDMAwjFVMUhmEYRiqmKAzDMIxUZk32AJrNr/3ar+mSJUsmexiGYRhTij179vx3VV3kem/aKYolS5awe/fuyR6GYRjGlEJEXvO9Z6YnwzAMIxVTFIZhGEYqpigMwzCMVDIVhYicKSL7Yn+/EpEbReTzIvLjsO1xETk11mejiLwkIgdEZHWsfYWIvBC+91ciImH7HBHZFrbvEpElsT7rROTn4d+65p6+YRiGkUWmolDVA6q6TFWXASuAQeB7wFZV/c2w/fvAnwGIyNnAWmApcAnwtyLSGR7uLuAG4EPh3yVh+/XAMVX9IHAH8MXwWAuBTcD5wHnAJhFZ0PBZG4ZhGLkpanq6CHhZVV9T1V/F2k8CouyClwPfUdV3VfUV4CXgPBF5L3Cyqj6jQSbCe4DeWJ9vhq8fBC4KVxurgSdU9aiqHgOe4IRyMWYIfXv7uWDLk5yx4VEu2PIkfXv7J3tIhjGjKBoeuxa4P/qPiHwB+DjwJrAqbO4Gdsb6HA7bauHrZHvU5xCAqg6LyJvAKfF2R58xROQGgpUKixcvLnhKRjvTt7efjQ+/wFBtBID+gSE2PvwCAL3L624FwzBaQO4VhYjMBi4Dvhu1qeqfqurpwH3A/xV91NFdU9rL9jnRoHq3qvaoas+iRc79IsYUZeuOA2NKImKoNsLWHQcmaUTGdMJWq/koYnr6feBHqvpLx3vfBq4MXx8GTo+9dxrweth+mqN9XB8RmQXMB46mHMuYIbw+MFSo3cjGhGNAtFrtHxhCObFananXI40iiuIaxpudPhR77zLgxfD1dmBtGMl0BoHT+llVfQN4S0RWhv6HjwN/F+sTRTRdBTwZ+jF2ABeLyILQiX1x2GbMEE7tqjrbFWa0kCvLVBCOE6XIpupqdTIUfS5FISLzgN8DHo41bxGRn4jIjwkE+GcAVHU/8ADwU+CHwKdUNfo1Pgl8hcDB/TLwWNj+VeAUEXkJ+CywITzWUeDzwHPh361hmzFDWL/6TKqVTud7/QND3LhtH8tvfbytBF070+7C0aXIbtq2j5v7Xmj6d+VdrbbTCmyyFH0uZ7aqDhI4l+NtV3o+jqp+AfiCo3038BuO9neAqz3H+hrwtTzjNKYXfXv7xwRbpwgjnrK9xwZrU8bB3be3n83b9zMwVANgwbwKmz66tOnjjq7d6wNDnNpVZf3qM+ld3p0qHH198nxP/8DQ2G/UnbOvC5ciU+C+nQfped/Cpl6nU7uq9DuuR3wV6wum2P3aUZ568Uiha9UM0hR9K79fplvN7J6eHrWkgFOXuOARHJELKXR3VXl6w4Wpx2yGMIu4ue8F7t91iBFVOkW45vzTua33HO/n+/b2s/67z1MbHX9WlU5h61XnesdSVIAnhRtAtdLJ7VecM3YdknRVK7w7POrskzau5PfESVOCvnNasuFR73n5ft804t8zv1pBBAYGa5zaVWXVWYvY9twhaiP1d1l0f/iuV/Le9F2rMso3Dd/1EeCVLZeWPi6AiOxR1R7ne6YojCI0+8ZPHjtN8GTheljSjlnpEN4zd9aY4MgjgKNzn1vpYKg2WveZ61Yu5rbec5zXySd0oF4IpinMpFBKftfg8WGODdac37F+9ZlOJTK30uHt4xPOF2x50ns+vrFG43WN4coV3dy386B3clBUGDZ6P1UrnYX6un5Dn8IGnM9R2vPVt7efm7btc16fMko0iSkKI5O0mVd0s97c90LdgxwJsWbM0PMInjRcD0uRY/rOJXjgf+xUDEk6RfjLj51bJyDyrI7uXLNsTFhkCbjoXIsIQwHuWLPMafryCaA04Zw2+3eNFYJr+bkHnveaEfMeJw+N3k9FSV4r3/e7Vm8dgOvuiivatPO54AMLue9/+63Gxp+iKKZdPYrpTKtm80lhEwkROOEwvnHbPmdfjX2uUT9BnpDXrmqlbowQPFDrV59Z6pgR8XO5ads+vrv7IPtff6vuu9IYUfXa2bNY/+DzgNsOnSQ6rzyfTX5H3NTyTqj8fPZ6BT6w8Qd1ZrW+vf25TYPRWKP7rIySEGDVWeP3SGU9DxMdQp2M0PN9v+t+8k1BhmojfO6B4L5IU3pPv3yU5bc+nnt1XBTLHjtFaGU0SFFh46Ns9EwUVZIlPiodwubLlrJv08XcuWYZ3V1VhGCmmTTFRFEqHeLas5mNEjx8RZRERNlZbG1E+U8P/ziXgJsfKsyiijBpj49+s7ToshFV7t15cNy9tnXHgdz+o0iANnKfKfDQnv6x6J7I3xN/HtZ/9/lx0T++0OpW4JqoNOv7R1T5rGeiFufYYK1lkVCmKKYIadEgjd4QzZx5FT1WXAFmURtVbty2jw9s/MHYCueONct4esOFCTPRCYVaZvbaKOVUU8BgbZQ8uu3t48P07e1vijB6fWCI3uXd3H7FOWMrNhf37Tw4rk8eIgHat7e/YTNQpNQiW30yKCC6P5ZseJQPbPwBS06pepVfM5gzq8M5UYlIU75FyTZ6jqfZIc9mepoi+B5MBT73wPPctG1fIadY/L15szt5+3jjKwo4MdNN4hvPLY/sLzzLjIR/3NwFjLO9TyZR7pmyKmo0R8faiI6tBBpx2ML4me+7w36RpAS/Y+/ybq+pKslQbYT1391HDvdOLiJTaBYjqjz98lEu+MDCwubDvETXqn9giFse2e8MmY0izV4fGKIjJcS7FTRzAmjO7CnCslsez3WzRwLKFSlz5Ypuvv/8Gy0VppHDNG+Uy72xWep0ozunMG2EV7dcOi5Cqgwnze5k2enzefrlfHtZu8PQ0of29DfFZNlqGlHajX7vtWEUHMAZGx6d0HEUdf6nObPN9DRFyGtq18S/EUO1Ee7bebBhJTFnVvotowQz+zi+TUL37zrEdGZg8HjLv2PJhke5cds+Bo8Pc93KxVQ6ixu+3j4+kltJQDCDvnfnQUZGTywT5lU6WDDPb7aaTCZrKpw0DU+kzwTqnf+NYIpiijDgiHEvSjMemA4RrluZnsp9YKjGkg2Pjv35ZrqT4T+YSJplzsvDscEa2547xJr/4fQxJ39XtUJHIw6TDI7HHOODtVHnPoyZTnzi5IrKayVPvXikaccyRTFF6GqT2dpQbYSnXjzStrPHmUxtRLl/16ExG7lIPn+H0VoGhmpjvp2TZudzbuf9XBrN9FGYopgC9O3t51/fGZ7sYYzRPzDEpo8unexhGA5GVMdCJG2G3z5sfPjHLLvl8dyrTFVtOGKqmaYuUxRTgK07DtSFAk42m7fvp2J3j2HkYqg2Wsg/OFgb5coV5TfM+TaglsUe9SlAOxbpGRiq1YU8ttIebhiNILF/Z5dw+E8G3/tR+f1Rackcy2CKYgow0dESZZnmvmljCqMEzv1ZnTLOCd/OlA2G6O6qNj3luCmKKYBrh2e10tl2DuWp8fg1n84wEqw7VOhTY7468xgYqjlTik8nhNZEV5mimAJE6RXiuY2uXNHd9s7KrmqlTsEJQSru61YuprNkHqZ2Y1SV23rP4ekNF3LnmmXMbWHaCMNIY1aLzGqmKNqYeHK7KF3DK1suZf3qM3loT7r9srurOpY4b7IYGKqN26C3YF6FO9Yso+d9C3loT/+02UcRNw02K8FiuyLCtFLy040otUuzsVxPbYqvBCNkC6NKp4zlUspb36AVCONTKkcprYsK08lKwZCHZPrrdgw8aBbx2gg971tYquZGxJ1rlgHkKrhkFKMV96CtKNqUtNq4aTfCgnmVurKaSdNVV7XScv+GS2jkGX98fJGZ7dqVi3PHlOeNvHKlusgT7lutdIzzQSTTX0+VwAMYv+oUSF0lLJhXGRdJ4zKH5lUSkbO1d3k3T2+4kFe2XMrTGy7MlX2glZF1lQ7hgg8srPMxTbW1UyvuwcwVhYicCWyLNb0f+DOgG/gocBx4GfgjVR0I+2wErgdGgD9W1R1h+wrgG0AV+AHwGVVVEZkD3AOsAP4FWKOqr4Z91gE3h999m6p+s4HznTL4hGk0+3KlxUhLAhY9mHF8FbMic5Uv9UZXtcLbx4fHOQaTZUV9fcuOv+d9C+sq8B0brNUppDzbTbqqFTZftrQum21QIMZ/gKhkaLLSXby4fTOyuU4EyVUnBEnrfOz9s4vHXiczAUdJIJff+njmiiAtvj/tvumqVti36eLWro4FfvrGW3V3QKPZgCeSZu+fiMhUFKp6AFgGICKdQD/wPeBMYKOqDovIF4GNwJ+IyNnAWmApcCrw9yLyYVUdAe4CbgB2EiiKS4DHCJTKMVX9oIisBb4IrBGRhcAmoIfgd9ojIttV9VjTrkCb4ntoIqHmysaa5wZJljytdMo4gR8/jq/eb1Yac/ArId/4Kx3C4PFhztjwqPN4RRRdGtVKJ5svW+o8Xlr66qg86k2ez0SKPTpm/BonlepkC52o/Gny/H33nHAivbjPJLr7taPO7AEdEqSeT6u8dnPfC9y/61Cqz2pgqMbNfS/w1ItHGKqN0Bmm7G5mht7aiHoVncLYd7aK61Yu5qkXj9A/MFT4uwS817cZFPVRXAS8rKqvAa/F2ncCV4WvLwe+o6rvAq+IyEvAeSLyKnCyqj4DICL3AL0EiuJyYHPY/0Hgb0REgNXAE6p6NOzzBIFyub/guKccacogKYzy3iCukqeVDmHBPP+D7PsOl6AtO/5ImEYPad6yqkVtsVl1vX0PZ6fI2ErHl847vtxPXpukUl111qK62uNFz6NImu8sIZKVpjxe88RVUyHKBOy6difPrYxbjSS5ue+F3Knm49dsJExxseqsRZlKphl0eyY4zaKrWhlXajYiz2SoaDrxMhRVFGtxC+lPcMI81U2gOCIOh2218HWyPepzCCBcobwJnBJvd/QZQ0RuIFipsHhxembTqUKWMsgS1C5cfo/aqDJv9iznw1zmO8qM/4ItT9alN4ibc3zkLZ4DgbDMepiuOf90p9C65vzTx16XWc25rmPZOhxxoRA3x/mK4mQJkbymnOjYPoHsa38z9rvGVw6dIlxz/umFUs37UueXURG+SUFXtcK7w6O5J2irzlrEtucONbw/w+ceylJOrTI1JcmtKERkNnAZgYkp3v6nwDBwX9Tk6K4p7WX7nGhQvRu4G4LCRY4+U5JGBLWLNL9HK8g7/rLjcj1EPrNOHgdfNKNLCrP4TK/sai6Jz2TSKcKoqtNklRQK8evrKw6VJUSaFc7rE7zRdU+uHKI63I3i+q0FUjPnRkWzkiuyyCwJxSZokcKOm4yif7uqFd56d5iRDOeZz5HvWn2LkGrKawVFVhS/D/xIVX8ZNYSO5j8ELtITpfIOA6fH+p0GvB62n+Zoj/c5LCKzgPnA0bD9dxJ9/qHAmI0YaX6PyaTsuHwzPJcAyDvruq33HKcJIPm9jT6cvpVJPLIoyw+UHBMUV2DNmCQIgeB3VVWMrvu3dzWmFIr6db70sWXemXhkKlv5/gW8+i9DXoWQl6z7If47+lZ+afd6syeMZSiiKK4hZnYSkUuAPwH+vaoOxj63Hfi2iHyJwJn9IeBZVR0RkbdEZCWwC/g48NexPuuAZwh8HU+G0VA7gD8XkQXh5y4msaIx8tOIE7yVNDKutBleIzP+VpNHsLt8HRdseTL35+P94vXE485sn5LO60yNC/B4dFDcH9S3t790XYzIv1LEJxPVbZ8zq2Ps85UOxiWxjGpqXxcrVdoMfMq90ZXfZJOrZraIzCPwFbxfVd8M214C5hCEswLsVNX/I3zvTwn8FsPAjar6WNjew4nw2MeAT4cKYS7wLWA5wUpirar+IuzzCeA/hd/xBVX9etpYp2vN7GZRZJZq42offAImK0to395+1n/3+bo09ZVOYetV5wL+6LaydbiTfpEsh+xJszudCfCSx0neIwODxxuuItgpwsu3/0Hp/skoQpe5MPkbteu9nlYzO5eimEqYojCmI2l7XtKc1WlCuqta4aQ5s8bZ1uMrgTM2PFo6MuvVLZeOvc46znUrFzvNhVlKsJHx+cZahLyBABMRldQM0hSFpfAwjClAlsPfFVHU876FqTP5gaHamDkqCjeNz26LRJXFie+7yHOce3ceZF6lIzVM20XZ8SWJjzX6v2vGn2wfPD6cyxQ2HdK62IrCMKYAaSuKJadUefrlo3XvdXZIZrSN63jR7LeRXdDJ47jMX0nyrCLi9O3tZ/2DzzccmhqNNenLiY/LFSVV9PhFmWgTVdqKwnI9GcYUwFeTxKckgMJKAsbPfuP5nIrSnzjO1qvPpauanl8s2jtTiCbMc18fGBpTiq5ypUO1Ee7bdbB0GPHg8eGxXGB5icbTPzA0VgN948MvFD5OszBF0abEU4xfsOXJSbtBjPbAV5PEpyTKkgzTjBL3vbrl0kKJJJMJBnuXd7Nv08WZ6cnzmpL69vbzuQeyVyl5OLWrmrmfpBHDy7HBWmEhn5YUdDIwH0UbkpZivB2iI4zJIRn+evZ/fqz0sTokME0lEztG+bZcG7s2fXRpaj6sOEV3cEfkqXMRPR/NSNsRJUf05fBqFnkyDcSZ6M2xWdiKog1pt9mE0Z4MJrLYFuHkuUE6+miFUq10UBsNkuIpgaM7eh2fqOTFZ67KMmPlEf7NLA510uxZY/tJWk0RIe8bz2RtjrUVRRvSbrOJLNo1Lnyms2BexZsN9c2h2rjCVlkz6miikidbazRLd230u/Q335vqFO7uqmbeT818DqJcVL6cSvMqHbwzPFp6w2CcPEI+nqAxbaf7RGMrijak3WYTabSb02064vJXZV3frmqw+9pnyInupcjWn0cOvj4wxPrVZ1LJqB500uxg/vnZbfvGOYePDdbY9twhrlzR7XRsR9lgs+6nZj4H0bFcPqDrVi5GEaeSqHSIs/iVjzxCPv4swfhkd91d1UIRYc3GFEUb4otwacdt/mYmay0+RXzLI/tT+4kEwu/alYvrlEV0LxW19Y8J6Az5+OZQjc3b9+MyjNVGlKdePMK+TRePq64XCcKo3kSc5P3kej7S6KpWnMotWvlEJCvuucYCgR9l69XnsvWqc3PXDs8j5F3PUpQO5ekNF07qKt1MTw3QKpNLszKUTgRFzGRmoiqOTxFn2eijbKS39Z7jzX11wZYnc9v6I+WydceBzH0LWRvh4kWekr9/VmGoqB/4a4Mkxy2CMzoq8k9kjTPJqOpYvzxO8Kj0axZpVSEnG1MUJXFFJt20bR+7XzvqTTI2HQWlTyjMT5gWLJKrHGWFRFohpbzHPml2J4PHR8bdq1mCMVIoadFRaaajvJmE4/4VX6r5rKqEbzr2TBQdS5ZSLFJ5smyK/ImQK6YoCpJWDUwJqnD1vG9h3Q+VJSjTkou1s1Bdv/pM567bt8NNRvHZn8+k0G7n1E74BJGrwE5EXuGUljn2Lz92rvN3SROM8TxRtzyy3+tITxtb0UzCeVbfeaoSlh1LWk2UrIqKcbbuOOCtrZF2vSZqAmaKogB5UhooOIWfT1DeuG0fm7fvH6cYfLtDIzttmRKorZxxDDts3LURHXcdplok10SS9vv4hFW8wI4vqV8WeWpilO2z6aNLnek1rlu5OHVsZcyuWfUayqaxz5sKvuh4XfieAyVd4E/UBMwURQHyxm+7fvQ0gehSDC6i2UKR2YPPRHbjtn2FhErasX2+0Pg5t2vRpMkma0aYJYgaEQZlhXKePo0I0GYX6mn1WJoxXt/zkbXvZKImYKYoCpD34ruEXzMyXXaKFJ49+CIpoPFlapbijF+Hdi2aNNnkmRG2ssJZmWPn7dMOldki2mksLso+HxM1AbPw2ALkvfirzlpU11Y0pC9JtdLpDWNMU2BZyq2RUNa0Y7vqOyfj1CczLrxdMJOcAeWfj4kKpbcVRQF8uzeTPPXikXH/j2zQQ7WR3CUmOySIHIrn2injlMuzkmkkssbnDHXd5O0+q5sMzCRnRJRd3UHrQ+lNUeSkiLCPC96kDXpENdj8I6TGo3eKjNU1juOKsOgfGOKCLU86b5A8yq2sUCrjDDXGYyY5o1EmYgJmpqccJLfWR9XAfGmX44LXZYOujSonzZ41tsx07e6sjWqdSShZHyAed+1LneHqE6cRoWTmpMaxa2hMBazCXQ7S6g4nN8kIcO3KxWOb7nx1fQV4JazVm/aZO9Ys8+6qLVND2VUy07dBcKYwHTdCGkZRGqpwJyJnisi+2N+vRORGEblaRPaLyKiI9CT6bBSRl0TkgIisjrWvEJEXwvf+SiSYSovIHBHZFrbvEpElsT7rROTn4d+6shehEdJs+EkBrwQ1gJff+jh9e/tzJfhLM/2sf/B5Z4K0Mk7Qvr39PLSnf8xsNqLKQ3uyE8xNZyypoWFkk6koVPWAqi5T1WXACmAQ+B7wE+AK4B/jnxeRs4G1wFLgEuBvRSRyy98F3AB8KPy7JGy/Hjimqh8E7gC+GB5rIbAJOB84D9gkIgtKn21Jytjwo6pWq85alBmV4IuIUur9GFGUUpkMs81M4Fe2Al+7Ve6zpIaGkU1RH8VFwMuq+pqq/kxVXU/T5cB3VPVdVX0FeAk4T0TeC5ysqs9oYO+6B+iN9flm+PpB4KJwtbEaeEJVj6rqMeAJTiiXCaNsaOtQbYSnXjySaYOO7NR5M1FG6Z6LhsVlrULyCnHfLPzmvhdS+7fj7N3CU412pN0mVEWjntYC92d8phvYGfv/4bCtFr5Otkd9DgGo6rCIvAmcEm939BlDRG4gWKmwePHinKeSn97l3ex+7Sj37TxYuJb76wNDuXd35i3HOL9ayR0WF7e/d3iitU4Ni8Xk3fXtm4XHr4+rfzvme7LwVKPdaMcEmrkVhYjMBi4DNmZ91NGmKe1l+5xoUL0buBsCZ3bG+Erx1ItHCisJKCZw8u7ejifcS7txXKG5SeLpo/MK8bS8NGn9mz17b4YT2sJTjXajHSdURUxPvw/8SFV/mfG5w8Dpsf+fBrwetp/maB/XR0RmAfOBoynHmnDKCDOfwPEtK/OauKKEe1n4Umx0itSZwYoI8SLKL5nvyYWrPWvp3SwzloWnGu1GO5pDi5ieriHb7ASwHfi2iHwJOJXAaf2sqo6IyFsishLYBXwc+OtYn3XAM8BVwJOqqiKyA/jzmAP7YrJXNC2haK4mX8K9PMvKLFMR5Ltp0gqvRKG5EUVMMGmpldP6rzprUZ35zqVMb+57YULNWLZjvP2YySHL7WgOzbWiEJF5wO8BD8fa/mcROQz8FvBoKNRR1f3AA8BPgR8Cn1LV6In+JPAVAgf3y8BjYftXgVNE5CXgs8CG8FhHgc8Dz4V/t4ZtE45rtu+qm1utdHLnmmXe0oVZUTa9y0+UYxxN2eMS+RXSZt1FZvCu8xPq81Yld6hDoBSvXbk41bkeheYm95xcuWK8kO7b2+/0BSUjkdpx1jWVaDdnaZx2DHqYSNqxFHKuFYWqDhI4l+Nt3yMIk3V9/gvAFxztu4HfcLS/A1ztOdbXgK/lGWermTOrY0zIL5gXFK+HYnlWipp4fKuYY2+/O66KWP/AEOu/+zy3PLJ/LD/UqrMW8dCe/lz2d5fDXoGH9vSPFWJy+Tyi4/Uu7/aW3IyukSuLbTIvlq+AS/IateOsa6rQjs7SOO1oo59IJip/UxEs11MOXAWL3qkFpeOLmi0aNfFAkDBwsFZfur42qmNVxfoHhrh350HmVTpYMG98ckHfeF0O+/gDmvUAp12LvAoybUVgacubQ7sLYlsttp851HI95aCZm7LSlpVJcwBQ52g9aXYnjjrxXgZrowwM1nJFbGU9oI08wHnNYKm71JuctrydzS+tpN0FcZnNpEZrsRVFDpr5YPmWlYDTHHD7FeeMy920ZMOjhb8zzSmcd59F9G9Zc0/eFYCvBneHI1C6kVlXu5tfWkkzzHatdDbbarH9sBVFDpo9w4k7rCOn90SlkogfM+k0TNtnAY052fKuAHqXd/OeufXzl1HFeS3KrgpmcuqORp2lrXY2W8hy+2ErihxMxAzHtzrpHxga21wH0FWt5K6xnfVdafssRlW99ZmL7AaPfybvCmBg0H1+yWvkqwe++7WjmRlx29380koadZZOhI+j3Wz0Mx1TFDmYiCiEtAinuElk82VL60wzHUBnp6QWQkp+FxTbZxGRZzd4fHxRNFbU1/X55HXNaxrxRVLdt/PgWKSWj5kaNZW83nesWVb4Pp7JSnamYooiJ62e4aRVoktGFsF4pTV4fHgs2imLSqeMrYRaISw3b99f51+ojSqbt+/PvfnwyhXdbHvu0DjFFx93RFoqEdf3Rd8ZlZRNbhKc7nZw3/Xe/dpRnnrxSO5J0ExVsjMZUxRtQrSP4d6dB53vJ8udxh/kM4o4uGOSsRUmNZ9ZzNXuM2F8//k33IU+EqStwgaGaizZ8Oi4HfJJQRklE1P8O+mnE2WSObpWfOZsLs5U32luiqJNiHYup+GzwRdJLxKVWPWtTqKH/YItT9a15fFN5DnP6Dg+Q5lLqcTHHbF+9ZnctG1fauhvXPD5TFVZVQGnC0WTOYI/Eu/2K86Z0oJvIpkOEXZWCrVNSCu3miQqtxqZC+ZXK7x9fDi3jwLgVY8PwrW5sNIhIOOLKFUrneMiUVz94kQ72dM+k0W8fGzEzX0veFdhcTpT8mZFxy0y65uKM8Si95hvAjJTFGuzKFu2eKJJK4VqK4o2oYgjMHLYRmJvYKgW5J3qAMeG7TqEQMC67NKuWXfS5wD1US6+CCoI/AubPro09TMR1UoncysdTp+Lywbe876F3LfrIFnznRHV1MSFabM+GL+aSqZG8UJhvb0AACAASURBVM0Q202ZFE3m6FMqrXBat9u1aibTwflviqJNKJqdNvlwu4R5Wt/4LDwemVTk5o1/Nq3f1qvOzSzMFM1gXZsPwW0Dj4R73kVx3CcRZ/D4MLc8st9pv0+atvoHhlKTFvpWWO1gbnCZGn35wFyZfiN8Tuuywr4dr1UzmQ7Of1MUbUJa1NNEEEUmFVFY8Rs9zUwRPexFTRlZQifPCiWJUr8XJS1izCUofXopfm7tmk/JFb3nSuboS84o4HRaNyLs2/VaNYvp4Pw3RdEmRA/EjTnKofrMBY0yMFRjYKhWd3yfjyJ+o+d5GIo8MJFAi2apN23bx9YdB8YpjLRVjM8n0VWtcNKcWQ1vWvR9Z8RUMje4lIdv9ae4BX/WTnef0u/b2z+hJq7JoB2zwRbFFEVJWmVTTXO6Rly7cnGduaCZuMJGIf1hj9eoGFF1hpsWfWCyZqlpKxRfzqi3jw+3REnA+BQoU93ckHZtXaRlFkjz/cRfu8YwXZjqO81NUZSgFTbV6JhZSqK7q8ptveeMMxcUWV10d1UZGDzO28fTlYwrbNS3gc1Vo2LVWYvGVgJl0nhAtkkibYXSu7ybWx7ZX2dWqo2oVxkL0DWvknvzYpK4EM27empXJ25Rc4lPsXSKpK40fJOdqWaaadffsVmYoihBK2yqee3tg8eHx3I/Rd+VN+xRgKc3XBik2Xjw+cxw2jxL/zKbuPKSZb7JWqH4ckZFysy1p+Jf3xmmkpEOpVrpAMQpROMCY361wtxKh7cWSDs7cYuu/nyKxXdPZ91bE5UEsBkCvp1/x2ZhiqIErbA/5+17bLBWdxP6zCxJoqV8XAikKZj51UrmeHz9s6KCXCQfWt/sPm6SSFuhZJmmPvfA83Uri6xrGO0fgSBNSGTGmlvpYPdrR8eZBAeGalQrnd58Su3uxC2y+ksqlvnVCiL+FUP0G2YFQLSSZgn4dv8dm4GlGS9BKwqr+PqKow5DdBNGKbZv2raPk+bMopLyayaX8lGqc5/NGQJ7ftZu607XAD2kKSVX6upodh+niEkiLZ127/Lu1JrkLpLprt8dPrFp5dhgjXt3HiyUunwqObzzEN1Td6xZxrvDo14TXvQbTHZtaF9IdNFU82n+melSGMtWFCVoRbibb1Xgk2VJJ2EUreSiU2RMwCVn7WnCuzaifO6B57lp276xGWLSjJLlU0mOIyI5jsHjw86NflGUUhnTQJb5pEgocFe4uoqir1zj9eH7jqnu8PaRZkZ1BTnkMf002wfQt7ffq8iKKmrf7yic+O1dNe2nkh8jU1GIyJnAtljT+4E/A+4J25cArwIfU9VjYZ+NwPXACPDHqrojbF8BfAOoAj8APqOqKiJzwuOtAP4FWKOqr4Z91gE3h999m6p+s/TZNolWhLv5nK8+XE5Cn8geVXUmxcsjJCNFEI8Uii/RuwsI2+hYRcbx5lCNfZsurmvPKzjSzCcuhe8KBa50yLhoqSIbIyEQGPGaImnfL8CqsxYVOn674RO0kY8sTh7zVit8AGmrhqKKOu+O92RN+6nkx8hUFKp6AFgGICKdQD/wPWAD8N9UdYuIbAj//ycicjawFlgKnAr8vYh8WFVHgLuAG4CdBIriEuAxAqVyTFU/KCJrgS8Ca0RkIbAJ6CG47ntEZHukkCaTvDd4EWXic74mSXMSuohSVLhs8mWJluhFNgpGZq4iG+VcD22RdBtp1zwtKWLZNO4uNDxechxRxuC441+Bh/b0Z9bTaGeavVJqxAfgewbTVg2rzlpUlxQzKzVLMklinsnEVPJjFDU9XQS8rKqvicjlwO+E7d8E/gH4E+By4Duq+i7wioi8BJwnIq8CJ6vqMwAicg/QS6AoLgc2h8d6EPgbERFgNfCEqh4N+zxBoFzuL3ymE0yZWVDWDRZPc+FzRLtqLKw6a1Gu0NuivD4wVOcY920GjJvm8i7tfeY8n+DYvH0/7w6PFqq34FP4pdO4e/Cd81MvHinl+G9nmmWajdcOcZF1H6U9g75nrVrpSM3j5Ttmsrb9+zc+Sp6sOmX9URMdjlvUmb2WE0L636rqGwDhv78etncDh2J9Dodt3eHrZPu4Pqo6DLwJnJJyrLanTE3m9avP9PoZuruq42ps+xyB165cXFdr+KkXj7Rkc148iurpDRfy6pZLuWPNsrGVQ+STSDqBvY57giyzWXWSfQ/XwFDNG6rbSH1n33i7qpWxa91VrdQ53uP4Isha4dAuW0e8WfQub7zmdTy4wUfWCiXtGfQ9P3Mdq/XkDvOs57pvb38uJZHnHFy0uma5i9wrChGZDVwGbMz6qKNNU9rL9omP7QYCkxaLFy/OGN7EUEYAuEwR4J6N5fGTZM3IGsGX8yePSc5nrlLgndpoZnnORhMoFp2x+8Yrwrhrnpby3Bcc1mwzTbPMco3S6E7kLPNknhVK2jPoe358qUuiY+WpbV8kaqqMP2oywnGLmJ5+H/iRqv4y/P8vReS9qvqGiLwX+Oew/TBweqzfacDrYftpjvZ4n8MiMguYDxwN238n0ecfkgNT1buBuyGoR1HgnFpGWQGQ3HVd1lGbVR+iUXw5f/IQ9XP5TPLc8Hn3jaQRf+DTlvHx9CRJs1pyT8tTLx7xfp/P/9TsCLqiZrlo7O1G2oSqK4zAc+X/ipP1DLqeH9/EKuqTp7Z9kdXgoz9+Y1wRsjxMRlh1EdPTNYz3DWwH1oWv1wF/F2tfKyJzROQM4EPAs6F56i0RWRn6Hz6e6BMd6yrgSQ0qKu0ALhaRBSKyALg4bGt7GokRj0w5cVNTUcpkVi1KI2aNtH0MWTd87/Ju3jPXPcdJTtx9xqDowU9bxifNH67Rxs0OaeP2TRCaYaaJU9QsV3TPwESRZu6L9mhEv9dN2/Zxc199zqgyz2BWH9f7EdH17JqXvVE1okyQRCv2cWWRa0UhIvOA3wP+91jzFuABEbkeOAhcDaCq+0XkAeCnwDDwqTDiCeCTnAiPfSz8A/gq8K3Q8X2UwBeCqh4Vkc8Dz4WfuzVybE8GRRxIrQihLUKzZhfRg+lSOo3OShsxu/hm6FGOqv6BobGcTi4Hfzy6qUwuojjRtU6bbaaZGJqZMK6oWa5dN/f5zH2/eqdWZ/+PCnklI8XSotp8UU1Zz230ry/Lc//AUBBi3UImI225lULNicuUkywH2k4UKXvpIzq/3a8d5f5dh7xRU2VLOjZyTX3n1ynCNeefXpddN5kNNzr+GRse9dZdgHzp3LuqFfZtupi+vf3eGt4TVfYyb2nYiHYrxxmnb2//uDQpWeQ5l2Y9x2n3X5HowujeKUorop6sFGoJ8uwcbucwxkYLIUV24Bu37cusf5EnTNF1Uzey6vKd34iqszKbKxsuZK9q8ijbt2OJGtNmmmmx+WkUEQrf+1F+U2C7Z2iNHMN5FUUjSSyLPsdFkyC6qHQImy9bmvvzcZq5Cs2DKQoHRXYOt+vSPW/iPxfRTuRod3LW/CjNVJS1n6TsDZ/mEPeN1/VbZS3j8yjb2oiOmarSUpjH0znkNdkV2Y/Tt7c/M318nLlpycEaoJmz3SLPVx6TZbMcwb5JTt7nrVOErVefWxc00a5pyi0poINGdw63C1mJ/7qqFWdSv9qoZqYgj0iblUa7wVvlRC2a2M/1W6U5k+Pvgd8xDicEuM/s4AvRzaLIfpyi1zSK2mpm/H2zY/yLPF95Qk2b4QiOJ+MEuGPNstT9TUmqlU7+8mPjlUTymq3/7vMsv/XxtkkoaCsKB43uHG43fLPmzZct9caN58GV4C0iqxBTdI0bnUnldd5WOoTB48OcseHR3Luzk++lpUFx5d7KIs99VmQGXGZ12wzzafw37HCsqIZqI3zugeeB4kEPefMoAanhyWnHK/Ic51khw/iVxqqzFnkzA0SfdSXEbKe8UKYoHPiEjy+TabsvG9N8AWU35FU6JfU8s1ZlUf6pRpO9rV99ZmqdcSHYFf12LF9T2Qcv+qwrkWCZPR156n347sX51Uqdz6NoxFNE5D9pRtEe38RgRLWha54nj1IeRdloNGIeH0dRc2qecU+2P9SinhwUiYyYatFQSVzV7joEOjvSq7xBepSJL5oo4s41y7xKqmgkzvJbH3fGo0fHSYtQGVVtyLkcKaG8pro4lU5h61Xnpn6v6/5yZbitVjq5ckW3M9rr2pWLua33nMxIuErHeLt5HopG1zUjysr3nY0eO8+ELy1K7pUtl5b63iIVKu8In5tWTErTop7MR+GgyCaoMjmdytDS/D2OEKE8seBlNphF9C73Z/AsakLZ9NGlqZukfMcbUS1lR49viDxpzqxSSgICQX/jtn3e3zO+KzyeN+s9c+u/c6g2wlMvHqm7b+9Ys2xs52+W/bw2qmzevr/QORT9rZoR/NGKgkd5fSut2OyWx68BwSpyonM8RZjpyUPe5eNEbKdvZU3erTsO1JlNRoHB2qi7Q4y0h2PVWYsy4/mblecoy5yQxyRTdmmf9jvPq3Tkuo6u39Nl0omEYVo+oix/C6RHwuUNRY0oau5qRvBHKzaz5g2bbUUNkbQIvohqpdNZWnaiTFK2oihBNLtfkmJeaWY0VCtXLWUVmi8pYESaYzGqFtfMmWFa2pO8M7Yy18L3O3d3VRnKoSQikr9n2m/u823k8XlE16lZ+H7D61YubmmZ02akuYmTd8LXu7ybK1d0j4uAi2qINDKzz4rgm1vp8Kb7mIiSq6YoCpIn/XGzo6FauWopq9CuXbk49eFMG1t8k9GcWSduwQXzKi3x7USmxCzKXIs0ZVf0ePFrlvab10bcCqhA+XIWePIR+dp9+My0t/We09QcVtBa82sRk1JaDZFGxph2vxwb9Jc6jvbotNIcZaangmRF88TrUzeLVtZWLrqDe8G8Cps+ujTz/NIKw2zevt8ZqfSOZwbejKiyrAivRlYy4DaDuFLGp+1yj/+eadFOPvNQ3gqJEPh1kkEMlU5h00eL7xT2mbuauXu4leZXKBY2m5ZqvJExRmZF3/0R1V3Iup9aYY4yRVGQrFl8VJ+6mZSJ/S5SUxpIjeIpEsUVr4GRvIkrHRImGHQrBNcN3kwB4VOKeZWfD5dA7Nvbz0N7+use6mtXLqbnfQszf0/fb562aigycWjUzj/RIeGtrsFQ5Hr4lLhrL02RMaalgImI308L5lW85qhmZ4wwRVGQLOddh8hY3p9mUfShLipck4KurBBIfm98BtTdla/2dPIGb6aAaIUT1Idr3EpgtoiikNLG4Rtr2gbJrFrPSYrO+H2TgInYEDYRQSN5r0fRPE9FNpd2Z8iXOO/URr3KotkZI0xRFCTLVFN2Y1EWRR7qRoVrWZOBTzhG8e15ak8nb/BmC4hmmkPSyBp3nnG4PuMzn2XVem4U1yQgTqujb1ppfi2KT4mnFT3KO3nLEy0YMVQbYc6sjjol1YqMEebMLkjceecjT0RSKx1zk1EBK8/3Zj3Urhu8lUVaJss52sj3lq313Ch58p+18v5qxd6JRnBFXaWNMW/kYp40JHHeHKo1PWjAha0oShCf6fl2aqalRWi1Y26iZ1/RkjrLSZtWwtTnJ2hmkZa0HdUT5Rxdddaihn77oiapZgnvPOaQVs7uJ9JsWJa0Meb9fYr+Xqd2VSdklWyKokHSfBY+IeCbXZRNnJZkIitg5anNfeztd1l+6+MMDNaYX61wfHhkbCNaUkG47Li3X3FOwwIiOU5X5NBEOEeb4XMpYpJq1sorqybJRMzuJ8ps2Aguf98FW57Mvd8qLVoQZEKeaRemKBoky2fhEgJpKSWaMaudbKdtksHa6JhiGBgK4sGvC/MPxfGttG6/4pyGN4nlTR3faFXAOC7B1qqZfysnB2mrRUjPIjyTyZpEuX4f3+8Y7QOarBWVKYoGyZMWISkE0lYhzU773OobqoyAU+DenQe5d+fBcUKmlSGQecfpqs/RTFplFmzl5CDt2r1aMhHeTCBtcuJTrr7f0dU2kYrZFEUTiGaOviyQSSGQtQppZHbZav9HkrKprSP6B4a4cds+bnlkf0tjwvOOs0i94zK0cubfKtNM2r6BZoeCTyd8961A6grZZb6ayGfahUU9NZGsyIx4Zaw5szrwJWhtZHY5UdlsI9avPjO18lte0lIUKDQclZQ331NaNFsRfJFNvpQX7SxsfdcuMpVOdvW1dqVZEXsT/Uy7yKUoRKRLRB4UkRdF5Gci8lsicq6IPCMiL4jIIyJycuzzG0XkJRE5ICKrY+0rws+/JCJ/JRKs80VkjohsC9t3iciSWJ91IvLz8G9d8069+aQJgWQa44GhGp0iVDrHi8dGZ5dp6QVaEQbau7yba1cuboqyiDbouWg0h03yt+mqVpp+7SOyUla7Qivbmd7lQSI8FxMtsKYSzQrpnaxw9zh5TU9fBn6oqleJyGxgHvAE8B9V9f8VkU8A64H/LCJnA2uBpcCpwN+LyIdVdQS4C7gB2An8ALgEeAy4Hjimqh8UkbXAF4E1IrIQ2AT0EMiRPSKyXVWPNeXsW4Bv+e8rd+irmleWNBNLXGhFY20Gt/WeQ8/7FnrLP86tdOTOpBpt0HOdQ6P+imbtQM+i1ekmJoO0+P5GTaXtHPLaCM3yG7XDZsNMRRGuFH4b+A8AqnocOC4iZwL/GH7sCWAH8J+By4HvqOq7wCsi8hJwnoi8Cpysqs+Ex70H6CVQFJcDm8NjPQj8TbjaWA08oapHwz5PECiX+xs66xaQdcP7HqY3h2rs23Rxw8ePyJPkrxVCK80+3re337t/Ikl8F7fr05ORsqEo7TADbDaNFKny0Q6291bTjHtsIsPdfeRZUbwfOAJ8XUTOBfYAnwF+AlwG/B1wNXB6+PlughVDxOGwrRa+TrZHfQ4BqOqwiLwJnBJvd/QZQ0RuIFipsHjx4hyn1Fzy3PB5ZwUuhQDkfqCSsxifaJ5IoeUqjuSi0iEMHh/mjA2P0iHidCxPRsqGorTDDLDZ+M4pqy5JGtNx5dUK2mGzYR4fxSzgI8BdqroceBvYAHwC+JSI7AH+DXA8/LzLzOwzP0eSoEyfEw2qd6tqj6r2LFpUvtJUWdI20EV26Tz2Sp9t+5ZH9hdyZsVt4D7n7ESmwEhTSgvmVcZ8Bkjg1Fbc0UeTmbKhCO2WbqIZuM4pyoZbVmBNx5VXq5hsv1YeRXEYOKyqu8L/Pwh8RFVfVNWLVXUFgSno5djnT4/1Pw14PWw/zdE+ro+IzALmA0dTjtVWZG2gi0IIs6JdfAqnkbDRVgmtvDWGIV0pvVMb5Y41y7y1pztFpkx0UMRUjGzKwnVO8XrcZWhlHi+juWSanlT1n0TkkIicqaoHgIuAn4rIr6vqP4tIB3Az8F/DLtuBb4vIlwic2R8CnlXVERF5S0RWAruAjwN/HeuzDngGuAp4UlVVRHYAfy4iC8LPXQxsbMaJN5O8G+iy7JVl8rxk0aplaxGzQZrfJOrjO/dRVV6Zgpu6pkK6iaI0+5zawfbeKNPZGR8nb9TTp4H7woinXwB/BHxcRD4Vvv8w8HUAVd0vIg8APwWGgU+FEU8AnwS+AVQJnNiPhe1fBb4VOr6PEkRNoapHReTzwHPh526NHNuTQTKpnAhj+YsqneKcEUN+BeBTOF3VSljwp9wD1QqhVcRsEH23ryhL9JBNN7u+kU472N4bYSY44yNEW7wTdaLp6enR3bt3N/24WXlbKh2B89Xls40iecp8RzvkeXHh24Wedq7Lb33caUbrDsNpXXn4XTmhDKMdKPMMtDMiskdVe1zvWQqPDOJVvdKI9kQ0OvMHv0Jop1lKUbNB395+/vWd4br2SqeMZVV1UTQ/v2FMFDPJGW+KIoU8KbTjvDlU4441y5yC/ua+F7h/1yFGVOkU4ZrzT3fOlKeKbbuo2cAXInvS7FmF8vUbRrswk8ylpihScIWlpuErInLt//MMT798wrUyojpmZpnKZpUiSi1twyHMrIfOmB5MB2d8XiwpoIe+vf3esFQXvhukb2//OCUR5/5dh5zt05GsUMjpuPfAmN5MxzBoH7ai8LB5+/7U97tiUU/xHdQXbHmyrqKZj1antG4nsmZfUz0CxpiZTBVTcaOYovDgKpUZceeaZXU3hy9ULst0NVPy+edRBDPloTOMqYYpCgdlUln7NqB1enIWRax/sDl1sqcCpggMY2piPgoHWfn1Xakq0tJ4pBXMqY0otzySbuZqlLw5mQzDMFyYonCQFZLpSsjnc9ZGDq60ymmR07wVAr1ITibDMAwXpigc5AnJTFaMS4vaiTI/ptEqgd4OZRSNqYGtPA0fpigc5K2vnKwYlxUq11WtOI/TVa20TKDPpN2jRnls5WmkYYoiJD6b2rrjAFeu6E41F8WJZ019esOF3LFmGQA3bds3bma2+bKlVDrGl9iodAibL1vaMoFuqZyNPNjK00jDFAXu2dRDewJzUl5lEQn0tJlZ7/Jutl597rhVx9arz6V3eXfLBLptZDPyYCtPIw0LjyV9NpWnBjXA/NCslFWnwRci2mg6AF9efNvIZuTBUqgYaZiiwD9r6h8YqhO086sVfvVOrS6d+NvHh+nb2196ZtaIQM/Ki9/s/QszpVjLTGIm5S0yimOKgvTC8ZHJKC4IXXUVaiPK1h0HGpqZ5RHo8bTnaZv5WlWkfiYVa5lJ2MrTSMMUBcFs6qZt+0iKXAWnsB1IqWF9x5plmTOzsjPypJDOyhXVCvtykRKoxtTCds4bPsyZTfCA+ESuS9imOZ57l3dz5YpuOiWIbuoU4coVJx7Am/te4KZt+0qFIbqEdBqtsC+b09MwZh6mKEJ80U0dInUbkNIiifr29vPQnv6x2f6IKvftPMjNfYEyuG/nwTqllDcMsYgwbpV9uWueZy+Ip90wjKmPKYqQVWctQhztI6pjM/8bt+1j+a2PA/7Nda5ZvwL37TzILY/sL7RySe6UzSuMO0ValhffZ+2aQRnTDWPGkctHISJdwFeA3yCQe58AhoD/CswFhoH/U1WfDT+/EbgeGAH+WFV3hO0rgG8AVeAHwGdUVUVkDnAPsAL4F2CNqr4a9lkH3BwO5TZV/WZjp1xPtArII+uODdbY+PAL3H7FOXVpOfr29ntrayukFkKKVi7x2hZJp3GlQ6h0CrUR/0irlc6WFk9505N+3dduGMbUJ68z+8vAD1X1KhGZDcwDHgBuUdXHROQPgL8AfkdEzgbWAkuBU4G/F5EPq+oIcBdwA7CTQFFcAjxGoFSOqeoHRWQt8EVgjYgsBDYBPQSydo+IbFfVY005+5Citv+h2gibt+8f55BeddYiHtpTPt1BZKqKfBZzKx11Y3LVnI7TypVEhMXbG8bMI9P0JCInA78NfBVAVY+r6gCB4D45/Nh84PXw9eXAd1T1XVV9BXgJOE9E3gucrKrPqKoSrCB6Y32ilcKDwEUiIsBq4AlVPRoqhycIlEtTKeOIHRiqjXNI37fzYKay6apWcuWQGqqNFCrDGjGq2vKoFdvpbRgzjzw+ivcDR4Cvi8heEfmKiJwE3AhsFZFDwH8BNoaf7wbixaAPh23d4etk+7g+qjoMvAmcknKscYjIDSKyW0R2HzlyJMcpjcc3G3b5LHzkMVv94bnvHefb8CUJLMtEzOpnUp1gwzAC8pieZgEfAT6tqrtE5MvABoJVxE2q+pCIfIxgxfG7uOWrprRTss+JBtW7gbsBenp6CrtVfbtSr1zRzfeffyO1LGoR7t15kO/9qJ/B4yOc2lVl8Piw97Nd1QrvDo/mNolN5Kze4u0NY2aRZ0VxGDisqrvC/z9IoDjWAQ+Hbd8Fzot9/vRY/9MIzFKHw9fJ9nF9RGQWgRI6mnKspuKaJV+5opunXjzCm0M1uqoVFsyrjL23oIFQ0LePj4yZq9LMS5svW5pZ8KhTZGxlMrfSUZet1jAMoxlkKgpV/SfgkIhE09WLgJ8SCOx/H7ZdCPw8fL0dWCsic0TkDOBDwLOq+gbwloisDP0PHwf+LtZnXfj6KuDJ0I+xA7hYRBaIyALg4rCt6UQpwl/ZcinrV5/JQ3v6x3wQA0M13qmNcu3KxRx9+91S/oMizKt0jM3an95wIXeuWeb0C/zlx87ljjXLeHd4lGODNasjYBhGS8gb9fRp4L4w4ukXwB8RCPkvhyuAdwiimVDV/SLyAIEyGQY+FUY8AXySE+Gxj4V/EJitviUiLxGsJNaGxzoqIp8Hngs/d6uqHi15rrnxpam4d+fBVn81ALNnjVcKaXl4LtjypKXUMAyjpYhOs51SPT09unv37oaOccaGR3M5p1uFAK9suTTXZ31jLXIMwzAMEdmjqj2u92xntoPJ3hNQ5Putgp1hGK3GFIWDvDWz4xQJpc06zqqzFuX+fDvta0imHDE/iWFMD0xROIiioPJy3crF3LFm2VjUVJQ5tgwKPLSnP7eQbZd9DWklYA3DmNpYPYoG6BD4X85fzG29gVKJhHOybkRRijqj22Ffg9WpMIzpiymKkHgxoajcqY871yxLFX7xKCVfksAsJqu+Q9miSlanwjCmL2Z6ot5sMjBUXxM7Th7BGe2BKLs5bzKc0Y2Yj8ypbhjTF1MUFMsem7ZT2kWZzXkCTmd0q53FaeajLNrJqW4YRnMx0xP5zSMTJfiU+lVL0u8RzfYJP1vWZBSnEfNR2qZAwzCmNqYo8NdYiCMwlk9p644DuYVgV7XiTCpYrXTQIcLbx+tXMq5VS9ZsP02J5KXRWhPt4FQ3DKP5mOmJ7H0TlQ5hVqeUyqe0+bKlVDrGh8tWOoSPLO5yKonODnGuWtJm+42YjOKY+cgwDBemKBi/FwHGb55bMK/Ce+bOqis/mlcQ9y7vZuvV547b57D16nN55hfulFUjo+7iQ2nO4mZFHLXLngzDMNoLy/UUw7X/oVrp9Dq64/mUivoIlmx41Ptet6O/b2y3X3GONwy3u6taV9fbMAzDRVquJ/NRxPCZcDpFxmpax4lm+X17+1n/4PNjq47+gSHWP/g8UMxHusdvIgAACspJREFUEOHyMWQ5i11KxExGhmE0A1MUMXymmhHVupVFXBDf8sj+OtNUbUS55ZH9gFu4VysdDNVGvWNx7Wr2OYst4sgwjFZiiiLGfE+EUle1wubLlnoFsW+vxLHBmjca6fYrfpPPbtuHX1UU8zFYxJFhGK3CFEUMXy4/kfKC2BeNFPkO0tJ82K5mwzDaAYt6ijHgWRn42iO6qsXSdEQrhaxSp+ZjMAyjHTBFEaNsviLfXglfnqfk8Sws1TCMdsZMTzHWrz6zVPSQz5kM+aORzMdgGEa7YooiwZxZHWOCfcG8Cps+ujR3tljf56ZbNFIz8koZhjF1yKUoRKQL+ArwGwQ56z4B3AhEU+MuYEBVl4Wf3whcD4wAf6yqO8L2FcA3gCrwA+AzqqoiMge4B1gB/AuwRlVfDfusA24Ov+c2Vf1mA+frxbWh7dhgbSzEtawgnG4rhazkhIZhTD/y+ii+DPxQVc8CzgV+pqprVHVZqBweAh4GEJGzgbXAUuAS4G9FJPLU3gXcAHwo/LskbL8eOKaqHwTuAL4YHmshsAk4HzgP2CQiCxo4Xy++VONRiKuV9AxoVl4pwzCmDpmKQkROBn4b+CqAqh5X1YHY+wJ8DLg/bLoc+I6qvquqrwAvAeeJyHuBk1X1GQ3yhtwD9Mb6RCuFB4GLwuOuBp5Q1aOqegx4ghPKpamk7VkwQXgCq2RnGDOPPCuK9wNHgK+LyF4R+YqInBR7/98Bv1TVn4f/7wYOxd4/HLZ1h6+T7eP6qOow8CZwSsqxxiEiN4jIbhHZfeTIkRynVE9WZJMJwgCrZGcYM488imIW8BHgLlVdDrwNbIi9fw0nVhMwPvlqhKa0l+1zokH1blXtUdWeRYsWObpkk5Vq3ARhgKUiN4yZRx5FcRg4rKq7wv8/SKA4EJFZwBXAtsTnT4/9/zTg9bD9NEf7uD7hMecDR1OO1XSivQzVSv0lMUF4AtvzYRgzj8yoJ1X9JxE5JCJnquoB4CLgp+Hbvwu8qKpxk9J24Nsi8iXgVAKn9bOqOiIib4nISmAX8HHgr2N91gHPAFcBT4bRUDuAP485sC8GNjZywtlI3f+uXDG9IpcaZbpFchmGkU7efRSfBu4TkdnAL4A/CtvXMt7shKruF5EHCJTJMPApVY3CZD7JifDYx8I/CBzl3xKRlwhWEmvDYx0Vkc8Dz4Wfu1VV3RV/msAtj+yvi+hR4PvPv8Ftvee06mttX4JhGG2NFS4K6dvbz43b9nnfv3PNspYI77SCRKYsDMOYKNIKF1mup5Cs8NdWhcfavgTDMNodUxQhWeGvrQqPtX0JhmG0O6YoQrLCX1sVHmv7EgzDaHdMUYSk7aNoZXis7UswDKPdseyxIfFU4f0DQ3SKMKJKd4ujkKzetWEY7Y5FPRmGYRgW9WQYhmGUxxSFYRiGkYopCsMwDCMVUxSGYRhGKqYoDMMwjFRMURiGYRipmKIwDMMwUjFFYRiGYaRiisIwDMNIxRSFYRiGkYrleophleYMwzDqMUURkqw01z8wxMaHXwAwZWEYxozGTE8hVmnOMAzDjSmKEKs0ZxiG4SaXohCRLhF5UEReFJGfichvhe2fFpEDIrJfRP4i9vmNIvJS+N7qWPsKEXkhfO+vRETC9jkisi1s3yUiS2J91onIz8O/dc068SRWac4wDMNN3hXFl4EfqupZwLnAz0RkFXA58JuquhT4LwAicjawFlgKXAL8rYhEJdzuAm4APhT+XRK2Xw8cU9UPAncAXwyPtRDYBJwPnAdsEpEF5U/Xj1WaMwzDcJOpKETkZOC3ga8CqOpxVR0APglsUdV3w/Z/DrtcDnxHVd9V1VeAl4DzROS9wMmq+owG1ZLuAXpjfb4Zvn4QuChcbawGnlDVo6p6DHiCE8qlqfQu7+b2K86hu6uKAN1dVW6/4hxzZBuGMePJE/X0fuAI8HURORfYA3wG+DDw70TkC8A7wH9U1eeAbmBnrP/hsK0Wvk62E/57CEBVh0XkTeCUeLujzxgicgPBSoXFixfnOCU3vcu7TTEYhmEkyGN6mgV8BLhLVZcDbwMbwvYFwEpgPfBAuAoQxzE0pZ2SfU40qN6tqj2q2rNo0aKM0zEMwzCKkEdRHAYOq+qu8P8PEiiOw8DDGvAsMAr8Wth+eqz/acDrYftpjnbifURkFjAfOJpyLMMwDGOCyFQUqvpPwCERiby6FwE/BfqACwFE5MPAbOC/A9uBtWEk0xkETutnVfUN4C0RWRmuPD4O/F14zO1AFNF0FfBk6MfYAVwsIgtCJ/bFYZthGIYxQeTdmf1p4D4RmQ38AvgjAhPU10TkJ8BxYF0o3PeLyAMEymQY+JSqRjvZPgl8A6gCj4V/EDjKvyUiLxGsJNYCqOpREfk88Fz4uVtV9WjZkzUMwzCKI4Fsnz709PTo7t27J3sYhmEYUwoR2aOqPc73ppuiEJEjwGsNHOLXCExoMwk75+nPTDtfsHMuyvtU1RkNNO0URaOIyG6fVp2u2DlPf2ba+YKdczOxXE+GYRhGKqYoDMMwjFRMUdRz92QPYBKwc57+zLTzBTvnpmE+CsMwDCMVW1EYhmEYqZiiMAzDMFIxRREiIpeEhZZeEpENkz2eZiEip4vIU2HBqf0i8pmwfaGIPBEWhHoiXufDV3hqKiEinSKyV0S+H/5/Wp8vuAuMTefzFpGbwnv6JyJyv4jMnY7nKyJfE5F/DrNgRG2Fz9NXOC4Xqjrj/4BO4GWClOqzgeeBsyd7XE06t/cCHwlf/xvg/wPOBv4C2BC2bwC+GL4+Ozz/OcAZ4XXpnOzzKHHenwW+DXw//P+0Pt/wXL4J/K/h69lA13Q9b4JyA68A1fD/DwD/YTqeL0E9oI8AP4m1FT5P4Fngtwiycj8G/H7eMdiKIuA84CVV/YWqHge+Q1BMacqjqm+o6o/C128BPyN4yOLFor7J+CJSdYWnJnbUjSEipwGXAl+JNU/b84XUAmPT+bxnAdUw4/Q8gszS0+58VfUfCXLgxSl0nhmF4zIxRRGQq0DSVCesRb4c2AX8Ww0y+hL+++vhx6bDtbgT+L8JUt9HTOfzhfEFxvaKyFdE5CSm6Xmraj9B+eWDwBvAm6r6ONP0fB0UPc9u/IXjMjFFEZCrQNJURkTeAzwE3Kiqv0r7qKNtylwLEflD4J9VdU/eLo62KXO+MXwFxnxM6fMObfKXE5hXTgVOEpHr0ro42qbM+RagoSJwPkxRBEzrAkkiUiFQEvep6sNh8y/D5Sjhv1HN86l+LS4ALhORVwlMiBeKyL1M3/ON8BUYm67n/bvAK6p6RFVrwMPA/8j0Pd8kRc8zrXBcJqYoAp4DPiQiZ4Q1N9YSFFOa8oSRDV8FfqaqX4q9FS8WtY7xRaTqCk9N1HgbRVU3quppqrqE4Hd8UlWvY5qeb4T6C4xN1/M+CKwUkXnhPX4Rgf9tup5vkkLnqemF47KZbI9+u/wBf0AQEfQy8KeTPZ4mntf/RLDE/DGwL/z7A+AU4L8BPw//XRjr86fhdThAgciIdvsDfocTUU8z4XyXAbvD37qPoKb9tD1v4BbgReAnwLcIIn2m3fkC9xP4YWoEK4Pry5wn0BNeq5eBvyHMzJHnz1J4GIZhGKmY6ckwDMNIxRSFYRiGkYopCsMwDCMVUxSGYRhGKqYoDMMwjFRMURiGYRipmKIwDMMwUvn/AfJbT0tbu2YOAAAAAElFTkSuQmCC\n",
>>>>>>> ecb73c54a487c966d00eb80a38967405cf0f7fbe
      "text/plain": [
       "<Figure size 432x288 with 1 Axes>"
      ]
     },
     "metadata": {
      "needs_background": "light"
     },
     "output_type": "display_data"
<<<<<<< HEAD
    }
   ],
   "source": [
    "#np.unravel_index(np.argmax(simi, axis=None),simi.shape)\n",
    "fliped_simi_matrix = np.fliplr(simi_matrix)\n",
    "mirror_binary_simi=simi_matrix+np.rot90(fliped_simi_matrix)\n",
    "sum_mirror_binary_simi = np.sum(mirror_binary_simi.T,axis=1)\n",
    "sum_mirror_binary_simi_index = np.vstack((sum_mirror_binary_simi,range(len(sum_mirror_binary_simi)))).T\n",
    "outlier_ratio = 0.15\n",
    "plt.scatter(range(sum_mirror_binary_simi.shape[0]-int(sum_mirror_binary_simi.shape[0]*outlier_ratio)),sorted(sum_mirror_binary_simi)[int(sum_mirror_binary_simi.shape[0]*outlier_ratio):],marker='.')\n",
    "plt.scatter(range(sum_mirror_binary_simi.shape[0]),sum_mirror_binary_simi,marker='.')\n",
    "# plt.scatter(sample_index,sum_mirror_binary_simi[sample_index],marker='.')\n",
    "sorted_sum_mirror_binary_simi_index = sum_mirror_binary_simi_index[sum_mirror_binary_simi_index[:,0].argsort()][::-1]\n",
    "sorted_sum_mirror_binary_simi_index = sorted_sum_mirror_binary_simi_index.astype('int')\n",
    "index_aa=[]\n",
    "# for index_a,i in enumerate(sum_mirror_binary_simi_index[:,0]):\n",
    "#     if 360000 <i :\n",
    "#         index_aa.append(int(sum_mirror_binary_simi_index[:,1][index_a]))\n",
    "for index_a,i in enumerate(sum_mirror_binary_simi):\n",
    "    if 1140000 <i and index_a>1446:\n",
    "        index_aa.append(index_a)\n",
    "# plt.scatter(a,sum_mirror_binary_simi[a],marker='.')\n",
    "        "
   ]
  },
  {
   "cell_type": "code",
   "execution_count": 9,
   "metadata": {},
   "outputs": [
    {
     "data": {
      "text/plain": [
       "400"
      ]
     },
     "execution_count": 9,
     "metadata": {},
     "output_type": "execute_result"
    }
   ],
   "source": [
    "sorted_sum_mirror_binary_simi_index = sum_mirror_binary_simi_index[sum_mirror_binary_simi_index[:,0].argsort()]\n",
    "sorted_sum_mirror_binary_simi_index = sorted_sum_mirror_binary_simi_index.astype('int')\n",
    "sorted_sum_mirror_binary_simi_index = sorted_sum_mirror_binary_simi_index[int(sum_mirror_binary_simi.shape[0]*outlier_ratio):]\n",
    "sample_index=sorted_sum_mirror_binary_simi_index[:,1].tolist()\n",
    "# simi_matrix = simi_matrix[:,sample_index][sample_index]\n",
    "# simi_matrix\n",
    "# inp.shape[0]\n",
    "len(sample_index)"
=======
    }
   ],
   "source": [
    "#np.unravel_index(np.argmax(simi, axis=None),simi.shape)\n",
    "simi_matrix\n",
    "mirror_binary_simi=simi_matrix+np.rot90(np.fliplr(simi_matrix))\n",
    "sum_mirror_binary_simi = np.sum(mirror_binary_simi.T,axis=1)\n",
    "sum_mirror_binary_simi_index = np.vstack((sum_mirror_binary_simi,range(len(sum_mirror_binary_simi)))).T\n",
    "plt.scatter(range(sum_mirror_binary_simi.shape[0]),sum_mirror_binary_simi)\n",
    "index_aa=[]\n",
    "for index_a,i in enumerate(sum_mirror_binary_simi_index[:,0]):\n",
    "    if sum_mirror_binary_simi[index_a] < 690000:\n",
    "        index_aa.append(index_a)"
>>>>>>> ecb73c54a487c966d00eb80a38967405cf0f7fbe
   ]
  },
  {
   "cell_type": "code",
<<<<<<< HEAD
   "execution_count": 29,
=======
   "execution_count": 54,
>>>>>>> ecb73c54a487c966d00eb80a38967405cf0f7fbe
   "metadata": {
    "scrolled": true
   },
   "outputs": [
    {
     "name": "stdout",
     "output_type": "stream",
     "text": [
<<<<<<< HEAD
      "merge 1600 clusters time = 24.9 s\n",
      "merge 1500 clusters time = 59.39 s\n",
      "merge 1400 clusters time = 94.55 s\n",
      "merge 1300 clusters time = 127.15 s\n",
      "merge 1200 clusters time = 158.95 s\n",
      "merge 1100 clusters time = 187.58 s\n",
      "merge 1000 clusters time = 214.59 s\n",
      "merge 900 clusters time = 241.32 s\n",
      "merge 800 clusters time = 271.06 s\n",
      "merge 700 clusters time = 295.03 s\n",
      "merge 600 clusters time = 319.42 s\n",
      "merge 500 clusters time = 340.49 s\n",
      "merge 400 clusters time = 359.28 s\n",
      "merge 300 clusters time = 375.95 s\n",
      "merge 200 clusters time = 389.83 s\n",
      "merge 100 clusters time = 401.88 s\n",
      "merge 2 clusters time = 410.44 s\n"
=======
      "merge 800 clusters time = 6.53 s\n",
      "merge 700 clusters time = 13.32 s\n",
      "merge 600 clusters time = 19.15 s\n",
      "merge 500 clusters time = 24.82 s\n",
      "merge 400 clusters time = 29.86 s\n",
      "merge 300 clusters time = 34.46 s\n",
      "merge 200 clusters time = 38.45 s\n",
      "merge 100 clusters time = 42.12 s\n",
      "merge 2 clusters time = 45.34 s\n"
>>>>>>> ecb73c54a487c966d00eb80a38967405cf0f7fbe
     ]
    }
   ],
   "source": [
    "import pandas  as pd\n",
    "all_start=time.time()\n",
    "inp_copy=inp#[sample_index]\n",
    "df = pd.DataFrame(simi_matrix,columns=pd.MultiIndex.from_tuples([('{}'.format(i),'{}'.format(i)) for i in range(1,len(inp_copy)+1)],names=['cluster', 'frame']))\n",
    "dic={}\n",
    "hie_tree=[]\n",
    "dentrom=[]\n",
    "time_step=[]\n",
    "while df.shape[0] > 2:\n",
    "    ###update df\n",
    "    frame_column=[i[1] for i in df.columns.to_list()]\n",
    "    hie_tree.append(frame_column)\n",
    "    new_max=np.argmax(df, axis=None)     ###2.5s\n",
    "\n",
    "    del_index = np.unravel_index(new_max, df.shape)\n",
    "    max_value = df.to_numpy()[del_index[0]][del_index[1]] ###0.1s\n",
    "\n",
    "    ###get temp inp\n",
    "    delete_row=[int(i) for i in df.columns[del_index[0]][1].split(',') ]\n",
    "    delete_cluster_row=[int(i) for i in df.columns[del_index[0]][0].split(',')]\n",
    "    delete_column=[int(i) for i in df.columns[del_index[1]][1].split(',') ]\n",
    "    delete_cluster_column=[int(i) for i in df.columns[del_index[1]][0].split(',')]\n",
    "    dentrom.append([*delete_cluster_column,*delete_cluster_row])\n",
    "\n",
    "    delete_all=delete_column+delete_row\n",
    "    insert_index='{}'.format(delete_all)[1:-1]   ###0.1s\n",
    "    insert_cluster_index='{}'.format(2*len(inp) - df.shape[0]+1)\n",
    "    df.drop(columns=[('{}'.format(delete_cluster_column)[1:-1],'{}'.format(delete_column)[1:-1]),('{}'.format(delete_cluster_row)[1:-1],'{}'.format(delete_row)[1:-1])],axis=1,inplace=True)\n",
    "    df.drop(index=[*del_index],axis=0,inplace=True)\n",
    "    df.reset_index(drop=True,inplace=True)\n",
    "    temp_w_sim=[]            ###1s\n",
    "\n",
    "    ###get temp inp\n",
    "   # print(df.columns)\n",
    "    frame_column=[i[1] for i in df.columns.to_list() ]\n",
    "    columns=[[int(d) for d in [*i.split(',')]] for i in frame_column]\n",
    "    temp_inp=[[inp_copy[d-1] for d in m] for m in columns]    ###0.1s\n",
    "\n",
    "    ###perform comparison\n",
    "#     if Faith:\n",
    "#         for i in temp_inp:\n",
    "#             compare=Fai(np.concatenate(([inp_copy[d-1] for d in delete_all],i),axis=0))\n",
    "#             temp_w_sim.append(compare.Fai_1sim_wdis)\n",
    "#     else:\n",
    "    for i in temp_inp:\n",
    "       # compare=bc(np.concatenate(([inp_copy[d-1] for d in delete_all],i),axis=0))\n",
    "        compare=bc(np.concatenate((inp_copy[np.array(delete_all)-1],i),axis=0))\n",
    "        temp_w_sim.append(compare.w_a)         ###1s\n",
    "#     temp_start = time.time()\n",
    "  #  inp_copy = temp_inp\n",
    "    temp_w_sim=[0]+temp_w_sim\n",
    "    df.loc[-1] = [0]*df.shape[1] # adding a row\n",
    "    df.index = df.index + 1  # shifting index\n",
    "    df = df.sort_index()  # sorting by index\n",
    "   # print(df.shape)\n",
    "    if df.shape[0] % 100 == 0:\n",
    "        all_end = time.time()\n",
    "        all_time = all_end - all_start\n",
    "        print('merge {} clusters time ='.format(df.shape[0]), round(all_time,2),'s')\n",
    "        time_step.append(round(all_time,4))\n",
    "    df.insert(loc=0, column=(insert_cluster_index,insert_index), value=temp_w_sim)\n",
    "\n",
    "    dic[insert_index]=max_value\n",
    "temp_end = time.time() \n",
    "temp_time = temp_end - all_start          \n",
    "print('merge {} clusters time ='.format(df.shape[0]), round(temp_time,2),'s')\n",
    "time_step.append(round(temp_time,4))\n",
    "last_two = [int(i[0]) for i in df.columns.to_list()]\n",
    "dentrogram = np.vstack(dentrom)-np.ones((1,2))\n",
    "values = np.max(simi_matrix)-np.array([*dic.values()],ndmin=2)+2\n",
    "num_frames = np.array([len(i) for i in [[int(d) for d in [*k.split(',')]] for k in list(dic.keys())]],ndmin=2)\n",
    "tree = np.hstack((dentrogram,values.T,num_frames.T))\n",
    "tree = np.vstack((tree, [[last_two[0]-1,last_two[1]-1,np.max(simi_matrix)-df.to_numpy()[1][0],len(inp)]]))"
   ]
  },
  {
   "cell_type": "code",
   "execution_count": 11,
   "execution_count": 55,
   "metadata": {
    "scrolled": true
   },
   "outputs": [],
   "source": [
    "def plot_simi_threshold(tree,p,min_simi=True,save=False):\n",
    "    plt.figure(figsize=(20, 8))\n",
    "    dend = shc.dendrogram(tree,p=p,truncate_mode='lastp')\n",
    "    if min_simi:\n",
    "        plt.axhline(y=min_simi, color='r', linestyle='-')\n",
    "    plt.xlabel('Num_samples')\n",
    "    plt.ylabel('Simi_value')\n",
    "    if save:\n",
    "        plt.savefig('simi_threshold_tree.png')\n",
    "\n",
    "def get_step_index(hie_tree,cluster_step):\n",
    "    label_index = [[int(i)-1 for i in hie_tree[cluster_step][d].split(',')] for d in range(len(hie_tree[cluster_step]))]\n",
    "    label_index = sorted(label_index, key=lambda x:len(x), reverse=True)\n",
    "    return label_index\n",
    "def plot_test_result(true_rmsd,hie_tree,cluster_step,setylim,save=False):\n",
    "    colors = ['grey', 'purple', 'blue', 'green', 'orange', 'red',\n",
    "             'black','brown','navy','indigo','cyan','teal','violet','royalblue']\n",
    "    fig, ax = plt.subplots(figsize=(6, 4))\n",
    "    gs = gridspec.GridSpec(1, 2, width_ratios=[15, 1]) \n",
    "    ax0 = plt.subplot(gs[0])\n",
    "    ax1 = plt.subplot(gs[1])\n",
    "    label_index = [[int(i)-1 for i in hie_tree[cluster_step][d].split(',')] for d in range(len(hie_tree[cluster_step]))]\n",
    "    label_index = sorted(label_index, key=lambda x:len(x), reverse=True)\n",
    "    if len(label_index) > 10:\n",
    "        label_index = label_index[:10]\n",
    "    test_rmsd = [[true_rmsd[i] for i in label_index[d]] for d in range(len(label_index))]\n",
    "    for index,i in enumerate(test_rmsd):\n",
    "        ax0.scatter(label_index[index],i,marker='.',color=colors[index])\n",
    "    percentage=[len(i)/len(true_rmsd) for i in test_rmsd]\n",
    "    sum_percentage = [0.0]+[sum(percentage[:i]) for i in range(1,len(percentage))]+[1.0]\n",
    "    ax0.set_xlabel('Sample')\n",
    "    ax0.set_ylabel('RMSD')\n",
    "    cmap = mpl.colors.ListedColormap(colors[:len(test_rmsd)])\n",
    "    print(colors[:len(test_rmsd)])\n",
    "    norm = mpl.colors.BoundaryNorm(sum_percentage, cmap.N)\n",
    "    cb2 = mpl.colorbar.ColorbarBase(ax1, cmap=cmap,\n",
    "                                    norm=norm,\n",
    "                                    boundaries=sum_percentage,\n",
    "                                    ticks=sum_percentage+[1.0],\n",
    "                                    spacing='proportional')\n",
    "    cb2.set_label('Cluster samples ratio')\n",
    "    if setylim:\n",
    "        ax0.set_ylim(setylim[0],setylim[1])\n",
    "    if save:\n",
    "        plt.savefig('simi_threshold_tree.png')\n",
    "    return label_index"
   ]
  },
  {
   "cell_type": "code",
   "execution_count": 15,
   "metadata": {},
   "outputs": [
    {
     "data": {
      "text/plain": [
       "[385, 345, 297, 224, 218, 207]"
      ]
     },
     "execution_count": 15,
     "metadata": {},
     "output_type": "execute_result"
    }
   ],
   "source": [
    "label_index = get_step_index(hie_tree,-4)\n",
    "[len(i) for i in label_index]"
   ]
  },
  {
   "cell_type": "code",
   "execution_count": 15,
   "metadata": {},
   "outputs": [],
   "source": [
    "traj = md.load_dcd('../proteinG_3gb1/yhalfres_0_0/trajectory.00.dcd',top='../proteinG_3gb1/3GB1.pdb')\n",
    "topfile=traj.top\n",
    "pdb=md.load_pdb('../proteinG_3gb1/3GB1.pdb')\n",
    "all_CA=topfile.select(\"backbone==1\")\n",
    "traj=traj[::10]#0][sample_index]\n",
    "true_rmsd=md.rmsd(traj,pdb,atom_indices=all_CA)\n",
    "#label_index = plot_test_result(true_rmsd,hie_tree,-4,setylim=[0,1])\n",
    "# plt.scatter(range(len(index_aa)),true_rmsd[index_aa])"
   ]
  },
  {
   "cell_type": "code",
   "execution_count": 207,
   "metadata": {},
   "outputs": [],
   "source": [
    "import copy \n",
    "rest_index = [i for i in range(len(inp)) if i not in list(np.array(range(9998))[::20])]\n",
    "origi_index = list(np.array(range(len(inp)))[::20])\n",
    "rest_label_index = copy.deepcopy(label_index)"
   ]
  },
  {
   "cell_type": "code",
   "execution_count": 32,
   "metadata": {},
   "outputs": [
    {
     "data": {
      "text/plain": [
       "[34, 6]"
      ]
     },
     "execution_count": 32,
     "metadata": {},
     "output_type": "execute_result"
    }
   ],
   "source": [
    "# all_label_index_bc = [bc(inp_copy[label_index[i]]).total_w_sim for i in range(len(label_index))]\n",
    "# all_label_index_bc\n",
    "#[len(rest_label_index[i]) for i in range(len(label_index))]\n",
    "list(np.array([1,2,34,6,7,4,7,8])[[2,3]])"
   ]
  },
  {
   "cell_type": "code",
   "execution_count": 17,
   "metadata": {},
   "outputs": [],
   "source": [
    "# colors = ['grey', 'purple', 'blue', 'green', 'orange', 'red',\n",
    "#              'black','brown','navy','indigo','cyan','teal','violet','royalblue']\n",
    "# traj = md.load_dcd('../proteinG_3gb1/yhalfres_0_0/trajectory.00.dcd',top='../proteinG_3gb1/3GB1.pdb')\n",
    "# for i in range(len(label_index)):\n",
    "#     true_rmsd=md.rmsd(traj[rest_label_index[i]],pdb,atom_indices=all_CA)\n",
    "#     plt.scatter(rest_label_index[i],true_rmsd,color=colors[i],marker='.')\n",
    "# plt.ylim(0,1)"
   ]
  },
  {
   "cell_type": "code",
   "execution_count": 69,
   "metadata": {
    "scrolled": true
   },
   "outputs": [],
   "source": [
    "# all_start=time.time()\n",
    "# inp = pyemma.coordinates.load('../proteinG_3gb1/yhalfres_0_0/trajectory.00.dcd', features=feat)\n",
    "# rest_inp = inp[rest_index]\n",
    "# for rest_inp_index, d in enumerate(rest_inp):\n",
    "#     change_index = []\n",
    "#     for i in range(len(label_index)):\n",
    "#        # before = bc(inp_copy[label_index[i]]).total_w_sim\n",
    "#         after = bc(np.concatenate((inp_copy[label_index[i]],[d]),axis=0)).total_w_sim\n",
    "#         change = (all_label_index_bc[i] - after)/all_label_index_bc[i]\n",
    "#         change_index.append(change)\n",
    "#         belong_index = np.argmin(change_index)\n",
    "#     if rest_inp_index % 100 == 0:\n",
    "#         print(rest_inp_index, ' finished')\n",
    "#     rest_label_index[belong_index].append(rest_index[rest_inp_index])\n",
    "# temp_end = time.time() \n",
    "# temp_time = temp_end - all_start  \n",
    "# print('time =', round(temp_time,2),'s')"
   ]
  },
  {
   "cell_type": "code",
   "execution_count": 7,
   "metadata": {},
   "outputs": [],
   "source": [
    "# label_concate = np.concatenate(label_index)\n",
    "traj = md.load_dcd(traj_file,top='../proteinG_3gb1/3GB1.pdb')\n",
    "topfile=traj.top\n",
    "pdb=md.load_pdb('../proteinG_3gb1/3GB1.pdb')\n",
    "all_CA=topfile.select(\"backbone==1\")\n",
    "# rmsd=md.rmsd(traj,pdb,atom_indices=all_CA)\n",
    "# traj_cluster=traj[label_concate]\n",
    "# cluster_rmsd=md.rmsd(traj_cluster,pdb,atom_indices=all_CA)\n",
    "# for index,i in enumerate(label_index):\n",
    "#     traj_cluster=traj[i]\n",
    "#     cluster_rmsd=md.rmsd(traj_cluster,pdb,atom_indices=all_CA)\n",
    "#     plt.scatter(i,list(cluster_rmsd),marker='.',label=index)\n",
    "# traj_cluster=traj[label_concate]\n",
    "# plt.ylim(0,2)\n",
    "# plt.legend()"
   ]
  },
  {
   "cell_type": "code",
   "execution_count": 62,
   "metadata": {},
   "outputs": [],
   "source": [
    "# b=[i for i in range(rmsd.shape[0]) if i not in a]\n",
    "traj_cluster=md.load_dcd('test_data/protein/samples_3gb1_withrandom_shuffled.dcd',top=native_pdb)\n",
    "(traj_cluster[labels==0][3]+traj_cluster[labels==1][0]+traj_cluster[labels==2][0]+traj_cluster[labels==3][0]\\\n",
    "+traj_cluster[labels==4][0]+traj_cluster[labels==5][0]).save_pdb('test_data/protein/seeds_3gb1.pdb')"
   ]
  },
  {
   "cell_type": "code",
   "execution_count": 11,
   "execution_count": 64,
   "metadata": {
    "scrolled": true
   },
   "outputs": [
    {
     "name": "stderr",
     "output_type": "stream",
     "text": [
      "/home/liweichang/anaconda3/envs/msm/lib/python3.7/site-packages/ipykernel_launcher.py:10: DeprecationWarning: `np.int` is a deprecated alias for the builtin `int`. To silence this warning, use `int` by itself. Doing this will not modify any behavior and is safe. When replacing `np.int`, you may wish to use e.g. `np.int64` or `np.int32` to specify the precision. If you wish to review your current use, check the release note link for additional information.\n",
      "Deprecated in NumPy 1.20; for more details and guidance: https://numpy.org/devdocs/release/1.20.0-notes.html#deprecations\n",
      "  # Remove the CWD from sys.path while we load stuff.\n"
     ]
    },
    {
     "name": "stdout",
     "output_type": "stream",
     "text": [
      "0\n",
      "100\n",
      "200\n",
      "300\n",
      "400\n",
      "500\n",
      "600\n",
      "700\n",
      "800\n",
      "900\n",
      "1000\n",
      "1100\n",
      "1200\n",
      "1300\n",
      "1400\n",
      "1500\n",
      "1600\n",
      "1700\n",
      "1800\n",
      "1900\n",
      "(1849926,)\n"
      "['grey', 'purple', 'blue', 'green', 'orange', 'red']\n"
     ]
    },
    {
     "data": {
<<<<<<< HEAD
      "image/png": "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\n",
=======
      "image/png": "iVBORw0KGgoAAAANSUhEUgAAAbMAAAEKCAYAAACYKLs6AAAABHNCSVQICAgIfAhkiAAAAAlwSFlzAAALEgAACxIB0t1+/AAAADh0RVh0U29mdHdhcmUAbWF0cGxvdGxpYiB2ZXJzaW9uMy4yLjEsIGh0dHA6Ly9tYXRwbG90bGliLm9yZy+j8jraAAAgAElEQVR4nOydfZwcVZX3v6dqZoiR94FASDp0gBAMhrwQgdZFBoMaAgKafR5ZXCciGkVgn+juiujDblyeNQqugoJAgEBm15fVjSJCCEigIYZGYJIMmABJCE06BAhEwlvIvFSd54/q6qnu6Z7ueenMTOZ8P5/5THdV3Vu3q6vvr865554rqophGIZhDGWcgW6AYRiGYfQVEzPDMAxjyGNiZhiGYQx5TMwMwzCMIY+JmWEYhjHkMTEzDMMwhjwmZoZhGAYiskFEfBHZXWK/iMhaEWkTkfdE5ILIvu9kt7eJyL2R7UeJyI7s9h0iEq9W+03MDMMwDICfAH/fzf4rgTHAPsClwCIAEakFFgAfBw4CGkTkU9kyvwQeV9U64HHgV1VpOSA2adowDMMAEJG/AR5Q1RFF9q0HVqjqZdn3bcCHgJOAhap6SHb7cgBVnRUeo6otIjIFeCIrbP1OTTUqrSaHHHKIxuPxgW6GYRjDiObm5tdV9dA9fd5ZIvp6P9XVDNuAAyObfquqn+9BFfXA+sj7d4ATgIlAtJlp4MPZ17Wq2gKQFbSqac6QE7N4PM6TTz450M0wDGMYISIvDsR5Xwf6q7cTeFlVx/Stii74JbbvcZefjZkZhmEYlfA6MCnyfl/gL8CzwCGR7XHg5ezr9qx7kez/jmo1zsTMMAzDCDkZqBORTSLyrYJ9vwb+TkR+JyIZwAU8oAk4UEQ2ishTwCeAj4rIfGAt8D8i8hKwkkDcZlej4SZmhmEYRuhK/SGB2zAOfFNE7haRn2cP+S6B+/Ac4FDgCuA6VW0F/g04EvgAsAJ4C/gdcAEwFjiMwCqbrKrLqtF+EzPDMAwD4HzgflUVVa0BrgFWqernADQIfX8cOE1VR6jq1UBcRA5T1X9T1TpVrc2We15VX1TVTcAPgG+p6sGqurlajR9yASCGYRjDhvHA/+unuj7HISISjSdZpKqLIu/HAJnI+60EbscoLcBngD+JyEkE1thY4NXIMecTzC+LcqmINBLEs/yjqr7R+w9SHLPMDMMwhgevq+qMyN+igv2VRCV+HzhIRNYClwFriAR1iEgdgRvyN5EyNwJHA1MJAkP+o28fozhmmZUglYJkEhoaIJEY6NYYhmFUna1ALPJ+LMHctByq+hZwIQTprYAXsn8hZwKrVfXVSJncaxG5Bbi731uOiVlRUimYORPa2qCuDlasMEEzDGOv5wlggoiMB14icBdeED1ARA4EdqlqG/Al4JGswIX8HQUuRhEZraphqP6nCcL5+x0TsyIkk4GQeV7wP5k0MTMMY+9GVTtE5FLgPoKw+8Wquk5EvprdfxNBtGKTiHgE2UAuCsuLyEiC/IxfKaj6ahGZSuCyTBfZ3y+YmBWhoSGwyELLrKFhoFtkGIZRfbJh88sKtt0UeZ0CJpQou4sg5VXh9p6kzOo1FgBShEQicC1edZW5GA3DGD6IyCwRea7EpGlE5KDspOmnRORxEflgdvuI7PsWEVknIt+NlLkqe/xaEblfRI6oRtvNMitBImEiZhjG8EFEXOAGAlfhVuAJEblLVaPJhb8NrFXVT4vIcdnjZwKtwMdU9Z3skjB/EpF7VfUx4BpVvTJ7jn8A/gX4an+33ywzwzAMA4KlXDap6uZsgMevgHMLjplEkOEDVX2WzknTqqrvZI+pzf5p9rhogMj7qVIS4qpZZiKyGDgb2K6qHyyyX4DrgNnALuALqrq6Wu0xDMMYajTvBtnYb9VVddJ01rJrBo4BblDVP4eFROTfgUbgTeD0fvo8eVTTMrsDmNXN/jMJBhInAPMIJtYZhmEY1aGqk6ZV1VPVqQTidlI4npbd9x1VjQE/J1ilut+pmpip6iPAX7s55FygKWuePkaQdXl0tdpjGIZhdEtFk6ZV9cKsaDUSJBx+oeCYnUCS4sbML4A5/djmHAM5ZlbMpC26cJyIzBORJ0Xkyddee61HJ8mkMqxcuJJMKlP+4CqTSsHChcF/wzCqRyaTYeXKlWQyA/+7H0LkJk1n01KdD9wVPUBEDszug8ikaRE5NDuhGhF5H3AGwTpniEg0lP+ccHt/M5DRjBWvTpo1hxcBzJgxo+LBw0wqQ9PMJrw2D7fOpXFFI7FErHzBKmBZRQxjz5DJZGhqasLzPFzXpbGxkVhsYH73Q4k+TpoeDSzJjps5wK9VNUxb9X0RmUiwKvWLVCGSEQZWzMqatH0lnUzjtXmop3htHulkesDEzLKKGMaeIZ1O43keqorneaTTaROzCuntpGlVfQqYVqLOqrgVCxlIN+NdQKMEnAK8Gcnf1S/EG+K4dS7iCm6dS7wh3p/Vd0uhSzHMKuK6llXEMKpJPB7HdV1EBNd1icfjA90kYw9QzdD8XwINBOGgW4F/JZh7ECr9MoKw/E0EofkX9ncbYokYjSsaSSfTxBvie8wqK+VSXLHCMvEbRjXJZDKk02lmzZrFrl27iMfjOass3BfdZuw9VE3MVPXvyuxX4JJqnT8klohVXcQKl4uJuhRbW2HBguDPsooYRvXobqzMxtH2fiwDSB8JrbArr4TTT4eLL4b6+sAicxzwfXjggUDoLr54z0QyWtSkMRwpNlZWyT5j78ByM/aRqBXmeXDzzTBiBFx7LSxdGgiZ7wfH3Hwz3H47XHghNDYWt9L6uiioRU0aw5VwrCy0vqJjZd3tM/YOTMz6SBjYsXs3qAZ/bW2wY0fgWly5Mn9fa2sgakuWdBWavghRJpUhnUxz95bJtLUdaFGTxrAjFovR2NhYdFysu33G3oGJWR8JAzuammDx4sA6C6MVo/tuvz0Ql1DUdu8OtkeFprfh+9H5dDvd56mtaQQci5o0hh2xWKykUHW3zxj62JhZDyk2HpVIwI03BuJTuAZauO+hh+ArX4Ha2mC7aiB+0Xp6G74fnU83xtvCjy58ytZiMwxjWGGWWQ+IugFdF774xfyxr+6iFaP7br45EDPPy7e+ioXvVzKGFs6nCzOdnN1YT8xEzDCMYYSJWQ8oFuxRbOyrOxobgzKtrUG0Y33BIuNR0at0DG2g5tMZpelrII9hGD3DxKwHlAr26EmQRSIRRDpeckkgiPPnw+TJxcsXG0MLt9fXB0EmoSsymYzR0BAzi2wQYBGlhrHnMTGrgDBSMN4QZ8WKWC6go6Ojd6mpduwIhDAM2S8lhqF4hp1ifX3QSba2Kr4fWHa1tZJzWVrHOTgYbnk4K7VCzVo1qomJWRmKZd6/8cYYn5z2Kvcu3cWZc0aSSBwGr6VgexJGNcCh3f9SC0UqKoaFP/joGFrQSSq+L0Dwv61NAemVlWhUh+6+3z1FKhVEy0LpOY39dZ5KrFCzVocGIjILuI4ga/6tqvr9gv0HAP8FjCPQjx+q6u0iMgJ4BNgnu/1/VPVfI+UuI1iUswO4R1W/2d9tNzErQ7HM+wDr5jcxps1j3UqXxITjOWz7BeC1gVsHH1sBhyZoXtTM+qXrmTRnEm2TTywpUpWMkYWuxZoaH98XVAXwqKkRRCRvSkBI1KLsyThaxU/Qr6XghWyPOb6xrIj3+/mrVH90PxR/3V27ehvI01+fIZUKtre1Be9vvz2Ipq3GtazUCi123NixQa7EHTuO5ZlnDuv3axN1xZtwlie7fMsNwMcJVjV5QkTuUtX1kcMuAdar6qdE5FDgORH5OdAKfExV3xGRWuBPInKvqj4mIqcTLMZ8gqq2isioarTfxKwMhZGC8YZ4F4Hbtf5eOKgN8MBvg+1Jmn9Xx91fCZbzefj+Nv6rdhodvpMnUuEPrLsJz5AvcAsWvMmDD7YwYsQ77N69L1/72iQOO+ywLh1bb9dy605Q8zrQY1KwoiH4vACbb4eZD/VZ0FKpIC1YWxuIwDnnwDezz3D90UGVsxDC/a2twflFApdwTQ09cud2F8hz7bXV/QzJJLS3d74vHG/tz869Uiu08LgPfOBVmpqaSKdHs2TJKXie4rrC9dfDvHmlz1fJg0j4/YWu+H32MUuwQk4CNqnqZgAR+RWBCEXFTIH9RESAfYG/Ah3ZXLvvZI+pzf6Fa09eDHxfVVsBVHV7NRpvYlaGYpGCdbub6Tj3T7yw7kheSo9jxCG7wVPAAaeOp7c38O9XeRzMWGJsJU2ctvbgmy18eu1uwnN9fZBFJPxhBpOuD+a2246JZDI4DOj6Q+3JWm7RJ9mlS/PPF7a1cFrCf/9LknPHt3eusJoV8aiYFctSXi5zeVNTcH4IxOPOO+GeewJR6eggMlbYfVqwUpSzJJqa4L33upbz/c429VQcksnOa9raGgT/qJYWxXIddrnP0NAQXJ/QMouOt1bi5uuJFVnpahCFx3V0bMDzPF544Ug6OlxUBd8Prk2pgKhiIh5ej8Ik3+H3VW5cetDz8omw4Ml+qkwOEZFoZYuyCx+HjAGiS3NvBU4uqOR6guW7tgH7AZ9VVR9yll0zcAxwg6r+OVvmWOBUEfl3YDfwT6r6RD99qBwmZlDcXRYZA4tlfwXpZJq63c0c+srfcdqn2/ibcxz+/NLJHN6xCpVg6eyt77+Mk89K0Pqej8M05tJEnDS1jo8nXbNypJNpvFYP9ZUxuoUfzXuKneOmUl8fRDpGnzDDspVkMihmURaj8Ek2tESi5+O1FK2rk0wf18Cq5xJ4Hly9pIFZ36lln9q2QNCcumC8MEs0S/m4kS9x3ocP5BX/OH7z0FZUFdd1+dJ5x3MYz5QdZ2xv72wXdIpCpVMjop1zufHK227rWl4kODZqmfVEHOrr8zvX7iJhy81lhPLWUNipR8fMKnUH9mZsq9LVIMLjMpkMLS1v4jgO48e/iIgSPNgHglapq/Lqq4MHHc/rtL7Ca1Psd2PwuqrO6Ga/FNmmBe8/CawFPgYcDfxRRFaq6luq6gFTReRA4Hci8kFV/QuBzhwEnAJ8CPi1iByVteb6DROz11LwwGmgWb/M87fBcV+HZ38M6oG7D6+O+gVNZ63Da/NoP2clDZ9uxXGDHmna4auBzrug7dW1wZMhDoqSJs5pNY/y3zfs4L41h3U5/cj6kaivjD0mQ3xSmjEnxjjuS1NZuLDzCdNx4IwzOpeRqYRK554VPsmGt9eMGXDRRbDx0RQnpWdy2kFt3P+tOs743gpSGxOkNiY4Y2GSn8xvYvp08sfMXkvR8dQdjK710Rrlc4cvwU37vN93OKJuLlt3xxhdm+aQp64Krru4MON6mDCPxka45Zaggwqprc23zEJhqyTopVjnXMqSSCaDc0RxXfjylwNBCI9paAiEIpyiUa4NO3Z0rqAgErgsfb94Jxutt9RcxtDK2fhoitMmJTnymAYgkfu8YRtvvDG/7vC8NTWlO/fupoP01j0ZtcaDzxg85DiOw7nnjqKm5l0WLdof1UCUKnFVOg78/ved9+t77wXX7sYbO79fGzPrMVuBaEcxlsACi3IhgctQgU0i8gJwHPB4eICq7hSRJDAL+Eu23t9myzwuIj5wCPBafzbexOyFpk4hg+D1M9egKAKo18qu9ffitY1BPeWFvxzJqZ9yAQ9xlPfVBj6p7IMldYdN5dvnLuTBdQ00p09mzoX1nDRtNo+veZk7bj+U9g4nr3PatWMXY4/N0PitJbg1Hip/gteOo6Ehkff03Z2QlQr0iB2zldj+f4JRNeTu0YKoy8In2ZA1a+Cyy+Cfzkyic9oQ1+N9dW18c26S//3dBB0d8MQLCVqnJAJP+2spdj56Odvf9DnmzeuJ++18/giHtW9PwRUPBwXxOWG/FlIbE4zdP4Mzth3wQX148hI4cDKQwHU7O/5iY2Zr1uTnwayvD1KMFeu0inXOV1xR/FrW1wedZCikjgM/+1n+GE7ocl28uLMj7U4cINhXUxNYmLW1gcW9di3MyS4mv3Bh5+e69dbOeqG0WCaOSZHYMhPeaIMHg6Cj1KZEF+EeS3BvrNp5PB0dB+fq7K6txaaDhO9/8YtXqa/fUHGy3sJ1xKZMmZJbisX3fTKZsSxZEgiZSHDPQbBcEnTNsBPmOr3llq6f49ZbO4838eoVTwATRGQ88BJwPnBBwTFbgJnAShE5DJgIbM4Gg7Rnhex9wBnAD7Jl7iSw5JIicixQB7ze3403MStCTsgUfA9a9zkFt24bXpuHU+vQsmoah4/bxhHjX8Jxg85v5/aDefd9sxjn/pTvzmnjyk/X8eyYFRw4YixNM5t4aPcptGp23KxVSSaFRCKwzMZPehG3xsNxFaUDtidJJBIVjUWUDPR4LQUPzsyPsIQu28LzbHw0hbye5MalDaQ2JnIWyoPrGvjOuXUgbYhbx9EfbsDJZvT0PHj66aBj9Vd8jP29VvZDAD+wQBwYc8QRsOspVAN35LT91/Dcn45lvf8BPj+1iVo3OBb1YXuSZDJwY4auzpNOyu/MQkLXWeiOLeUWqzRAIZUK6okKem1tMH4TPSaZhC1bOgVPJBi7684ybGrq7HhV4brrAgvw4YeD94UWZ4jrBv+Ltnt7MvgeI0FHyWQiT7jvbNrJ/kuaSLeOZrH/YXyCJ66OjtKWZPHpIGGdyve+t5X992/j6KNX8H//78yygla4jljwuTqXYkmn47S2dlraP/wh/OhHnRZyYSRm6EItJsiF6eGMnqGqHSJyKXAfQWj+YlVdJyJfze6/CbgKuENEniZwSF2uqq+LyAnAkuy4mQP8WlXvzla9GFgsIn8B2oC5/e1ihGEsZqHr49iDP8lh3AJE/FpZ0fE9YVnTWRw48xgaV5zBjkfv5oTR/47Qju87+L6Lej5+h8udN32a076qaEcrIj61bhuTRyVZedffMHpcmosnrqZ1fR2rNn2YxFGPcs7hy3n1oQ+xfP46RsfieOe4iKNITefYU+ETZt7APMGb9x7/K6fsXkNa47zUNo4dTXcTS+6EcVtA8ju7nVt2ckC2fdGAjfApX0e3MWdiHZ/4/gqeTCdQhcc3J5j5vRWcfnySRzc1cNCERC77v+cFA/afjCUZ57cioviqqDr4Ao5bxxEf/hasd+ClO0HAxeOCD/+cr91+E5fcfj03XHgJtTUeIi7U1VcsPuG1Cd2xpcaCKg1QCDvt6E8s2ulH3ZU1NflCE7ogCwnLhG7DsE7onDQfvo7+F1HqanwWfP1N9MCDi7d7VEPwQOK35cYrC69dnDSvtXm84B+ZfTwLnOGO070lWXjfdbr2fFavnoLvOzz8sMfUqeu4+OIyY7fxOC+9NI7Vqz+IiHDCCWNpbJySczs2N7cCfrZtwZhZ9IGitbV4gEtNTWeAS0htrY2N9RVVXQYsK9h2U+T1NuATRco9BUwrUWcb8Pf929KuDEsxi7o+nh/5EnPHuIh2iln4hLxh7USeevRkGq8K3Hcx9ynYFPyCXMfj5bdOYf197ye9Ps7WzTEeuWUrR17u4NQoUlOLM6qBY095lVNGL8F1O/hUxx/4adOlXNZ4PbV1Hv5LtRwe+3syG2I0fW8uH/rbd/EP+Sj1m8YSOzS/zdHOdJ4s4mS9BMf3mKDKMYBHDffLWZxw+33Q0Q61NfBtN4grcup4dfsHuPef7+Vz/5jfPiD3lC8ErsT/d1mSfaYHvceCBfDAAwke25TAcUCeze/wfR9W/rmez03Q7HM/pN78CMdPS3DghPOCcbT3HV7wDQSd6q3JeYjAjV+8BNfxYPV8Eh+bzIoViYrHaCoRv0rcTuUCB6IWCgTjaOPG9UwgRfLH/8Jw/2iUZo2rTPFXM8Vrwfvpy6WnVByaCKztiMs4cWi+cI+lnqYlLuNbX6TG9/AcyYW/9yT9Wljn+vW7+PnP34+qg+cp6XS8bPmtW2PcccfcnPB89rNCMgmnnhojk8mwbt2tHHvsZ3j22eNK1lEsf+kXv9iZsFsEPvShYMqDWWXDl2EpZlHXR2yf50E7uh4kcMCxE7udn7Vv7Bge++NxgfvRFTIbx9L0vbnEj09Tf+ocph6a4LBRC9GXfQTFpYNzT76LmpoORBSHDuLHpdm6IcbWTTG2fh+Q7dSMaArOy9ZczxS6kD7kpbiWSxE6wmYG0iA+H5v+Bk5ze2eP2/plOGEcjGpgw60dbHl2TJf2AXlP+eLU0fC/GyArpuECo+G8r+hTMwQd8rMtO/COdqhxfXx1AiH78A86DxrfCJsXg9+Op7X85586TZlDD9iB4yjQaS0mEoledbZ9GeiP1lMscCAqmqFVVu580TI1NZ1TCaDrROzwnAduaeG1W+5BfcVrk26nVHBooksUaL5wdwYBnVX/V57Z0buJyWGdqdR+/M//+LS1+dTVCeedd2DZsskktLd3Bsm1t3daWuHv8CMfeZSNGyfgeS6FAXWOE1yXQsKE3dG5eyZkw5thKWbRJdQzrUejzirEbyNwdwSI1HLEnMvh0EhHMr4xmBycde3sd8rXaFwxlnQyzcj6kSyfv5yXXhjHKy+Np/Hys4MyoxqQUChqavGP+DQ4P8XXdtR3ST8Tz2+cgtfqBe7CJf+Y+7Wefe0KrqpL8LHdSVz1usTQOjUu7zviYFiTDZtzXTirEY4PfuHxhgxunYtsFpy0w+jZozsLF3nKDyns5MPxqbBzfuUVWPGXBr59zj4obSh1gUUW5dAEzEzC9iTPbG9g7dbAynNd+NBZndcHpw5erIe7SkRzlKA7y6unc6bKzZMK83Leckv5aQHdCW2p15lUYE2Vm1JRKbFELCeG55U5thyJBDz4oNNp+Y3NsHJl9ys3Ry1eyHcFhr/DceNe4qKL/otdu+bwy1/ulxfJ6rqlre3+eIgx9h6kCuNwVWXGjBn65JN9n0SYN3l3xNagI6+rhzfWBAeUSs/UTQ7GkumjImUym8ay4sv/j9gxz7Nlw1Fs3RTDb883d5xah8sueocDb/mPwMpyXbjqKlINV/DG1YuY9YdLcLwiMeTRgZja2iDCIPIrf3XRnRxy6fk4XgeyT4WTiAooFIeLL4abboJTjknRMCnJQRMb+ObV3dfZRWDC6/NiPfzt/PzH7R07eLq+gbt3JHrcafUlH2ApEVy4EK68Mu9r4YoritfR23RivS23JymMUmxsbCwpaN3liSycRL9oUeeKEq4LN9zQfUaQPYWINJeZo1Wl885Q6LdJ0wPyGfYUw9Iyg86Jx5lUhpXJDuINf19Zx1HEtZOrM/IUXKpM+taVbHl2DC+uOwJxhelfnsa7r7zLc394DvUVx3WYff1sDpzcBkt+mrfwWYIU3Dc/iPxz3c7BvdD/F/UBtrcHPUik5zhsxzPgdwQhmr1Mi1BovTQ2BmHqf34+weotCZLf6nkduetzVySao7UVLr0U9XyO9uu4x1nBVfskeiRIlU4ULqQ7Eaw0QKW36cSgm/toEFEYpZhOp0uKWXcWb2ECgHnzgghSs7iMnjJsxQz61uH0lsLMHFMapxBLxIo/jRcufDZ3bucMZ9eFL30piEII/X/F8jBFqbQn7gFhqHS/dD7R9omA5yG+Ty1tnOoneawt0SP97e3H7U4EK3Vv9SSd2FAk6qp3XTc3Ibo/sHliRm8Y1mLW2w6nXH7B7iiVmaPo03jhwmeQ3ztPmxYcM3ly54DObbcF4XG1tV1jxqs00NBvnU+kfc/vrGfcj+fj0ka7X8dKp6HH+tvbj1tJuqhydVWaTmyoEovFaGxs7PXvwDD6m2E7Zga9s8x6MlbQZ7rLrFpqtvAQXgExmvB4/nyY3priY06S6d9o4JkDez5m1h9t6cs5h8LYl1EZNmY2+BnWllml+Quj9GSsoM+UMi26my08RH00Ud0OhwBX+QkekwRXHVg6yKLPJy2hWN1OWK/w8g7E2NcQfpYxjD4xrMUMet7hVHOsoCilxKkK418DSXScKgzbFwn+b9kSdNJdLkNfeu4ehDoOlVWSh0o7DaMaDHsx6ymDZqxgsE206aNJUKjN114bJN69/XZ4elGKe29NMuob9Rx94I5O4e5Lz92DUMfeRkXuaYZKOw2jGpiY9YJK1hPbIwwWl2I/mATFtHnhQpjRnuJ+fyZ1fivu1ZGlg8PIzrDnbmrqmZj2wLIdKkbwUGmnYVQDEzOj7/STSVCozQ0N8J6TpM5voyab871oZKfrBiZcR0fPVpSs0LIdbEZwKYZKOw2jGpiYGX2nSiZBIgH73tCAXloXrEagkQzAjY2d68Bs2dK5omelYtpDt+hgMYLLMVTaaRj9TVXFTERmAdcRrI1zq6p+v2D/AcB/AeOybfmhqt5ezTYZVaCKJsHkeQmY3E0G4HA6QjTrbDkxtUgJw9jrqJqYZRdpuwH4OMGy2U+IyF2quj5y2CXAelX9VHal0udE5OfZ9W+MoUQ1TYJydfdUTC1SwjD2OqppmZ0EbFLVzQAi8ivgXCAqZgrsJyIC7Av8FSiyHothlKEnYmqREoYxKBGRWuBi4KPZTQ8DN6lqe7my1RSzMUAm8n4rcHLBMdcDdwHbgP2Az6pqwYpZICLzgHkA48aNq0pjjWGERUoYxmDlRqAW+Fn2/eez275UrmA1xaxwyS0ILLEonwTWAh8Djgb+KCIrVfWtvEKqi4BFEKSzqkJbjeGGRUoYxmDkQ6o6JfL+QRFpqaSgU6UGQWCJRSdjjSWwwKJcCPxWAzYBLwCl1083DMMwqoaIzBKR50Rkk4h0WdBJRP5ZRNZm//4iIp6IHNxdWRFZICIvRcrN7qYJnogcHSl7FOB1c3yOalpmTwATRGQ88BJwPnBBwTFbgJnAShE5DJgIbK5imwzDMIwiVBK0p6rXANdkj/8U8HVV/WsFZX+sqj+soBn/DDwkIpsJvHtHEhg9ZamamKlqh4hcCtxHEJq/WFXXichXs/tvAq4C7hCRpwkafrmqvl6tNhmGYRglqSRoL8rfAb/sZdmiqOoKEZlAYNgI8KyqtlZStqrzzFR1GbCsYNtNkdfbgE9Usw2GYRgGAIeISHQ9mUXZeISQSoL2ABCRkcAs4NIKy14qIo0E69n8o6q+UVDfx1T1QRH5TMGpjhYRVPW3ZT6bZQAxDMMYrIxmG1/hu/1S1wJ4vcx6ZnPOjIAAACAASURBVJUE7YV8Clilqn+toOyNBF44zf7/D+CLBceeBjyYrbdYPSZmhmEYRkVUErQXcj6dLsZuy6rqq+FGEbkFuLuwMlX91+zLf1PVF6L7snEXZalmNKNhGIYxdMgF7YlIHYFg3VV4UDYN4WnA7yspKyKjI8d9GvhLN21YWmTb/1TSeLPMDMMwjEqD9iAQpPtV9d1yZbO7rxaRqQTuwjTwlcJzi8hxwPHAAQXjZvsDIyppv4mZYRiGAZQP2su+vwO4o5Ky2e2fr+DUE4GzgQPJHzd7G/hyBeVNzAzDMIyBRVV/D/xeRBKqmupNHSZmhmEYxmBhjYhcQuByzLkXVbUw+rELFgBiGIZhDBb+EzicIG/vwwRRkW9XUtDEzDAMwxgsHKOqVwLvquoS4CxgciUFTcwMwzCMwUK4btlOEfkgcAAQr6SgjZkZhmEYg4VFInIQ8H8J5qntC1xZSUETM8MwDGPAEREHeCubt/ER4KielB+WbsZMKsPKhSvJpDLlDzYMwzCqjqr6dCYu7jHDzjLLpDI0zWzCa/Nw61waVzQSS8TKFzQMwzCqzR9F5J+A/waiGUb+WrpIwLATs3QyjdfmoZ7itXmkk2kTM8MwjMFBOJ/sksg2pQKX47ATs3hDHKfGwfM9nBqHeEN8oJtkGIZhAKpaUYb8YgwbMcukMqSTaUbWj+xcZafUSj2GYRjGkGJYiFl0nEwcwfd8UPA939yMhmEYewHDQsyi42QoOI6DiuLWueZmNAzD2AsYFmIWb4jj1rm5CMZZ185i145dxBviZpUZhmEMEkTkI8BaVX1XRP4emA5cp6ovlis7LMQslojRuKKRljtbIA6jzhxFLGYiZhiGMci4EZgiIlOAbwK3AU0EK1t3y/CZND0WWvZvYfVrq2lqaiKTsQnThmEYg4wOVVXgXAKL7Dpgv0oKDhsxS6fTeJ6HquJ5Hul0eqCbZBiGYeTztohcAXweuEdEXKC2koLDRszi8Tiu6yIiuK5LPB4f6CYZhmEY+XwWaAW+qKqvAGOAayopOCzGzABisRiNjY2k02ni8biNmRmGYQwyVPUVEVkKTMhueh34XSVlh42YQSBoJmKGYRiDExH5MjAPOBg4msAyuwmYWa7ssHEzZjIZVq5caYEfhmEYg5dLgI8AbwGo6kZgVCUFh4VllslkaGpqwvM8XNelsbHRLDTDMIzBR6uqtokIACJSQ4WJB4eFmJWKZLTxM8MwjEHFwyLybeB9IvJx4GvAHyopOCzELIxkDC2zkSNHmqVmGIYx+PgWcBHwNPAVYBlwayUFh4WYFUYyFrPUTMwMwzAGluxq07dk/3rEsBAz6BrJGLXUbM6ZYRjGwCEiT9PN2JiqnlCujqqKmYjMAq4DXOBWVf1+kWMagGsJZnm/rqplc3D1lFQmRTKdpCHeQCKWsDlnhmEYg4uz+1pBWTETkdOBy4CJ2U3PANerarJMORe4Afg4sBV4QkTuUtX1kWMOBH4GzFLVLSJSUQhmT0hlUsxsmkmb10adW8eKxhU5QTMRMwzDGHiiWfFF5HDgJAJL7YlsJpCydDvPTETOAhYTRJNcAHyOYEBusYjMLlP3ScAmVd2sqm3ArwiSR0a5APitqm7JfqDtlTS6JyTTSdq8Njz1aPPaSKaT/X0KwzAMox8QkS8BjwOfAf4WeExEvlhJ2XKW2T8D56lqS2TbWhF5EvgpgbCVYgwQnaG8FTi54JhjgVoRSRJkRr5OVZsKKxKReQSzwhk3blyZJufTEG+gzq3LWWYN8YYelTcMwzD2GP8MTFPVHQAiUg88SmBUdUs5MTu8QMgAUNWnROSwMmWlyLbCAb4a4ESCVCXvA1Ii8piqbig43yJgEcCMGTMqmkAXkoglWNG4Im/MzDAMwxiUbAXejrx/m3yjqCTlxOzdXu4LGxUdlBoLbCtyzOuq+i7wrog8AkwBNtCPJGIJEzHDMIzBz0vAn0Xk9wTGz7nA4yLyDQBV/VGpguXE7GgRuavIdgGOKlP2CWCCiIzPNvB8gjGyKL8Hrs+mLKkjcEP+uEy9hmEYxt7J89m/kN9n/5ddoLOcmBUGbET5YXcFVbVDRC4F7iMIzV+squtE5KvZ/Tep6jMishx4CvAJwvf/Uq7RhmEYxt6Hqn63t2W7FTNVfTj6XkRqgQ8CL1USeaiqyygIElHVmwreX0OFi68ZhmEYey8iMgP4DnAkEX3q86RpEbkJ+GnWojoASAEecLCI/JOq/rJPLR8AMplMbrI0WyGdTBNviBNL2JwzwzCMAebnBBGNTxN46yqmnJvxVFX9avb1hcAGVT0vO6ntXmBIiVl0KRjnJQeawG/3cetcGlc0mqAZhmEMLK+parE4jbKUE7O2yOuPA7+B3NLWvTnfgJKXYPh5L/h0PnhtHulk2sTMMAxjYPlXEbkVWAG0hhtV9bflCpYTs50icjZBNOJHCFLzhwumva/XzR0gokvBOEc7sKrTMos3xAe6eYZhGMOdC4HjCHL1hm5GBfosZl8BfgIcDsyP5MiaCdzTq6YOIIUJhvmCjZkZhmEMIqao6uTeFCwXzbgBmFVk+30EIfdDjrwEwzH2KhErXB3AMAxjiPGYiEyKJqSvlHLRjD/pbr+q/kNPT2hUh1KrAxiGYQwh/gaYKyIvEIyZCaD9sZ7ZV4G/AL8mSEU19KI+hgnFVgcwMTMMY4jRxRNYKeXEbDTwv4DPAh3AfwNLVfWN3p7QqA62OoBhGEOdcF2z7NqWI3pSttyY2Q7gJuAmERkD/B2wTkQuV9X/7GV7jSpgqwMYhjHUEZFzgP8AjgC2E2QCeQY4vlzZsitNZ08wnUDIPk4wWbq5t401qoetDmAYxhDnKuAU4AFVnSYipxNoT1nKBYB8FzibQBl/BVyhqh19bKxhGIZhFKNdVXeIiCMijqo+JCI/qKRgOcvsSmAzwRpjU4DvZTN/VBxhYhiGYRgVslNE9gUeAX4uItsJ4jXKUk7Mxve1ZYZhGIZRIecC7wFfBz4HHAD8WyUFywWAvFhsu4i4BIttFt1vVJdo5v/cBHDDMIy9hOx6mCmC1FZvVVLG6W6niOwvIleIyPUi8gkJuIzA9fi/+95ko6eEmf8feughmpqayGQyA90kwzCM/uIRYEQ2en4FQa7GOyop2K2YAf8JTCRYW+ZLwP3A3wLnqmp3q1AbVSIv87/nkU6nB7pJhmEY/YWo6i7gMwRraX4amFRJwXJjZkeFSR+zaflfB8ap6tt9aa3Re6KZ/13XDRImG4Zh7B2IiCQIxssuym6raApZuYPawxeq6onICyZkA0th5n8bMzMMYy/i/wBXAL9T1XUichTwUCUFy4nZFBEJB98EeF/2fRiav39vW2z0nrzM/4ZhGHsJqvoIwbhZ+H4zUFFC+3LRjG7fmmYYhmEY1adcAIhhGIZhDHpMzAzDMIwBR0RcEfl6b8ubmAGZVIaVC1eSSdmcLcMwjIFAVT2CDCC9oqKQx72ZTCpD08wmvDYPt86lcUUjsYQFVxiGYQwAq0TkeoK1M98NN6rq6nIFh72YpZNpvDYP9RSvzSOdTJuYGYZhDAwfzv6P5mNU4GPlCg57MYs3xHHr3JxlFm+ID3STDMMwhiWqenpvyw57MYslYjSuaCSdTBNviA85qyyTygzZthuGYUQRkcOA7wFHqOqZIjIJSKjqbeXKDnsxg0DQygnBYBQNG+8zDGMv4w7gduA72fcbCMbPTMz6g0pEo5rLsmRSGVqaWgCY0jgld24b7zMMYy/jEFX9tYhcAbmlYLxKCpqYFaHQCisnGuGyLJ7n4TgOU6dOZcqUKf0iaplUhiWnL8FrDb7PtYvXMjc5l1gi1qPxvsFoWRqGYRTwrojUEwR9ICKnAG9WUtDErICceGQFYu5Dc4k3xHFqHDzfw6lxuohG4bIszc3NtLS00NjY2GdBC4U0xGvvFNNKx/vMHWkYxhDhG8BdwNEisgo4FPhflRSsqpiJyCzgOsAFblXV75c47kPAY8BnVfV/qtmmUoSWy7bHt+WsIK/V49GrH0VRvPasoGjXsuGyLB0dHZAB0tAxvoN0Ot1nMRtZPxJxBPWCE7u1PY+4NHekYRiVUK7PFpFzgasAH+gA5qvqn7L70sDbgAd0qOqM7ParCCZD+8B24Auquq1EE9YBpxGsoynAc1SY3KNqYiYiLnAD8HFgK/CEiNylquuLHPcD4L5qtaUcUculkGfvejb4CrJ4HV3FIFyWZdV/r+K5Jc8FX2UNjDxrZJ/btXz+clQVcYVjP3UsH/nmR3LnzrW71UNcYfb1szlx3old6rHpB4ZhlKPCPnsFcJeqqoicAPwaOC6y/3RVfb2g6mtU9crsOf4B+BfgqyWakVLV6QSiFrZrNTC9XPuraZmdBGzKpvBHRH5FoM7rC467DFgKfKiKbemWqOUCBM8BSmAR+fmmmON0dTNCIGhj2sewQTcE4uMLu57ZBef1vV34gAtjThqTJ6LpZBqv1UN9RX1l2SXLGDV5VBera6hPPzAMY49Qts9W1Xcix7+for6qfFT1rcjbomVE5HBgDMEyY9MIrDKA/YGKrIJqitkYAqdbyFbg5OgBIjIG+DTB7O6SYiYi84B5AOPGjevXRmZSGd7c8iYigobX2IcjP3okkz83mXsvuzdnsYkrzL5hdkkx6G8LqFx98YY44nYKru/7JV2IlUw/AAsUMYy9mENE5MnI+0WquijyvmyfDSAinwYWAqOAsyK7FLhfRBS4OVq3iPw70EgQzFFsYvQngS8AY4H/oFPM3ga+XcmHq6aYSZFthYp8LXB5dhXrkhVlL8oigBkzZpR9EqiU7tyLLz7yIpM/N5m5yblFw+KL0d8WULn6YokYs6+fzbJLluH7PjX71PRJQC1QxDAGGaOBr/RTXQt4PRzHKkElfTaq+jvgdyLyUYLxszOyuz6iqttEZBTwRxF5NrvYJqr6HeA72ZD7S4F/LahzCbBEROao6tIefzaqK2ZbgWhPOBYoHPSbAfwqK2SHALNFpENV76xiu3K0NLXQsbsj+Locsutnd+5fv3Q9J847sUcdeqUWUH/Vd+K8Exk1eVS/CGhhoEhLU4tZaYYxfKikz86hqo+IyNEicoiqvh4GdajqdhH5HYHb8pGCYr8A7qFAzKLnFJH9CSyyWwjGyr6lqveXa3w1xewJYIKIjAdeAs4HLogeoKrjw9cicgdw954Sskwqw9rFa3Pi5da6TPrbSTz986dzx0yaM2lPNKXP9JeARt2ajuuw9va1+B2+WWmGMTwo22eLyDHA89kAkOlAHbBDRN4POKr6dvb1J8gmCxaRCaq6MVvFOcCz3bThi6p6nYh8ksCNeSFBRpCBE7PszO1LCaIUXWCxqq4Tka9m999UrXNHKZWZI51M43vZMEWBqRdO5ewbz+bIjx7J+qXrmTRnUtHIwL2ZqFvzzS1vsvqW1RbObxjDhAr77DlAo4i0A+8RTKfSbE7F32W9bDXAL1R1ebbq74vIRIJQthcpHckIna7O2cDtqtoi3Y1BRajqPDNVXQYsK9hWVMRU9Qv9ff5oZg7XdfMmMRcGV0xpnAIEbrvhJmJRQisvk8rQsqTFwvkNYxhRrs9W1R8QTKUqLLcZmFKizjk9aEKziNwPjAeuEJH9yJscVZq9OgNIYWaO6CTmcsEVwz2qz8L5hx+9ueeH++/E6HcuAqYCm1V1Vza11YWVFNyrxSzMzBFaZvF4PG9/qbEmi+oL6O9glv7AOs/q0Jt7fqB/J3Yv7JX8Tfb/CRV6F3Ps1WIWZuboaTb7aFRfx+4Ols9fzqxrZ/XqB2M/uP6jt51n4Xewt30n/fF5epPybCDTpBXeC7OuncWuHbv2mu90GPPPkdcjCCIim7GVpgNB62l+xFxiYc8DhW2Pb2PJ6UuY+9DcHq17BnRJWjyUf2jFOs09KQy96TyLdXrL5y+vijVRjWtRrs5KU5qVE/QwByhKxWOk0QTcEOQRDesdWT+y1+JSyWdOLkjmst94rR7LLlmGqg5rT8regKp+KvpeRGLA1ZWU3evFrDfEEjGOOfMYnrvzudy2oku/FPzomhc1s+zSZainuPu4HPPJY/KSFoeTr6NiVy0h6O+OtZhVBBTdVukk857SmwwrhQK4fun6PKu7paml4geU7jrovrrcSj0oLGkIHobEEY49Jz83J+TPlVRfufurd7Px3o3Fc3gWEXTHdZgwewIbl23E7/AREU6+7OSK266+Buf2gnRq4kqQlNsP0sE5tQ5TL5yady+UujfDdfvWLl6L7+VPCYl+B8vnL6ejtSN3DnEliEz2sfmRex9bgQ9WcuCwELPC8PxKFtLc9/B9896LI7nOM5PKsOrqVWz4wwbUVxzXIfGNBKkfpfA7gsAbr9XjrW1v5dXxzivvBJ1Tu5d7Cg6fJuc+NBfoKnQj60fy+GuPk46nSRycoH5tfdmn3sLO64hbjuAx/zHOnHQm5514Xu6YUh1KsY67mFUEdJlkvfb2tTkBX3PbGqZdNC0XKdqdZVCJ+MYSMWZdOys3daK7JW/CuvLmztU41I6s7VyFQIP14boT3eZFzUGGFc/P5et0ah2OOfMY9j18X0bsP4IXki+wa/uunKh4rR7JBUkmzZnErh278q5l4XXInSPyEBR24C1NLbnsNOorz935HJuWbWJuMrhXWppaWHPbmvwcDQrP3fkcG+/eyLFnH8v7D39/l+9p/dL1OTHwPI9n7+yc9qOqrLpmFQBn/OCM3PUsfEAJraPwfgeC1x2RpmStpuabmllz6xpm3zAbIC9jTVSsmmY2dSYxgLz7LLyfxekULhwYf8Z4Js2ZFIhzeN/dusastCGKiPyUzjvaIQgGaamk7F4vZoXh+bNmzWL58uVFw/WjTGmcwprFa/DbfBCQs4XnHn6O5fOX83Lzy51JiQl+xI/+8FFUO7epKrUjanFqHHzPRxzhvb++19k5Rcp7rR4rvrWCzKOZvM4BIDM2w5K5S/A2eLiey9ymucQyQXudWifnVop2OO+88k6uU3jh0BdY8OwCPMdj8abF/IbfcGLbiTlRdWvd/M7x1jW5Nogjuc61mFW0/entQU5LJ+g4gLzUYH67T/PNzcHkdCE3AbvQ1VfO9Vf4VO61ebz48Iu8vOblLkJUzEJqXNGY+2xRaxvA90rns8ykMiy7dFnedxJ20IX1RFFf2Xz/Zjbfv7kzq4wTJKlWVVQ115FDtnPPnqOctei1d31oKIbf4edEyqlxgvuQ4Pq//9D3dx/srLDq6lUcdPRBjJo8qsvisGf+9MxO66jC5HJ+h889F98T/EayZTpaO3LXPpdUO6xPOt2dedanp8HDiChurUvDgobctQqvY5hj1WsNxHD709uH7dzRIUg0d2QH8EtVXVVJwb1ezKLh+R0dHaxcuTJYdwzo6Ohg+fLlzJo1q4ugxRIxpl07jealzRAHf7vPqitKX1MlsNDCJ3g0yO8ojuSy729ZuaVk+RcfebF4++NpPNdDHcVTj/SR6ZyY+e1BB/HG82/kWYV55cel8Zxsec+j6eYmdj63Myc6XpvHA996gG1PbMt7KoZsx519Oh5ZP5JRk0ex/xH78+FvfhiAe//h3pxQz7p2FqMmj+raySp5a8F1cfW1drDqmlWdlkKBOzdnGfl+5/XNWhTNNzfTsqQl7+k+uSCZq6tjdwerrl7Fvofvy6blm4peH8ctvgoCBBZU9KGjV4TF/SARdEjYkQOdk/ezx6++ZTUj9h+RbSD5wqPw+vrXuxWyQvwOn4lnT2TMSWMYWT+SZZcuK18IWH3bakZPH513Lq/dY/Vtq7vcK7mprhq8PvDIA9mZ3plXX3crUMQb4rlk3+IK0788ndHTRtPS1MLqW1Z3uS+jqecyqQzrl67vUr/6ymvrXstl9dl8/2beeP4N9jlwH3NBDlKyORp7xV4vZvF4HMfJBnMAb76ZvwL3tm3buOOOO/jCF77QRdBGjx6N4zj44sPqbk4iQaeY+HqCl9e+HDyRZyn8gfW4/ek4rufiqYfru8TT8bz96iurfriq5JN2YfmD7z2YF7fmC+eWlVsQka5P2dmn49adrTz47QcB2MY26o+tZ8PdG3KdnHrKy2te5sR5J3LK/zklcFNF6nJcJxjXyFpmk+ZMYsvKLTnReeP5N3LWizjCs3c+mxPPqGXka1bQtPOBISoKYSBE7lpkXW7dMfWLU0u6OeMNcZxaJ+fe+uD5H+TpXzxdsTVSeC3zrkm2I9/+9PYu9amnrLp6VZcyQUFo393etW4Bt8ZlwuwJKBq4wCNC/NxdzzHhzAns2rGrqKgX4+Xml3m5+eWCxsErq18peq84rhO43Wsc3tr6Ft0hTv4KFNuf3p5rl3rKa+tfY+3itcGDULHrrcFDQEtTCy1LWnL3UiHhvRHy6A8fzd3X5oIcPIjI0xT/pgVQVT2hXB17vZjFYjGmTp1Kc3NzyWN832fVqlWcf/75uW2ZVIblFyxH2wK3xshRI3mXd3P7DzjyAI458xhG7D8iZxWlfpQi8Y0Em/+4uXcdXrH2b41xecvlPPbWY8Q3x4ltLfLj66Zvim2NMXfJXNLxNPF0ifIKUpNdAidbl1Pr5Ma7kguSeYeXEs9MKkPqx6kun11c4cyfnJk3Bjdq8iiSC5K88MALqB9c4/rj6nl9/etse3wb2x7fxnHnHZfXIYdjk3kuXT+IosuN6RU8tXeHuMKUxindB29k6xERdmzc0W19h089nFeffjXfmhOYeO5E9j183yDXZbufizoM3WtdrK+QIoJRs08N0y+azqtrX825ic/86ZldxlDvvvhumm+K3PM+3PO1ezjrZ2cFLsf2EjdN5NqFwR2F5FmSAE7QrjA8PkyFlletK7nxLsdxmH1DftTl+qX5yxxueaS0FyN3WtfJc6kjMPKQkex6bVfumIOPPpi3X3o79z58uLQUbYOOs/tawV4vZgAjRowoe8yGDRvIZDI56yxvwU4P3t3WKWTiCnN+OYdYIsbKhSsD95EG7pzUj1Mc9fGj8qyzokTnA3bX8TowsW0itX+qzXV44gjjzxifdw5xpahLzKlx+PiMj6Mom57YhO/4Xd09tYFVmfpRCl8Dt+GxZx2bG4+aNGdS/ucp6MtCUWhpain61O+1eby85mXOvrHzfo0lYjQsaGDLyi05Eanbty6v3Fvb3sLdx80LO9+1Y1fe2CRCriOPBnqgwargpYReXOGsn52V+w6Lhfzn8ndmv9ttT2zLdZqO63D8Z49nx8Yd7HfEfkw4c0KwKrivgYWZnfDp1rm5yMIpjVOKWn81+9QE1p9IMKZWRESiDxfhw0B3ATNTGqd0cfmGFvTs62dzz9fu6bxfBA6fcjhjThnD6GmjOyMda5xcZGJnQ4LPFi171BlH5Y1dhUm8Q29IeK27a3OXeyzy/ZYSX9/z2XjPxs5rpbB7526cWifnBZj5/Zk8d+dzwQNQ9r4XRyxF2+CjFjiscHxMRE6lm8z9UfZ6MctkMqRSqS7bR4wYwe7du/O2RdNdhZ1j7qkv6iKqcXKv4w2BGzMcD/E9n/SD6ZxYiRO8yHVUGgxch+HKEAhn687WQEx8PxcogIK7T75bLnyq3bVjF5sf2JyL6pr+5em8vPpltj2e/71P+9K0nIiErrTWna2kfhxYk47r5ItEdpD92d8/y6b7NtG4ojH3BL1+6XpGTx3NY9c9luskw44KYO3tnasQ5HV6JaIGC1NmbX96e177p180vUsHmEllcGvd3Jhf2CkV1hVe15H1I9l470Y23BWsAO7U5ItC9LsuDPkvdg+EDxLRzhsIBLHV67xX3OA7iZ6nWEaVUu3e9vg2nv39sznxnHbRtC4PA91ZFbFEjLkPzeWuL93F6+vzV7EPlw0qNYUies23P709J3zR7zoakVh4LWKJGFO/OJXmm5tz98OuHbtyx4Suv0L37tk3n81vlv6G5t3NxNNxjnz1SKZeOJXR00YH7uYCQVNPi46TTf/ydA4Yd0BeJG7u4TEbAVnYZmPAuZbii3C+l933qSL78tjrxSydTucNvIccf/zxjB49mmXLspMtC9JdhWHgeU+wWfyOzgi4WCLG7Btm50Krc3NelNxAdvjDguLzysLXE8+bWHIOWrFOPXyiDxMlT2mckpuXBIEQTmmcQiqTIplO0hBv4NQrTu1yrpxIFHTcUSslmoB54nkTu3SEKxeu7LTKhNyxYYdWKmow2imH/wsjzwqvVakFUws7+PD1rh272PCHDeAHnd0B4w7oVlSj9YWRkNHlcIp1hIWrfqt2PU8pirU7k8qw6b5NXRJh94RYIsY5t56TF7ka1tOdGBZ+J8Usqkosw8JE1eUmsB+/9Hh+8tGf0NbRRg01/OqkX3H2mWezcuHKomPPTq2DOPnz2sJrFW1T4cOKCdmgJK6qTxVuVNUnRSReSQV7vZjF43FqampyEYwArusyZcoUYrEYo0aNKjnnbNeOTt870mllFbooogtkRsPHi/2wyj1Nlzq22L5iHXBhR7917FZmNs2kzWujzq1jReMKErFEyfoKO+5irphiHWGpVQh6mnm/klULylklhVQy2bpUneH2Yi7CwuP6c9XvUt9vb+qZm5zbp3pKWZTl7uXC9he6c6NRrV6bx73N99Lmt+HhgcAz+z7DeZzXxYUczvGLeja6m3vZX9fSqCrdjQW9r5IKJG/8YQgwY8YMffLJJ8sfGCGcJD1y5Eh27dpVcZ7G3uZ/G0y5/xauXMiVD10ZRDOKy1WnX8UVp17RbZnetn+g0131tG1D+TxDkUosswtWX9DlwSssO5DXVUSaVXXGnj7vEUccoV/5ylf6pa4FCxYMyGeoBBH5JfCgqt5SsP0i4BOq+tmydQwHMesLA/0jCom6CsMfeKXlillmg6mNxvChXOaXwXoPmZhVl3BxT6CNILEwwAyClaw/raqvlK3DxGzw01dB2hMdxJ4UTcPY05iY7RlE5HQ6czGuU9UHKy276gxeLwAAG35JREFU14+Z7Q0k00navDY89Wjz2kimkz0SikQsUXVh6WsbDcMwVPUh4KHelHXKH2IMNA3xBurcOlxxqXPraIg3DHSTujAU2mgYxt6LWWZDgEQswYrGFYNyLCFkKLTRMIy9FxOzIUIoDsl0Mu/9YGJPuDMNwzCKYWI2RLAAi+HDYI3oM4zBjInZEMECLAYv/Sk+9tBiGL3DxGyIEAZYhJ2cBVj0jGpZO/0tPsl0klavFV99Wr1We2gxjAoxMRsiWIBF76lEcHordv1tMdePrA/WayNYv61+ZH2v6zKM4YSJ2SCmsIO1AIveUU5w+mJd9bfFvGPXDhwcfHwcHHbs6n4NNcMwAkzMBik2dtIzurOsyglOX6yr/raYG+IN7FOzj7mTDaOHmJgNUizgo3LKCX85wemrddWfFrO5kw2jd5iYDVLqR9YjIjjq2BN6GSoR/u4EZ7AJiLmTDaPnmJgNQlKZFPOXz8dXH9dxuXbWtda5dUN/jFuZgBjG0MbEbBASWhq++ghiQQBlGGyWlWEYe56qipmIzAKuA1zgVlX9fsH+zwGXZ9++A1ysqi3VbNNQwOaU9RyzrAxjeFM1MRMRF7gB+DiwFXhCRO5S1fWRw14ATlPVN0TkTGARcHK12jRUMEvDMAyjZ1TTMjsJ2KSqmwFE5FfAuUBOzFT10cjxjwFjq9ieIYVZGoZhGJVTzfXMxgCZyPut2W2luAi4t4rtMQzDMPZSqmmZSZFtWvTAYKnsi4C/KbF/HjAPYNy4cf3VPsMwBgG2SoDRH1RTzLYCscj7scC2woNE5ATgVuBMVS0atqeqiwjG05gxY0ZRQTQMY+jR20w3JoBGIdUUsyeACSIyHngJOB+4IHqAiIwDfgt8XlU3VLEthlFVrHPtHb3JdGOp3oxiVE3MVLVDRC4F7iMIzV+squtE5KvZ/TcB/wLUAz8TEYAOVZ1RrTYZRiGXP3A5v3jqFxzy/kM4ZcwpNE5p7FHHmMqkuHrV1fxhwx9QlH3cfUp2rqlMiqaWJgCmjZ7Gjl07eiR+oWDubN3J2pfXMmfSHOadOC9vX1/EtFgdldQbPQYoenz0s0evcW+moViqN6MYVZ1npqrLgGUF226KvP4S8KVqtsEwSnH5A5dz9aqrAdj69lbWvrKWxWsXk5wbdI5hJ73utXX8eeuf+cykz/CDM36QK5/KpGhY0kCb15bbVmoNslQmxWl3nEa7357b5ojTrfgVlp/ZNJPdHbvR7NDz/ZvvB2DyqMkVWSqlRAegqaWJ29feTrvXjuM4fCPxDd7a/Ra3rrkVz/eodWtz1yVaX1NLE4vXLsbzPWqcGhTF8728dqQyKU5fcjqtXitA3jXuzTQUm4dpFMMygBjDlt+u/22Xbe1eO8l0EqCLUIXC94MzfkAqk2JBcgHtXnteeVdc6kfWs3DlwlznHKYniwoZBOuVtXa0siC5gAUNC7q1fBYkF9DqteaELGTp+qXs2LWjrKUSimGr1xqEYQmgUOvW4qlHh9/R2S7fz33WkDavjaaWpjyLrVBcfS9Yh01Rdnfszh0fWlKFdT29/WmWrl/KnElzuOLUK4p+9mIkYgmunXVtriyQd71LXUNzA+/dmJgZVaG5uZn169czadIkTjzxxIFuDtC1Q/vMpM906bQdcWiIN9DU0pTXAYf8/Kmfc97E83LCEBUXV1y+nvg685fPz1kN1866lvnL5/Nex3td6hIEH58/bv4jK7eszLOowrbWj6xn/vL5tHa04uN3qWPOpDlMHjW5rKUSXcEayMUVh9ZSTwkFKvz8glDn1uWEUVFuX3s7jVMac5ZU9FyLVi/KtSW0MEOXaTnCh4M2r42HX3y4qDVYeLyNse39mJgZ/U5zczN33303AJs3bwYYcEEr1qGdN/E8rll1TRdrpztefffVnND56uOIw4zRM5g+ejqNUxrzxnNaO1q5ZtU1RQVjwkET2PTGJiCwZKLuyWhbHXHwfA+fIE/n0QcdzcljT+a1d1/LGzMr5arLZDKk02k+MPIDuOJ2ilkWQSr6/ILQOKUx9z7q6qtxarhw6oU0TmmkqaWJm5tvRlE6/A6S6SRXnHoFD819iPnL/3975x4j1X3d8c+5sxg8YCdgwOySCbsWeBpMMjzsmIdx/UDt7tqqG6WVHCllUyWKq7ip01aqkjSqUFQp+aPqK07ikLQxVqKk8UtFBpME15u6a0ziXe+EeM3TDAxmYA2GDWYi7J359Y+5v+t779yZnV122Z3Z85EQOzP3d+/v3Bmd7z3nd+65X+CXJ38JUDaPJweerFnM/OfYHw1Wikp1jW16oGKmjDsDAwNlrydbzKIcGoCIYMx7ztxg6M50szm1me/3f9+LzqzDt9v6I6HwUw2uil3lRVJHzh3BYLynRwtCzInx+vnXy6I6/1qWnavBICKIKYnO6+df540Lb0Q+sy3soLPZLI899hiFQoFYLMZX132VL/d8OXDcjR/cyJ4Te7wUaJPTxGdWfYZdR3aROZ/xtvvQgg/V/Iy4beltZVGiTQ2G1w0tNl1YC2Eh9UdmUVGprrFND1TMlKrYK/vW1lYSicTIA4Dly5d7EZl9PdlUcmgzYzM94RGEmbGZnnN+vuv5QKrPjt2c2uxFYWFHbp38lu4t7D66uxS94bDphk18fPnHOZs/y/Gh42zt3eqNccTh4c6HIyv8Yk4MYwwFUwBKEU2t0UUmk6FQKJTGFwrcPvN2Hrn3ET6343MUTZEZsRl8fVOp93e40nBr71YeeOYBb18P3fpQ2f6jBLSayK1LrOPhzod5cOeDFItFHMdh9aLVfHr1p2uOyqKOAdEVlLXMSWkcxH9VWg/cfPPN5uWXX57saUx5xiJCUfvYtm2bd2Xf1dVV876mwppZ+BxUKz2/Ln5d1VL50RYQVFun8Yoxhi/hOA7f7PxmmTO3xzs+dJzv9n3XEzNBmNU0q6Z1n3Bktnnz5ornIWrs5x/9PL8p/oYVzgq+8alvjPl3FKYeizFEpHcybhtqaWkxDzzwwMgb1sCWLVsmxYYrhYpZA1LJidUyzjp/gF27dnHy5HtNW9asWcO99947UdMeF6wN8XicXbt2jfocjCfVnHatDt0viv61qVpFYKwXNS+88ALPP/88xpTSnHfeeScbN26sefzlHHsqomI29dE0YwMSTi9lMpmAMwmLVtj5O06p/3ShUBj1sSfSgY20b7+Iw3vrW8PDw3R3d3PHHXdcUada7ckHtT4V4XJTZIlEYkw2t7a2EovFvIsB+1uplbFeUI0XjSSkSm2omDUgfkfkOA5DQ0Nks6UHGKTTafr7+701i2KxSDg6jxIxEaG5ubnqcaMcGDAuTqUW55jJZBgeHo4cf/ToUY4fPx4YV4s4jmbuUdtfTrrVv7/R3Ic1HiQSCTZv3jzm726kC6qRuJxzD0yqkCqTg4pZA5JIJGhvb+ell17izJkz9Pb20t/fDwSFqlLkZUXOYiv+nn32WQ4dOsScOXNIpVJl0V53d7cnJoVCgXQ6TTqd9pxKe3s7+Xx+XJ1jNpslnU5z8eJF8vl8xfFR46o5vNFGFv7tHcdh5cqVzJo1i56eHqB0i8K5c+fYtGmTt32tUeZoHfJ4RSVRUV2t+47H497vZrSRnbV9eHgYEWHFihUsWLCg4jF7e3vZuXOnd4G2bNky77cyWVG5cuVRMWtAstkszz77bE3CFaalpYXm5mZ6e3u992zkVigUOHDgAAD9/f1eQUg4vQclQczlcp64DQ8P88wzzyAikcJWzUlms1lOnjzpzcNxHFpbW+nt7WXHjh1lkWUl7DgYOXKoJp5R8wxv7z9/lhdffJFkMsng4CA7d+70HH1UBJtOpwMXBlGRTdRcJjK9Z0XDP+9KQrxr1y6MMTiOQ3t7O1Bah6tFYP0RtjGGffv2AdDU1BR50WGFDErdSw4cOOBlJqB0IRGOypXGQ8WsAbGO1Y+IeBFXVORgOX36NG1tbWVjo1KR1sH6HblNR546dSpQPGKxV8vWKTqOw9KlSzl06BDFYtGrmoRSSvTtt9/2PvPvY3BwcFRCBrBy5UrPmUWtCWWzWXp6erhw4QJtbW04juNFWvbzSkLR2trqbV8JYwzpdJpXXnnFs6dSBGsjaXv+bap4JNG63PReJcKiMTw8TDqdjlyLHRoa8uYA0NfXx+nTp73vt5qoZLNZhoaGIj+rdNER9RtYvHgx2Ww2sG764osv0tLSoutoDYqKWQPid9SW9evXM3fu3LL1m7lz5/KLX/yCCxcuACWHkcvlPAGz4hQWJn/qKCwM1157baSQWRzHwRjjOVwb7dnjb9++nbfeeisgYH6KxSIDAwOjEjLHcUilUt7r8JoQwKOPPuod8+TJk14hjGUkobj++uur2t3U1OTN3+I+LSKQFuvr6ysT776+Pvr7+1m5ciWpVCoQufmFxS+q/ki0FqIKg6zjz2QyZd9HX18fzc3NrFmzJnAbh98uY0zgnAwPD1cU2HCqNnw8YwzxeDzwnv3thddKf/e735X9Pvbv38/+/fsjIzyl/lExa0ASiQRdXV309PRw8GDpMXF79uzxBOTYsWPkcjlSqZQnarb9FMDs2bMDYtbW1sbg4KDnMJYsWcKHP/xhMpkMg4OD5PP5QNownU5XnNvs2bOZP39+4Ko5zJkzZ6raF4vFWL58eaSDDTNjxgxaWlq4++67y5yXf03ohRdeKNuXP3VlHXulwhq7xlNpvlaEAE+IRIR169aRTCbp7+/3hODUqVOBaNif5u3t7Q1Edpb+/v6AWNtx/u+i1jU6K+L+SCrqAskYw44dO1i4cCE9PT1ln1XijTfe8KJMv4D6Lxag9Ds7duxYYGwulwukK+1FSTqdpq+vzxt79uzZSEGE6oKq1C8qZg1KIpFg8eLFHDx40BMxi98prlq1CgimEl999dWAI9+7dy+33nqrJ4gnTpzgxIkTgUpIx3Ho7Oz0jlHJkVy8eJGLFy+Oyha7qA8Eik9yuVzk2pSfd999lxMnTpS9H64ybG1tLUunhgsY/I6zv7+fvr4+0uk0qVQq4MhbWlq45pprEBFmz55dVizT3t7upVn37t1LMplk6dKlXoRaLBaZP39+RVGPOq+FQoHHH3+clpYWby7FYtH7nv3fkxXWamt+/v1mMhk2btzIypUry863MYbnnnuuTHTC59DPgQMHOHz4MMuWLQukl9vb2wMR/qxZs8r219fXBxBIV1o77GfW9paWloqRcjjCU+ofFbMGplIKxmKdXSwW88RHRMqcpU09+lODUfvasWNHYF2umjMZCREhmUxijCmrnty9ezdPP/00V199dcWxYfH2X4mHGyGfO3eOZDIZWPOyaTJbwOCvnMzlcp6Q2+39Tnj16tWBG7abm5sD6buBgYHA2tNTTz3F+fPnAza89dZbxGIx71z6xa4SFy5ciNzG/336L2Q6OzvJ5XIANDc3ezbY82fXNO28o8QFqChkgBfdh39XhUKB/fv3B17n83kv9RuPx9m5M/AoxMD3Gv5OM5lMYFvHcWhra6v4+6tW+arUJypmDYyNJMKdPMIUCgWvirG5udlzxNZx2LTesWPHRixw8EcFzc3NXnrSv4YyEiLCPffcA+AVHfT397N06VKGhoY4deoUAOfOnSsbt3r1apqbmwPVnP4Cj0wmE3CiAD09PRw9erRimiyfz5etCdnjxWIxUqkUqVQqMl0WLnax58ZPWMjsNmvWrOF973ufFxV+7Wtf4513yh9LMxaKxWIgtRyLxejo6CCXywXSdfb/3bt3lxULjQabAfCnU/3EYjHi8XjgHEatmVlEJLAe6E+DigidnZ0cOnQoci5juQlcmfqomDU49p6zsCMOc/LkSQYHB0mlUoGr41wux8WLF8nlcpHRwaJFizh9+rSXjoP31lrCTn5wcDDgQCthhc9fPRcuFInixhtv9CK4hQsXeutFdi3Jf+9SlP1RWMcXVSHa1tbm3b9k186g3LFWi2grYc+fv3px3rx5npDXguM4zJs3b8Q1SHgvMoKgaBSLRW89yk88Hq85uvHbkkql2L59e2BO8XicVatWBaJZf8oR3qvGtef0pptu8qKx8NoZlC50on4vIkJHR4eulzUgKmbTAFsQ0t3dHehmH8a/PmIdtD/CcRwnsBbmOA5vvvmmF3V0dHSwcOHCskIDfyqo0rqUn9FWK9o01sGDBzly5EjZWgqUCjz89y5FHdfuy9oWXlvyO9dYLBYQsnCZvP+CINwmzJ6/qOMvWbKE+fPnlwmZ3b+IMGPGDJLJJLfccgs9PT2cPXuWS5cueRWpFmMMyWSSc+fORVYI+s+BFe1w8U6liPquu+6qac3yhhtuCNywnEgkuO666wJils/n2bNnT+DCJZ/P09HR4d1+4TgOa9eu9bbbt2+fFxn7KxPtLQ7VfjuaYmxMVMymCYlEgjvuuIPjx4+X9S60hNMv4WjEpr782Ct2Ywz5fL5qL0B/VwjHcVi3bh0zZ84kHo+XpQWXL18emGt4vtdccw2tra0sWLCAoaEhLzVW6d4qW7Lud+bWFtveq1qXEntB4I/2/CIdLtm3FwRAQODt9vF4vOw+uUqNnMP38d12221s3LiRbDbLkSNHPBHdsGEDAwMDXvrVGMOePXvo7Oz0bBocHPQKX8LRq52vTQXadK/dzka169ev98rxrXiICIsWLaKtrY29e/d6c4rqvDFnzpwyG+1vwl9w418HKxaL3rqtf0yl+x3DhPetNB4qZtMI/71VfgFxHIdVq1aVVbiFy7GjUl/+m32rOQnbFcIWNHR2dgaEMcqxhkUgyvHWOo9EIkFnZ2egg4U/9VWtbN2/j6jP/ecp6vjhcf6/bSq1qamprLR+pP2HRXTmzJl87GMfC9wvVywWyefzXsf7RCIROO9Rtyt0dXWVnY+oPo2V+jcmk8mq5zOVSgXWzip1hYFgYY29wLERth1nz0elgqdkMsmGDRtq+o6V+kUfATONqaXPnhUKKBeRWvcB4/NIkcu1ZTTbTdTxxzpuNK2r/L0Kp+oNwv5H9VTr1xm2e6Rx9vfqj7bHw359BMzUR8VMuSJM9iNBGpVKYjjdH4Ey3varmE19NM2oXBEqpaSUy6NS6rPa2uV0YLrbPx1RMVOuGOpgFEWZKJyRN1EURVGUqY2KmaIoilL3qJgpiqIodY+KmaIoigKAiLSLyAEROSwiX4z4XETk393Pfy0iq0caKyLzROTnInLI/X/uRMxdxUxRFEVBRGLAN4EOYDnwCRFZHtqsA1jm/vss8O0axn4ReM4Yswx4zn097qiYKYqiKAAfBQ4bY143xrwD/Bi4L7TNfcBjpsRLwPtFpHmEsfcB29y/twF/PBGTr7vS/N7e3jMiUvkBStHMB0ZuHV7/TBc7YfrYqnZODZZMxkFzudxPt2zZMn+cdjdLRPwdJ7YaY7b6Xi8Gsr7XJ4BbQ/uI2mbxCGOvN8bkAIwxORFZOHYTKlN3YmaMWTDaMSLyciPf+W6ZLnbC9LFV7ZzeGGPar+Dhyp+NBOEWUZW2qWXshKJpRkVRFAVK0ZS/q8EHgPCD/iptU23saTcVifv/4DjO2UPFTFEURQH4FbBMRNpE5CrgfmB7aJvtwGa3qnEtMOSmEKuN3Q50uX93Af89EZOvuzTjGNk68iYNwXSxE6aPrWqnckUwxgyLyF8CPwViwH8aY14Vkb9wP38E2Al0AoeBPPDn1ca6u/468BMR+TRwHPjTiZh/3XXNVxRFUZQwmmZUFEVR6h4VM0VRFKXuaXgxG6k9Sz0hIgkReV5EXhORV0XkIff9iu1iRORLru0HROQPJ2/2o0NEYiLyiog8475uOBsBROT9IvKEiOx3v9d1jWiriPy1+5v9jYj8SERmNaKdyuTR0GJWY3uWemIY+FtjzIeAtcCDrj2R7WLcz+4HbgLagW+556QeeAh4zfe6EW0E+DdglzHm94AUJZsbylYRWQz8FXCzMWYFpQKB+2kwO5XJpaHFjNras9QNxpicMabP/fsCJce3mMrtYu4DfmyMuWSMOUqpAumjV3bWo0dEPgDcA3zP93ZD2QggItcCtwP/AWCMeccYc54GtJVS5fTVItIExCndg9SIdiqTRKOLWaXWK3WPiLQCq4C9hNrFALZdTL3a/6/A3wFF33uNZiPADcCbwPfdlOr3RGQ2DWarMeYN4J8olWXnKN2b9DMazE5lcml0MZv0FisTgYjMAZ4EvmCM+W21TSPem9L2i8i9wKAxprfWIRHvTWkbfTQBq4FvG2NWARep3lG8Lm1118LuA9qAFmC2iHyy2pCI96a8ncrk0uhiVkt7lrpCRGZQErIfGmOect+u1C6mHu3fAPyRiGQopYXvEpEf0Fg2Wk4AJ4wxe93XT1ASt0azdRNw1BjzpjHmXeApYD2NZ6cyiTS6mNXSnqVuEBGhtL7ymjHmn30fVWoXsx24X0RmikgbpWcQ/fJKzXcsGGO+ZIz5gDGmldL39T/GmE/SQDZajDGngKyIJN237gYGaDxbjwNrRSTu/obvprTe22h2KpNIQ7ezGqHFSj2yAfgzYJ+I9LvvfZkK7WLcVjQ/oeQgh4EHjTGFKz/tcaFRbfw88EP3Yut1Su2BHBrIVmPMXhF5AuijNO9XKLWvmkMD2alMLtrOSlEURal7Gj3NqCiKokwDVMwURVGUukfFTFEURal7VMwURVGUukfFTFEURal7VMyUukBE/t7tuv5rEekXkVsn8FjdInLzRO1fUZTxp6HvM1MaAxFZB9wLrDbGXBKR+cBVkzwtRVGmEBqZKfVAM3DGGHMJwBhzxhhzUkT+QUR+5T4ja6vbXcJGVv8iIv/rPiPsFhF5yn1u1j+627S6zxDb5kZ7T4hIPHxgEfkDEdkjIn0i8rjbF1NRlCmGiplSD/wMSIjIQRH5loj8vvv+w8aYW9xnZF1NKXqzvGOMuR14hFKbpAeBFcCnROQ6d5sksNUY8xHgt8Dn/Ad1I8CvAJuMMauBl4G/mRgTFUW5HFTMlCmPMeZtYA3wWUqPTPkvEfkUcKeI7BWRfcBdlB7maLE9OPcBr7rPgrtEqWWUbWKbNcb0uH//ALgtdOi1lB7q2uO2D+sCloyrcYqijAu6ZqbUBW5vvm6g2xWvB4CPUHp6cVZEtgCzfEMuuf8XfX/b1/Z3H+7lFn4twM+NMZ+4bAMURZlQNDJTpjwikhSRZb63VgIH3L/PuOtYfzKGXX/QLS4B+ATwf6HPXwI2iMhSdx5xEblxDMdRFGWC0chMqQfmAN8QkfdT6qJ+mFLK8TylNGKG0uN+RstrQJeIfAc4BHzb/6Ex5k03nfkjEZnpvv0V4OAYjqUoygSiXfOVaYmItALPuMUjiqLUOZpmVBRFUeoejcwURVGUukcjM0VRFKXuUTFTFEVR6h4VM0VRFKXuUTFTFEVR6h4VM0VRFKXu+X/7EYXw31joSQAAAABJRU5ErkJggg==\n",
>>>>>>> ecb73c54a487c966d00eb80a38967405cf0f7fbe
      "text/plain": [
       "<Figure size 432x288 with 2 Axes>"
      ]
     },
     "metadata": {
      "needs_background": "light"
     },
     "output_type": "display_data"
    }
   ],
   "source": [
<<<<<<< HEAD
    "traj_cluster=md.load_dcd('test_data/protein/samples_3gb1_withrandom_shuffled.dcd',top=native_pdb)\n",
    "labels=np.loadtxt('test_data/protein/samples_3gb1_label_withrandom_shuffled.dat')\n",
    "traj_cluster=traj_cluster[labels==0]+traj_cluster[labels==1]+traj_cluster[labels==2]+traj_cluster[labels==3]+traj_cluster[labels==4]\\\n",
    "            +traj_cluster[labels==5]+traj_cluster[labels==-1]\n",
    "rmsd_2d=np.zeros((len(traj_cluster),len(traj_cluster)))\n",
    "upper_indices = np.triu_indices(len(traj_cluster),k=0)\n",
    "lower_indices = (upper_indices[1],upper_indices[0])\n",
    "r2d = []\n",
    "for i in range(len(traj_cluster)):\n",
    "    r2d.append(md.rmsd(traj_cluster[i:],traj_cluster[i],atom_indices=all_CA))\n",
    "    if i % 100 == 0:\n",
    "        print(i)\n",
    "print(np.concatenate(r2d).shape)\n",
    "rmsd_2d[lower_indices] = np.concatenate(r2d)\n",
    "rmsd_2d[upper_indices] = np.concatenate(r2d)\n",
    "sns.heatmap(rmsd_2d*10,square=True,xticklabels=200,yticklabels=200,cmap='bwr',cbar_kws={'label':'RMSD'},vmin=0,vmax=10)\n",
    "plt.xlabel(\"Frame #\")\n",
    "plt.ylabel(\"Frame #\")\n",
    "ax = plt.gca()\n",
    "ax.tick_params(direction='out')\n",
    "plt.tight_layout()\n",
    "plt.savefig('/orange/alberto.perezant/liweichang/msm/MultipleComparisons/datasets/Fig_S2b.pdf')\n"
=======
    "# traj = md.load_dcd('test_data/protein/3gb1.dcd',top='test_data/protein/3GB1.pdb')\n",
    "# topfile=traj.top\n",
    "# pdb=md.load_pdb('test_data/protein/3GB1.pdb')\n",
    "# all_CA=topfile.select(\"backbone==1\")\n",
    "# traj=traj[::10]\n",
    "true_rmsd=md.rmsd(traj,pdb,atom_indices=all_CA)\n",
    "label_index = plot_test_result(true_rmsd,hie_tree,-4)\n",
    "#plt.scatter(range(len(true_rmsd)),true_rmsd)\n",
    "#plt.scatter(index_aa,true_rmsd[index_aa],color='r')"
   ]
  },
  {
   "cell_type": "code",
   "execution_count": 42,
   "metadata": {},
   "outputs": [
    {
     "data": {
      "text/plain": [
       "108"
      ]
     },
     "execution_count": 42,
     "metadata": {},
     "output_type": "execute_result"
    }
   ],
   "source": [
    "len(index_aa)"
>>>>>>> ecb73c54a487c966d00eb80a38967405cf0f7fbe
   ]
  },
  {
   "cell_type": "code",
<<<<<<< HEAD
   "execution_count": 30,
   "metadata": {
    "scrolled": false
   },
=======
   "execution_count": 66,
   "metadata": {},
>>>>>>> ecb73c54a487c966d00eb80a38967405cf0f7fbe
   "outputs": [
    {
     "data": {
      "text/plain": [
<<<<<<< HEAD
       "[385, 345, 297, 224, 218, 207]"
      ]
     },
     "execution_count": 30,
=======
       "<matplotlib.collections.PathCollection at 0x7f03ac4fca90>"
      ]
     },
     "execution_count": 66,
>>>>>>> ecb73c54a487c966d00eb80a38967405cf0f7fbe
     "metadata": {},
     "output_type": "execute_result"
    },
    {
     "data": {
<<<<<<< HEAD
      "image/png": "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\n",
=======
      "image/png": "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\n",
>>>>>>> ecb73c54a487c966d00eb80a38967405cf0f7fbe
      "text/plain": [
       "<Figure size 1440x576 with 1 Axes>"
      ]
     },
     "metadata": {
      "needs_background": "light"
     },
     "output_type": "display_data"
    }
   ],
   "source": [
<<<<<<< HEAD
    "plot_simi_threshold(tree,20,min_simi=False)\n",
    "# [len(i) for i in label_index]\n",
    "# list(dic.items())[-20:]\n",
    "[385, 345, 297, 224, 218, 207]"
=======
    "label_concate = np.concatenate(label_index)\n",
    "# traj = md.load_dcd('../proteinG_3gb1/yhalfres_0_0/trajectory.00.dcd',top='../proteinG_3gb1/3GB1.pdb')\n",
    "# topfile=traj.top\n",
    "# pdb=md.load_pdb('../proteinG_3gb1/3GB1.pdb')\n",
    "# all_CA=topfile.select(\"backbone==1\")\n",
    "traj_cluster=traj[label_concate]\n",
    "cluster_rmsd=md.rmsd(traj_cluster,pdb,atom_indices=all_CA)\n",
    "plt.scatter(range(len(cluster_rmsd)),list(cluster_rmsd),marker='.')\n",
    "#plt.ylim(0,2)"
>>>>>>> ecb73c54a487c966d00eb80a38967405cf0f7fbe
   ]
  },
  {
   "cell_type": "code",
<<<<<<< HEAD
   "execution_count": 22,
=======
   "execution_count": 67,
>>>>>>> ecb73c54a487c966d00eb80a38967405cf0f7fbe
   "metadata": {},
   "outputs": [
    {
     "name": "stdout",
     "output_type": "stream",
     "text": [
      "0\n",
      "100\n",
      "200\n",
      "300\n",
      "400\n",
      "500\n",
      "600\n",
      "700\n",
      "800\n",
      "(398278,)\n"
     ]
    },
    {
     "data": {
<<<<<<< HEAD
      "image/png": "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\n",
=======
      "image/png": "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\n",
>>>>>>> ecb73c54a487c966d00eb80a38967405cf0f7fbe
      "text/plain": [
       "<Figure size 1440x576 with 1 Axes>"
      ]
     },
     "metadata": {
      "needs_background": "light"
     },
     "output_type": "display_data"
    }
   ],
   "source": [
<<<<<<< HEAD
    "plot_simi_threshold(tree,6,60)"
   ]
  },
  {
   "cell_type": "code",
   "execution_count": 31,
   "metadata": {},
   "outputs": [
    {
     "name": "stdout",
     "output_type": "stream",
     "text": [
      "[219, 233, 238, 251, 339, 396]\n",
      "[207, 218, 224, 297, 345, 385]\n"
     ]
    }
   ],
   "source": [
    "label=[int(i) for i in np.loadtxt('test_data/protein/samples_3gb1_shuffled_label.dat')]\n",
    "cluster_label=np.zeros((len(traj)))\n",
    "for i in range(len(label_index)):\n",
    "    cluster_label[label_index[i]]=i\n",
    "cluster_label=np.array([i for i in np.array(cluster_label) if i != -1])\n",
    "# v_meas(np.array([i for i in np.array(label) if i != -1]),cluster_label[np.array(label)!=-1])\n",
    "print(sorted([(np.array(label)==i).sum() for i in range(6)]))\n",
    "print(sorted([385, 345, 297, 224, 218, 207]))"
   ]
  },
  {
   "cell_type": "code",
   "execution_count": 320,
   "metadata": {
    "scrolled": false
   },
   "outputs": [
    {
     "data": {
      "text/plain": [
       "array([[2845.        , 2844.        ,  107.30237154, 1012.        ],\n",
       "       [2842.        , 2835.        ,   95.10895884,  413.        ],\n",
       "       [2843.        , 2841.        ,   81.52773376,  631.        ]])"
      ]
     },
     "execution_count": 320,
     "metadata": {},
     "output_type": "execute_result"
    }
   ],
   "source": [
    "# list(dic.items())[-2][0]\n",
    "# len([int(s) for s in list(dic.items())[-2][0].split(',')])\n",
    "# checks=[int(i-inp_len) for i in np.concatenate(tree[np.array(step)[np.array(diff)>5]][:,:2]) if i > inp_len]\n",
    "# print(checks[25:])\n",
    "# checks=np.array(list(dic.items()))[:,0][checks[25:]]\n",
    "# checkss=np.unique(np.concatenate([[int(s) for s in d.split(',')] for d in checks]))\n",
    "tree[np.array(step)[np.array(diff)>20]]"
   ]
  },
  {
   "cell_type": "code",
   "execution_count": 442,
   "metadata": {},
   "outputs": [
    {
     "data": {
      "text/plain": [
       "array([[3.96000000e+02, 4.23000000e+02, 2.00000000e+00, 2.00000000e+00],\n",
       "       [3.98000000e+02, 4.25000000e+02, 2.00000000e+00, 2.00000000e+00],\n",
       "       [3.99000000e+02, 4.26000000e+02, 2.00000000e+00, 2.00000000e+00],\n",
       "       ...,\n",
       "       [3.36700000e+03, 3.36500000e+03, 1.52374723e+02, 4.51000000e+02],\n",
       "       [3.36900000e+03, 3.36200000e+03, 1.68263754e+02, 1.23600000e+03],\n",
       "       [3.37100000e+03, 3.37000000e+03, 1.87494961e+02, 1.68700000e+03]])"
      ]
     },
     "execution_count": 442,
     "metadata": {},
     "output_type": "execute_result"
    }
   ],
   "source": [
    "tree#[3371-inp_len]"
   ]
  },
  {
   "cell_type": "code",
   "execution_count": 31,
   "metadata": {},
   "outputs": [
    {
     "data": {
      "text/plain": [
       "1182"
      ]
     },
     "execution_count": 31,
     "metadata": {},
     "output_type": "execute_result"
    }
   ],
   "source": [
    "diff=[]\n",
    "single_merge=[]\n",
    "single_merge_step=[]\n",
    "step=[]\n",
    "inp_len=inp.shape[0]\n",
    "for i in list(range(tree.shape[0]))[1:][::-1]:\n",
    "    a=tree[i][0]\n",
    "    b=tree[i][1]\n",
    "    if a > inp_len:\n",
    "        a=tree[i][0]-inp_len\n",
    "        if b > inp_len:\n",
    "            b=tree[i][1]-inp_len\n",
    "            temp_diff = tree[i][2] - max(tree[int(a)][2],tree[int(b)][2])\n",
    "            diff.append(temp_diff)\n",
    "            step.append(i)\n",
    "        else:\n",
    "            temp_diff = tree[i][2] - tree[int(a)][2]\n",
    "            diff.append(temp_diff)\n",
    "            step.append(i)\n",
    "            single_merge.append(temp_diff)\n",
    "            single_merge_step.append(b)\n",
    "    else:\n",
    "        if b > inp_len:\n",
    "            b=tree[i][1]-inp_len\n",
    "            temp_diff = tree[i][2] - tree[int(b)][2]\n",
    "            diff.append(temp_diff)\n",
    "            step.append(i)\n",
    "            single_merge.append(temp_diff)\n",
    "            single_merge_step.append(a)\n",
    "len(diff)"
   ]
  },
  {
   "cell_type": "code",
   "execution_count": 33,
   "metadata": {},
   "outputs": [],
   "source": [
    "np.array(step)[np.array(diff)>10]\n",
    "# np.array(list(dic.items()))[-1][1]\n",
    "# len([[int(s) for s in d.split(',')] for d in np.array(list(dic.items()))[:,0]][-2])\n",
    "# tree[-2]\n",
    "np.save('3gb1_clustering_tree.npy',tree)"
=======
    "rmsd_2d=np.zeros((len(traj_cluster),len(traj_cluster)))\n",
    "upper_indices = np.triu_indices(len(traj_cluster),k=0)\n",
    "lower_indices = (upper_indices[1],upper_indices[0])\n",
    "r2d = []\n",
    "for i in range(len(traj_cluster)):\n",
    "    r2d.append(md.rmsd(traj_cluster[i:],traj_cluster[i],atom_indices=all_CA))\n",
    "    if i % 100 == 0:\n",
    "        print(i)\n",
    "print(np.concatenate(r2d).shape)\n",
    "rmsd_2d[lower_indices] = np.concatenate(r2d)\n",
    "rmsd_2d[upper_indices] = np.concatenate(r2d)\n",
    "sns.heatmap(rmsd_2d*10,square=True,xticklabels=100,yticklabels=100,cmap='bwr',cbar_kws={'label':'RMSD'},vmin=0,vmax=10)\n",
    "plt.xlabel(\"Frame #\")\n",
    "plt.ylabel(\"Frame #\")\n",
    "ax = plt.gca()\n",
    "ax.tick_params(direction='out')\n",
    "plt.tight_layout()\n",
    "#plt.savefig('test_Faith_1000samples_-40cluster_2drmsd.png')"
>>>>>>> ecb73c54a487c966d00eb80a38967405cf0f7fbe
   ]
  },
  {
   "cell_type": "code",
   "execution_count": 48,
   "metadata": {
    "scrolled": true
   },
   "outputs": [
    {
     "data": {
      "text/plain": [
       "array([[3.34800000e+03, 3.34100000e+03, 9.51510143e+01, 1.33100000e+03],\n",
       "       [3.34700000e+03, 3.34500000e+03, 8.61583630e+01, 1.12400000e+03],\n",
       "       [3.34600000e+03, 3.34000000e+03, 7.46710817e+01, 9.06000000e+02],\n",
       "       [3.34400000e+03, 3.32300000e+03, 6.23519062e+01, 6.82000000e+02],\n",
       "       [3.33200000e+03, 3.23800000e+03, 4.89595376e+01, 1.73000000e+02],\n",
       "       [2.95100000e+03, 1.28300000e+03, 3.78235294e+01, 1.70000000e+01],\n",
       "       [2.44500000e+03, 1.60400000e+03, 3.50000000e+01, 3.00000000e+00],\n",
       "       [2.14000000e+03, 9.62000000e+02, 3.10000000e+01, 3.00000000e+00],\n",
       "       [2.16200000e+03, 4.80000000e+02, 2.90000000e+01, 3.00000000e+00],\n",
       "       [2.09300000e+03, 1.52300000e+03, 2.70000000e+01, 3.00000000e+00],\n",
       "       [1.83200000e+03, 2.37000000e+02, 2.50000000e+01, 3.00000000e+00],\n",
       "       [1.74400000e+03, 1.75000000e+02, 2.50000000e+01, 3.00000000e+00],\n",
       "       [1.97600000e+03, 1.00000000e+00, 2.50000000e+01, 3.00000000e+00],\n",
       "       [1.70700000e+03, 1.36100000e+03, 1.70000000e+01, 3.00000000e+00],\n",
       "       [1.68100000e+03, 1.14000000e+03, 1.70000000e+01, 3.00000000e+00]])"
      ]
     },
     "execution_count": 48,
     "metadata": {},
     "output_type": "execute_result"
    }
   ],
   "source": [
    "checks=np.array(list(dic.items()))[:,0][np.array(step)[np.array(diff)>7][5:]]\n",
    "checkss=np.unique(np.concatenate([[int(s) for s in d.split(',')] for d in checks]))\n",
    "tree[np.array(step)[np.array(diff)>7]]\n",
    "# tree[np.array(step[:100])[np.array(diff[:100])>15]][:,3]\n"
   ]
  },
  {
   "cell_type": "code",
   "execution_count": 32,
   "metadata": {},
   "outputs": [
    {
     "data": {
      "text/plain": [
       "<matplotlib.collections.PathCollection at 0x2acbcde9ded0>"
      ]
     },
     "execution_count": 32,
     "metadata": {},
     "output_type": "execute_result"
    },
    {
     "data": {
      "image/png": "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\n",
      "text/plain": [
       "<Figure size 432x288 with 1 Axes>"
      ]
     },
     "metadata": {
      "needs_background": "light"
     },
     "output_type": "display_data"
    }
   ],
   "source": [
    "# diff=[tree[:,2][i]-tree[:,2][i-1] for i in range(1,tree[:,2].shape[0]-1)]\n",
    "plt.scatter(step[:50],diff[:50],marker='.',linewidths=3,color='black')\n",
    "plt.scatter(step[2:5],diff[2:5],marker='.',linewidths=10,color='r')\n",
    "# plt.scatter(single_merge_step,single_merge,marker='.')\n",
    "# np.array(step)[np.array(diff)>5]\n",
    "# [[int(s) for s in d.split(',')] for d in checks]"
   ]
  },
  {
   "cell_type": "code",
   "execution_count": 35,
   "metadata": {},
   "outputs": [],
   "source": [
    "# for index,i in enumerate(label_index):\n",
    "#     traj[i].save_dcd('test_data/protein/cluster_G_{}.dcd'.format(index))\n",
    "np.save('G_diff',diff)"
   ]
  },
  {
   "cell_type": "code",
   "execution_count": 23,
   "metadata": {},
   "outputs": [
    {
     "data": {
      "text/plain": [
       "array([0.35735038], dtype=float32)"
      ]
     },
     "execution_count": 23,
     "metadata": {},
     "output_type": "execute_result"
    }
   ],
   "source": [
    "traj = md.load_dcd('../proteinG_3gb1/yhalfres_0_0/trajectory.00.dcd',top='../proteinG_3gb1/3GB1.pdb')\n",
    "topfile=traj.top\n",
    "pdb=md.load_pdb('../proteinG_3gb1/3GB1.pdb')\n",
    "all_CA=topfile.select(\"backbone==1\")\n",
    "rmsd=md.rmsd(traj[8500],pdb,atom_indices=all_CA)\n",
    "# plt.scatter(range(len(rmsd)),list(rmsd),marker='.')\n",
    "# plt.ylim(0,1.5)\n",
    "rmsd"
   ]
  },
  {
   "cell_type": "code",
   "execution_count": 143,
   "metadata": {
    "scrolled": true
   },
   "outputs": [
    {
     "data": {
      "text/plain": [
       "Text(0, 0.5, 'RMSD')"
      ]
     },
     "execution_count": 143,
     "metadata": {},
     "output_type": "execute_result"
    },
    {
     "data": {
      "image/png": "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\n",
      "text/plain": [
       "<Figure size 432x288 with 1 Axes>"
      ]
     },
     "metadata": {
      "needs_background": "light"
     },
     "output_type": "display_data"
    }
   ],
   "source": [
    "traj=traj[::10]\n",
    "true_rmsd=md.rmsd(traj,pdb,atom_indices=all_CA)\n",
    "#list(rmsd)\n",
    "plt.scatter(range(len(true_rmsd)),list(true_rmsd),marker='.')\n",
    "plt.xlabel('Sample')\n",
    "plt.ylabel('RMSD')"
   ]
  },
  {
   "cell_type": "code",
   "execution_count": 15,
   "metadata": {},
   "outputs": [],
   "source": [
    "def correct_ratio(x):\n",
    "    unfold = np.sum((x>0.8) & (x<1.8))/x.shape[0]\n",
    "    intermediate = np.sum((x>0.25) & (x<0.45))/x.shape[0]\n",
    "    fold = np.sum((x>0.0) & (x<0.25))/x.shape[0]\n",
    "    molten = np.sum((x>0.45) & (x<0.8))/x.shape[0]\n",
    "    other = 1-unfold-intermediate-fold-molten\n",
    "    ratio = [round(unfold,4),round(intermediate,4),round(fold,4),round(molten,4),round(other,4)]\n",
    "    return ratio"
   ]
  },
  {
   "cell_type": "code",
   "execution_count": 68,
   "metadata": {
    "scrolled": true
   },
   "outputs": [
    {
     "name": "stderr",
     "output_type": "stream",
     "text": [
      "/home/liwei/Prorgram/miniconda3/envs/msm/lib/python3.7/site-packages/mdtraj/core/trajectory.py:1129: FutureWarning: Using a non-tuple sequence for multidimensional indexing is deprecated; use `arr[tuple(seq)]` instead of `arr[seq]`. In the future this will be interpreted as an array index, `arr[np.array(seq)]`, which will result either in an error or a different result.\n",
      "  xyz = self.xyz[key]\n",
      "/home/liwei/Prorgram/miniconda3/envs/msm/lib/python3.7/site-packages/mdtraj/core/trajectory.py:1130: FutureWarning: Using a non-tuple sequence for multidimensional indexing is deprecated; use `arr[tuple(seq)]` instead of `arr[seq]`. In the future this will be interpreted as an array index, `arr[np.array(seq)]`, which will result either in an error or a different result.\n",
      "  time = self.time[key]\n"
     ]
    },
    {
     "name": "stdout",
     "output_type": "stream",
     "text": [
      "0\n",
      "100\n",
      "200\n",
      "300\n",
      "400\n",
      "500\n",
      "600\n",
      "700\n",
      "800\n"
     ]
    }
   ],
   "source": [
    "all_clust=[[int(d) for d in [*i.split(',')]] for i in list(dic.keys())]\n",
    "ave_rmsd = []\n",
    "all_rmsd = []\n",
    "for index,i in enumerate(all_clust):\n",
    "    \n",
    "    traj_comp=traj[[np.array(i)-1]]\n",
    "    rmsd=md.rmsd(traj_comp,pdb,atom_indices=all_CA)\n",
    "    ave_rmsd.append(np.average(rmsd))\n",
    "    all_rmsd.append(rmsd)\n",
    "    if index % 100 == 0:\n",
    "        print(index)\n",
    "    #print(rmsd)"
   ]
  },
  {
   "cell_type": "code",
   "execution_count": 146,
   "metadata": {
    "scrolled": true
   },
   "outputs": [
    {
     "data": {
      "text/plain": [
       "[0.252, 0.307, 0.349, 0.091, 0.001]"
      ]
     },
     "execution_count": 146,
     "metadata": {},
     "output_type": "execute_result"
    }
   ],
   "source": [
    "correct_ratio(true_rmsd)"
   ]
  },
  {
   "cell_type": "code",
   "execution_count": 69,
   "metadata": {
    "scrolled": true
   },
   "outputs": [
    {
     "name": "stdout",
     "output_type": "stream",
     "text": [
      "2 [0.0, 1.0, 0.0, 0.0, 0.0]\n",
      "2 [0.0, 0.0, 1.0, 0.0, 0.0]\n",
      "2 [0.0, 0.0, 1.0, 0.0, 0.0]\n",
      "2 [0.0, 0.0, 1.0, 0.0, 0.0]\n",
      "2 [0.0, 0.0, 1.0, 0.0, 0.0]\n",
      "2 [1.0, 0.0, 0.0, 0.0, 0.0]\n",
      "2 [0.0, 1.0, 0.0, 0.0, 0.0]\n",
      "2 [0.0, 1.0, 0.0, 0.0, 0.0]\n",
      "2 [0.0, 1.0, 0.0, 0.0, 0.0]\n",
      "2 [0.0, 1.0, 0.0, 0.0, 0.0]\n",
      "2 [0.0, 0.0, 1.0, 0.0, 0.0]\n",
      "2 [0.0, 1.0, 0.0, 0.0, 0.0]\n",
      "2 [0.0, 0.0, 1.0, 0.0, 0.0]\n",
      "2 [0.0, 0.0, 1.0, 0.0, 0.0]\n",
      "2 [0.0, 0.0, 1.0, 0.0, 0.0]\n",
      "2 [0.0, 0.0, 1.0, 0.0, 0.0]\n",
      "2 [0.0, 0.0, 1.0, 0.0, 0.0]\n",
      "2 [0.0, 0.0, 1.0, 0.0, 0.0]\n",
      "2 [0.0, 1.0, 0.0, 0.0, 0.0]\n",
      "2 [0.0, 0.0, 1.0, 0.0, 0.0]\n",
      "2 [0.0, 1.0, 0.0, 0.0, 0.0]\n",
      "2 [0.0, 1.0, 0.0, 0.0, 0.0]\n",
      "2 [0.0, 0.0, 1.0, 0.0, 0.0]\n",
      "2 [1.0, 0.0, 0.0, 0.0, 0.0]\n",
      "2 [0.0, 1.0, 0.0, 0.0, 0.0]\n",
      "2 [0.0, 0.0, 1.0, 0.0, 0.0]\n",
      "2 [1.0, 0.0, 0.0, 0.0, 0.0]\n",
      "2 [0.0, 0.0, 1.0, 0.0, 0.0]\n",
      "2 [0.0, 1.0, 0.0, 0.0, 0.0]\n",
      "2 [1.0, 0.0, 0.0, 0.0, 0.0]\n",
      "4 [1.0, 0.0, 0.0, 0.0, 0.0]\n",
      "2 [0.0, 1.0, 0.0, 0.0, 0.0]\n",
      "2 [0.0, 1.0, 0.0, 0.0, 0.0]\n",
      "2 [0.0, 1.0, 0.0, 0.0, 0.0]\n",
      "2 [0.0, 1.0, 0.0, 0.0, 0.0]\n",
      "2 [0.0, 0.0, 1.0, 0.0, 0.0]\n",
      "2 [0.0, 0.0, 1.0, 0.0, 0.0]\n",
      "2 [0.0, 0.0, 1.0, 0.0, 0.0]\n",
      "2 [0.0, 1.0, 0.0, 0.0, 0.0]\n",
      "2 [0.0, 0.0, 1.0, 0.0, 0.0]\n",
      "2 [0.0, 1.0, 0.0, 0.0, 0.0]\n",
      "2 [0.0, 0.0, 1.0, 0.0, 0.0]\n",
      "2 [0.0, 1.0, 0.0, 0.0, 0.0]\n",
      "2 [0.0, 0.0, 1.0, 0.0, 0.0]\n",
      "2 [0.0, 1.0, 0.0, 0.0, 0.0]\n",
      "2 [0.0, 0.0, 1.0, 0.0, 0.0]\n",
      "2 [0.0, 0.0, 1.0, 0.0, 0.0]\n",
      "2 [0.0, 0.0, 1.0, 0.0, 0.0]\n",
      "2 [0.0, 0.0, 1.0, 0.0, 0.0]\n",
      "2 [0.0, 0.0, 1.0, 0.0, 0.0]\n",
      "2 [0.0, 0.0, 1.0, 0.0, 0.0]\n",
      "2 [0.0, 1.0, 0.0, 0.0, 0.0]\n",
      "2 [0.0, 1.0, 0.0, 0.0, 0.0]\n",
      "2 [0.0, 0.0, 1.0, 0.0, 0.0]\n",
      "2 [1.0, 0.0, 0.0, 0.0, 0.0]\n",
      "2 [0.0, 1.0, 0.0, 0.0, 0.0]\n",
      "2 [0.0, 0.0, 1.0, 0.0, 0.0]\n",
      "2 [0.0, 1.0, 0.0, 0.0, 0.0]\n",
      "2 [0.0, 0.0, 1.0, 0.0, 0.0]\n",
      "2 [0.0, 0.0, 1.0, 0.0, 0.0]\n",
      "2 [0.0, 0.0, 1.0, 0.0, 0.0]\n",
      "2 [1.0, 0.0, 0.0, 0.0, 0.0]\n",
      "2 [1.0, 0.0, 0.0, 0.0, 0.0]\n",
      "2 [1.0, 0.0, 0.0, 0.0, 0.0]\n",
      "2 [0.0, 1.0, 0.0, 0.0, 0.0]\n",
      "2 [0.0, 0.0, 1.0, 0.0, 0.0]\n",
      "2 [0.0, 0.0, 1.0, 0.0, 0.0]\n",
      "2 [0.0, 1.0, 0.0, 0.0, 0.0]\n",
      "2 [0.0, 1.0, 0.0, 0.0, 0.0]\n",
      "2 [0.0, 1.0, 0.0, 0.0, 0.0]\n",
      "4 [0.0, 1.0, 0.0, 0.0, 0.0]\n",
      "4 [0.0, 1.0, 0.0, 0.0, 0.0]\n",
      "4 [1.0, 0.0, 0.0, 0.0, 0.0]\n",
      "2 [0.0, 1.0, 0.0, 0.0, 0.0]\n",
      "2 [1.0, 0.0, 0.0, 0.0, 0.0]\n",
      "2 [0.0, 1.0, 0.0, 0.0, 0.0]\n",
      "2 [0.0, 0.0, 1.0, 0.0, 0.0]\n",
      "2 [0.0, 1.0, 0.0, 0.0, 0.0]\n",
      "2 [0.0, 1.0, 0.0, 0.0, 0.0]\n",
      "2 [0.0, 0.0, 1.0, 0.0, 0.0]\n",
      "3 [0.0, 0.0, 1.0, 0.0, 0.0]\n",
      "4 [0.0, 0.0, 1.0, 0.0, 0.0]\n",
      "2 [1.0, 0.0, 0.0, 0.0, 0.0]\n",
      "2 [0.0, 0.0, 1.0, 0.0, 0.0]\n",
      "2 [0.0, 0.0, 1.0, 0.0, 0.0]\n",
      "2 [0.0, 0.0, 1.0, 0.0, 0.0]\n",
      "2 [0.0, 1.0, 0.0, 0.0, 0.0]\n",
      "2 [0.0, 1.0, 0.0, 0.0, 0.0]\n",
      "2 [0.0, 0.0, 1.0, 0.0, 0.0]\n",
      "2 [0.0, 0.0, 1.0, 0.0, 0.0]\n",
      "4 [0.0, 0.0, 1.0, 0.0, 0.0]\n",
      "2 [0.0, 1.0, 0.0, 0.0, 0.0]\n",
      "2 [0.0, 1.0, 0.0, 0.0, 0.0]\n",
      "2 [0.0, 0.0, 1.0, 0.0, 0.0]\n",
      "2 [0.0, 0.0, 1.0, 0.0, 0.0]\n",
      "2 [0.0, 0.0, 1.0, 0.0, 0.0]\n",
      "2 [0.0, 0.0, 1.0, 0.0, 0.0]\n",
      "2 [0.0, 0.0, 1.0, 0.0, 0.0]\n",
      "2 [0.0, 0.0, 1.0, 0.0, 0.0]\n",
      "2 [0.0, 0.0, 1.0, 0.0, 0.0]\n",
      "2 [0.0, 1.0, 0.0, 0.0, 0.0]\n",
      "2 [0.0, 1.0, 0.0, 0.0, 0.0]\n",
      "2 [0.0, 0.0, 1.0, 0.0, 0.0]\n",
      "2 [0.0, 1.0, 0.0, 0.0, 0.0]\n",
      "2 [0.0, 1.0, 0.0, 0.0, 0.0]\n",
      "2 [1.0, 0.0, 0.0, 0.0, 0.0]\n",
      "2 [1.0, 0.0, 0.0, 0.0, 0.0]\n",
      "2 [0.0, 0.0, 1.0, 0.0, 0.0]\n",
      "2 [0.0, 1.0, 0.0, 0.0, 0.0]\n",
      "2 [0.0, 0.0, 1.0, 0.0, 0.0]\n",
      "2 [0.0, 0.0, 1.0, 0.0, 0.0]\n",
      "4 [0.0, 0.0, 1.0, 0.0, 0.0]\n",
      "4 [0.0, 1.0, 0.0, 0.0, 0.0]\n",
      "4 [0.0, 0.0, 1.0, 0.0, 0.0]\n",
      "5 [0.0, 0.0, 1.0, 0.0, 0.0]\n",
      "6 [0.0, 1.0, 0.0, 0.0, 0.0]\n",
      "4 [0.0, 1.0, 0.0, 0.0, 0.0]\n",
      "4 [0.0, 0.0, 1.0, 0.0, 0.0]\n",
      "4 [0.0, 0.0, 1.0, 0.0, 0.0]\n",
      "4 [0.0, 0.0, 1.0, 0.0, 0.0]\n",
      "4 [0.0, 0.0, 1.0, 0.0, 0.0]\n",
      "4 [0.0, 1.0, 0.0, 0.0, 0.0]\n",
      "2 [0.0, 1.0, 0.0, 0.0, 0.0]\n",
      "2 [0.0, 1.0, 0.0, 0.0, 0.0]\n",
      "2 [0.0, 1.0, 0.0, 0.0, 0.0]\n",
      "2 [0.0, 1.0, 0.0, 0.0, 0.0]\n",
      "2 [0.0, 1.0, 0.0, 0.0, 0.0]\n",
      "2 [1.0, 0.0, 0.0, 0.0, 0.0]\n",
      "2 [0.0, 0.0, 1.0, 0.0, 0.0]\n",
      "2 [0.0, 1.0, 0.0, 0.0, 0.0]\n",
      "2 [0.0, 1.0, 0.0, 0.0, 0.0]\n",
      "4 [0.0, 1.0, 0.0, 0.0, 0.0]\n",
      "2 [0.0, 0.0, 1.0, 0.0, 0.0]\n",
      "2 [0.0, 0.0, 1.0, 0.0, 0.0]\n",
      "2 [1.0, 0.0, 0.0, 0.0, 0.0]\n",
      "2 [0.0, 0.0, 1.0, 0.0, 0.0]\n",
      "2 [0.0, 1.0, 0.0, 0.0, 0.0]\n",
      "2 [0.0, 1.0, 0.0, 0.0, 0.0]\n",
      "2 [1.0, 0.0, 0.0, 0.0, 0.0]\n",
      "2 [0.0, 0.0, 1.0, 0.0, 0.0]\n",
      "2 [0.0, 0.0, 1.0, 0.0, 0.0]\n",
      "2 [0.0, 0.0, 1.0, 0.0, 0.0]\n",
      "2 [0.0, 0.0, 1.0, 0.0, 0.0]\n",
      "2 [0.0, 1.0, 0.0, 0.0, 0.0]\n",
      "2 [0.0, 1.0, 0.0, 0.0, 0.0]\n",
      "2 [0.0, 1.0, 0.0, 0.0, 0.0]\n",
      "2 [0.0, 0.0, 1.0, 0.0, 0.0]\n",
      "2 [0.0, 0.0, 1.0, 0.0, 0.0]\n",
      "2 [0.0, 0.0, 1.0, 0.0, 0.0]\n",
      "2 [0.0, 0.0, 1.0, 0.0, 0.0]\n",
      "5 [0.0, 0.0, 1.0, 0.0, 0.0]\n",
      "2 [0.0, 1.0, 0.0, 0.0, 0.0]\n",
      "2 [0.0, 1.0, 0.0, 0.0, 0.0]\n",
      "2 [1.0, 0.0, 0.0, 0.0, 0.0]\n",
      "2 [0.0, 0.0, 1.0, 0.0, 0.0]\n",
      "2 [0.0, 0.0, 1.0, 0.0, 0.0]\n",
      "2 [0.0, 0.0, 1.0, 0.0, 0.0]\n",
      "2 [0.0, 1.0, 0.0, 0.0, 0.0]\n",
      "2 [0.0, 1.0, 0.0, 0.0, 0.0]\n",
      "2 [0.0, 0.0, 1.0, 0.0, 0.0]\n",
      "2 [0.0, 1.0, 0.0, 0.0, 0.0]\n",
      "2 [1.0, 0.0, 0.0, 0.0, 0.0]\n",
      "2 [0.0, 1.0, 0.0, 0.0, 0.0]\n",
      "2 [0.0, 0.0, 1.0, 0.0, 0.0]\n",
      "2 [0.0, 0.0, 1.0, 0.0, 0.0]\n",
      "6 [0.0, 0.0, 1.0, 0.0, 0.0]\n",
      "6 [0.0, 0.0, 1.0, 0.0, 0.0]\n",
      "7 [0.0, 1.0, 0.0, 0.0, 0.0]\n",
      "4 [0.0, 1.0, 0.0, 0.0, 0.0]\n",
      "4 [0.0, 0.0, 1.0, 0.0, 0.0]\n",
      "4 [0.0, 1.0, 0.0, 0.0, 0.0]\n",
      "4 [0.0, 0.0, 1.0, 0.0, 0.0]\n",
      "5 [0.0, 1.0, 0.0, 0.0, 0.0]\n",
      "5 [0.0, 0.0, 1.0, 0.0, 0.0]\n",
      "6 [1.0, 0.0, 0.0, 0.0, 0.0]\n",
      "6 [1.0, 0.0, 0.0, 0.0, 0.0]\n",
      "6 [0.0, 0.0, 1.0, 0.0, 0.0]\n",
      "7 [0.0, 0.0, 1.0, 0.0, 0.0]\n",
      "6 [0.0, 1.0, 0.0, 0.0, 0.0]\n",
      "4 [0.0, 0.0, 1.0, 0.0, 0.0]\n",
      "4 [0.0, 1.0, 0.0, 0.0, 0.0]\n",
      "9 [0.0, 1.0, 0.0, 0.0, 0.0]\n",
      "4 [0.0, 0.0, 1.0, 0.0, 0.0]\n",
      "4 [0.0, 0.0, 1.0, 0.0, 0.0]\n",
      "4 [0.0, 1.0, 0.0, 0.0, 0.0]\n",
      "4 [0.0, 0.0, 1.0, 0.0, 0.0]\n",
      "4 [0.0, 0.0, 1.0, 0.0, 0.0]\n",
      "4 [0.0, 1.0, 0.0, 0.0, 0.0]\n",
      "4 [0.0, 0.0, 1.0, 0.0, 0.0]\n",
      "4 [0.0, 0.0, 1.0, 0.0, 0.0]\n",
      "2 [1.0, 0.0, 0.0, 0.0, 0.0]\n",
      "2 [1.0, 0.0, 0.0, 0.0, 0.0]\n",
      "2 [1.0, 0.0, 0.0, 0.0, 0.0]\n",
      "2 [0.0, 1.0, 0.0, 0.0, 0.0]\n",
      "2 [0.0, 1.0, 0.0, 0.0, 0.0]\n",
      "5 [0.0, 1.0, 0.0, 0.0, 0.0]\n",
      "2 [0.0, 1.0, 0.0, 0.0, 0.0]\n",
      "2 [0.0, 0.0, 1.0, 0.0, 0.0]\n",
      "2 [0.0, 1.0, 0.0, 0.0, 0.0]\n",
      "2 [0.0, 1.0, 0.0, 0.0, 0.0]\n",
      "2 [1.0, 0.0, 0.0, 0.0, 0.0]\n",
      "2 [1.0, 0.0, 0.0, 0.0, 0.0]\n",
      "2 [0.0, 0.0, 1.0, 0.0, 0.0]\n",
      "2 [0.0, 0.0, 1.0, 0.0, 0.0]\n",
      "2 [0.0, 0.0, 1.0, 0.0, 0.0]\n",
      "2 [0.0, 0.0, 1.0, 0.0, 0.0]\n",
      "2 [0.0, 1.0, 0.0, 0.0, 0.0]\n",
      "2 [0.0, 1.0, 0.0, 0.0, 0.0]\n",
      "6 [0.0, 0.0, 1.0, 0.0, 0.0]\n",
      "2 [0.0, 0.0, 1.0, 0.0, 0.0]\n",
      "2 [0.0, 0.0, 1.0, 0.0, 0.0]\n",
      "2 [0.0, 0.0, 1.0, 0.0, 0.0]\n",
      "2 [0.0, 1.0, 0.0, 0.0, 0.0]\n",
      "5 [0.0, 1.0, 0.0, 0.0, 0.0]\n",
      "2 [1.0, 0.0, 0.0, 0.0, 0.0]\n",
      "2 [0.0, 1.0, 0.0, 0.0, 0.0]\n",
      "2 [0.0, 1.0, 0.0, 0.0, 0.0]\n",
      "2 [0.0, 0.0, 1.0, 0.0, 0.0]\n",
      "2 [0.0, 0.0, 1.0, 0.0, 0.0]\n",
      "2 [0.0, 0.0, 1.0, 0.0, 0.0]\n",
      "2 [0.0, 0.0, 1.0, 0.0, 0.0]\n",
      "2 [0.0, 0.0, 1.0, 0.0, 0.0]\n",
      "2 [0.0, 1.0, 0.0, 0.0, 0.0]\n",
      "2 [0.0, 1.0, 0.0, 0.0, 0.0]\n",
      "2 [0.0, 1.0, 0.0, 0.0, 0.0]\n",
      "2 [1.0, 0.0, 0.0, 0.0, 0.0]\n",
      "2 [0.0, 0.0, 1.0, 0.0, 0.0]\n",
      "2 [0.0, 1.0, 0.0, 0.0, 0.0]\n",
      "2 [0.0, 1.0, 0.0, 0.0, 0.0]\n",
      "2 [0.0, 0.0, 1.0, 0.0, 0.0]\n",
      "2 [0.0, 0.0, 1.0, 0.0, 0.0]\n",
      "2 [0.0, 0.0, 1.0, 0.0, 0.0]\n",
      "2 [0.0, 0.0, 1.0, 0.0, 0.0]\n",
      "2 [1.0, 0.0, 0.0, 0.0, 0.0]\n",
      "5 [0.0, 0.0, 1.0, 0.0, 0.0]\n",
      "2 [0.0, 1.0, 0.0, 0.0, 0.0]\n",
      "2 [0.0, 0.0, 1.0, 0.0, 0.0]\n",
      "6 [0.0, 1.0, 0.0, 0.0, 0.0]\n",
      "4 [1.0, 0.0, 0.0, 0.0, 0.0]\n",
      "4 [0.0, 1.0, 0.0, 0.0, 0.0]\n",
      "4 [0.0, 0.0, 1.0, 0.0, 0.0]\n",
      "7 [1.0, 0.0, 0.0, 0.0, 0.0]\n",
      "10 [0.0, 1.0, 0.0, 0.0, 0.0]\n",
      "6 [0.0, 1.0, 0.0, 0.0, 0.0]\n",
      "6 [0.0, 1.0, 0.0, 0.0, 0.0]\n",
      "6 [0.0, 0.0, 1.0, 0.0, 0.0]\n",
      "6 [0.0, 0.0, 1.0, 0.0, 0.0]\n",
      "7 [1.0, 0.0, 0.0, 0.0, 0.0]\n",
      "7 [0.0, 0.0, 1.0, 0.0, 0.0]\n",
      "8 [0.0, 0.0, 1.0, 0.0, 0.0]\n",
      "6 [0.0, 0.0, 1.0, 0.0, 0.0]\n",
      "4 [0.0, 1.0, 0.0, 0.0, 0.0]\n",
      "4 [1.0, 0.0, 0.0, 0.0, 0.0]\n",
      "4 [0.0, 1.0, 0.0, 0.0, 0.0]\n",
      "2 [1.0, 0.0, 0.0, 0.0, 0.0]\n",
      "2 [0.0, 1.0, 0.0, 0.0, 0.0]\n",
      "2 [0.0, 1.0, 0.0, 0.0, 0.0]\n",
      "2 [1.0, 0.0, 0.0, 0.0, 0.0]\n",
      "3 [0.0, 1.0, 0.0, 0.0, 0.0]\n",
      "4 [0.0, 1.0, 0.0, 0.0, 0.0]\n",
      "2 [1.0, 0.0, 0.0, 0.0, 0.0]\n",
      "2 [0.0, 0.0, 1.0, 0.0, 0.0]\n",
      "2 [0.0, 0.0, 1.0, 0.0, 0.0]\n",
      "2 [0.0, 1.0, 0.0, 0.0, 0.0]\n",
      "2 [0.0, 0.0, 1.0, 0.0, 0.0]\n",
      "2 [0.0, 0.0, 1.0, 0.0, 0.0]\n",
      "2 [0.0, 0.0, 1.0, 0.0, 0.0]\n",
      "2 [0.0, 0.0, 1.0, 0.0, 0.0]\n",
      "5 [0.0, 0.0, 1.0, 0.0, 0.0]\n",
      "2 [0.0, 0.0, 1.0, 0.0, 0.0]\n",
      "2 [1.0, 0.0, 0.0, 0.0, 0.0]\n",
      "2 [0.0, 1.0, 0.0, 0.0, 0.0]\n",
      "2 [0.0, 1.0, 0.0, 0.0, 0.0]\n",
      "2 [0.0, 0.0, 1.0, 0.0, 0.0]\n",
      "2 [0.0, 0.0, 1.0, 0.0, 0.0]\n",
      "2 [0.0, 0.0, 1.0, 0.0, 0.0]\n",
      "2 [0.0, 1.0, 0.0, 0.0, 0.0]\n",
      "8 [1.0, 0.0, 0.0, 0.0, 0.0]\n",
      "2 [0.0, 1.0, 0.0, 0.0, 0.0]\n",
      "2 [0.0, 0.0, 1.0, 0.0, 0.0]\n",
      "2 [0.0, 0.0, 1.0, 0.0, 0.0]\n",
      "2 [1.0, 0.0, 0.0, 0.0, 0.0]\n",
      "2 [0.0, 0.0, 1.0, 0.0, 0.0]\n",
      "2 [0.0, 0.0, 1.0, 0.0, 0.0]\n",
      "2 [0.0, 1.0, 0.0, 0.0, 0.0]\n",
      "2 [0.0, 1.0, 0.0, 0.0, 0.0]\n",
      "2 [0.0, 1.0, 0.0, 0.0, 0.0]\n",
      "5 [0.0, 1.0, 0.0, 0.0, 0.0]\n",
      "2 [1.0, 0.0, 0.0, 0.0, 0.0]\n",
      "2 [0.0, 1.0, 0.0, 0.0, 0.0]\n",
      "2 [0.0, 1.0, 0.0, 0.0, 0.0]\n",
      "2 [0.0, 1.0, 0.0, 0.0, 0.0]\n",
      "2 [0.0, 0.0, 1.0, 0.0, 0.0]\n",
      "2 [0.0, 1.0, 0.0, 0.0, 0.0]\n",
      "2 [0.0, 0.0, 1.0, 0.0, 0.0]\n",
      "2 [1.0, 0.0, 0.0, 0.0, 0.0]\n",
      "2 [0.0, 0.0, 1.0, 0.0, 0.0]\n",
      "8 [0.0, 1.0, 0.0, 0.0, 0.0]\n",
      "12 [0.0, 1.0, 0.0, 0.0, 0.0]\n",
      "6 [0.0, 0.0, 1.0, 0.0, 0.0]\n",
      "6 [0.0, 1.0, 0.0, 0.0, 0.0]\n",
      "6 [0.0, 0.0, 1.0, 0.0, 0.0]\n",
      "6 [0.0, 0.0, 1.0, 0.0, 0.0]\n",
      "5 [0.0, 1.0, 0.0, 0.0, 0.0]\n",
      "7 [0.0, 0.0, 1.0, 0.0, 0.0]\n",
      "7 [0.0, 1.0, 0.0, 0.0, 0.0]\n",
      "7 [0.0, 1.0, 0.0, 0.0, 0.0]\n",
      "7 [0.0, 0.0, 1.0, 0.0, 0.0]\n",
      "4 [0.0, 0.0, 1.0, 0.0, 0.0]\n",
      "4 [0.0, 1.0, 0.0, 0.0, 0.0]\n",
      "4 [0.0, 0.0, 1.0, 0.0, 0.0]\n",
      "4 [0.0, 0.0, 1.0, 0.0, 0.0]\n",
      "4 [0.0, 1.0, 0.0, 0.0, 0.0]\n",
      "4 [0.0, 0.0, 1.0, 0.0, 0.0]\n",
      "4 [1.0, 0.0, 0.0, 0.0, 0.0]\n",
      "4 [0.0, 0.0, 1.0, 0.0, 0.0]\n",
      "8 [0.0, 0.0, 1.0, 0.0, 0.0]\n",
      "5 [0.0, 1.0, 0.0, 0.0, 0.0]\n",
      "6 [0.0, 1.0, 0.0, 0.0, 0.0]\n",
      "6 [0.0, 1.0, 0.0, 0.0, 0.0]\n",
      "6 [0.0, 0.0, 1.0, 0.0, 0.0]\n",
      "6 [0.0, 1.0, 0.0, 0.0, 0.0]\n",
      "8 [0.0, 0.0, 1.0, 0.0, 0.0]\n",
      "5 [0.0, 0.0, 1.0, 0.0, 0.0]\n",
      "10 [0.0, 0.0, 1.0, 0.0, 0.0]\n",
      "7 [0.0, 0.0, 1.0, 0.0, 0.0]\n",
      "7 [0.0, 0.0, 1.0, 0.0, 0.0]\n",
      "13 [0.0, 1.0, 0.0, 0.0, 0.0]\n",
      "7 [0.0, 1.0, 0.0, 0.0, 0.0]\n",
      "10 [1.0, 0.0, 0.0, 0.0, 0.0]\n",
      "4 [0.0, 0.0, 1.0, 0.0, 0.0]\n",
      "6 [0.0, 0.0, 1.0, 0.0, 0.0]\n",
      "4 [0.0, 0.0, 1.0, 0.0, 0.0]\n",
      "4 [0.0, 1.0, 0.0, 0.0, 0.0]\n",
      "4 [0.0, 0.0, 1.0, 0.0, 0.0]\n",
      "4 [0.0, 0.0, 1.0, 0.0, 0.0]\n",
      "8 [0.0, 0.0, 1.0, 0.0, 0.0]\n",
      "4 [0.0, 0.0, 1.0, 0.0, 0.0]\n",
      "4 [0.0, 1.0, 0.0, 0.0, 0.0]\n",
      "2 [0.0, 1.0, 0.0, 0.0, 0.0]\n",
      "2 [1.0, 0.0, 0.0, 0.0, 0.0]\n",
      "2 [0.0, 1.0, 0.0, 0.0, 0.0]\n",
      "2 [1.0, 0.0, 0.0, 0.0, 0.0]\n",
      "2 [0.0, 1.0, 0.0, 0.0, 0.0]\n",
      "2 [1.0, 0.0, 0.0, 0.0, 0.0]\n",
      "2 [1.0, 0.0, 0.0, 0.0, 0.0]\n",
      "6 [0.0, 0.0, 1.0, 0.0, 0.0]\n",
      "2 [0.0, 0.0, 1.0, 0.0, 0.0]\n",
      "2 [0.0, 1.0, 0.0, 0.0, 0.0]\n",
      "2 [1.0, 0.0, 0.0, 0.0, 0.0]\n",
      "2 [0.0, 0.0, 1.0, 0.0, 0.0]\n",
      "2 [1.0, 0.0, 0.0, 0.0, 0.0]\n",
      "2 [1.0, 0.0, 0.0, 0.0, 0.0]\n",
      "2 [1.0, 0.0, 0.0, 0.0, 0.0]\n",
      "2 [0.0, 0.0, 1.0, 0.0, 0.0]\n",
      "2 [0.0, 0.0, 1.0, 0.0, 0.0]\n",
      "2 [0.0, 1.0, 0.0, 0.0, 0.0]\n",
      "2 [1.0, 0.0, 0.0, 0.0, 0.0]\n",
      "2 [0.0, 0.0, 1.0, 0.0, 0.0]\n",
      "2 [1.0, 0.0, 0.0, 0.0, 0.0]\n",
      "7 [0.0, 0.0, 1.0, 0.0, 0.0]\n",
      "2 [0.0, 0.0, 1.0, 0.0, 0.0]\n",
      "2 [0.0, 1.0, 0.0, 0.0, 0.0]\n",
      "2 [0.0, 0.0, 1.0, 0.0, 0.0]\n",
      "2 [0.0, 1.0, 0.0, 0.0, 0.0]\n",
      "2 [0.0, 0.0, 1.0, 0.0, 0.0]\n",
      "2 [0.0, 1.0, 0.0, 0.0, 0.0]\n",
      "2 [0.0, 1.0, 0.0, 0.0, 0.0]\n",
      "2 [0.0, 1.0, 0.0, 0.0, 0.0]\n",
      "8 [1.0, 0.0, 0.0, 0.0, 0.0]\n",
      "2 [0.0, 0.0, 1.0, 0.0, 0.0]\n",
      "5 [0.0, 0.0, 1.0, 0.0, 0.0]\n",
      "9 [0.0, 1.0, 0.0, 0.0, 0.0]\n",
      "7 [0.0, 0.0, 1.0, 0.0, 0.0]\n",
      "7 [0.0, 1.0, 0.0, 0.0, 0.0]\n",
      "7 [0.0, 0.0, 1.0, 0.0, 0.0]\n",
      "5 [0.0, 1.0, 0.0, 0.0, 0.0]\n",
      "6 [0.0, 1.0, 0.0, 0.0, 0.0]\n",
      "6 [0.0, 0.0, 1.0, 0.0, 0.0]\n",
      "6 [0.0, 1.0, 0.0, 0.0, 0.0]\n",
      "5 [0.0, 0.0, 1.0, 0.0, 0.0]\n",
      "14 [0.0, 1.0, 0.0, 0.0, 0.0]\n",
      "9 [0.0, 0.0, 1.0, 0.0, 0.0]\n",
      "9 [0.0, 1.0, 0.0, 0.0, 0.0]\n",
      "4 [0.0, 1.0, 0.0, 0.0, 0.0]\n",
      "4 [1.0, 0.0, 0.0, 0.0, 0.0]\n",
      "4 [0.0, 0.0, 1.0, 0.0, 0.0]\n",
      "4 [1.0, 0.0, 0.0, 0.0, 0.0]\n",
      "4 [0.0, 0.0, 1.0, 0.0, 0.0]\n",
      "4 [0.0, 0.0, 1.0, 0.0, 0.0]\n",
      "4 [0.0, 1.0, 0.0, 0.0, 0.0]\n",
      "8 [0.0, 0.0, 1.0, 0.0, 0.0]\n",
      "8 [0.0, 1.0, 0.0, 0.0, 0.0]\n",
      "5 [1.0, 0.0, 0.0, 0.0, 0.0]\n",
      "10 [0.0, 0.0, 1.0, 0.0, 0.0]\n",
      "10 [0.0, 1.0, 0.0, 0.0, 0.0]\n",
      "6 [0.0, 1.0, 0.0, 0.0, 0.0]\n",
      "6 [0.0, 0.0, 1.0, 0.0, 0.0]\n",
      "9 [0.0, 0.0, 1.0, 0.0, 0.0]\n",
      "9 [0.0, 0.0, 1.0, 0.0, 0.0]\n",
      "5 [1.0, 0.0, 0.0, 0.0, 0.0]\n",
      "7 [0.0, 1.0, 0.0, 0.0, 0.0]\n",
      "11 [0.0, 0.0, 1.0, 0.0, 0.0]\n",
      "6 [0.0, 0.0, 1.0, 0.0, 0.0]\n",
      "4 [0.0, 0.0, 1.0, 0.0, 0.0]\n",
      "4 [0.0, 0.0, 1.0, 0.0, 0.0]\n",
      "8 [0.0, 1.0, 0.0, 0.0, 0.0]\n",
      "4 [0.0, 0.0, 1.0, 0.0, 0.0]\n",
      "8 [0.0, 1.0, 0.0, 0.0, 0.0]\n",
      "4 [0.0, 1.0, 0.0, 0.0, 0.0]\n",
      "4 [0.0, 0.0, 1.0, 0.0, 0.0]\n",
      "2 [1.0, 0.0, 0.0, 0.0, 0.0]\n",
      "2 [0.0, 1.0, 0.0, 0.0, 0.0]\n",
      "2 [1.0, 0.0, 0.0, 0.0, 0.0]\n",
      "15 [0.0, 1.0, 0.0, 0.0, 0.0]\n",
      "2 [0.0, 1.0, 0.0, 0.0, 0.0]\n",
      "2 [0.0, 1.0, 0.0, 0.0, 0.0]\n",
      "2 [1.0, 0.0, 0.0, 0.0, 0.0]\n",
      "2 [0.0, 1.0, 0.0, 0.0, 0.0]\n",
      "2 [1.0, 0.0, 0.0, 0.0, 0.0]\n",
      "2 [0.0, 1.0, 0.0, 0.0, 0.0]\n",
      "6 [0.0, 0.0, 1.0, 0.0, 0.0]\n",
      "2 [0.0, 0.0, 1.0, 0.0, 0.0]\n",
      "11 [1.0, 0.0, 0.0, 0.0, 0.0]\n",
      "2 [0.0, 0.0, 1.0, 0.0, 0.0]\n",
      "8 [0.0, 0.0, 1.0, 0.0, 0.0]\n",
      "2 [0.0, 1.0, 0.0, 0.0, 0.0]\n",
      "2 [0.0, 0.0, 1.0, 0.0, 0.0]\n",
      "2 [0.0, 1.0, 0.0, 0.0, 0.0]\n",
      "8 [0.0, 0.0, 1.0, 0.0, 0.0]\n",
      "2 [0.0, 0.0, 1.0, 0.0, 0.0]\n",
      "2 [1.0, 0.0, 0.0, 0.0, 0.0]\n",
      "8 [0.0, 0.0, 1.0, 0.0, 0.0]\n",
      "5 [0.0, 0.0, 1.0, 0.0, 0.0]\n",
      "6 [0.0, 1.0, 0.0, 0.0, 0.0]\n",
      "2 [0.0, 0.0, 1.0, 0.0, 0.0]\n",
      "2 [0.0, 0.0, 1.0, 0.0, 0.0]\n",
      "2 [0.0, 0.0, 1.0, 0.0, 0.0]\n",
      "8 [0.0, 0.0, 1.0, 0.0, 0.0]\n",
      "11 [0.0, 1.0, 0.0, 0.0, 0.0]\n",
      "9 [0.0, 1.0, 0.0, 0.0, 0.0]\n",
      "8 [0.0, 1.0, 0.0, 0.0, 0.0]\n",
      "8 [0.0, 0.0, 1.0, 0.0, 0.0]\n",
      "6 [0.0, 1.0, 0.0, 0.0, 0.0]\n",
      "6 [0.0, 0.0, 1.0, 0.0, 0.0]\n",
      "6 [0.0, 1.0, 0.0, 0.0, 0.0]\n",
      "6 [0.0, 0.0, 1.0, 0.0, 0.0]\n",
      "7 [0.0, 0.0, 1.0, 0.0, 0.0]\n",
      "9 [0.0, 0.0, 1.0, 0.0, 0.0]\n",
      "11 [0.0, 1.0, 0.0, 0.0, 0.0]\n",
      "4 [0.0, 1.0, 0.0, 0.0, 0.0]\n",
      "4 [0.0, 1.0, 0.0, 0.0, 0.0]\n",
      "4 [0.0, 0.0, 1.0, 0.0, 0.0]\n",
      "4 [0.0, 0.0, 1.0, 0.0, 0.0]\n",
      "4 [0.0, 1.0, 0.0, 0.0, 0.0]\n",
      "4 [1.0, 0.0, 0.0, 0.0, 0.0]\n",
      "4 [1.0, 0.0, 0.0, 0.0, 0.0]\n",
      "4 [0.0, 0.0, 1.0, 0.0, 0.0]\n",
      "4 [0.0, 0.0, 1.0, 0.0, 0.0]\n",
      "4 [0.0, 1.0, 0.0, 0.0, 0.0]\n",
      "8 [0.0, 1.0, 0.0, 0.0, 0.0]\n",
      "16 [0.0, 1.0, 0.0, 0.0, 0.0]\n",
      "9 [1.0, 0.0, 0.0, 0.0, 0.0]\n",
      "10 [0.0, 0.0, 1.0, 0.0, 0.0]\n",
      "10 [0.0, 0.0, 1.0, 0.0, 0.0]\n",
      "10 [0.0, 1.0, 0.0, 0.0, 0.0]\n",
      "5 [1.0, 0.0, 0.0, 0.0, 0.0]\n",
      "10 [0.0, 0.0, 1.0, 0.0, 0.0]\n",
      "12 [1.0, 0.0, 0.0, 0.0, 0.0]\n",
      "6 [0.0, 1.0, 0.0, 0.0, 0.0]\n",
      "8 [0.0, 0.0, 1.0, 0.0, 0.0]\n",
      "8 [0.0, 1.0, 0.0, 0.0, 0.0]\n",
      "8 [0.0, 0.0, 1.0, 0.0, 0.0]\n",
      "8 [0.0, 1.0, 0.0, 0.0, 0.0]\n",
      "11 [0.0, 1.0, 0.0, 0.0, 0.0]\n",
      "6 [1.0, 0.0, 0.0, 0.0, 0.0]\n",
      "6 [0.0, 0.0, 1.0, 0.0, 0.0]\n",
      "9 [0.0, 0.0, 1.0, 0.0, 0.0]\n",
      "6 [0.0, 0.0, 1.0, 0.0, 0.0]\n",
      "4 [1.0, 0.0, 0.0, 0.0, 0.0]\n",
      "4 [0.0, 0.0, 1.0, 0.0, 0.0]\n",
      "4 [0.0, 0.0, 1.0, 0.0, 0.0]\n",
      "2 [1.0, 0.0, 0.0, 0.0, 0.0]\n",
      "2 [1.0, 0.0, 0.0, 0.0, 0.0]\n",
      "2 [0.0, 1.0, 0.0, 0.0, 0.0]\n",
      "7 [0.0, 1.0, 0.0, 0.0, 0.0]\n",
      "2 [1.0, 0.0, 0.0, 0.0, 0.0]\n",
      "2 [1.0, 0.0, 0.0, 0.0, 0.0]\n",
      "2 [1.0, 0.0, 0.0, 0.0, 0.0]\n",
      "2 [0.0, 1.0, 0.0, 0.0, 0.0]\n",
      "2 [0.0, 0.0, 1.0, 0.0, 0.0]\n",
      "2 [0.0, 0.0, 1.0, 0.0, 0.0]\n",
      "2 [0.0, 0.0, 1.0, 0.0, 0.0]\n",
      "2 [0.0, 0.0, 1.0, 0.0, 0.0]\n",
      "2 [0.0, 1.0, 0.0, 0.0, 0.0]\n",
      "2 [0.0, 1.0, 0.0, 0.0, 0.0]\n",
      "6 [0.0, 0.0, 1.0, 0.0, 0.0]\n",
      "18 [0.0, 0.0, 1.0, 0.0, 0.0]\n",
      "7 [0.0, 0.0, 1.0, 0.0, 0.0]\n",
      "12 [0.0, 1.0, 0.0, 0.0, 0.0]\n",
      "17 [0.0, 1.0, 0.0, 0.0, 0.0]\n",
      "10 [1.0, 0.0, 0.0, 0.0, 0.0]\n",
      "5 [0.0, 0.0, 1.0, 0.0, 0.0]\n",
      "8 [0.0, 1.0, 0.0, 0.0, 0.0]\n",
      "8 [0.0, 1.0, 0.0, 0.0, 0.0]\n",
      "6 [1.0, 0.0, 0.0, 0.0, 0.0]\n",
      "6 [0.0, 0.0, 1.0, 0.0, 0.0]\n",
      "6 [0.0, 1.0, 0.0, 0.0, 0.0]\n",
      "9 [0.0, 0.0, 1.0, 0.0, 0.0]\n",
      "12 [0.0, 1.0, 0.0, 0.0, 0.0]\n",
      "13 [1.0, 0.0, 0.0, 0.0, 0.0]\n",
      "10 [0.0, 0.0, 1.0, 0.0, 0.0]\n",
      "19 [0.0, 0.0, 1.0, 0.0, 0.0]\n",
      "11 [0.0, 0.0, 1.0, 0.0, 0.0]\n",
      "4 [1.0, 0.0, 0.0, 0.0, 0.0]\n",
      "8 [0.0, 0.0, 1.0, 0.0, 0.0]\n",
      "10 [0.0, 1.0, 0.0, 0.0, 0.0]\n",
      "6 [0.0, 1.0, 0.0, 0.0, 0.0]\n",
      "12 [0.0, 1.0, 0.0, 0.0, 0.0]\n",
      "6 [0.0, 0.0, 1.0, 0.0, 0.0]\n",
      "6 [0.0, 0.0, 1.0, 0.0, 0.0]\n",
      "6 [0.0, 1.0, 0.0, 0.0, 0.0]\n",
      "7 [0.0, 0.0, 1.0, 0.0, 0.0]\n",
      "8 [0.0, 1.0, 0.0, 0.0, 0.0]\n",
      "27 [0.0, 0.0, 1.0, 0.0, 0.0]\n",
      "19 [0.0, 1.0, 0.0, 0.0, 0.0]\n",
      "10 [0.0, 1.0, 0.0, 0.0, 0.0]\n",
      "20 [0.0, 0.0, 1.0, 0.0, 0.0]\n",
      "12 [0.0, 0.0, 1.0, 0.0, 0.0]\n",
      "6 [0.0, 0.0, 1.0, 0.0, 0.0]\n",
      "12 [0.0, 1.0, 0.0, 0.0, 0.0]\n",
      "6 [0.0, 0.0, 1.0, 0.0, 0.0]\n",
      "8 [0.0, 0.0, 1.0, 0.0, 0.0]\n",
      "6 [0.0, 0.0, 1.0, 0.0, 0.0]\n",
      "4 [0.0, 1.0, 0.0, 0.0, 0.0]\n",
      "10 [0.0, 0.0, 1.0, 0.0, 0.0]\n",
      "2 [0.0, 1.0, 0.0, 0.0, 0.0]\n",
      "2 [0.0, 1.0, 0.0, 0.0, 0.0]\n",
      "2 [1.0, 0.0, 0.0, 0.0, 0.0]\n",
      "2 [1.0, 0.0, 0.0, 0.0, 0.0]\n",
      "2 [0.0, 0.0, 1.0, 0.0, 0.0]\n",
      "3 [0.0, 0.0, 1.0, 0.0, 0.0]\n",
      "4 [0.0, 0.0, 1.0, 0.0, 0.0]\n",
      "3 [1.0, 0.0, 0.0, 0.0, 0.0]\n",
      "4 [1.0, 0.0, 0.0, 0.0, 0.0]\n",
      "2 [1.0, 0.0, 0.0, 0.0, 0.0]\n",
      "2 [1.0, 0.0, 0.0, 0.0, 0.0]\n",
      "10 [0.0, 0.0, 1.0, 0.0, 0.0]\n",
      "2 [0.0, 0.0, 1.0, 0.0, 0.0]\n",
      "2 [1.0, 0.0, 0.0, 0.0, 0.0]\n",
      "2 [1.0, 0.0, 0.0, 0.0, 0.0]\n",
      "8 [0.0, 0.0, 1.0, 0.0, 0.0]\n",
      "2 [1.0, 0.0, 0.0, 0.0, 0.0]\n",
      "10 [1.0, 0.0, 0.0, 0.0, 0.0]\n",
      "2 [0.0, 0.0, 1.0, 0.0, 0.0]\n",
      "2 [0.0, 0.0, 1.0, 0.0, 0.0]\n",
      "14 [0.0, 1.0, 0.0, 0.0, 0.0]\n",
      "14 [0.0, 1.0, 0.0, 0.0, 0.0]\n",
      "12 [0.0, 1.0, 0.0, 0.0, 0.0]\n",
      "5 [0.0, 0.0, 1.0, 0.0, 0.0]\n",
      "7 [0.0, 0.0, 1.0, 0.0, 0.0]\n",
      "12 [0.0, 0.0, 1.0, 0.0, 0.0]\n",
      "12 [0.0, 0.0, 1.0, 0.0, 0.0]\n",
      "9 [0.0, 1.0, 0.0, 0.0, 0.0]\n",
      "12 [0.0, 0.0, 1.0, 0.0, 0.0]\n",
      "20 [0.0, 1.0, 0.0, 0.0, 0.0]\n",
      "10 [0.0, 0.0, 1.0, 0.0, 0.0]\n",
      "10 [0.0, 1.0, 0.0, 0.0, 0.0]\n",
      "7 [0.0, 1.0, 0.0, 0.0, 0.0]\n",
      "4 [0.0, 1.0, 0.0, 0.0, 0.0]\n",
      "4 [1.0, 0.0, 0.0, 0.0, 0.0]\n",
      "7 [0.0, 1.0, 0.0, 0.0, 0.0]\n",
      "14 [0.0, 1.0, 0.0, 0.0, 0.0]\n",
      "10 [0.0, 1.0, 0.0, 0.0, 0.0]\n",
      "11 [0.0, 0.0, 1.0, 0.0, 0.0]\n",
      "9 [0.0, 1.0, 0.0, 0.0, 0.0]\n",
      "14 [0.0, 1.0, 0.0, 0.0, 0.0]\n",
      "11 [0.0, 0.0, 1.0, 0.0, 0.0]\n",
      "8 [1.0, 0.0, 0.0, 0.0, 0.0]\n",
      "8 [0.0, 0.0, 1.0, 0.0, 0.0]\n",
      "10 [0.0, 1.0, 0.0, 0.0, 0.0]\n",
      "14 [0.0, 1.0, 0.0, 0.0, 0.0]\n",
      "12 [1.0, 0.0, 0.0, 0.0, 0.0]\n",
      "8 [1.0, 0.0, 0.0, 0.0, 0.0]\n",
      "6 [0.0, 0.0, 1.0, 0.0, 0.0]\n",
      "8 [0.0, 0.0, 1.0, 0.0, 0.0]\n",
      "6 [0.0, 0.0, 1.0, 0.0, 0.0]\n",
      "8 [0.0, 0.0, 1.0, 0.0, 0.0]\n",
      "12 [0.0, 0.0, 1.0, 0.0, 0.0]\n",
      "4 [1.0, 0.0, 0.0, 0.0, 0.0]\n",
      "2 [0.0, 1.0, 0.0, 0.0, 0.0]\n",
      "2 [0.0, 1.0, 0.0, 0.0, 0.0]\n",
      "2 [1.0, 0.0, 0.0, 0.0, 0.0]\n",
      "2 [0.0, 1.0, 0.0, 0.0, 0.0]\n",
      "2 [0.0, 1.0, 0.0, 0.0, 0.0]\n",
      "2 [1.0, 0.0, 0.0, 0.0, 0.0]\n",
      "2 [1.0, 0.0, 0.0, 0.0, 0.0]\n",
      "2 [1.0, 0.0, 0.0, 0.0, 0.0]\n",
      "2 [1.0, 0.0, 0.0, 0.0, 0.0]\n",
      "2 [1.0, 0.0, 0.0, 0.0, 0.0]\n",
      "14 [1.0, 0.0, 0.0, 0.0, 0.0]\n",
      "2 [1.0, 0.0, 0.0, 0.0, 0.0]\n",
      "13 [0.0, 0.0, 1.0, 0.0, 0.0]\n",
      "2 [1.0, 0.0, 0.0, 0.0, 0.0]\n",
      "2 [0.0, 0.0, 1.0, 0.0, 0.0]\n",
      "2 [0.0, 0.0, 1.0, 0.0, 0.0]\n",
      "20 [0.0, 1.0, 0.0, 0.0, 0.0]\n",
      "9 [0.0, 0.0, 1.0, 0.0, 0.0]\n",
      "30 [0.0, 0.0, 1.0, 0.0, 0.0]\n",
      "15 [0.0, 1.0, 0.0, 0.0, 0.0]\n",
      "24 [0.0, 1.0, 0.0, 0.0, 0.0]\n",
      "8 [0.0, 1.0, 0.0, 0.0, 0.0]\n",
      "8 [0.0, 0.0, 1.0, 0.0, 0.0]\n",
      "8 [0.0, 0.0, 1.0, 0.0, 0.0]\n",
      "14 [0.0, 0.0, 1.0, 0.0, 0.0]\n",
      "6 [0.0, 0.0, 1.0, 0.0, 0.0]\n",
      "12 [0.0, 1.0, 0.0, 0.0, 0.0]\n",
      "18 [0.0, 1.0, 0.0, 0.0, 0.0]\n",
      "15 [0.0, 1.0, 0.0, 0.0, 0.0]\n",
      "10 [0.0, 1.0, 0.0, 0.0, 0.0]\n",
      "11 [0.0, 0.0, 1.0, 0.0, 0.0]\n",
      "11 [0.0, 1.0, 0.0, 0.0, 0.0]\n",
      "15 [0.0, 1.0, 0.0, 0.0, 0.0]\n",
      "4 [0.0, 0.0, 1.0, 0.0, 0.0]\n",
      "4 [1.0, 0.0, 0.0, 0.0, 0.0]\n",
      "4 [1.0, 0.0, 0.0, 0.0, 0.0]\n",
      "4 [0.0, 0.0, 1.0, 0.0, 0.0]\n",
      "4 [1.0, 0.0, 0.0, 0.0, 0.0]\n",
      "14 [0.0, 0.0, 1.0, 0.0, 0.0]\n",
      "28 [0.0, 0.0, 1.0, 0.0, 0.0]\n",
      "10 [0.0, 1.0, 0.0, 0.0, 0.0]\n",
      "13 [0.0, 0.0, 1.0, 0.0, 0.0]\n",
      "7 [0.0, 0.0, 1.0, 0.0, 0.0]\n",
      "7 [0.0, 0.0, 1.0, 0.0, 0.0]\n",
      "7 [0.0, 0.0, 1.0, 0.0, 0.0]\n",
      "11 [0.0, 0.0, 1.0, 0.0, 0.0]\n",
      "8 [0.0, 1.0, 0.0, 0.0, 0.0]\n",
      "9 [1.0, 0.0, 0.0, 0.0, 0.0]\n",
      "30 [0.0, 1.0, 0.0, 0.0, 0.0]\n",
      "7 [1.0, 0.0, 0.0, 0.0, 0.0]\n",
      "24 [1.0, 0.0, 0.0, 0.0, 0.0]\n",
      "6 [1.0, 0.0, 0.0, 0.0, 0.0]\n",
      "17 [0.0, 0.0, 1.0, 0.0, 0.0]\n",
      "4 [1.0, 0.0, 0.0, 0.0, 0.0]\n",
      "4 [1.0, 0.0, 0.0, 0.0, 0.0]\n",
      "2 [1.0, 0.0, 0.0, 0.0, 0.0]\n",
      "2 [1.0, 0.0, 0.0, 0.0, 0.0]\n",
      "2 [0.0, 1.0, 0.0, 0.0, 0.0]\n",
      "2 [1.0, 0.0, 0.0, 0.0, 0.0]\n",
      "2 [1.0, 0.0, 0.0, 0.0, 0.0]\n",
      "2 [1.0, 0.0, 0.0, 0.0, 0.0]\n",
      "15 [0.0, 0.0, 1.0, 0.0, 0.0]\n",
      "27 [0.0, 1.0, 0.0, 0.0, 0.0]\n",
      "10 [1.0, 0.0, 0.0, 0.0, 0.0]\n",
      "42 [0.0, 0.0, 1.0, 0.0, 0.0]\n",
      "8 [0.0, 0.0, 1.0, 0.0, 0.0]\n",
      "16 [0.0, 1.0, 0.0, 0.0, 0.0]\n",
      "14 [0.0, 1.0, 0.0, 0.0, 0.0]\n",
      "14 [0.0, 0.0, 1.0, 0.0, 0.0]\n",
      "21 [0.0, 1.0, 0.0, 0.0, 0.0]\n",
      "10 [0.0, 1.0, 0.0, 0.0, 0.0]\n",
      "5 [1.0, 0.0, 0.0, 0.0, 0.0]\n",
      "5 [1.0, 0.0, 0.0, 0.0, 0.0]\n",
      "7 [0.0, 0.0, 1.0, 0.0, 0.0]\n",
      "4 [0.0, 0.0, 1.0, 0.0, 0.0]\n",
      "31 [0.0, 1.0, 0.0, 0.0, 0.0]\n",
      "28 [0.0, 1.0, 0.0, 0.0, 0.0]\n",
      "10 [0.0, 0.0, 1.0, 0.0, 0.0]\n",
      "23 [0.0, 1.0, 0.0, 0.0, 0.0]\n",
      "6 [1.0, 0.0, 0.0, 0.0, 0.0]\n",
      "13 [0.0, 0.0, 1.0, 0.0, 0.0]\n",
      "19 [0.0, 1.0, 0.0, 0.0, 0.0]\n",
      "15 [0.0, 0.0, 1.0, 0.0, 0.0]\n",
      "10 [0.0, 0.0, 1.0, 0.0, 0.0]\n",
      "25 [1.0, 0.0, 0.0, 0.0, 0.0]\n",
      "13 [0.0, 0.0, 1.0, 0.0, 0.0]\n",
      "4 [1.0, 0.0, 0.0, 0.0, 0.0]\n",
      "6 [1.0, 0.0, 0.0, 0.0, 0.0]\n",
      "4 [1.0, 0.0, 0.0, 0.0, 0.0]\n",
      "2 [1.0, 0.0, 0.0, 0.0, 0.0]\n",
      "2 [1.0, 0.0, 0.0, 0.0, 0.0]\n",
      "2 [0.0, 0.5, 0.5, 0.0, 0.0]\n",
      "2 [1.0, 0.0, 0.0, 0.0, 0.0]\n",
      "15 [0.0, 0.0, 1.0, 0.0, 0.0]\n",
      "70 [0.0, 0.0, 1.0, 0.0, 0.0]\n",
      "25 [0.0, 1.0, 0.0, 0.0, 0.0]\n",
      "19 [0.0, 0.0, 1.0, 0.0, 0.0]\n",
      "21 [0.0, 0.0, 1.0, 0.0, 0.0]\n",
      "28 [0.0, 1.0, 0.0, 0.0, 0.0]\n",
      "21 [0.0, 1.0, 0.0, 0.0, 0.0]\n",
      "9 [0.0, 0.0, 1.0, 0.0, 0.0]\n",
      "11 [0.0, 0.0, 1.0, 0.0, 0.0]\n",
      "43 [0.0, 1.0, 0.0, 0.0, 0.0]\n",
      "24 [0.0, 1.0, 0.0, 0.0, 0.0]\n",
      "4 [1.0, 0.0, 0.0, 0.0, 0.0]\n",
      "4 [0.0, 1.0, 0.0, 0.0, 0.0]\n",
      "13 [1.0, 0.0, 0.0, 0.0, 0.0]\n",
      "14 [1.0, 0.0, 0.0, 0.0, 0.0]\n",
      "17 [0.0, 1.0, 0.0, 0.0, 0.0]\n",
      "29 [0.0, 1.0, 0.0, 0.0, 0.0]\n",
      "13 [0.0, 0.0, 1.0, 0.0, 0.0]\n",
      "26 [1.0, 0.0, 0.0, 0.0, 0.0]\n",
      "71 [0.0, 0.0, 1.0, 0.0, 0.0]\n",
      "4 [0.0, 1.0, 0.0, 0.0, 0.0]\n",
      "2 [0.0, 0.0, 0.0, 1.0, 0.0]\n",
      "2 [0.0, 1.0, 0.0, 0.0, 0.0]\n",
      "2 [0.0, 1.0, 0.0, 0.0, 0.0]\n",
      "2 [0.0, 0.5, 0.5, 0.0, 0.0]\n",
      "4 [0.0, 0.75, 0.25, 0.0, 0.0]\n",
      "2 [1.0, 0.0, 0.0, 0.0, 0.0]\n",
      "4 [1.0, 0.0, 0.0, 0.0, 0.0]\n",
      "26 [0.0, 1.0, 0.0, 0.0, 0.0]\n",
      "25 [0.0, 0.0, 1.0, 0.0, 0.0]\n",
      "21 [0.0, 0.0, 1.0, 0.0, 0.0]\n",
      "20 [0.0, 0.0, 1.0, 0.0, 0.0]\n",
      "13 [0.0, 0.0, 1.0, 0.0, 0.0]\n",
      "8 [1.0, 0.0, 0.0, 0.0, 0.0]\n",
      "66 [0.0, 1.0, 0.0, 0.0, 0.0]\n",
      "28 [0.0, 0.0, 1.0, 0.0, 0.0]\n",
      "7 [1.0, 0.0, 0.0, 0.0, 0.0]\n",
      "6 [1.0, 0.0, 0.0, 0.0, 0.0]\n",
      "6 [1.0, 0.0, 0.0, 0.0, 0.0]\n",
      "25 [0.0, 1.0, 0.0, 0.0, 0.0]\n",
      "47 [0.0, 1.0, 0.0, 0.0, 0.0]\n",
      "5 [1.0, 0.0, 0.0, 0.0, 0.0]\n",
      "22 [0.0, 0.0, 1.0, 0.0, 0.0]\n",
      "4 [0.0, 1.0, 0.0, 0.0, 0.0]\n",
      "4 [1.0, 0.0, 0.0, 0.0, 0.0]\n",
      "4 [1.0, 0.0, 0.0, 0.0, 0.0]\n",
      "35 [0.0, 0.0, 1.0, 0.0, 0.0]\n",
      "9 [1.0, 0.0, 0.0, 0.0, 0.0]\n",
      "6 [1.0, 0.0, 0.0, 0.0, 0.0]\n",
      "72 [0.0, 0.0, 1.0, 0.0, 0.0]\n",
      "23 [0.0, 0.0, 1.0, 0.0, 0.0]\n",
      "38 [0.0, 0.0, 1.0, 0.0, 0.0]\n",
      "14 [0.0, 0.0, 1.0, 0.0, 0.0]\n",
      "90 [0.0, 1.0, 0.0, 0.0, 0.0]\n",
      "18 [1.0, 0.0, 0.0, 0.0, 0.0]\n",
      "34 [0.0, 1.0, 0.0, 0.0, 0.0]\n",
      "12 [0.0, 0.0, 1.0, 0.0, 0.0]\n",
      "4 [1.0, 0.0, 0.0, 0.0, 0.0]\n",
      "2 [1.0, 0.0, 0.0, 0.0, 0.0]\n",
      "5 [1.0, 0.0, 0.0, 0.0, 0.0]\n",
      "2 [0.0, 1.0, 0.0, 0.0, 0.0]\n",
      "2 [1.0, 0.0, 0.0, 0.0, 0.0]\n",
      "2 [1.0, 0.0, 0.0, 0.0, 0.0]\n",
      "2 [1.0, 0.0, 0.0, 0.0, 0.0]\n",
      "27 [1.0, 0.0, 0.0, 0.0, 0.0]\n",
      "8 [1.0, 0.0, 0.0, 0.0, 0.0]\n",
      "42 [0.0, 1.0, 0.0, 0.0, 0.0]\n",
      "12 [0.0, 0.0, 1.0, 0.0, 0.0]\n",
      "4 [0.0, 1.0, 0.0, 0.0, 0.0]\n",
      "119 [0.0, 1.0, 0.0, 0.0, 0.0]\n",
      "36 [0.0, 0.0, 1.0, 0.0, 0.0]\n",
      "25 [0.0, 0.0, 1.0, 0.0, 0.0]\n",
      "73 [0.0, 0.0, 1.0, 0.0, 0.0]\n",
      "6 [1.0, 0.0, 0.0, 0.0, 0.0]\n",
      "22 [0.0, 0.0, 1.0, 0.0, 0.0]\n",
      "36 [0.0, 0.0, 1.0, 0.0, 0.0]\n",
      "48 [0.0, 1.0, 0.0, 0.0, 0.0]\n",
      "52 [0.0, 0.0, 1.0, 0.0, 0.0]\n",
      "6 [0.0, 1.0, 0.0, 0.0, 0.0]\n",
      "2 [1.0, 0.0, 0.0, 0.0, 0.0]\n",
      "2 [0.0, 1.0, 0.0, 0.0, 0.0]\n",
      "2 [0.0, 1.0, 0.0, 0.0, 0.0]\n",
      "2 [1.0, 0.0, 0.0, 0.0, 0.0]\n",
      "2 [1.0, 0.0, 0.0, 0.0, 0.0]\n",
      "30 [0.0, 0.0, 1.0, 0.0, 0.0]\n",
      "5 [1.0, 0.0, 0.0, 0.0, 0.0]\n",
      "23 [1.0, 0.0, 0.0, 0.0, 0.0]\n",
      "120 [0.0, 1.0, 0.0, 0.0, 0.0]\n",
      "6 [0.0, 1.0, 0.0, 0.0, 0.0]\n",
      "10 [1.0, 0.0, 0.0, 0.0, 0.0]\n",
      "31 [0.0, 0.0, 1.0, 0.0, 0.0]\n",
      "4 [0.0, 1.0, 0.0, 0.0, 0.0]\n",
      "74 [0.0, 0.0, 1.0, 0.0, 0.0]\n",
      "10 [1.0, 0.0, 0.0, 0.0, 0.0]\n",
      "29 [1.0, 0.0, 0.0, 0.0, 0.0]\n",
      "9 [1.0, 0.0, 0.0, 0.0, 0.0]\n",
      "61 [0.0, 0.0, 1.0, 0.0, 0.0]\n",
      "76 [0.0, 1.0, 0.0, 0.0, 0.0]\n",
      "25 [0.0, 0.0, 1.0, 0.0, 0.0]\n",
      "10 [1.0, 0.0, 0.0, 0.0, 0.0]\n",
      "6 [1.0, 0.0, 0.0, 0.0, 0.0]\n",
      "2 [0.0, 1.0, 0.0, 0.0, 0.0]\n",
      "2 [1.0, 0.0, 0.0, 0.0, 0.0]\n",
      "14 [1.0, 0.0, 0.0, 0.0, 0.0]\n",
      "3 [1.0, 0.0, 0.0, 0.0, 0.0]\n",
      "121 [0.0, 1.0, 0.0, 0.0, 0.0]\n",
      "74 [0.0, 0.0, 1.0, 0.0, 0.0]\n",
      "10 [1.0, 0.0, 0.0, 0.0, 0.0]\n",
      "35 [0.0, 0.0, 1.0, 0.0, 0.0]\n",
      "75 [0.0, 0.0133, 0.9867, 0.0, 0.0]\n",
      "169 [0.0, 1.0, 0.0, 0.0, 0.0]\n",
      "6 [1.0, 0.0, 0.0, 0.0, 0.0]\n",
      "8 [0.0, 1.0, 0.0, 0.0, 0.0]\n",
      "8 [1.0, 0.0, 0.0, 0.0, 0.0]\n",
      "37 [0.0, 0.027, 0.973, 0.0, 0.0]\n",
      "86 [0.0, 0.0, 1.0, 0.0, 0.0]\n",
      "86 [0.0, 0.0, 1.0, 0.0, 0.0]\n",
      "30 [1.0, 0.0, 0.0, 0.0, 0.0]\n",
      "179 [0.0, 1.0, 0.0, 0.0, 0.0]\n",
      "7 [0.0, 1.0, 0.0, 0.0, 0.0]\n",
      "12 [1.0, 0.0, 0.0, 0.0, 0.0]\n",
      "77 [0.0, 1.0, 0.0, 0.0, 0.0]\n",
      "20 [1.0, 0.0, 0.0, 0.0, 0.0]\n",
      "8 [1.0, 0.0, 0.0, 0.0, 0.0]\n",
      "76 [0.0, 0.0263, 0.9737, 0.0, 0.0]\n",
      "7 [1.0, 0.0, 0.0, 0.0, 0.0]\n",
      "24 [1.0, 0.0, 0.0, 0.0, 0.0]\n",
      "65 [0.0, 0.0, 1.0, 0.0, 0.0]\n",
      "11 [1.0, 0.0, 0.0, 0.0, 0.0]\n",
      "180 [0.0056, 0.9944, 0.0, 0.0, 0.0]\n",
      "5 [1.0, 0.0, 0.0, 0.0, 0.0]\n",
      "87 [0.0, 0.0115, 0.9885, 0.0, 0.0]\n",
      "123 [0.0, 0.0081, 0.9919, 0.0, 0.0]\n",
      "14 [1.0, 0.0, 0.0, 0.0, 0.0]\n",
      "78 [0.0, 0.0385, 0.9615, 0.0, 0.0]\n",
      "181 [0.011, 0.989, 0.0, 0.0, 0.0]\n",
      "10 [0.0, 1.0, 0.0, 0.0, 0.0]\n",
      "44 [1.0, 0.0, 0.0, 0.0, 0.0]\n",
      "4 [1.0, 0.0, 0.0, 0.0, 0.0]\n",
      "78 [0.0128, 0.9872, 0.0, 0.0, 0.0]\n",
      "10 [1.0, 0.0, 0.0, 0.0, 0.0]\n",
      "182 [0.011, 0.9835, 0.0, 0.0055, 0.0]\n",
      "124 [0.0, 0.0081, 0.9839, 0.0081, -0.0]\n",
      "11 [0.0, 1.0, 0.0, 0.0, 0.0]\n",
      "88 [0.0114, 0.0114, 0.9773, 0.0, 0.0]\n",
      "11 [1.0, 0.0, 0.0, 0.0, 0.0]\n",
      "66 [0.0152, 0.0, 0.9848, 0.0, 0.0]\n",
      "183 [0.0164, 0.9781, 0.0, 0.0055, 0.0]\n",
      "22 [1.0, 0.0, 0.0, 0.0, 0.0]\n",
      "79 [0.0, 0.038, 0.9494, 0.0127, 0.0]\n",
      "17 [1.0, 0.0, 0.0, 0.0, 0.0]\n",
      "45 [1.0, 0.0, 0.0, 0.0, 0.0]\n",
      "13 [0.0, 1.0, 0.0, 0.0, 0.0]\n",
      "15 [1.0, 0.0, 0.0, 0.0, 0.0]\n",
      "125 [0.0, 0.008, 0.976, 0.016, 0.0]\n",
      "184 [0.0217, 0.9728, 0.0, 0.0054, 0.0]\n",
      "79 [0.0127, 0.9747, 0.0, 0.0127, 0.0]\n",
      "25 [1.0, 0.0, 0.0, 0.0, 0.0]\n",
      "12 [0.0, 1.0, 0.0, 0.0, 0.0]\n",
      "89 [0.0225, 0.0112, 0.9663, 0.0, -0.0]\n",
      "16 [1.0, 0.0, 0.0, 0.0, 0.0]\n",
      "185 [0.0216, 0.9676, 0.0, 0.0108, 0.0]\n",
      "12 [1.0, 0.0, 0.0, 0.0, 0.0]\n",
      "191 [0.0052, 0.0052, 0.9791, 0.0105, 0.0]\n",
      "80 [0.0, 0.0375, 0.9375, 0.025, 0.0]\n",
      "186 [0.0215, 0.9624, 0.0, 0.0161, -0.0]\n",
      "46 [1.0, 0.0, 0.0, 0.0, 0.0]\n",
      "193 [0.0052, 0.0155, 0.9689, 0.0104, -0.0]\n",
      "80 [0.025, 0.9625, 0.0, 0.0125, -0.0]\n",
      "187 [0.0267, 0.9572, 0.0, 0.016, -0.0]\n",
      "90 [0.0333, 0.0111, 0.9556, 0.0, 0.0]\n",
      "6 [1.0, 0.0, 0.0, 0.0, 0.0]\n",
      "14 [0.0, 1.0, 0.0, 0.0, 0.0]\n",
      "194 [0.0052, 0.0155, 0.9639, 0.0155, 0.0]\n",
      "27 [1.0, 0.0, 0.0, 0.0, 0.0]\n",
      "188 [0.0319, 0.9521, 0.0, 0.016, -0.0]\n",
      "82 [0.0, 0.061, 0.9146, 0.0244, -0.0]\n",
      "57 [1.0, 0.0, 0.0, 0.0, 0.0]\n",
      "14 [1.0, 0.0, 0.0, 0.0, 0.0]\n",
      "196 [0.0051, 0.0255, 0.9541, 0.0153, 0.0]\n",
      "190 [0.0316, 0.9526, 0.0, 0.0158, 0.0]\n",
      "198 [0.0152, 0.0253, 0.9444, 0.0152, -0.0]\n",
      "194 [0.0309, 0.9536, 0.0, 0.0155, -0.0]\n",
      "82 [0.0488, 0.939, 0.0, 0.0122, 0.0]\n",
      "92 [0.0326, 0.0109, 0.9348, 0.0217, -0.0]\n",
      "84 [1.0, 0.0, 0.0, 0.0, 0.0]\n",
      "86 [0.0, 0.093, 0.8837, 0.0233, 0.0]\n",
      "200 [0.025, 0.025, 0.935, 0.015, -0.0]\n",
      "198 [0.0303, 0.9545, 0.0, 0.0152, -0.0]\n",
      "92 [1.0, 0.0, 0.0, 0.0, 0.0]\n",
      "19 [1.0, 0.0, 0.0, 0.0, 0.0]\n",
      "204 [0.0441, 0.0245, 0.9167, 0.0147, 0.0]\n",
      "201 [0.0448, 0.9403, 0.0, 0.0149, -0.0]\n",
      "98 [1.0, 0.0, 0.0, 0.0, 0.0]\n",
      "283 [0.0459, 0.9399, 0.0, 0.0141, -0.0]\n",
      "38 [1.0, 0.0, 0.0, 0.0, 0.0]\n",
      "217 [0.0415, 0.0829, 0.8618, 0.0138, -0.0]\n",
      "98 [0.0918, 0.0102, 0.8776, 0.0204, 0.0]\n",
      "22 [1.0, 0.0, 0.0, 0.0, 0.0]\n",
      "297 [0.0438, 0.9428, 0.0, 0.0135, -0.0]\n",
      "117 [1.0, 0.0, 0.0, 0.0, 0.0]\n",
      "315 [0.0571, 0.0603, 0.8667, 0.0159, -0.0]\n",
      "314 [0.0955, 0.8917, 0.0, 0.0127, -0.0]\n",
      "401 [0.0449, 0.0673, 0.8703, 0.0175, 0.0]\n",
      "336 [0.1548, 0.8333, 0.0, 0.0119, -0.0]\n",
      "439 [0.1276, 0.0615, 0.795, 0.0159, -0.0]\n",
      "775 [0.1394, 0.3961, 0.4503, 0.0142, -0.0]\n"
     ]
    }
   ],
   "source": [
    "accuracy=[]\n",
    "for i in range(len(all_rmsd)):\n",
    "    if len(all_rmsd[i])>1:\n",
    "        ratio = correct_ratio(all_rmsd[i])\n",
    "        print(len(all_rmsd[i]),ratio)#,'|',[*dic.keys()][i])\n",
    "        accuracy.append(np.max(ratio))"
   ]
  },
  {
   "cell_type": "code",
   "execution_count": 71,
   "metadata": {},
   "outputs": [
    {
     "data": {
      "image/png": "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\n",
      "text/plain": [
       "<Figure size 432x288 with 1 Axes>"
      ]
     },
     "metadata": {
      "needs_background": "light"
     },
     "output_type": "display_data"
    }
   ],
   "source": [
    "num_frames = np.array([len(i) for i in [[int(d) for d in [*k.split(',')]] for k in list(dic.keys())]],ndmin=2)\n",
    "plt.scatter(range(len(accuracy)),accuracy,marker='.',linewidths=0.1,color='b',label='Percentage of correct samples in cluster')\n",
    "plt.scatter(range(num_frames.shape[1]),*(num_frames/num_frames.shape[1]).tolist(),marker='.',linewidths=0.1,color='r',label='Percentage of samples in cluster')\n",
    "#plt.scatter(*(num_frames).tolist(),accuracy,marker='.',color='r')\n",
    "\n",
    "plt.xlabel('Clustering_step')\n",
    "plt.ylabel('Assignment_accuracy')\n",
    "plt.legend()\n",
    "plt.savefig('test_Faith_proteinG_1000samples_without_outlier_accuracy.png')"
   ]
  },
  {
   "cell_type": "code",
   "execution_count": 189,
   "metadata": {
    "scrolled": true
   },
   "outputs": [
    {
     "name": "stdout",
     "output_type": "stream",
     "text": [
      "125 | 0.586 | 758.328\n",
      "79 | 0.602 | 758.101\n",
      "25 | 0.571 | 758.08\n",
      "12 | 0.78 | 757.833\n",
      "89 | 0.599 | 757.629\n",
      "16 | 0.541 | 757.625\n",
      "185 | 0.632 | 757.6\n",
      "12 | 0.656 | 757.5\n",
      "191 | 0.579 | 757.257\n",
      "2 | 0.971 | 757.0\n"
     ]
    }
   ],
   "source": [
    "for i in range(-10,0):\n",
    "    print(len(all_clust[i]),'|',round(ave_rmsd[i],3),'|',round([*dic.values()][i],3))"
   ]
  },
  {
   "cell_type": "code",
   "execution_count": 112,
   "metadata": {
    "scrolled": true
   },
   "outputs": [
    {
     "data": {
      "text/plain": [
       "897"
      ]
     },
     "execution_count": 112,
     "metadata": {},
     "output_type": "execute_result"
    }
   ],
   "source": [
    "len([*[*dic.keys()][99].split(',')])"
   ]
  },
  {
   "cell_type": "markdown",
   "metadata": {},
   "source": [
    "## We will try k-means++ from here"
   ]
  },
  {
   "cell_type": "code",
   "execution_count": 28,
   "metadata": {},
   "outputs": [],
   "source": [
    "Threshold = 0.6\n",
    "traj = md.load_dcd('test_data/protein/3gb1.dcd',top='test_data/protein/3GB1.pdb')\n",
    "topfile=traj.top\n",
    "pdb = md.load_pdb('test_data/protein/3GB1.pdb')\n",
    "feat = coor.featurizer(topfile)\n",
    "residues = np.arange(0,56)\n",
    "pairs = []                                                                                 \n",
    "for i,r1 in enumerate(residues):\n",
    "    for r2 in residues[i+1::2]:\n",
    "        pairs.append([r1,r2])\n",
    "pairs = np.array(pairs)\n",
    "feature=feat.add_residue_mindist(pairs, scheme='closest-heavy',threshold=Threshold,periodic=False)\n",
    "inp = pyemma.coordinates.load('test_data/protein/3gb1.dcd', features=feat)\n",
    "inp=inp[::10]\n",
    "traj = traj[::10]\n",
    "traj_index = [i for i in range(traj.n_frames) if i not in index_aa]\n",
    "inp=inp[traj_index]\n",
    "traj = traj[traj_index]"
   ]
  },
  {
   "cell_type": "code",
   "execution_count": 29,
   "metadata": {},
   "outputs": [
    {
     "name": "stdout",
     "output_type": "stream",
     "text": [
      "all_c shape = (397386, 3)\n",
      "step 0 time = 1.72 s\n",
      "final matrix shape =  (892, 892)\n",
      "total time = 1.76 s\n"
     ]
    }
   ],
   "source": [
    "all_start = time.time()\n",
    "all_input = list(itertools.combinations(inp, 2))\n",
    "batch_size=1000000\n",
    "inp_sliced=[all_input[i*batch_size:(i+1)*batch_size] for i in range(int(len(all_input)/batch_size))]\n",
    "if int(len(inp_sliced)) < len(all_input)/batch_size:\n",
    "    inp_sliced.append(all_input[len(inp_sliced)*batch_size:])\n",
    "for i in range(len(inp_sliced)):\n",
    "    temp_start = time.time()\n",
    "    temp_c = np.zeros((int(len(inp_sliced[i])),3))\n",
    "    temp_input = np.array(inp_sliced[i])\n",
    "    product = temp_input.reshape(-1,2,temp_input.shape[-1]).sum(1)\n",
    "    for row in range(3):\n",
    "        temp_c[:,row] = np.sum(product==row,axis=1)\n",
    "    if i == 0:\n",
    "        all_c = temp_c\n",
    "    else:\n",
    "        all_c = np.concatenate((all_c,temp_c),axis=0)\n",
    "    print('all_c shape =', all_c.shape)\n",
    "    temp_end = time.time()\n",
    "    temp_time = temp_end - temp_start\n",
    "    print('step {} time ='.format(i),round(temp_time,2),'s')\n",
    "\n",
    "###calculate similarity\n",
    "simi = all_c[:,0]+all_c[:,2]\n",
    "disimi = all_c[:,1]\n",
    "denominate = all_c[:,0]+all_c[:,1]+all_c[:,2]\n",
    "w_p = simi/denominate\n",
    "simi_matrix = np.zeros((len(inp),len(inp)))\n",
    "mirror_simi_matrix = np.zeros((len(inp),len(inp)))\n",
    "upper_indices = np.triu_indices(len(inp),k=1)\n",
    "lower_indices = (upper_indices[1],upper_indices[0])\n",
    "simi_matrix[lower_indices] = simi\n",
    "mirror_simi_matrix[upper_indices] = simi\n",
    "mirror_simi_matrix[lower_indices] = simi\n",
    "np.fill_diagonal(mirror_simi_matrix,np.Inf)\n",
    "print('final matrix shape = ', simi_matrix.shape)\n",
    "all_end = time.time()\n",
    "all_time = all_end - all_start\n",
    "print('total time =', round(all_time,2),'s')"
   ]
  },
  {
   "cell_type": "code",
   "execution_count": 33,
   "metadata": {},
   "outputs": [
    {
     "data": {
      "text/plain": [
       "277"
      ]
     },
     "execution_count": 33,
     "metadata": {},
     "output_type": "execute_result"
    }
   ],
   "source": [
    "traj_index.index(382)"
   ]
  },
  {
   "cell_type": "code",
   "execution_count": 34,
   "metadata": {},
   "outputs": [],
   "source": [
    "#centroid = np.random.randint(0,len(inp),3)\n",
    "centroid = [148,697,277]"
   ]
  },
  {
   "cell_type": "code",
   "execution_count": 35,
   "metadata": {},
   "outputs": [
    {
     "name": "stdout",
     "output_type": "stream",
     "text": [
      "[[148, 121], [697, 686], [277, 806]]\n"
     ]
    }
   ],
   "source": [
    "### Assigning the most similar sample to each centroid\n",
    "mirror_max_matrix = np.zeros((len(inp),len(inp)))\n",
    "mirror_max_matrix[upper_indices] = simi\n",
    "mirror_max_matrix[lower_indices] = simi\n",
    "max_index = np.argmax(mirror_max_matrix[:,centroid],axis=0)\n",
    "first_step = [[centroid[index],max_index[index]] for index in range(len(max_index))]\n",
    "second_step_index = [i for i in range(inp.shape[0]) if i not in list(np.concatenate(first_step))]\n",
    "print(first_step)"
   ]
  },
  {
   "cell_type": "code",
   "execution_count": 36,
   "metadata": {},
   "outputs": [
    {
     "data": {
      "text/plain": [
       "array([0.87399685, 0.8820699 , 0.33895   , 0.33139157, 0.07938181,\n",
       "       0.08370326], dtype=float32)"
      ]
     },
     "execution_count": 36,
     "metadata": {},
     "output_type": "execute_result"
    }
   ],
   "source": [
    "all_CA=topfile.select(\"backbone==1\")\n",
    "md.rmsd(traj[np.concatenate(first_step)],pdb,atom_indices=all_CA)"
   ]
  },
  {
   "cell_type": "code",
   "execution_count": 37,
   "metadata": {
    "scrolled": true
   },
   "outputs": [
    {
     "name": "stdout",
     "output_type": "stream",
     "text": [
      "total time = 2.18 s\n"
     ]
    }
   ],
   "source": [
    "all_start = time.time()\n",
    "k_clusters = first_step\n",
    "while len(second_step_index) > 0:\n",
    "    random_int = np.random.randint(0,len(second_step_index))\n",
    "    single = second_step_index[random_int]\n",
    "    k_max = np.argmax([bc(np.concatenate(([inp[single]],inp[k_clusters[k]]),axis=0)).total_w_sim for k in range(len(k_clusters))],axis=None)\n",
    "#    k_max = np.argmax([Fai(np.concatenate(([inp[single]],inp[k_clusters[k]]),axis=0)).Fai_1sim_wdis for k in range(len(k_clusters))],axis=None)\n",
    "    k_clusters[k_max] = k_clusters[k_max] + [single]\n",
    "    second_step_index.remove(single)\n",
    "all_end = time.time()\n",
    "all_time = all_end - all_start\n",
    "print('total time =', round(all_time,2),'s')"
   ]
  },
  {
   "cell_type": "code",
   "execution_count": 51,
   "metadata": {},
   "outputs": [
    {
     "data": {
      "image/png": "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\n",
      "text/plain": [
       "<Figure size 432x288 with 1 Axes>"
      ]
     },
     "metadata": {
      "needs_background": "light"
     },
     "output_type": "display_data"
    }
   ],
   "source": [
    "traj = md.load_dcd('test_data/protein/3gb1.dcd',top='test_data/protein/3GB1.pdb')\n",
    "topfile=traj.top\n",
    "pdb = md.load_pdb('test_data/protein/3GB1.pdb')\n",
    "traj = traj[::10]\n",
    "out_lier = md.rmsd(traj[index_aa],pdb,atom_indices=all_CA)\n",
    "plt.scatter(index_aa,out_lier,marker='.',color='b',label='outliers')\n",
    "traj_index = [i for i in range(traj.n_frames) if i not in index_aa]\n",
    "#traj = traj[traj_index]\n",
    "ori_index = [[traj_index[i] for i in d] for d in k_clusters]\n",
    "for index,i in enumerate(ori_index):\n",
    "    true_rmsd=md.rmsd(traj[i],pdb,atom_indices=all_CA)\n",
    "    plt.scatter(i,true_rmsd,marker='.',label='cluster {0}; {1}'.format(index+1,max(ratio[index])))\n",
    "plt.legend()\n",
    "plt.xlabel('Sample')\n",
    "plt.ylabel('RMSD') \n",
    "plt.savefig('test_1000samples_kmeans_1drmsd.png')"
   ]
  },
  {
   "cell_type": "code",
   "execution_count": 49,
   "metadata": {},
   "outputs": [
    {
     "name": "stdout",
     "output_type": "stream",
     "text": [
      "[163, 354, 375]\n"
     ]
    }
   ],
   "source": [
    "print([len(i) for i in k_clusters])\n",
    "ratio=[correct_ratio(md.rmsd(traj[i],pdb,atom_indices=all_CA)) for i in ori_index]"
   ]
  },
  {
   "cell_type": "code",
   "execution_count": null,
   "metadata": {},
   "outputs": [],
   "source": [
    "### compare triple array\n",
    "for k in range(len(first_step)):\n",
    "    a=np.zeros((len(second_step_index),len(first_step[k])+1))\n",
    "    a[:,0] = second_step_index\n",
    "    a[:,[1,2]] = first_step[k]\n",
    "    a=a.astype('int')\n",
    "    all_input = [inp[i] for i in a]\n",
    "    all_array_input = np.vstack([all_input])\n",
    "    all_product = all_array_input.reshape(-1,3,all_array_input.shape[-1]).sum(1)\n",
    "    temp_c = np.zeros((len(second_step_index),len(first_step[0])+2))\n",
    "    for row in range(len(first_step[0])+2):\n",
    "        temp_c[:,row] = np.sum(all_product==row,axis=1)\n",
    "    if k == 0:\n",
    "        all_c = temp_c\n",
    "    else:\n",
    "        all_c = np.concatenate((all_c,temp_c),axis=0)\n",
    "        \n",
    "### find centroids step by step\n",
    "min_index = (np.argmin(mirror_simi_matrix[:,first_centroid]),first_centroid)\n",
    "centroid = [first_centroid]\n",
    "k=2\n",
    "for i in range(k):\n",
    "    ave_array = np.average(mirror_simi_matrix[:,centroid],axis=1)\n",
    "    print(ave_array.shape)\n",
    "    min_index = np.argmin(ave_array)\n",
    "    centroid.append(min_index)\n",
    "    print(centroid)\n",
    "centroid"
   ]
  },
  {
   "cell_type": "markdown",
   "metadata": {},
   "source": [
    "## Here is the playground"
   ]
  },
  {
   "cell_type": "code",
<<<<<<< HEAD
   "execution_count": 396,
   "metadata": {},
   "outputs": [],
   "source": [
    "all_data=np.loadtxt('test_data/aggregation.txt')\n",
    "all_data=all_data[:,0:2]\n",
    "pairs = list(itertools.combinations(all_data, 2))"
   ]
  },
  {
   "cell_type": "code",
   "execution_count": 425,
   "metadata": {
    "scrolled": false
   },
   "outputs": [
    {
     "data": {
      "text/plain": [
       "<matplotlib.collections.PathCollection at 0x2b79cfe2f410>"
      ]
     },
     "execution_count": 425,
     "metadata": {},
     "output_type": "execute_result"
    },
    {
     "data": {
      "image/png": "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\n",
      "text/plain": [
       "<Figure size 432x288 with 1 Axes>"
      ]
     },
     "metadata": {
      "needs_background": "light"
     },
     "output_type": "display_data"
    }
   ],
   "source": [
    "plt.scatter(all_data[:,0],all_data[:,1],marker='.',color='k',alpha=0.5)\n",
    "#plt.scatter(all_data[:,0][peak_list[0]],all_data[:,1][peak_list[0]],marker='x',color='r')\n",
    "#plt.scatter(all_data[:,0][rough_peaks],all_data[:,1][rough_peaks],marker='.',color='r')\n",
    "plt.scatter(all_data[:,0][index_aa],all_data[:,1][index_aa],marker='.',color='g')\n",
    "plt.scatter(all_data[:,0][49],all_data[:,1][49],marker='.',color='r')\n",
    "# plt.scatter(all_data[:,0][trial_step_path[0]],all_data[:,1][trial_step_path[0]],marker='.',color='r')\n",
    "\n",
    "# for i in trial_step_nn[-8:-1]:\n",
    "#     plt.scatter(all_data[:,0][i],all_data[:,1][i],marker='.')\n",
    "# for i in clusters:\n",
    "#     plt.scatter(all_data[:,0][i],all_data[:,1][i],marker='.')\n",
    "  "
   ]
  },
  {
   "cell_type": "code",
   "execution_count": 418,
   "metadata": {},
   "outputs": [
    {
     "data": {
      "text/plain": [
       "array([311, 699, 513,  49, 721, 178, 757])"
      ]
     },
     "execution_count": 418,
     "metadata": {},
     "output_type": "execute_result"
    }
   ],
   "source": [
    "peak_list"
   ]
  },
  {
   "cell_type": "code",
   "execution_count": 398,
   "metadata": {},
   "outputs": [],
   "source": [
    "import time\n",
    "import copy\n",
    "#step_1: calculate distance matrix\n",
    "def calc_distance_matrix(all_data,cutoff):\n",
    "    pairs = list(itertools.combinations(all_data, 2))\n",
    "    simi_matrix = np.zeros((len(all_data),len(all_data)))\n",
    "    mirror_simi_matrix = np.zeros((len(all_data),len(all_data)))\n",
    "    upper_indices = np.triu_indices(len(all_data),k=1)\n",
    "    lower_indices = (upper_indices[1],upper_indices[0])\n",
    "    pair_array = np.array(pairs)\n",
    "    distance=np.linalg.norm(pair_array[:,0]-pair_array[:,1],axis=1)\n",
    "    distance_cut=distance<cutoff\n",
    "    simi_matrix[lower_indices] = distance_cut\n",
    "    mirror_simi_matrix[upper_indices] = distance_cut\n",
    "    mirror_simi_matrix[lower_indices] = distance_cut\n",
    "    np.fill_diagonal(mirror_simi_matrix,1)    \n",
    "    sum_mirror_binary_simi = np.sum(mirror_simi_matrix.T,axis=1)\n",
    "    normed_sum_mirror_binary_simi = np.exp(sum_mirror_binary_simi/sum_mirror_binary_simi.max())\n",
    "    distance_matrix = np.zeros((len(all_data),len(all_data)))\n",
    "    distance_matrix[upper_indices] = distance\n",
    "    distance_matrix[lower_indices] = distance\n",
    "    return distance_matrix, normed_sum_mirror_binary_simi,mirror_simi_matrix\n",
    "\n",
    "#step_2: build k-nearest-neighbor matrix\n",
    "def build_knn(high_rho_distance_matrix, k, start_point):\n",
    "    copy_distance_matrix = copy.copy(high_rho_distance_matrix)\n",
    "    shape = copy_distance_matrix.shape[0]\n",
    "    no_knn_list = np.argsort(copy_distance_matrix,axis=1)[:,k+1:]\n",
    "    np.put_along_axis(copy_distance_matrix,no_knn_list,np.inf,axis=1)\n",
    "    single_source_path = copy_distance_matrix[start_point]\n",
    "    nn = True\n",
    "    all_nn = np.concatenate(np.argwhere((single_source_path != np.inf) & (single_source_path != 0)).T)\n",
    "\n",
    "    while nn == True:\n",
    "        old_single_source_path = copy.copy(single_source_path)\n",
    "        for nn_index,i in enumerate(all_nn):\n",
    "            current_stage = np.concatenate(np.argwhere(old_single_source_path != np.inf).T)\n",
    "            another_path = copy_distance_matrix[i].reshape(copy_distance_matrix.shape[0],)\n",
    "            next_nn = np.concatenate(np.argwhere((another_path != np.inf) & (another_path != np.inf)).T)\n",
    "            for ii in next_nn:\n",
    "                if another_path[ii] != np.inf:\n",
    "                    single_source_path[ii] = np.min((single_source_path[ii], single_source_path[i] + another_path[ii]))\n",
    "            if nn_index == 0:\n",
    "                temp_nn = copy.copy(next_nn)\n",
    "            else:\n",
    "                temp_nn = np.concatenate((temp_nn, next_nn),axis=None)\n",
    "\n",
    "        all_nn = np.array([d for d in np.unique(temp_nn) if d not in current_stage])\n",
    "        if all_nn.shape[0] == 0:\n",
    "            nn = False\n",
    "\n",
    "    return single_source_path     \n",
    "\n",
    "#step_3: decide density peaks and get clusters simultaneously\n",
    "def get_peaks(num_peaks, distance_matrix, normed_sum_mirror_binary_simi,mirror_simi_matrix, k, ambiguity=0.3):\n",
    "    sum_mirror_binary_simi = np.sum(mirror_simi_matrix,axis=1)\n",
    "    sum_mirror_binary_simi_index = np.vstack((sum_mirror_binary_simi,range(len(sum_mirror_binary_simi)))).T\n",
    "    sorted_sum_mirror_binary_simi_index = sum_mirror_binary_simi_index[sum_mirror_binary_simi_index[:,0].argsort()][::-1]\n",
    "    sorted_sum_mirror_binary_simi_index = sorted_sum_mirror_binary_simi_index.astype('int')\n",
    "    index_aa=list(sorted_sum_mirror_binary_simi_index[:,1][:int(distance_matrix.shape[0]*(1-ambiguity))])\n",
    "    high_rho_distance_matrix = distance_matrix[index_aa][:,index_aa]\n",
    "    high_rho_normed_sum_mirror_binary_simi = normed_sum_mirror_binary_simi[index_aa]\n",
    "    normed_min_max = []\n",
    "    rough_peaks = []\n",
    "    peak_list = []\n",
    "    for peak in range(num_peaks):\n",
    "        if peak == 0:\n",
    "            new_peak = high_rho_normed_sum_mirror_binary_simi.argmax()\n",
    "            peak_list.append(new_peak)\n",
    "            rough_peaks.append(new_peak)\n",
    "            all_paths = build_knn(high_rho_distance_matrix, k, new_peak)\n",
    "        elif peak == 1:\n",
    "            big_dis = high_rho_distance_matrix[peak_list[0]]/(high_rho_distance_matrix[peak_list[0]].max())\n",
    "            new_peak = (high_rho_normed_sum_mirror_binary_simi*big_dis).argmax()\n",
    "            peak_list.append(new_peak)\n",
    "            normed_min_max.append((high_rho_normed_sum_mirror_binary_simi*big_dis).max())\n",
    "            all_paths = np.concatenate(([all_paths],[build_knn(high_rho_distance_matrix, k, new_peak)]),axis=0)\n",
    "            rough_peaks.append(new_peak)\n",
    "            \n",
    "        else:\n",
    "            min_max = np.min(high_rho_distance_matrix[rough_peaks],axis=0)/np.max(high_rho_distance_matrix[rough_peaks],axis=0)\n",
    "            min_max[rough_peaks] = 0\n",
    "            new_peak = (high_rho_normed_sum_mirror_binary_simi*min_max).argmax()\n",
    "            rough_peaks.append(new_peak)\n",
    "            single_source_path = build_knn(high_rho_distance_matrix, k, new_peak)\n",
    "            \n",
    "            if (single_source_path[peak_list]==np.inf).sum() == len(peak_list):\n",
    "                peak_list.append(new_peak)\n",
    "                normed_min_max.append((high_rho_normed_sum_mirror_binary_simi*min_max).max())\n",
    "                all_paths = np.concatenate((all_paths,[single_source_path]),axis=0)\n",
    "            else:\n",
    "                normed_min_max.append(0)\n",
    "    \n",
    "    rough_peaks = np.array(index_aa)[rough_peaks]\n",
    "    peak_list = np.array(index_aa)[peak_list]\n",
    "    clusters = [np.array(index_aa)[all_paths[a]!=np.inf] for a in range(all_paths.shape[0])]\n",
    "    \n",
    "    return index_aa,peak_list,rough_peaks,normed_min_max,all_paths,clusters\n",
    "\n",
    " "
   ]
  },
  {
   "cell_type": "markdown",
   "metadata": {},
   "source": [
    "$argmax(\\frac{min(\\text{distances to previous determined cluster centers})}{max(\\text{distances to previous determined cluster centers})}*e^{\\text{normed density}})$"
=======
   "execution_count": 4,
   "metadata": {},
   "outputs": [],
   "source": [
    "all_data=np.loadtxt('test_data/origin_1000.dat')\n",
    "all_data=all_data[:,0:2]#[np.random.randint(0,1000,900)]\n",
    "pairs = list(itertools.combinations(all_data, 2))"
>>>>>>> ecb73c54a487c966d00eb80a38967405cf0f7fbe
   ]
  },
  {
   "cell_type": "code",
<<<<<<< HEAD
   "execution_count": 410,
=======
   "execution_count": 13,
>>>>>>> ecb73c54a487c966d00eb80a38967405cf0f7fbe
   "metadata": {
    "scrolled": true
   },
   "outputs": [],
   "source": [
    "all_start = time.time()\n",
    "distance_matrix, normed_sum_mirror_binary_simi,mirror_simi_matrix = calc_distance_matrix(all_data,3)\n",
    "index_aa,peak_list,rough_peaks,normed_min_max,all_paths,clusters = get_peaks(15, distance_matrix, normed_sum_mirror_binary_simi,mirror_simi_matrix, 4,ambiguity=0.23)\n"
   ]
  },
  {
   "cell_type": "code",
   "execution_count": 411,
   "metadata": {},
   "outputs": [
    {
     "data": {
<<<<<<< HEAD
      "text/plain": [
       "<matplotlib.collections.PathCollection at 0x2b79d24fd990>"
      ]
     },
     "execution_count": 411,
     "metadata": {},
     "output_type": "execute_result"
    },
    {
     "data": {
      "image/png": "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\n",
=======
      "image/png": "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\n",
>>>>>>> ecb73c54a487c966d00eb80a38967405cf0f7fbe
      "text/plain": [
       "<Figure size 432x288 with 1 Axes>"
      ]
     },
     "metadata": {
      "needs_background": "light"
     },
     "output_type": "display_data"
    }
   ],
   "source": [
<<<<<<< HEAD
    "plt.scatter(range(len(normed_min_max)), normed_min_max)"
=======
    "plt.scatter(all_data[:,0],all_data[:,1],marker='.')\n",
    "#plt.scatter(all_data[:,0][0],all_data[:,1][0],marker='.',color='r')\n",
    "plt.scatter(all_data[:,0][index_aa],all_data[:,1][index_aa],marker='.',color='r')\n",
    "#plt.scatter(all_data[:,0][sorted_sum_mirror_binary_simi_index[:,1][:20]],all_data[:,1][sorted_sum_mirror_binary_simi_index[:,1][:20]],marker='.',color='r')\n",
    "plt.savefig('test_origin_1000_dataset_margin.png')"
>>>>>>> ecb73c54a487c966d00eb80a38967405cf0f7fbe
   ]
  },
  {
   "cell_type": "code",
<<<<<<< HEAD
   "execution_count": 174,
=======
   "execution_count": 4,
>>>>>>> ecb73c54a487c966d00eb80a38967405cf0f7fbe
   "metadata": {},
   "outputs": [
    {
     "data": {
      "text/plain": [
       "array([ 90, 210, 184])"
      ]
     },
     "execution_count": 174,
     "metadata": {},
     "output_type": "execute_result"
    }
   ],
   "source": [
    "peak_list"
   ]
  },
  {
   "cell_type": "code",
   "execution_count": 422,
   "metadata": {
    "scrolled": true
   },
   "outputs": [],
   "source": [
    "all_start = time.time()\n",
    "\n",
    "def build_knn(distance_matrix,mirror_simi_matrix, k, start_point):\n",
    "    sum_mirror_binary_simi = np.sum(mirror_simi_matrix,axis=1)\n",
    "    copy_distance_matrix = copy.copy(distance_matrix)\n",
    "    shape = copy_distance_matrix.shape[0]\n",
    "    no_knn_list = np.argsort(copy_distance_matrix,axis=1)[:,k+1:]\n",
    "    np.put_along_axis(copy_distance_matrix,no_knn_list,np.inf,axis=1)\n",
    "    single_source_path = copy_distance_matrix[start_point]\n",
    "    search_num = copy.copy(k)\n",
    "    nn = True\n",
    "    ppp=0\n",
    "    all_nn = np.concatenate(np.argwhere((single_source_path != np.inf) & (single_source_path != 0)).T)\n",
    "    step_nn=[]\n",
    "    step_min_max_rho=[]\n",
    "    \n",
    "    step_short_path=dict(zip(list(all_nn), [[i] for i in all_nn]))\n",
    "    while nn == True:\n",
    "        print(step_short_path)\n",
    "        print(all_nn)\n",
    "#         for nnn in all_nn:\n",
    "        old_single_source_path = copy.copy(single_source_path)\n",
    "        for nn_index,i in enumerate(all_nn):\n",
    "            \n",
    "            current_stage = np.concatenate(np.argwhere(old_single_source_path != np.inf).T)\n",
    "#             print(current_stage)\n",
    "\n",
    "            another_path = copy_distance_matrix[i].reshape(copy_distance_matrix.shape[0],)\n",
    "            next_nn = np.concatenate(np.argwhere((another_path != np.inf) & (another_path != np.inf)).T)\n",
    "#             print(next_nn)\n",
    "            for ii in next_nn:\n",
    "               # if another_path[ii] != np.inf:\n",
    "                if single_source_path[i] + another_path[ii] < single_source_path[ii]:\n",
    "                    single_source_path[ii] = single_source_path[i] + another_path[ii]\n",
    "                    print(i)\n",
    "                    step_short_path.update({ii:step_short_path[i] + [ii]})#[ii] = step_short_path[i] + [ii]\n",
    "                    #single_source_path[ii] = np.min((single_source_path[ii], single_source_path[i] + another_path[ii]))\n",
    "#             print(np.argwhere(single_source_path != np.inf)[0])\n",
    "            if nn_index == 0:\n",
    "                temp_nn = copy.copy(next_nn)\n",
    "            else:\n",
    "                temp_nn = np.concatenate((temp_nn, next_nn),axis=None)\n",
    "#         print(np.unique(temp_nn))\n",
    "#         print(current_stage)\n",
    "        all_nn = np.array([d for d in np.unique(temp_nn) if d not in current_stage])\n",
    "        step_nn.append(all_nn)\n",
    "#        step_min_max_rho.append(sum_mirror_binary_simi[all_nn.tolist()].max()/sum_mirror_binary_simi[all_nn.tolist()].min())\n",
    "        print(step_min_max_rho)\n",
    "        ppp+=1\n",
    "#         print(ppp)\n",
    "        if all_nn.shape[0] != 0:\n",
    "            step_nn.append(all_nn)\n",
    "            step_min_max_rho.append(np.average(sum_mirror_binary_simi[list(all_nn)]))\n",
    "        else:\n",
    "            nn = False\n",
    "            break\n",
    "\n",
    "    return single_source_path, step_nn, step_min_max_rho, step_short_path\n",
    "            \n",
    "            "
   ]
  },
  {
   "cell_type": "code",
   "execution_count": 423,
   "metadata": {
    "scrolled": true
   },
   "outputs": [
    {
     "name": "stdout",
     "output_type": "stream",
     "text": [
      "{46: [46], 47: [47], 48: [48], 50: [50]}\n",
      "[46 47 48 50]\n",
      "46\n",
      "46\n",
      "47\n",
      "48\n",
      "48\n",
      "50\n",
      "50\n",
      "50\n",
      "[]\n",
      "{46: [46], 47: [47], 48: [48], 50: [50], 33: [46, 33], 45: [47, 45], 32: [48, 32], 51: [50, 51], 56: [50, 56], 57: [50, 57]}\n",
      "[32 33 45 51 56 57]\n",
      "32\n",
      "32\n",
      "33\n",
      "45\n",
      "51\n",
      "56\n",
      "57\n",
      "57\n",
      "[43.5]\n",
      "{46: [46], 47: [47], 48: [48], 50: [50], 33: [46, 33], 45: [47, 45], 32: [48, 32], 51: [50, 51], 56: [50, 56], 57: [50, 57], 24: [48, 32, 24], 31: [48, 32, 31], 34: [46, 33, 34], 38: [47, 45, 38], 52: [50, 51, 52], 55: [50, 56, 55], 72: [50, 57, 72], 81: [50, 57, 81]}\n",
      "[24 31 34 38 52 55 72 81]\n",
      "24\n",
      "24\n",
      "24\n",
      "31\n",
      "34\n",
      "34\n",
      "38\n",
      "38\n",
      "38\n",
      "52\n",
      "52\n",
      "55\n",
      "55\n",
      "55\n",
      "72\n",
      "72\n",
      "81\n",
      "81\n",
      "[43.5, 40.875]\n",
      "{46: [46], 47: [47], 48: [48], 50: [50], 33: [46, 33], 45: [47, 45], 32: [48, 32], 51: [50, 51], 56: [50, 56], 57: [50, 57], 24: [48, 32, 24], 31: [48, 32, 31], 34: [46, 33, 34], 38: [47, 45, 38], 52: [50, 51, 52], 55: [50, 56, 55], 72: [50, 57, 72], 81: [50, 57, 81], 19: [48, 32, 24, 19], 23: [48, 32, 24, 23], 25: [48, 32, 24, 25], 30: [48, 32, 31, 30], 35: [46, 33, 34, 35], 37: [47, 45, 38, 37], 39: [47, 45, 38, 39], 40: [47, 45, 38, 40], 53: [50, 51, 52, 53], 54: [50, 56, 55, 54], 124: [50, 56, 55, 124], 125: [50, 56, 55, 125], 58: [50, 57, 72, 58], 71: [50, 57, 72, 71], 82: [50, 57, 81, 82], 83: [50, 57, 81, 83]}\n",
      "[ 19  23  25  30  35  37  39  40  53  54  58  71  82  83 124 125]\n",
      "19\n",
      "19\n",
      "19\n",
      "23\n",
      "25\n",
      "25\n",
      "30\n",
      "35\n",
      "39\n",
      "40\n",
      "53\n",
      "53\n",
      "54\n",
      "58\n",
      "58\n",
      "71\n",
      "71\n",
      "82\n",
      "82\n",
      "83\n",
      "124\n",
      "124\n",
      "124\n",
      "125\n",
      "125\n",
      "125\n",
      "[43.5, 40.875, 39.5625]\n",
      "{46: [46], 47: [47], 48: [48], 50: [50], 33: [46, 33], 45: [47, 45], 32: [48, 32], 51: [50, 51], 56: [50, 56], 57: [50, 57], 24: [48, 32, 24], 31: [48, 32, 31], 34: [46, 33, 34], 38: [47, 45, 38], 52: [50, 51, 52], 55: [50, 56, 55], 72: [50, 57, 72], 81: [50, 57, 81], 19: [48, 32, 24, 19], 23: [48, 32, 24, 23], 25: [48, 32, 24, 25], 30: [48, 32, 31, 30], 35: [46, 33, 34, 35], 37: [47, 45, 38, 37], 39: [47, 45, 38, 39], 40: [47, 45, 38, 40], 53: [50, 51, 52, 53], 54: [50, 56, 55, 54], 124: [50, 56, 55, 124], 125: [50, 56, 55, 125], 58: [50, 57, 72, 58], 71: [50, 57, 72, 71], 82: [50, 57, 81, 82], 83: [50, 57, 81, 83], 16: [48, 32, 24, 25, 16], 17: [48, 32, 24, 19, 17], 20: [48, 32, 24, 23, 20], 26: [48, 32, 24, 25, 26], 27: [48, 32, 31, 30, 27], 22: [46, 33, 34, 35, 22], 41: [47, 45, 38, 39, 41], 44: [47, 45, 38, 40, 44], 29: [50, 51, 52, 53, 29], 130: [50, 51, 52, 53, 130], 129: [50, 56, 55, 125, 129], 59: [50, 57, 72, 58, 59], 70: [50, 57, 72, 71, 70], 80: [50, 57, 72, 71, 80], 84: [50, 57, 81, 83, 84], 85: [50, 57, 81, 82, 85], 122: [50, 56, 55, 124, 122], 123: [50, 56, 55, 124, 123], 126: [50, 56, 55, 124, 126], 127: [50, 56, 55, 125, 127], 128: [50, 56, 55, 125, 128]}\n",
      "[ 16  17  20  22  26  27  29  41  44  59  70  80  84  85 122 123 126 127\n",
      " 128 129 130]\n",
      "16\n",
      "16\n",
      "17\n",
      "17\n",
      "20\n",
      "22\n",
      "27\n",
      "29\n",
      "41\n",
      "41\n",
      "44\n",
      "59\n",
      "59\n",
      "70\n",
      "80\n",
      "80\n",
      "84\n",
      "84\n",
      "85\n",
      "85\n",
      "122\n",
      "127\n",
      "128\n",
      "128\n",
      "130\n",
      "[43.5, 40.875, 39.5625, 38.285714285714285]\n",
      "{46: [46], 47: [47], 48: [48], 50: [50], 33: [46, 33], 45: [47, 45], 32: [48, 32], 51: [50, 51], 56: [50, 56], 57: [50, 57], 24: [48, 32, 24], 31: [48, 32, 31], 34: [46, 33, 34], 38: [47, 45, 38], 52: [50, 51, 52], 55: [50, 56, 55], 72: [50, 57, 72], 81: [50, 57, 81], 19: [48, 32, 24, 19], 23: [48, 32, 24, 23], 25: [48, 32, 24, 25], 30: [48, 32, 31, 30], 35: [46, 33, 34, 35], 37: [47, 45, 38, 37], 39: [47, 45, 38, 39], 40: [47, 45, 38, 40], 53: [50, 51, 52, 53], 54: [50, 56, 55, 54], 124: [50, 56, 55, 124], 125: [50, 56, 55, 125], 58: [50, 57, 72, 58], 71: [50, 57, 72, 71], 82: [50, 57, 81, 82], 83: [50, 57, 81, 83], 16: [48, 32, 24, 25, 16], 17: [48, 32, 24, 19, 17], 20: [48, 32, 24, 23, 20], 26: [48, 32, 24, 25, 26], 27: [48, 32, 31, 30, 27], 22: [46, 33, 34, 35, 22], 41: [47, 45, 38, 39, 41], 44: [47, 45, 38, 40, 44], 29: [50, 51, 52, 53, 29], 130: [50, 51, 52, 53, 130], 129: [50, 56, 55, 125, 129], 59: [50, 57, 72, 58, 59], 70: [50, 57, 72, 71, 70], 80: [50, 57, 72, 71, 80], 84: [50, 57, 81, 83, 84], 85: [50, 57, 81, 82, 85], 122: [50, 56, 55, 124, 122], 123: [50, 56, 55, 124, 123], 126: [50, 56, 55, 124, 126], 127: [50, 56, 55, 125, 127], 128: [50, 56, 55, 125, 128], 9: [48, 32, 24, 25, 16, 9], 10: [48, 32, 24, 25, 16, 10], 18: [48, 32, 24, 19, 17, 18], 21: [46, 33, 34, 35, 22, 21], 28: [50, 51, 52, 53, 29, 28], 36: [47, 45, 38, 39, 41, 36], 42: [47, 45, 38, 39, 41, 42], 43: [47, 45, 38, 40, 44, 43], 60: [50, 57, 72, 58, 59, 60], 65: [50, 57, 72, 71, 70, 65], 73: [50, 57, 72, 71, 80, 73], 79: [50, 57, 72, 71, 80, 79], 94: [50, 57, 81, 83, 84, 94], 96: [50, 57, 81, 83, 84, 96], 86: [50, 57, 81, 82, 85, 86], 93: [50, 57, 81, 82, 85, 93], 121: [50, 56, 55, 124, 122, 121], 137: [50, 56, 55, 125, 127, 137], 134: [50, 56, 55, 125, 128, 134], 135: [50, 56, 55, 125, 128, 135], 131: [50, 51, 52, 53, 130, 131]}\n",
      "[  9  10  18  21  28  36  42  43  60  65  73  79  86  93  94  96 121 131\n",
      " 134 135 137]\n",
      "9\n",
      "9\n",
      "10\n",
      "10\n",
      "18\n",
      "28\n",
      "42\n",
      "60\n",
      "65\n",
      "73\n",
      "73\n",
      "86\n",
      "93\n",
      "94\n",
      "96\n",
      "96\n",
      "121\n",
      "121\n",
      "131\n",
      "134\n",
      "135\n",
      "135\n",
      "137\n",
      "137\n",
      "[43.5, 40.875, 39.5625, 38.285714285714285, 35.095238095238095]\n",
      "{46: [46], 47: [47], 48: [48], 50: [50], 33: [46, 33], 45: [47, 45], 32: [48, 32], 51: [50, 51], 56: [50, 56], 57: [50, 57], 24: [48, 32, 24], 31: [48, 32, 31], 34: [46, 33, 34], 38: [47, 45, 38], 52: [50, 51, 52], 55: [50, 56, 55], 72: [50, 57, 72], 81: [50, 57, 81], 19: [48, 32, 24, 19], 23: [48, 32, 24, 23], 25: [48, 32, 24, 25], 30: [48, 32, 31, 30], 35: [46, 33, 34, 35], 37: [47, 45, 38, 37], 39: [47, 45, 38, 39], 40: [47, 45, 38, 40], 53: [50, 51, 52, 53], 54: [50, 56, 55, 54], 124: [50, 56, 55, 124], 125: [50, 56, 55, 125], 58: [50, 57, 72, 58], 71: [50, 57, 72, 71], 82: [50, 57, 81, 82], 83: [50, 57, 81, 83], 16: [48, 32, 24, 25, 16], 17: [48, 32, 24, 19, 17], 20: [48, 32, 24, 23, 20], 26: [48, 32, 24, 25, 26], 27: [48, 32, 31, 30, 27], 22: [46, 33, 34, 35, 22], 41: [47, 45, 38, 39, 41], 44: [47, 45, 38, 40, 44], 29: [50, 51, 52, 53, 29], 130: [50, 51, 52, 53, 130], 129: [50, 56, 55, 125, 129], 59: [50, 57, 72, 58, 59], 70: [50, 57, 72, 71, 70], 80: [50, 57, 72, 71, 80], 84: [50, 57, 81, 83, 84], 85: [50, 57, 81, 82, 85], 122: [50, 56, 55, 124, 122], 123: [50, 56, 55, 124, 123], 126: [50, 56, 55, 124, 126], 127: [50, 56, 55, 125, 127], 128: [50, 56, 55, 125, 128], 9: [48, 32, 24, 25, 16, 9], 10: [48, 32, 24, 25, 16, 10], 18: [48, 32, 24, 19, 17, 18], 21: [46, 33, 34, 35, 22, 21], 28: [50, 51, 52, 53, 29, 28], 36: [47, 45, 38, 39, 41, 36], 42: [47, 45, 38, 39, 41, 42], 43: [47, 45, 38, 40, 44, 43], 60: [50, 57, 72, 58, 59, 60], 65: [50, 57, 72, 71, 70, 65], 73: [50, 57, 72, 71, 80, 73], 79: [50, 57, 72, 71, 80, 79], 94: [50, 57, 81, 83, 84, 94], 96: [50, 57, 81, 83, 84, 96], 86: [50, 57, 81, 82, 85, 86], 93: [50, 57, 81, 82, 85, 93], 121: [50, 56, 55, 124, 122, 121], 137: [50, 56, 55, 125, 127, 137], 134: [50, 56, 55, 125, 128, 134], 135: [50, 56, 55, 125, 128, 135], 131: [50, 51, 52, 53, 130, 131], 7: [48, 32, 24, 25, 16, 9, 7], 15: [48, 32, 24, 25, 16, 9, 15], 11: [48, 32, 24, 25, 16, 10, 11], 12: [48, 32, 24, 19, 17, 18, 12], 13: [50, 51, 52, 53, 29, 28, 13], 62: [47, 45, 38, 39, 41, 42, 62], 61: [50, 57, 72, 58, 59, 60, 61], 63: [50, 57, 72, 71, 70, 65, 63], 66: [50, 57, 72, 71, 80, 73, 66], 67: [50, 57, 72, 71, 80, 73, 67], 77: [50, 57, 81, 82, 85, 86, 77], 95: [50, 57, 81, 83, 84, 94, 95], 97: [50, 57, 81, 83, 84, 96, 97], 98: [50, 56, 55, 124, 122, 121, 98], 120: [50, 56, 55, 124, 122, 121, 120], 132: [50, 51, 52, 53, 130, 131, 132], 133: [50, 56, 55, 125, 128, 134, 133], 136: [50, 56, 55, 125, 128, 135, 136], 143: [50, 56, 55, 125, 128, 135, 143], 138: [50, 56, 55, 125, 127, 137, 138], 139: [50, 56, 55, 125, 127, 137, 139]}\n",
      "[  7  11  12  13  15  61  62  63  66  67  77  95  97  98 120 132 133 136\n",
      " 138 139 143]\n",
      "7\n",
      "7\n",
      "7\n",
      "11\n",
      "13\n",
      "15\n",
      "15\n",
      "61\n",
      "63\n",
      "63\n",
      "66\n",
      "67\n",
      "77\n",
      "77\n",
      "95\n",
      "95\n",
      "97\n",
      "98\n",
      "120\n",
      "132\n",
      "133\n",
      "136\n",
      "138\n",
      "139\n",
      "143\n",
      "[43.5, 40.875, 39.5625, 38.285714285714285, 35.095238095238095, 33.95238095238095]\n",
      "{46: [46], 47: [47], 48: [48], 50: [50], 33: [46, 33], 45: [47, 45], 32: [48, 32], 51: [50, 51], 56: [50, 56], 57: [50, 57], 24: [48, 32, 24], 31: [48, 32, 31], 34: [46, 33, 34], 38: [47, 45, 38], 52: [50, 51, 52], 55: [50, 56, 55], 72: [50, 57, 72], 81: [50, 57, 81], 19: [48, 32, 24, 19], 23: [48, 32, 24, 23], 25: [48, 32, 24, 25], 30: [48, 32, 31, 30], 35: [46, 33, 34, 35], 37: [47, 45, 38, 37], 39: [47, 45, 38, 39], 40: [47, 45, 38, 40], 53: [50, 51, 52, 53], 54: [50, 56, 55, 54], 124: [50, 56, 55, 124], 125: [50, 56, 55, 125], 58: [50, 57, 72, 58], 71: [50, 57, 72, 71], 82: [50, 57, 81, 82], 83: [50, 57, 81, 83], 16: [48, 32, 24, 25, 16], 17: [48, 32, 24, 19, 17], 20: [48, 32, 24, 23, 20], 26: [48, 32, 24, 25, 26], 27: [48, 32, 31, 30, 27], 22: [46, 33, 34, 35, 22], 41: [47, 45, 38, 39, 41], 44: [47, 45, 38, 40, 44], 29: [50, 51, 52, 53, 29], 130: [50, 51, 52, 53, 130], 129: [50, 56, 55, 125, 129], 59: [50, 57, 72, 58, 59], 70: [50, 57, 72, 71, 70], 80: [50, 57, 72, 71, 80], 84: [50, 57, 81, 83, 84], 85: [50, 57, 81, 82, 85], 122: [50, 56, 55, 124, 122], 123: [50, 56, 55, 124, 123], 126: [50, 56, 55, 124, 126], 127: [50, 56, 55, 125, 127], 128: [50, 56, 55, 125, 128], 9: [48, 32, 24, 25, 16, 9], 10: [48, 32, 24, 25, 16, 10], 18: [48, 32, 24, 19, 17, 18], 21: [46, 33, 34, 35, 22, 21], 28: [50, 51, 52, 53, 29, 28], 36: [47, 45, 38, 39, 41, 36], 42: [47, 45, 38, 39, 41, 42], 43: [47, 45, 38, 40, 44, 43], 60: [50, 57, 72, 58, 59, 60], 65: [50, 57, 72, 71, 70, 65], 73: [50, 57, 72, 71, 80, 73], 79: [50, 57, 72, 71, 80, 79], 94: [50, 57, 81, 83, 84, 94], 96: [50, 57, 81, 83, 84, 96], 86: [50, 57, 81, 82, 85, 86], 93: [50, 57, 81, 82, 85, 93], 121: [50, 56, 55, 124, 122, 121], 137: [50, 56, 55, 125, 127, 137], 134: [50, 56, 55, 125, 128, 134], 135: [50, 56, 55, 125, 128, 135], 131: [50, 51, 52, 53, 130, 131], 7: [48, 32, 24, 25, 16, 9, 7], 15: [48, 32, 24, 25, 16, 9, 15], 11: [48, 32, 24, 25, 16, 10, 11], 12: [48, 32, 24, 19, 17, 18, 12], 13: [50, 51, 52, 53, 29, 28, 13], 62: [47, 45, 38, 39, 41, 42, 62], 61: [50, 57, 72, 58, 59, 60, 61], 63: [50, 57, 72, 71, 70, 65, 63], 66: [50, 57, 72, 71, 70, 65, 63, 66], 67: [50, 57, 72, 71, 80, 73, 67], 77: [50, 57, 81, 82, 85, 86, 77], 95: [50, 57, 81, 83, 84, 94, 95], 97: [50, 57, 81, 83, 84, 96, 97], 98: [50, 56, 55, 124, 122, 121, 98], 120: [50, 56, 55, 124, 122, 121, 120], 132: [50, 51, 52, 53, 130, 131, 132], 133: [50, 56, 55, 125, 128, 134, 133], 136: [50, 56, 55, 125, 128, 135, 136], 143: [50, 56, 55, 125, 128, 135, 143], 138: [50, 56, 55, 125, 127, 137, 138], 139: [50, 56, 55, 125, 127, 137, 139], 4: [48, 32, 24, 25, 16, 9, 7, 4], 5: [48, 32, 24, 25, 16, 9, 7, 5], 8: [48, 32, 24, 25, 16, 9, 15, 8], 6: [48, 32, 24, 25, 16, 10, 11, 6], 14: [48, 32, 24, 25, 16, 9, 15, 14], 64: [50, 57, 72, 71, 70, 65, 63, 64], 68: [50, 57, 72, 71, 80, 73, 67, 68], 78: [50, 57, 81, 82, 85, 86, 77, 78], 87: [50, 57, 81, 82, 85, 86, 77, 87], 92: [50, 57, 81, 83, 84, 94, 95, 92], 101: [50, 57, 81, 83, 84, 94, 95, 101], 99: [50, 56, 55, 124, 122, 121, 98, 99], 110: [50, 56, 55, 124, 122, 121, 120, 110], 144: [50, 56, 55, 125, 128, 134, 133, 144], 142: [50, 56, 55, 125, 128, 135, 136, 142], 141: [50, 56, 55, 125, 127, 137, 138, 141], 140: [50, 56, 55, 125, 127, 137, 139, 140], 148: [50, 56, 55, 125, 128, 135, 143, 148]}\n",
      "[  4   5   6   8  14  64  68  78  87  92  99 101 110 140 141 142 144 148]\n",
      "4\n",
      "4\n",
      "68\n",
      "78\n",
      "78\n",
      "87\n",
      "92\n",
      "92\n",
      "101\n",
      "101\n",
      "101\n",
      "110\n",
      "140\n",
      "141\n",
      "142\n",
      "144\n",
      "144\n",
      "148\n",
      "148\n",
      "[43.5, 40.875, 39.5625, 38.285714285714285, 35.095238095238095, 33.95238095238095, 31.666666666666668]\n",
      "{46: [46], 47: [47], 48: [48], 50: [50], 33: [46, 33], 45: [47, 45], 32: [48, 32], 51: [50, 51], 56: [50, 56], 57: [50, 57], 24: [48, 32, 24], 31: [48, 32, 31], 34: [46, 33, 34], 38: [47, 45, 38], 52: [50, 51, 52], 55: [50, 56, 55], 72: [50, 57, 72], 81: [50, 57, 81], 19: [48, 32, 24, 19], 23: [48, 32, 24, 23], 25: [48, 32, 24, 25], 30: [48, 32, 31, 30], 35: [46, 33, 34, 35], 37: [47, 45, 38, 37], 39: [47, 45, 38, 39], 40: [47, 45, 38, 40], 53: [50, 51, 52, 53], 54: [50, 56, 55, 54], 124: [50, 56, 55, 124], 125: [50, 56, 55, 125], 58: [50, 57, 72, 58], 71: [50, 57, 72, 71], 82: [50, 57, 81, 82], 83: [50, 57, 81, 83], 16: [48, 32, 24, 25, 16], 17: [48, 32, 24, 19, 17], 20: [48, 32, 24, 23, 20], 26: [48, 32, 24, 25, 26], 27: [48, 32, 31, 30, 27], 22: [46, 33, 34, 35, 22], 41: [47, 45, 38, 39, 41], 44: [47, 45, 38, 40, 44], 29: [50, 51, 52, 53, 29], 130: [50, 51, 52, 53, 130], 129: [50, 56, 55, 125, 129], 59: [50, 57, 72, 58, 59], 70: [50, 57, 72, 71, 70], 80: [50, 57, 72, 71, 80], 84: [50, 57, 81, 83, 84], 85: [50, 57, 81, 82, 85], 122: [50, 56, 55, 124, 122], 123: [50, 56, 55, 124, 123], 126: [50, 56, 55, 124, 126], 127: [50, 56, 55, 125, 127], 128: [50, 56, 55, 125, 128], 9: [48, 32, 24, 25, 16, 9], 10: [48, 32, 24, 25, 16, 10], 18: [48, 32, 24, 19, 17, 18], 21: [46, 33, 34, 35, 22, 21], 28: [50, 51, 52, 53, 29, 28], 36: [47, 45, 38, 39, 41, 36], 42: [47, 45, 38, 39, 41, 42], 43: [47, 45, 38, 40, 44, 43], 60: [50, 57, 72, 58, 59, 60], 65: [50, 57, 72, 71, 70, 65], 73: [50, 57, 72, 71, 80, 73], 79: [50, 57, 72, 71, 80, 79], 94: [50, 57, 81, 83, 84, 94], 96: [50, 57, 81, 83, 84, 96], 86: [50, 57, 81, 82, 85, 86], 93: [50, 57, 81, 82, 85, 93], 121: [50, 56, 55, 124, 122, 121], 137: [50, 56, 55, 125, 127, 137], 134: [50, 56, 55, 125, 128, 134], 135: [50, 56, 55, 125, 128, 135], 131: [50, 51, 52, 53, 130, 131], 7: [48, 32, 24, 25, 16, 9, 7], 15: [48, 32, 24, 25, 16, 9, 15], 11: [48, 32, 24, 25, 16, 10, 11], 12: [48, 32, 24, 19, 17, 18, 12], 13: [50, 51, 52, 53, 29, 28, 13], 62: [47, 45, 38, 39, 41, 42, 62], 61: [50, 57, 72, 58, 59, 60, 61], 63: [50, 57, 72, 71, 70, 65, 63], 66: [50, 57, 72, 71, 70, 65, 63, 66], 67: [50, 57, 72, 71, 80, 73, 67], 77: [50, 57, 81, 82, 85, 86, 77], 95: [50, 57, 81, 83, 84, 94, 95], 97: [50, 57, 81, 83, 84, 96, 97], 98: [50, 56, 55, 124, 122, 121, 98], 120: [50, 56, 55, 124, 122, 121, 120], 132: [50, 51, 52, 53, 130, 131, 132], 133: [50, 56, 55, 125, 128, 134, 133], 136: [50, 56, 55, 125, 128, 135, 136], 143: [50, 56, 55, 125, 128, 135, 143], 138: [50, 56, 55, 125, 127, 137, 138], 139: [50, 56, 55, 125, 127, 137, 139], 4: [48, 32, 24, 25, 16, 9, 7, 4], 5: [48, 32, 24, 25, 16, 9, 7, 5], 8: [48, 32, 24, 25, 16, 9, 15, 8], 6: [48, 32, 24, 25, 16, 10, 11, 6], 14: [48, 32, 24, 25, 16, 9, 15, 14], 64: [50, 57, 72, 71, 70, 65, 63, 64], 68: [50, 57, 72, 71, 80, 73, 67, 68], 78: [50, 57, 81, 82, 85, 86, 77, 78], 87: [50, 57, 81, 82, 85, 86, 77, 87], 92: [50, 57, 81, 83, 84, 94, 95, 92], 101: [50, 57, 81, 83, 84, 94, 95, 101], 99: [50, 56, 55, 124, 122, 121, 98, 99], 110: [50, 56, 55, 124, 122, 121, 120, 110], 144: [50, 56, 55, 125, 128, 134, 133, 144], 142: [50, 56, 55, 125, 128, 135, 136, 142], 141: [50, 56, 55, 125, 127, 137, 138, 141], 140: [50, 56, 55, 125, 127, 137, 139, 140], 148: [50, 56, 55, 125, 128, 135, 136, 142, 148], 2: [48, 32, 24, 25, 16, 9, 7, 4, 2], 3: [48, 32, 24, 25, 16, 9, 7, 4, 3], 69: [50, 57, 72, 71, 80, 73, 67, 68, 69], 76: [50, 57, 81, 82, 85, 86, 77, 78, 76], 88: [50, 57, 81, 82, 85, 86, 77, 78, 88], 89: [50, 57, 81, 82, 85, 86, 77, 87, 89], 91: [50, 57, 81, 83, 84, 94, 95, 92, 91], 102: [50, 57, 81, 83, 84, 94, 95, 101, 102], 100: [50, 57, 81, 83, 84, 94, 95, 101, 100], 106: [50, 57, 81, 83, 84, 94, 95, 101, 106], 111: [50, 56, 55, 124, 122, 121, 120, 110, 111], 113: [50, 56, 55, 125, 127, 137, 139, 140, 113], 149: [50, 56, 55, 125, 127, 137, 138, 141, 149], 145: [50, 56, 55, 125, 128, 134, 133, 144, 145], 146: [50, 56, 55, 125, 128, 134, 133, 144, 146], 147: [50, 56, 55, 125, 128, 135, 136, 142, 148, 147], 153: [50, 56, 55, 125, 128, 135, 136, 142, 148, 153]}\n",
      "[  2   3  69  76  88  89  91 100 102 106 111 113 145 146 147 149 153]\n",
      "2\n",
      "69\n",
      "76\n",
      "89\n",
      "91\n",
      "100\n",
      "106\n",
      "106\n",
      "111\n",
      "113\n",
      "145\n",
      "146\n",
      "149\n",
      "149\n",
      "153\n",
      "153\n",
      "[43.5, 40.875, 39.5625, 38.285714285714285, 35.095238095238095, 33.95238095238095, 31.666666666666668, 27.529411764705884]\n",
      "{46: [46], 47: [47], 48: [48], 50: [50], 33: [46, 33], 45: [47, 45], 32: [48, 32], 51: [50, 51], 56: [50, 56], 57: [50, 57], 24: [48, 32, 24], 31: [48, 32, 31], 34: [46, 33, 34], 38: [47, 45, 38], 52: [50, 51, 52], 55: [50, 56, 55], 72: [50, 57, 72], 81: [50, 57, 81], 19: [48, 32, 24, 19], 23: [48, 32, 24, 23], 25: [48, 32, 24, 25], 30: [48, 32, 31, 30], 35: [46, 33, 34, 35], 37: [47, 45, 38, 37], 39: [47, 45, 38, 39], 40: [47, 45, 38, 40], 53: [50, 51, 52, 53], 54: [50, 56, 55, 54], 124: [50, 56, 55, 124], 125: [50, 56, 55, 125], 58: [50, 57, 72, 58], 71: [50, 57, 72, 71], 82: [50, 57, 81, 82], 83: [50, 57, 81, 83], 16: [48, 32, 24, 25, 16], 17: [48, 32, 24, 19, 17], 20: [48, 32, 24, 23, 20], 26: [48, 32, 24, 25, 26], 27: [48, 32, 31, 30, 27], 22: [46, 33, 34, 35, 22], 41: [47, 45, 38, 39, 41], 44: [47, 45, 38, 40, 44], 29: [50, 51, 52, 53, 29], 130: [50, 51, 52, 53, 130], 129: [50, 56, 55, 125, 129], 59: [50, 57, 72, 58, 59], 70: [50, 57, 72, 71, 70], 80: [50, 57, 72, 71, 80], 84: [50, 57, 81, 83, 84], 85: [50, 57, 81, 82, 85], 122: [50, 56, 55, 124, 122], 123: [50, 56, 55, 124, 123], 126: [50, 56, 55, 124, 126], 127: [50, 56, 55, 125, 127], 128: [50, 56, 55, 125, 128], 9: [48, 32, 24, 25, 16, 9], 10: [48, 32, 24, 25, 16, 10], 18: [48, 32, 24, 19, 17, 18], 21: [46, 33, 34, 35, 22, 21], 28: [50, 51, 52, 53, 29, 28], 36: [47, 45, 38, 39, 41, 36], 42: [47, 45, 38, 39, 41, 42], 43: [47, 45, 38, 40, 44, 43], 60: [50, 57, 72, 58, 59, 60], 65: [50, 57, 72, 71, 70, 65], 73: [50, 57, 72, 71, 80, 73], 79: [50, 57, 72, 71, 80, 79], 94: [50, 57, 81, 83, 84, 94], 96: [50, 57, 81, 83, 84, 96], 86: [50, 57, 81, 82, 85, 86], 93: [50, 57, 81, 82, 85, 93], 121: [50, 56, 55, 124, 122, 121], 137: [50, 56, 55, 125, 127, 137], 134: [50, 56, 55, 125, 128, 134], 135: [50, 56, 55, 125, 128, 135], 131: [50, 51, 52, 53, 130, 131], 7: [48, 32, 24, 25, 16, 9, 7], 15: [48, 32, 24, 25, 16, 9, 15], 11: [48, 32, 24, 25, 16, 10, 11], 12: [48, 32, 24, 19, 17, 18, 12], 13: [50, 51, 52, 53, 29, 28, 13], 62: [47, 45, 38, 39, 41, 42, 62], 61: [50, 57, 72, 58, 59, 60, 61], 63: [50, 57, 72, 71, 70, 65, 63], 66: [50, 57, 72, 71, 70, 65, 63, 66], 67: [50, 57, 72, 71, 80, 73, 67], 77: [50, 57, 81, 82, 85, 86, 77], 95: [50, 57, 81, 83, 84, 94, 95], 97: [50, 57, 81, 83, 84, 96, 97], 98: [50, 56, 55, 124, 122, 121, 98], 120: [50, 56, 55, 124, 122, 121, 120], 132: [50, 51, 52, 53, 130, 131, 132], 133: [50, 56, 55, 125, 128, 134, 133], 136: [50, 56, 55, 125, 128, 135, 136], 143: [50, 56, 55, 125, 128, 135, 143], 138: [50, 56, 55, 125, 127, 137, 138], 139: [50, 56, 55, 125, 127, 137, 139], 4: [48, 32, 24, 25, 16, 9, 7, 4], 5: [48, 32, 24, 25, 16, 9, 7, 5], 8: [48, 32, 24, 25, 16, 9, 15, 8], 6: [48, 32, 24, 25, 16, 10, 11, 6], 14: [48, 32, 24, 25, 16, 9, 15, 14], 64: [50, 57, 72, 71, 70, 65, 63, 64], 68: [50, 57, 72, 71, 80, 73, 67, 68], 78: [50, 57, 81, 82, 85, 86, 77, 78], 87: [50, 57, 81, 82, 85, 86, 77, 87], 92: [50, 57, 81, 83, 84, 94, 95, 92], 101: [50, 57, 81, 83, 84, 94, 95, 101], 99: [50, 56, 55, 124, 122, 121, 98, 99], 110: [50, 56, 55, 124, 122, 121, 120, 110], 144: [50, 56, 55, 125, 128, 134, 133, 144], 142: [50, 56, 55, 125, 128, 135, 136, 142], 141: [50, 56, 55, 125, 127, 137, 138, 141], 140: [50, 56, 55, 125, 127, 137, 139, 140], 148: [50, 56, 55, 125, 128, 135, 136, 142, 148], 2: [48, 32, 24, 25, 16, 9, 7, 4, 2], 3: [48, 32, 24, 25, 16, 9, 7, 4, 3], 69: [50, 57, 72, 71, 80, 73, 67, 68, 69], 76: [50, 57, 81, 82, 85, 86, 77, 78, 76], 88: [50, 57, 81, 82, 85, 86, 77, 78, 88], 89: [50, 57, 81, 82, 85, 86, 77, 87, 89], 91: [50, 57, 81, 83, 84, 94, 95, 92, 91], 102: [50, 57, 81, 83, 84, 94, 95, 101, 102], 100: [50, 57, 81, 83, 84, 94, 95, 101, 100], 106: [50, 57, 81, 83, 84, 94, 95, 101, 106], 111: [50, 56, 55, 124, 122, 121, 120, 110, 111], 113: [50, 56, 55, 125, 127, 137, 139, 140, 113], 149: [50, 56, 55, 125, 127, 137, 138, 141, 149], 145: [50, 56, 55, 125, 128, 134, 133, 144, 145], 146: [50, 56, 55, 125, 128, 134, 133, 144, 146], 147: [50, 56, 55, 125, 128, 135, 136, 142, 148, 147], 153: [50, 56, 55, 125, 128, 135, 136, 142, 148, 153], 1: [48, 32, 24, 25, 16, 9, 7, 4, 2, 1], 75: [50, 57, 72, 71, 80, 73, 67, 68, 69, 75], 74: [50, 57, 81, 82, 85, 86, 77, 78, 76, 74], 90: [50, 57, 81, 82, 85, 86, 77, 87, 89, 90], 103: [50, 57, 81, 83, 84, 94, 95, 92, 91, 103], 107: [50, 57, 81, 83, 84, 94, 95, 101, 100, 107], 104: [50, 57, 81, 83, 84, 94, 95, 101, 106, 104], 105: [50, 57, 81, 83, 84, 94, 95, 101, 106, 105], 112: [50, 56, 55, 124, 122, 121, 120, 110, 111, 112], 114: [50, 56, 55, 125, 127, 137, 139, 140, 113, 114], 155: [50, 56, 55, 125, 128, 134, 133, 144, 146, 155], 150: [50, 56, 55, 125, 127, 137, 138, 141, 149, 150], 151: [50, 56, 55, 125, 127, 137, 138, 141, 149, 151], 152: [50, 56, 55, 125, 128, 135, 136, 142, 148, 153, 152], 154: [50, 56, 55, 125, 128, 135, 136, 142, 148, 153, 154]}\n",
      "[  1  74  75  90 103 104 105 107 112 114 150 151 152 154 155]\n",
      "1\n",
      "103\n",
      "105\n",
      "107\n",
      "107\n",
      "112\n",
      "114\n",
      "114\n",
      "151\n",
      "152\n",
      "155\n",
      "[43.5, 40.875, 39.5625, 38.285714285714285, 35.095238095238095, 33.95238095238095, 31.666666666666668, 27.529411764705884, 26.266666666666666]\n",
      "{46: [46], 47: [47], 48: [48], 50: [50], 33: [46, 33], 45: [47, 45], 32: [48, 32], 51: [50, 51], 56: [50, 56], 57: [50, 57], 24: [48, 32, 24], 31: [48, 32, 31], 34: [46, 33, 34], 38: [47, 45, 38], 52: [50, 51, 52], 55: [50, 56, 55], 72: [50, 57, 72], 81: [50, 57, 81], 19: [48, 32, 24, 19], 23: [48, 32, 24, 23], 25: [48, 32, 24, 25], 30: [48, 32, 31, 30], 35: [46, 33, 34, 35], 37: [47, 45, 38, 37], 39: [47, 45, 38, 39], 40: [47, 45, 38, 40], 53: [50, 51, 52, 53], 54: [50, 56, 55, 54], 124: [50, 56, 55, 124], 125: [50, 56, 55, 125], 58: [50, 57, 72, 58], 71: [50, 57, 72, 71], 82: [50, 57, 81, 82], 83: [50, 57, 81, 83], 16: [48, 32, 24, 25, 16], 17: [48, 32, 24, 19, 17], 20: [48, 32, 24, 23, 20], 26: [48, 32, 24, 25, 26], 27: [48, 32, 31, 30, 27], 22: [46, 33, 34, 35, 22], 41: [47, 45, 38, 39, 41], 44: [47, 45, 38, 40, 44], 29: [50, 51, 52, 53, 29], 130: [50, 51, 52, 53, 130], 129: [50, 56, 55, 125, 129], 59: [50, 57, 72, 58, 59], 70: [50, 57, 72, 71, 70], 80: [50, 57, 72, 71, 80], 84: [50, 57, 81, 83, 84], 85: [50, 57, 81, 82, 85], 122: [50, 56, 55, 124, 122], 123: [50, 56, 55, 124, 123], 126: [50, 56, 55, 124, 126], 127: [50, 56, 55, 125, 127], 128: [50, 56, 55, 125, 128], 9: [48, 32, 24, 25, 16, 9], 10: [48, 32, 24, 25, 16, 10], 18: [48, 32, 24, 19, 17, 18], 21: [46, 33, 34, 35, 22, 21], 28: [50, 51, 52, 53, 29, 28], 36: [47, 45, 38, 39, 41, 36], 42: [47, 45, 38, 39, 41, 42], 43: [47, 45, 38, 40, 44, 43], 60: [50, 57, 72, 58, 59, 60], 65: [50, 57, 72, 71, 70, 65], 73: [50, 57, 72, 71, 80, 73], 79: [50, 57, 72, 71, 80, 79], 94: [50, 57, 81, 83, 84, 94], 96: [50, 57, 81, 83, 84, 96], 86: [50, 57, 81, 82, 85, 86], 93: [50, 57, 81, 82, 85, 93], 121: [50, 56, 55, 124, 122, 121], 137: [50, 56, 55, 125, 127, 137], 134: [50, 56, 55, 125, 128, 134], 135: [50, 56, 55, 125, 128, 135], 131: [50, 51, 52, 53, 130, 131], 7: [48, 32, 24, 25, 16, 9, 7], 15: [48, 32, 24, 25, 16, 9, 15], 11: [48, 32, 24, 25, 16, 10, 11], 12: [48, 32, 24, 19, 17, 18, 12], 13: [50, 51, 52, 53, 29, 28, 13], 62: [47, 45, 38, 39, 41, 42, 62], 61: [50, 57, 72, 58, 59, 60, 61], 63: [50, 57, 72, 71, 70, 65, 63], 66: [50, 57, 72, 71, 70, 65, 63, 66], 67: [50, 57, 72, 71, 80, 73, 67], 77: [50, 57, 81, 82, 85, 86, 77], 95: [50, 57, 81, 83, 84, 94, 95], 97: [50, 57, 81, 83, 84, 96, 97], 98: [50, 56, 55, 124, 122, 121, 98], 120: [50, 56, 55, 124, 122, 121, 120], 132: [50, 51, 52, 53, 130, 131, 132], 133: [50, 56, 55, 125, 128, 134, 133], 136: [50, 56, 55, 125, 128, 135, 136], 143: [50, 56, 55, 125, 128, 135, 143], 138: [50, 56, 55, 125, 127, 137, 138], 139: [50, 56, 55, 125, 127, 137, 139], 4: [48, 32, 24, 25, 16, 9, 7, 4], 5: [48, 32, 24, 25, 16, 9, 7, 5], 8: [48, 32, 24, 25, 16, 9, 15, 8], 6: [48, 32, 24, 25, 16, 10, 11, 6], 14: [48, 32, 24, 25, 16, 9, 15, 14], 64: [50, 57, 72, 71, 70, 65, 63, 64], 68: [50, 57, 72, 71, 80, 73, 67, 68], 78: [50, 57, 81, 82, 85, 86, 77, 78], 87: [50, 57, 81, 82, 85, 86, 77, 87], 92: [50, 57, 81, 83, 84, 94, 95, 92], 101: [50, 57, 81, 83, 84, 94, 95, 101], 99: [50, 56, 55, 124, 122, 121, 98, 99], 110: [50, 56, 55, 124, 122, 121, 120, 110], 144: [50, 56, 55, 125, 128, 134, 133, 144], 142: [50, 56, 55, 125, 128, 135, 136, 142], 141: [50, 56, 55, 125, 127, 137, 138, 141], 140: [50, 56, 55, 125, 127, 137, 139, 140], 148: [50, 56, 55, 125, 128, 135, 136, 142, 148], 2: [48, 32, 24, 25, 16, 9, 7, 4, 2], 3: [48, 32, 24, 25, 16, 9, 7, 4, 3], 69: [50, 57, 72, 71, 80, 73, 67, 68, 69], 76: [50, 57, 81, 82, 85, 86, 77, 78, 76], 88: [50, 57, 81, 82, 85, 86, 77, 78, 88], 89: [50, 57, 81, 82, 85, 86, 77, 87, 89], 91: [50, 57, 81, 83, 84, 94, 95, 92, 91], 102: [50, 57, 81, 83, 84, 94, 95, 101, 102], 100: [50, 57, 81, 83, 84, 94, 95, 101, 100], 106: [50, 57, 81, 83, 84, 94, 95, 101, 106], 111: [50, 56, 55, 124, 122, 121, 120, 110, 111], 113: [50, 56, 55, 125, 127, 137, 139, 140, 113], 149: [50, 56, 55, 125, 127, 137, 138, 141, 149], 145: [50, 56, 55, 125, 128, 134, 133, 144, 145], 146: [50, 56, 55, 125, 128, 134, 133, 144, 146], 147: [50, 56, 55, 125, 128, 135, 136, 142, 148, 147], 153: [50, 56, 55, 125, 128, 135, 136, 142, 148, 153], 1: [48, 32, 24, 25, 16, 9, 7, 4, 2, 1], 75: [50, 57, 72, 71, 80, 73, 67, 68, 69, 75], 74: [50, 57, 81, 82, 85, 86, 77, 78, 76, 74], 90: [50, 57, 81, 82, 85, 86, 77, 87, 89, 90], 103: [50, 57, 81, 83, 84, 94, 95, 92, 91, 103], 107: [50, 57, 81, 83, 84, 94, 95, 101, 100, 107], 104: [50, 57, 81, 83, 84, 94, 95, 92, 91, 103, 104], 105: [50, 57, 81, 83, 84, 94, 95, 101, 106, 105], 112: [50, 56, 55, 124, 122, 121, 120, 110, 111, 112], 114: [50, 56, 55, 125, 127, 137, 139, 140, 113, 114], 155: [50, 56, 55, 125, 128, 134, 133, 144, 146, 155], 150: [50, 56, 55, 125, 127, 137, 138, 141, 149, 150], 151: [50, 56, 55, 125, 127, 137, 138, 141, 149, 151], 152: [50, 56, 55, 125, 128, 135, 136, 142, 148, 153, 152], 154: [50, 56, 55, 125, 128, 135, 136, 142, 148, 153, 154], 0: [48, 32, 24, 25, 16, 9, 7, 4, 2, 1, 0], 108: [50, 57, 81, 83, 84, 94, 95, 101, 100, 107, 108], 109: [50, 56, 55, 124, 122, 121, 120, 110, 111, 112, 109], 115: [50, 56, 55, 125, 127, 137, 139, 140, 113, 114, 115], 116: [50, 56, 55, 125, 127, 137, 139, 140, 113, 114, 116], 157: [50, 56, 55, 125, 127, 137, 138, 141, 149, 151, 157], 156: [50, 56, 55, 125, 128, 135, 136, 142, 148, 153, 152, 156], 163: [50, 56, 55, 125, 128, 134, 133, 144, 146, 155, 163]}\n",
      "[  0 108 109 115 116 156 157 163]\n",
      "109\n",
      "115\n",
      "115\n",
      "116\n",
      "156\n",
      "156\n",
      "157\n",
      "157\n",
      "163\n",
      "163\n",
      "163\n",
      "[43.5, 40.875, 39.5625, 38.285714285714285, 35.095238095238095, 33.95238095238095, 31.666666666666668, 27.529411764705884, 26.266666666666666, 23.125]\n",
      "{46: [46], 47: [47], 48: [48], 50: [50], 33: [46, 33], 45: [47, 45], 32: [48, 32], 51: [50, 51], 56: [50, 56], 57: [50, 57], 24: [48, 32, 24], 31: [48, 32, 31], 34: [46, 33, 34], 38: [47, 45, 38], 52: [50, 51, 52], 55: [50, 56, 55], 72: [50, 57, 72], 81: [50, 57, 81], 19: [48, 32, 24, 19], 23: [48, 32, 24, 23], 25: [48, 32, 24, 25], 30: [48, 32, 31, 30], 35: [46, 33, 34, 35], 37: [47, 45, 38, 37], 39: [47, 45, 38, 39], 40: [47, 45, 38, 40], 53: [50, 51, 52, 53], 54: [50, 56, 55, 54], 124: [50, 56, 55, 124], 125: [50, 56, 55, 125], 58: [50, 57, 72, 58], 71: [50, 57, 72, 71], 82: [50, 57, 81, 82], 83: [50, 57, 81, 83], 16: [48, 32, 24, 25, 16], 17: [48, 32, 24, 19, 17], 20: [48, 32, 24, 23, 20], 26: [48, 32, 24, 25, 26], 27: [48, 32, 31, 30, 27], 22: [46, 33, 34, 35, 22], 41: [47, 45, 38, 39, 41], 44: [47, 45, 38, 40, 44], 29: [50, 51, 52, 53, 29], 130: [50, 51, 52, 53, 130], 129: [50, 56, 55, 125, 129], 59: [50, 57, 72, 58, 59], 70: [50, 57, 72, 71, 70], 80: [50, 57, 72, 71, 80], 84: [50, 57, 81, 83, 84], 85: [50, 57, 81, 82, 85], 122: [50, 56, 55, 124, 122], 123: [50, 56, 55, 124, 123], 126: [50, 56, 55, 124, 126], 127: [50, 56, 55, 125, 127], 128: [50, 56, 55, 125, 128], 9: [48, 32, 24, 25, 16, 9], 10: [48, 32, 24, 25, 16, 10], 18: [48, 32, 24, 19, 17, 18], 21: [46, 33, 34, 35, 22, 21], 28: [50, 51, 52, 53, 29, 28], 36: [47, 45, 38, 39, 41, 36], 42: [47, 45, 38, 39, 41, 42], 43: [47, 45, 38, 40, 44, 43], 60: [50, 57, 72, 58, 59, 60], 65: [50, 57, 72, 71, 70, 65], 73: [50, 57, 72, 71, 80, 73], 79: [50, 57, 72, 71, 80, 79], 94: [50, 57, 81, 83, 84, 94], 96: [50, 57, 81, 83, 84, 96], 86: [50, 57, 81, 82, 85, 86], 93: [50, 57, 81, 82, 85, 93], 121: [50, 56, 55, 124, 122, 121], 137: [50, 56, 55, 125, 127, 137], 134: [50, 56, 55, 125, 128, 134], 135: [50, 56, 55, 125, 128, 135], 131: [50, 51, 52, 53, 130, 131], 7: [48, 32, 24, 25, 16, 9, 7], 15: [48, 32, 24, 25, 16, 9, 15], 11: [48, 32, 24, 25, 16, 10, 11], 12: [48, 32, 24, 19, 17, 18, 12], 13: [50, 51, 52, 53, 29, 28, 13], 62: [47, 45, 38, 39, 41, 42, 62], 61: [50, 57, 72, 58, 59, 60, 61], 63: [50, 57, 72, 71, 70, 65, 63], 66: [50, 57, 72, 71, 70, 65, 63, 66], 67: [50, 57, 72, 71, 80, 73, 67], 77: [50, 57, 81, 82, 85, 86, 77], 95: [50, 57, 81, 83, 84, 94, 95], 97: [50, 57, 81, 83, 84, 96, 97], 98: [50, 56, 55, 124, 122, 121, 98], 120: [50, 56, 55, 124, 122, 121, 120], 132: [50, 51, 52, 53, 130, 131, 132], 133: [50, 56, 55, 125, 128, 134, 133], 136: [50, 56, 55, 125, 128, 135, 136], 143: [50, 56, 55, 125, 128, 135, 143], 138: [50, 56, 55, 125, 127, 137, 138], 139: [50, 56, 55, 125, 127, 137, 139], 4: [48, 32, 24, 25, 16, 9, 7, 4], 5: [48, 32, 24, 25, 16, 9, 7, 5], 8: [48, 32, 24, 25, 16, 9, 15, 8], 6: [48, 32, 24, 25, 16, 10, 11, 6], 14: [48, 32, 24, 25, 16, 9, 15, 14], 64: [50, 57, 72, 71, 70, 65, 63, 64], 68: [50, 57, 72, 71, 80, 73, 67, 68], 78: [50, 57, 81, 82, 85, 86, 77, 78], 87: [50, 57, 81, 82, 85, 86, 77, 87], 92: [50, 57, 81, 83, 84, 94, 95, 92], 101: [50, 57, 81, 83, 84, 94, 95, 101], 99: [50, 56, 55, 124, 122, 121, 98, 99], 110: [50, 56, 55, 124, 122, 121, 120, 110], 144: [50, 56, 55, 125, 128, 134, 133, 144], 142: [50, 56, 55, 125, 128, 135, 136, 142], 141: [50, 56, 55, 125, 127, 137, 138, 141], 140: [50, 56, 55, 125, 127, 137, 139, 140], 148: [50, 56, 55, 125, 128, 135, 136, 142, 148], 2: [48, 32, 24, 25, 16, 9, 7, 4, 2], 3: [48, 32, 24, 25, 16, 9, 7, 4, 3], 69: [50, 57, 72, 71, 80, 73, 67, 68, 69], 76: [50, 57, 81, 82, 85, 86, 77, 78, 76], 88: [50, 57, 81, 82, 85, 86, 77, 78, 88], 89: [50, 57, 81, 82, 85, 86, 77, 87, 89], 91: [50, 57, 81, 83, 84, 94, 95, 92, 91], 102: [50, 57, 81, 83, 84, 94, 95, 101, 102], 100: [50, 57, 81, 83, 84, 94, 95, 101, 100], 106: [50, 57, 81, 83, 84, 94, 95, 101, 106], 111: [50, 56, 55, 124, 122, 121, 120, 110, 111], 113: [50, 56, 55, 125, 127, 137, 139, 140, 113], 149: [50, 56, 55, 125, 127, 137, 138, 141, 149], 145: [50, 56, 55, 125, 128, 134, 133, 144, 145], 146: [50, 56, 55, 125, 128, 134, 133, 144, 146], 147: [50, 56, 55, 125, 128, 135, 136, 142, 148, 147], 153: [50, 56, 55, 125, 128, 135, 136, 142, 148, 153], 1: [48, 32, 24, 25, 16, 9, 7, 4, 2, 1], 75: [50, 57, 72, 71, 80, 73, 67, 68, 69, 75], 74: [50, 57, 81, 82, 85, 86, 77, 78, 76, 74], 90: [50, 57, 81, 82, 85, 86, 77, 87, 89, 90], 103: [50, 57, 81, 83, 84, 94, 95, 92, 91, 103], 107: [50, 57, 81, 83, 84, 94, 95, 101, 100, 107], 104: [50, 57, 81, 83, 84, 94, 95, 92, 91, 103, 104], 105: [50, 57, 81, 83, 84, 94, 95, 101, 106, 105], 112: [50, 56, 55, 124, 122, 121, 120, 110, 111, 112], 114: [50, 56, 55, 125, 127, 137, 139, 140, 113, 114], 155: [50, 56, 55, 125, 128, 134, 133, 144, 146, 155], 150: [50, 56, 55, 125, 127, 137, 138, 141, 149, 150], 151: [50, 56, 55, 125, 127, 137, 138, 141, 149, 151], 152: [50, 56, 55, 125, 128, 135, 136, 142, 148, 153, 152], 154: [50, 56, 55, 125, 128, 135, 136, 142, 148, 153, 154], 0: [48, 32, 24, 25, 16, 9, 7, 4, 2, 1, 0], 108: [50, 56, 55, 124, 122, 121, 120, 110, 111, 112, 109, 108], 109: [50, 56, 55, 124, 122, 121, 120, 110, 111, 112, 109], 115: [50, 56, 55, 125, 127, 137, 139, 140, 113, 114, 115], 116: [50, 56, 55, 125, 127, 137, 139, 140, 113, 114, 116], 157: [50, 56, 55, 125, 127, 137, 138, 141, 149, 151, 157], 156: [50, 56, 55, 125, 128, 135, 136, 142, 148, 153, 152, 156], 163: [50, 56, 55, 125, 128, 134, 133, 144, 146, 155, 163], 117: [50, 56, 55, 125, 127, 137, 139, 140, 113, 114, 116, 117], 118: [50, 56, 55, 125, 127, 137, 139, 140, 113, 114, 115, 118], 158: [50, 56, 55, 125, 127, 137, 138, 141, 149, 151, 157, 158], 159: [50, 56, 55, 125, 128, 135, 136, 142, 148, 153, 152, 156, 159], 119: [50, 56, 55, 125, 127, 137, 138, 141, 149, 151, 157, 119], 161: [50, 56, 55, 125, 128, 134, 133, 144, 146, 155, 163, 161], 162: [50, 56, 55, 125, 128, 134, 133, 144, 146, 155, 163, 162], 164: [50, 56, 55, 125, 128, 134, 133, 144, 146, 155, 163, 164]}\n",
      "[117 118 119 158 159 161 162 164]\n",
      "158\n",
      "159\n",
      "161\n",
      "[43.5, 40.875, 39.5625, 38.285714285714285, 35.095238095238095, 33.95238095238095, 31.666666666666668, 27.529411764705884, 26.266666666666666, 23.125, 21.5]\n",
      "{46: [46], 47: [47], 48: [48], 50: [50], 33: [46, 33], 45: [47, 45], 32: [48, 32], 51: [50, 51], 56: [50, 56], 57: [50, 57], 24: [48, 32, 24], 31: [48, 32, 31], 34: [46, 33, 34], 38: [47, 45, 38], 52: [50, 51, 52], 55: [50, 56, 55], 72: [50, 57, 72], 81: [50, 57, 81], 19: [48, 32, 24, 19], 23: [48, 32, 24, 23], 25: [48, 32, 24, 25], 30: [48, 32, 31, 30], 35: [46, 33, 34, 35], 37: [47, 45, 38, 37], 39: [47, 45, 38, 39], 40: [47, 45, 38, 40], 53: [50, 51, 52, 53], 54: [50, 56, 55, 54], 124: [50, 56, 55, 124], 125: [50, 56, 55, 125], 58: [50, 57, 72, 58], 71: [50, 57, 72, 71], 82: [50, 57, 81, 82], 83: [50, 57, 81, 83], 16: [48, 32, 24, 25, 16], 17: [48, 32, 24, 19, 17], 20: [48, 32, 24, 23, 20], 26: [48, 32, 24, 25, 26], 27: [48, 32, 31, 30, 27], 22: [46, 33, 34, 35, 22], 41: [47, 45, 38, 39, 41], 44: [47, 45, 38, 40, 44], 29: [50, 51, 52, 53, 29], 130: [50, 51, 52, 53, 130], 129: [50, 56, 55, 125, 129], 59: [50, 57, 72, 58, 59], 70: [50, 57, 72, 71, 70], 80: [50, 57, 72, 71, 80], 84: [50, 57, 81, 83, 84], 85: [50, 57, 81, 82, 85], 122: [50, 56, 55, 124, 122], 123: [50, 56, 55, 124, 123], 126: [50, 56, 55, 124, 126], 127: [50, 56, 55, 125, 127], 128: [50, 56, 55, 125, 128], 9: [48, 32, 24, 25, 16, 9], 10: [48, 32, 24, 25, 16, 10], 18: [48, 32, 24, 19, 17, 18], 21: [46, 33, 34, 35, 22, 21], 28: [50, 51, 52, 53, 29, 28], 36: [47, 45, 38, 39, 41, 36], 42: [47, 45, 38, 39, 41, 42], 43: [47, 45, 38, 40, 44, 43], 60: [50, 57, 72, 58, 59, 60], 65: [50, 57, 72, 71, 70, 65], 73: [50, 57, 72, 71, 80, 73], 79: [50, 57, 72, 71, 80, 79], 94: [50, 57, 81, 83, 84, 94], 96: [50, 57, 81, 83, 84, 96], 86: [50, 57, 81, 82, 85, 86], 93: [50, 57, 81, 82, 85, 93], 121: [50, 56, 55, 124, 122, 121], 137: [50, 56, 55, 125, 127, 137], 134: [50, 56, 55, 125, 128, 134], 135: [50, 56, 55, 125, 128, 135], 131: [50, 51, 52, 53, 130, 131], 7: [48, 32, 24, 25, 16, 9, 7], 15: [48, 32, 24, 25, 16, 9, 15], 11: [48, 32, 24, 25, 16, 10, 11], 12: [48, 32, 24, 19, 17, 18, 12], 13: [50, 51, 52, 53, 29, 28, 13], 62: [47, 45, 38, 39, 41, 42, 62], 61: [50, 57, 72, 58, 59, 60, 61], 63: [50, 57, 72, 71, 70, 65, 63], 66: [50, 57, 72, 71, 70, 65, 63, 66], 67: [50, 57, 72, 71, 80, 73, 67], 77: [50, 57, 81, 82, 85, 86, 77], 95: [50, 57, 81, 83, 84, 94, 95], 97: [50, 57, 81, 83, 84, 96, 97], 98: [50, 56, 55, 124, 122, 121, 98], 120: [50, 56, 55, 124, 122, 121, 120], 132: [50, 51, 52, 53, 130, 131, 132], 133: [50, 56, 55, 125, 128, 134, 133], 136: [50, 56, 55, 125, 128, 135, 136], 143: [50, 56, 55, 125, 128, 135, 143], 138: [50, 56, 55, 125, 127, 137, 138], 139: [50, 56, 55, 125, 127, 137, 139], 4: [48, 32, 24, 25, 16, 9, 7, 4], 5: [48, 32, 24, 25, 16, 9, 7, 5], 8: [48, 32, 24, 25, 16, 9, 15, 8], 6: [48, 32, 24, 25, 16, 10, 11, 6], 14: [48, 32, 24, 25, 16, 9, 15, 14], 64: [50, 57, 72, 71, 70, 65, 63, 64], 68: [50, 57, 72, 71, 80, 73, 67, 68], 78: [50, 57, 81, 82, 85, 86, 77, 78], 87: [50, 57, 81, 82, 85, 86, 77, 87], 92: [50, 57, 81, 83, 84, 94, 95, 92], 101: [50, 57, 81, 83, 84, 94, 95, 101], 99: [50, 56, 55, 124, 122, 121, 98, 99], 110: [50, 56, 55, 124, 122, 121, 120, 110], 144: [50, 56, 55, 125, 128, 134, 133, 144], 142: [50, 56, 55, 125, 128, 135, 136, 142], 141: [50, 56, 55, 125, 127, 137, 138, 141], 140: [50, 56, 55, 125, 127, 137, 139, 140], 148: [50, 56, 55, 125, 128, 135, 136, 142, 148], 2: [48, 32, 24, 25, 16, 9, 7, 4, 2], 3: [48, 32, 24, 25, 16, 9, 7, 4, 3], 69: [50, 57, 72, 71, 80, 73, 67, 68, 69], 76: [50, 57, 81, 82, 85, 86, 77, 78, 76], 88: [50, 57, 81, 82, 85, 86, 77, 78, 88], 89: [50, 57, 81, 82, 85, 86, 77, 87, 89], 91: [50, 57, 81, 83, 84, 94, 95, 92, 91], 102: [50, 57, 81, 83, 84, 94, 95, 101, 102], 100: [50, 57, 81, 83, 84, 94, 95, 101, 100], 106: [50, 57, 81, 83, 84, 94, 95, 101, 106], 111: [50, 56, 55, 124, 122, 121, 120, 110, 111], 113: [50, 56, 55, 125, 127, 137, 139, 140, 113], 149: [50, 56, 55, 125, 127, 137, 138, 141, 149], 145: [50, 56, 55, 125, 128, 134, 133, 144, 145], 146: [50, 56, 55, 125, 128, 134, 133, 144, 146], 147: [50, 56, 55, 125, 128, 135, 136, 142, 148, 147], 153: [50, 56, 55, 125, 128, 135, 136, 142, 148, 153], 1: [48, 32, 24, 25, 16, 9, 7, 4, 2, 1], 75: [50, 57, 72, 71, 80, 73, 67, 68, 69, 75], 74: [50, 57, 81, 82, 85, 86, 77, 78, 76, 74], 90: [50, 57, 81, 82, 85, 86, 77, 87, 89, 90], 103: [50, 57, 81, 83, 84, 94, 95, 92, 91, 103], 107: [50, 57, 81, 83, 84, 94, 95, 101, 100, 107], 104: [50, 57, 81, 83, 84, 94, 95, 92, 91, 103, 104], 105: [50, 57, 81, 83, 84, 94, 95, 101, 106, 105], 112: [50, 56, 55, 124, 122, 121, 120, 110, 111, 112], 114: [50, 56, 55, 125, 127, 137, 139, 140, 113, 114], 155: [50, 56, 55, 125, 128, 134, 133, 144, 146, 155], 150: [50, 56, 55, 125, 127, 137, 138, 141, 149, 150], 151: [50, 56, 55, 125, 127, 137, 138, 141, 149, 151], 152: [50, 56, 55, 125, 128, 135, 136, 142, 148, 153, 152], 154: [50, 56, 55, 125, 128, 135, 136, 142, 148, 153, 154], 0: [48, 32, 24, 25, 16, 9, 7, 4, 2, 1, 0], 108: [50, 56, 55, 124, 122, 121, 120, 110, 111, 112, 109, 108], 109: [50, 56, 55, 124, 122, 121, 120, 110, 111, 112, 109], 115: [50, 56, 55, 125, 127, 137, 139, 140, 113, 114, 115], 116: [50, 56, 55, 125, 127, 137, 139, 140, 113, 114, 116], 157: [50, 56, 55, 125, 127, 137, 138, 141, 149, 151, 157], 156: [50, 56, 55, 125, 128, 135, 136, 142, 148, 153, 152, 156], 163: [50, 56, 55, 125, 128, 134, 133, 144, 146, 155, 163], 117: [50, 56, 55, 125, 127, 137, 139, 140, 113, 114, 116, 117], 118: [50, 56, 55, 125, 127, 137, 139, 140, 113, 114, 115, 118], 158: [50, 56, 55, 125, 127, 137, 138, 141, 149, 151, 157, 158], 159: [50, 56, 55, 125, 128, 135, 136, 142, 148, 153, 152, 156, 159], 119: [50, 56, 55, 125, 127, 137, 138, 141, 149, 151, 157, 119], 161: [50, 56, 55, 125, 128, 134, 133, 144, 146, 155, 163, 161], 162: [50, 56, 55, 125, 128, 134, 133, 144, 146, 155, 163, 162], 164: [50, 56, 55, 125, 128, 134, 133, 144, 146, 155, 163, 164], 169: [50, 56, 55, 125, 127, 137, 138, 141, 149, 151, 157, 158, 169], 160: [50, 56, 55, 125, 128, 135, 136, 142, 148, 153, 152, 156, 159, 160], 167: [50, 56, 55, 125, 128, 134, 133, 144, 146, 155, 163, 161, 167]}\n",
      "[160 167 169]\n",
      "160\n",
      "[43.5, 40.875, 39.5625, 38.285714285714285, 35.095238095238095, 33.95238095238095, 31.666666666666668, 27.529411764705884, 26.266666666666666, 23.125, 21.5, 18.0]\n",
      "{46: [46], 47: [47], 48: [48], 50: [50], 33: [46, 33], 45: [47, 45], 32: [48, 32], 51: [50, 51], 56: [50, 56], 57: [50, 57], 24: [48, 32, 24], 31: [48, 32, 31], 34: [46, 33, 34], 38: [47, 45, 38], 52: [50, 51, 52], 55: [50, 56, 55], 72: [50, 57, 72], 81: [50, 57, 81], 19: [48, 32, 24, 19], 23: [48, 32, 24, 23], 25: [48, 32, 24, 25], 30: [48, 32, 31, 30], 35: [46, 33, 34, 35], 37: [47, 45, 38, 37], 39: [47, 45, 38, 39], 40: [47, 45, 38, 40], 53: [50, 51, 52, 53], 54: [50, 56, 55, 54], 124: [50, 56, 55, 124], 125: [50, 56, 55, 125], 58: [50, 57, 72, 58], 71: [50, 57, 72, 71], 82: [50, 57, 81, 82], 83: [50, 57, 81, 83], 16: [48, 32, 24, 25, 16], 17: [48, 32, 24, 19, 17], 20: [48, 32, 24, 23, 20], 26: [48, 32, 24, 25, 26], 27: [48, 32, 31, 30, 27], 22: [46, 33, 34, 35, 22], 41: [47, 45, 38, 39, 41], 44: [47, 45, 38, 40, 44], 29: [50, 51, 52, 53, 29], 130: [50, 51, 52, 53, 130], 129: [50, 56, 55, 125, 129], 59: [50, 57, 72, 58, 59], 70: [50, 57, 72, 71, 70], 80: [50, 57, 72, 71, 80], 84: [50, 57, 81, 83, 84], 85: [50, 57, 81, 82, 85], 122: [50, 56, 55, 124, 122], 123: [50, 56, 55, 124, 123], 126: [50, 56, 55, 124, 126], 127: [50, 56, 55, 125, 127], 128: [50, 56, 55, 125, 128], 9: [48, 32, 24, 25, 16, 9], 10: [48, 32, 24, 25, 16, 10], 18: [48, 32, 24, 19, 17, 18], 21: [46, 33, 34, 35, 22, 21], 28: [50, 51, 52, 53, 29, 28], 36: [47, 45, 38, 39, 41, 36], 42: [47, 45, 38, 39, 41, 42], 43: [47, 45, 38, 40, 44, 43], 60: [50, 57, 72, 58, 59, 60], 65: [50, 57, 72, 71, 70, 65], 73: [50, 57, 72, 71, 80, 73], 79: [50, 57, 72, 71, 80, 79], 94: [50, 57, 81, 83, 84, 94], 96: [50, 57, 81, 83, 84, 96], 86: [50, 57, 81, 82, 85, 86], 93: [50, 57, 81, 82, 85, 93], 121: [50, 56, 55, 124, 122, 121], 137: [50, 56, 55, 125, 127, 137], 134: [50, 56, 55, 125, 128, 134], 135: [50, 56, 55, 125, 128, 135], 131: [50, 51, 52, 53, 130, 131], 7: [48, 32, 24, 25, 16, 9, 7], 15: [48, 32, 24, 25, 16, 9, 15], 11: [48, 32, 24, 25, 16, 10, 11], 12: [48, 32, 24, 19, 17, 18, 12], 13: [50, 51, 52, 53, 29, 28, 13], 62: [47, 45, 38, 39, 41, 42, 62], 61: [50, 57, 72, 58, 59, 60, 61], 63: [50, 57, 72, 71, 70, 65, 63], 66: [50, 57, 72, 71, 70, 65, 63, 66], 67: [50, 57, 72, 71, 80, 73, 67], 77: [50, 57, 81, 82, 85, 86, 77], 95: [50, 57, 81, 83, 84, 94, 95], 97: [50, 57, 81, 83, 84, 96, 97], 98: [50, 56, 55, 124, 122, 121, 98], 120: [50, 56, 55, 124, 122, 121, 120], 132: [50, 51, 52, 53, 130, 131, 132], 133: [50, 56, 55, 125, 128, 134, 133], 136: [50, 56, 55, 125, 128, 135, 136], 143: [50, 56, 55, 125, 128, 135, 143], 138: [50, 56, 55, 125, 127, 137, 138], 139: [50, 56, 55, 125, 127, 137, 139], 4: [48, 32, 24, 25, 16, 9, 7, 4], 5: [48, 32, 24, 25, 16, 9, 7, 5], 8: [48, 32, 24, 25, 16, 9, 15, 8], 6: [48, 32, 24, 25, 16, 10, 11, 6], 14: [48, 32, 24, 25, 16, 9, 15, 14], 64: [50, 57, 72, 71, 70, 65, 63, 64], 68: [50, 57, 72, 71, 80, 73, 67, 68], 78: [50, 57, 81, 82, 85, 86, 77, 78], 87: [50, 57, 81, 82, 85, 86, 77, 87], 92: [50, 57, 81, 83, 84, 94, 95, 92], 101: [50, 57, 81, 83, 84, 94, 95, 101], 99: [50, 56, 55, 124, 122, 121, 98, 99], 110: [50, 56, 55, 124, 122, 121, 120, 110], 144: [50, 56, 55, 125, 128, 134, 133, 144], 142: [50, 56, 55, 125, 128, 135, 136, 142], 141: [50, 56, 55, 125, 127, 137, 138, 141], 140: [50, 56, 55, 125, 127, 137, 139, 140], 148: [50, 56, 55, 125, 128, 135, 136, 142, 148], 2: [48, 32, 24, 25, 16, 9, 7, 4, 2], 3: [48, 32, 24, 25, 16, 9, 7, 4, 3], 69: [50, 57, 72, 71, 80, 73, 67, 68, 69], 76: [50, 57, 81, 82, 85, 86, 77, 78, 76], 88: [50, 57, 81, 82, 85, 86, 77, 78, 88], 89: [50, 57, 81, 82, 85, 86, 77, 87, 89], 91: [50, 57, 81, 83, 84, 94, 95, 92, 91], 102: [50, 57, 81, 83, 84, 94, 95, 101, 102], 100: [50, 57, 81, 83, 84, 94, 95, 101, 100], 106: [50, 57, 81, 83, 84, 94, 95, 101, 106], 111: [50, 56, 55, 124, 122, 121, 120, 110, 111], 113: [50, 56, 55, 125, 127, 137, 139, 140, 113], 149: [50, 56, 55, 125, 127, 137, 138, 141, 149], 145: [50, 56, 55, 125, 128, 134, 133, 144, 145], 146: [50, 56, 55, 125, 128, 134, 133, 144, 146], 147: [50, 56, 55, 125, 128, 135, 136, 142, 148, 147], 153: [50, 56, 55, 125, 128, 135, 136, 142, 148, 153], 1: [48, 32, 24, 25, 16, 9, 7, 4, 2, 1], 75: [50, 57, 72, 71, 80, 73, 67, 68, 69, 75], 74: [50, 57, 81, 82, 85, 86, 77, 78, 76, 74], 90: [50, 57, 81, 82, 85, 86, 77, 87, 89, 90], 103: [50, 57, 81, 83, 84, 94, 95, 92, 91, 103], 107: [50, 57, 81, 83, 84, 94, 95, 101, 100, 107], 104: [50, 57, 81, 83, 84, 94, 95, 92, 91, 103, 104], 105: [50, 57, 81, 83, 84, 94, 95, 101, 106, 105], 112: [50, 56, 55, 124, 122, 121, 120, 110, 111, 112], 114: [50, 56, 55, 125, 127, 137, 139, 140, 113, 114], 155: [50, 56, 55, 125, 128, 134, 133, 144, 146, 155], 150: [50, 56, 55, 125, 127, 137, 138, 141, 149, 150], 151: [50, 56, 55, 125, 127, 137, 138, 141, 149, 151], 152: [50, 56, 55, 125, 128, 135, 136, 142, 148, 153, 152], 154: [50, 56, 55, 125, 128, 135, 136, 142, 148, 153, 154], 0: [48, 32, 24, 25, 16, 9, 7, 4, 2, 1, 0], 108: [50, 56, 55, 124, 122, 121, 120, 110, 111, 112, 109, 108], 109: [50, 56, 55, 124, 122, 121, 120, 110, 111, 112, 109], 115: [50, 56, 55, 125, 127, 137, 139, 140, 113, 114, 115], 116: [50, 56, 55, 125, 127, 137, 139, 140, 113, 114, 116], 157: [50, 56, 55, 125, 127, 137, 138, 141, 149, 151, 157], 156: [50, 56, 55, 125, 128, 135, 136, 142, 148, 153, 152, 156], 163: [50, 56, 55, 125, 128, 134, 133, 144, 146, 155, 163], 117: [50, 56, 55, 125, 127, 137, 139, 140, 113, 114, 116, 117], 118: [50, 56, 55, 125, 127, 137, 139, 140, 113, 114, 115, 118], 158: [50, 56, 55, 125, 127, 137, 138, 141, 149, 151, 157, 158], 159: [50, 56, 55, 125, 128, 135, 136, 142, 148, 153, 152, 156, 159], 119: [50, 56, 55, 125, 127, 137, 138, 141, 149, 151, 157, 119], 161: [50, 56, 55, 125, 128, 134, 133, 144, 146, 155, 163, 161], 162: [50, 56, 55, 125, 128, 134, 133, 144, 146, 155, 163, 162], 164: [50, 56, 55, 125, 128, 134, 133, 144, 146, 155, 163, 164], 169: [50, 56, 55, 125, 127, 137, 138, 141, 149, 151, 157, 158, 169], 160: [50, 56, 55, 125, 128, 135, 136, 142, 148, 153, 152, 156, 159, 160], 167: [50, 56, 55, 125, 128, 134, 133, 144, 146, 155, 163, 161, 167], 168: [50, 56, 55, 125, 128, 135, 136, 142, 148, 153, 152, 156, 159, 160, 168]}\n",
      "[168]\n",
      "[43.5, 40.875, 39.5625, 38.285714285714285, 35.095238095238095, 33.95238095238095, 31.666666666666668, 27.529411764705884, 26.266666666666666, 23.125, 21.5, 18.0, 15.0]\n",
      "0.88 s\n"
     ]
    }
   ],
   "source": [
    "distance_matrix, normed_sum_mirror_binary_simi,mirror_simi_matrix = calc_distance_matrix(all_data,3)\n",
    "the_trial_path,trial_step_nn,trial_step_min_max_rho,trial_step_path=build_knn(distance_matrix,mirror_simi_matrix,4,49)\n",
    "all_end = time.time()\n",
    "all_time = all_end - all_start\n",
    "index_aa = np.array(range(distance_matrix.shape[0]))[the_trial_path!=np.inf]\n",
    "print(round(all_time,2),'s')"
   ]
  },
  {
   "cell_type": "code",
   "execution_count": 93,
   "metadata": {},
   "outputs": [
    {
     "data": {
      "text/plain": [
       "<matplotlib.collections.PathCollection at 0x2b79d0639850>"
      ]
     },
     "execution_count": 93,
     "metadata": {},
     "output_type": "execute_result"
    },
    {
     "data": {
      "image/png": "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\n",
      "text/plain": [
       "<Figure size 432x288 with 1 Axes>"
      ]
     },
     "metadata": {
      "needs_background": "light"
     },
     "output_type": "display_data"
    }
   ],
   "source": [
    "# plt.scatter(range(len(trial_step_min_max_rho)), trial_step_min_max_rho)\n"
   ]
  },
  {
   "cell_type": "code",
<<<<<<< HEAD
   "execution_count": 335,
=======
   "execution_count": 6,
>>>>>>> ecb73c54a487c966d00eb80a38967405cf0f7fbe
   "metadata": {},
   "outputs": [
    {
     "name": "stdout",
     "output_type": "stream",
     "text": [
      "(788, 788)\n"
     ]
    }
   ],
   "source": [
    "#pairs = list(itertools.combinations(, 2))\n",
    "simi_matrix = np.zeros((len(all_data),len(all_data)))\n",
    "mirror_simi_matrix = np.zeros((len(all_data),len(all_data)))\n",
    "upper_indices = np.triu_indices(len(all_data),k=1)\n",
    "lower_indices = (upper_indices[1],upper_indices[0])\n",
    "pair_array = np.array(pairs)\n",
    "distance=np.linalg.norm(pair_array[:,0]-pair_array[:,1],axis=1)\n",
    "distance_cut=distance<3\n",
    "simi_matrix[lower_indices] = distance_cut\n",
    "mirror_simi_matrix[upper_indices] = distance_cut\n",
    "mirror_simi_matrix[lower_indices] = distance_cut\n",
    "np.fill_diagonal(mirror_simi_matrix,1)\n",
    "# mirror_simi_matrix=mirror_simi_matrix[index_aa][:,index_aa]\n",
    "print(mirror_simi_matrix.shape)"
   ]
  },
  {
   "cell_type": "code",
<<<<<<< HEAD
   "execution_count": 336,
   "metadata": {},
   "outputs": [],
   "source": [
    "sum_mirror_binary_simi = np.sum(mirror_simi_matrix.T,axis=1)\n",
    "normed_sum_mirror_binary_simi = np.exp(sum_mirror_binary_simi/sum_mirror_binary_simi.max())\n",
    "distance_matrix = np.zeros((len(all_data),len(all_data)))\n",
    "distance_matrix[upper_indices] = distance\n",
    "distance_matrix[lower_indices] = distance\n",
    "# distance_matrix = distance_matrix[index_aa][:,index_aa]\n",
    "normed_sum_mirror_binary_simi = normed_sum_mirror_binary_simi\n",
    "# normed_sum_mirror_binary_simi"
   ]
  },
  {
   "cell_type": "code",
   "execution_count": 198,
   "metadata": {
    "scrolled": true
   },
   "outputs": [],
   "source": [
    "# normed_min_max = []\n",
    "# peak_list = []\n",
    "# for i in range(30):\n",
    "#     if i == 0:\n",
    "#         peak_list.append(normed_sum_mirror_binary_simi.argmax())\n",
    "#     elif i == 1:\n",
    "#         big_dis = distance_matrix[peak_list[0]]/(distance_matrix[peak_list[0]].max())\n",
    "#         peak_list.append((normed_sum_mirror_binary_simi*big_dis).argmax())\n",
    "#         normed_min_max.append((normed_sum_mirror_binary_simi*big_dis).max())\n",
    "#     else:\n",
    "#         min_max = np.min(distance_matrix[[peak_list]],axis=0)/np.max(distance_matrix[[peak_list]],axis=0)\n",
    "#         for i in peak_list:\n",
    "#             min_max[i] = 0\n",
    "#         peak_list.append((normed_sum_mirror_binary_simi*min_max).argmax())\n",
    "#         normed_min_max.append((normed_sum_mirror_binary_simi*min_max).max())\n"
=======
   "execution_count": 7,
   "metadata": {},
   "outputs": [],
   "source": [
    "from clustering import *\n",
    "simi_matrix , _, time= binary_simi_matrix(mirror_simi_matrix)\n",
    "mirror_binary_simi=simi_matrix+np.rot90(np.fliplr(simi_matrix))\n",
    "sum_mirror_binary_simi = np.sum(mirror_binary_simi.T,axis=1)"
>>>>>>> ecb73c54a487c966d00eb80a38967405cf0f7fbe
   ]
  },
  {
   "cell_type": "code",
<<<<<<< HEAD
   "execution_count": 67,
=======
   "execution_count": 11,
>>>>>>> ecb73c54a487c966d00eb80a38967405cf0f7fbe
   "metadata": {},
   "outputs": [
    {
     "data": {
<<<<<<< HEAD
      "text/plain": [
       "<matplotlib.collections.PathCollection at 0x2b48812ed690>"
      ]
     },
     "execution_count": 67,
     "metadata": {},
     "output_type": "execute_result"
    },
    {
     "data": {
      "image/png": "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\n",
=======
      "image/png": "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\n",
>>>>>>> ecb73c54a487c966d00eb80a38967405cf0f7fbe
      "text/plain": [
       "<Figure size 432x288 with 1 Axes>"
      ]
     },
     "metadata": {
      "needs_background": "light"
     },
     "output_type": "display_data"
    }
   ],
   "source": [
<<<<<<< HEAD
    "# big_dis = distance_matrix[313]/distance_matrix[313].max()#+mirror_binary_dissimi[123]+mirror_binary_dissimi[294]+mirror_binary_dissimi[636]+ \\\n",
    "# #            #mirror_binary_dissimi[392]+mirror_binary_dissimi[259] #/sum_mirror_binary_simi\n",
    "# # # big_dis[371]=np.inf\n",
    "# # # big_dis_max = big_dis.max()\n",
    "# # # plt.scatter(sum_mirror_binary_simi,mirror_binary_dissimi[371])\n",
    "# # # mirror_binary_dissimi[371][123]\n",
    "# # # plt.scatter(range(len(sorted(sum_mirror_binary_simi*mirror_binary_dissimi[371]))),sorted(sum_mirror_binary_simi*mirror_binary_dissimi[371]))\n",
    "# plt.scatter(range(len(sorted(normed_sum_mirror_binary_simi*min_max))),sorted(normed_sum_mirror_binary_simi*min_max))\n",
    "# (normed_sum_mirror_binary_simi*min_max).argmax()\n",
    "plt.scatter(range(len(normed_min_max)),normed_min_max)\n"
   ]
  },
  {
   "cell_type": "code",
   "execution_count": 199,
   "metadata": {},
   "outputs": [],
   "source": [
    "from clustering import *\n",
    "simi_matrix , dis_matrix, time= binary_simi_matrix(mirror_simi_matrix,simi_scale = 'scaled',scale=0)\n",
    "mirror_binary_dissimi=dis_matrix+np.rot90(np.fliplr(dis_matrix))\n",
    "sum_mirror_binary_simi = np.sum(mirror_simi_matrix,axis=1)"
=======
    "sum_mirror_binary_simi_index = np.vstack((sum_mirror_binary_simi,range(len(sum_mirror_binary_simi)))).T\n",
    "plt.scatter(range(sum_mirror_binary_simi.shape[0]),sum_mirror_binary_simi)\n",
    "index_aa=[]\n",
    "for index_a,i in enumerate(sum_mirror_binary_simi):\n",
    "    if 945000<sum_mirror_binary_simi[index_a]:# < 620000:\n",
    "        index_aa.append(index_a)"
>>>>>>> ecb73c54a487c966d00eb80a38967405cf0f7fbe
   ]
  },
  {
   "cell_type": "code",
<<<<<<< HEAD
   "execution_count": 200,
=======
   "execution_count": 8,
>>>>>>> ecb73c54a487c966d00eb80a38967405cf0f7fbe
   "metadata": {},
   "outputs": [
    {
     "data": {
      "image/png": "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\n",
      "text/plain": [
<<<<<<< HEAD
       "<Figure size 432x288 with 1 Axes>"
      ]
     },
     "metadata": {
      "needs_background": "light"
     },
     "output_type": "display_data"
=======
       "array([[768776,    848],\n",
       "       [768776,    375],\n",
       "       [768776,    119],\n",
       "       ...,\n",
       "       [676306,    518],\n",
       "       [674016,    736],\n",
       "       [674016,    391]])"
      ]
     },
     "execution_count": 8,
     "metadata": {},
     "output_type": "execute_result"
>>>>>>> ecb73c54a487c966d00eb80a38967405cf0f7fbe
    }
   ],
   "source": [
    "plt.scatter(range(sum_mirror_binary_simi.shape[0]),sorted(sum_mirror_binary_simi))\n",
    "index_aa=[]\n",
    "for index_a,i in enumerate(sum_mirror_binary_simi):\n",
    "    if sum_mirror_binary_simi[index_a]>30:# and 770<sum_mirror_binary_simi[index_a] < 1000:\n",
    "        index_aa.append(index_a)   "
   ]
  },
  {
   "cell_type": "code",
<<<<<<< HEAD
   "execution_count": 202,
   "metadata": {},
   "outputs": [
    {
     "data": {
      "text/plain": [
       "[14,\n",
       " 16,\n",
       " 19,\n",
       " 20,\n",
       " 23,\n",
       " 24,\n",
       " 25,\n",
       " 26,\n",
       " 27,\n",
       " 29,\n",
       " 30,\n",
       " 31,\n",
       " 32,\n",
       " 33,\n",
       " 34,\n",
       " 37,\n",
       " 38,\n",
       " 39,\n",
       " 40,\n",
       " 42,\n",
       " 43,\n",
       " 44,\n",
       " 45,\n",
       " 46,\n",
       " 47,\n",
       " 48,\n",
       " 49,\n",
       " 50,\n",
       " 51,\n",
       " 52,\n",
       " 53,\n",
       " 54,\n",
       " 55,\n",
       " 56,\n",
       " 57,\n",
       " 58,\n",
       " 59,\n",
       " 60,\n",
       " 61,\n",
       " 63,\n",
       " 65,\n",
       " 66,\n",
       " 67,\n",
       " 70,\n",
       " 71,\n",
       " 72,\n",
       " 73,\n",
       " 77,\n",
       " 79,\n",
       " 80,\n",
       " 81,\n",
       " 82,\n",
       " 83,\n",
       " 84,\n",
       " 85,\n",
       " 86,\n",
       " 92,\n",
       " 93,\n",
       " 94,\n",
       " 95,\n",
       " 96,\n",
       " 97,\n",
       " 98,\n",
       " 99,\n",
       " 100,\n",
       " 101,\n",
       " 102,\n",
       " 110,\n",
       " 111,\n",
       " 113,\n",
       " 120,\n",
       " 121,\n",
       " 122,\n",
       " 123,\n",
       " 124,\n",
       " 125,\n",
       " 126,\n",
       " 127,\n",
       " 128,\n",
       " 129,\n",
       " 130,\n",
       " 133,\n",
       " 134,\n",
       " 135,\n",
       " 136,\n",
       " 137,\n",
       " 138,\n",
       " 139,\n",
       " 140,\n",
       " 141,\n",
       " 142,\n",
       " 143,\n",
       " 147,\n",
       " 148,\n",
       " 149,\n",
       " 150,\n",
       " 151,\n",
       " 152,\n",
       " 153,\n",
       " 154,\n",
       " 178,\n",
       " 185,\n",
       " 186,\n",
       " 187,\n",
       " 188,\n",
       " 189,\n",
       " 190,\n",
       " 191,\n",
       " 192,\n",
       " 197,\n",
       " 198,\n",
       " 199,\n",
       " 200,\n",
       " 201,\n",
       " 203,\n",
       " 207,\n",
       " 210,\n",
       " 211,\n",
       " 212,\n",
       " 214,\n",
       " 215,\n",
       " 216,\n",
       " 220,\n",
       " 221,\n",
       " 222,\n",
       " 223,\n",
       " 224,\n",
       " 225,\n",
       " 226,\n",
       " 227,\n",
       " 228,\n",
       " 229,\n",
       " 230,\n",
       " 231,\n",
       " 234,\n",
       " 235,\n",
       " 236,\n",
       " 237,\n",
       " 238,\n",
       " 239,\n",
       " 240,\n",
       " 241,\n",
       " 242,\n",
       " 243,\n",
       " 244,\n",
       " 245,\n",
       " 246,\n",
       " 247,\n",
       " 248,\n",
       " 249,\n",
       " 250,\n",
       " 251,\n",
       " 252,\n",
       " 253,\n",
       " 254,\n",
       " 255,\n",
       " 256,\n",
       " 257,\n",
       " 258,\n",
       " 259,\n",
       " 260,\n",
       " 261,\n",
       " 262,\n",
       " 263,\n",
       " 264,\n",
       " 265,\n",
       " 266,\n",
       " 267,\n",
       " 268,\n",
       " 269,\n",
       " 272,\n",
       " 273,\n",
       " 274,\n",
       " 275,\n",
       " 276,\n",
       " 277,\n",
       " 278,\n",
       " 279,\n",
       " 282,\n",
       " 284,\n",
       " 285,\n",
       " 286,\n",
       " 288,\n",
       " 289,\n",
       " 290,\n",
       " 291,\n",
       " 292,\n",
       " 293,\n",
       " 294,\n",
       " 296,\n",
       " 297,\n",
       " 298,\n",
       " 299,\n",
       " 300,\n",
       " 301,\n",
       " 302,\n",
       " 304,\n",
       " 305,\n",
       " 306,\n",
       " 307,\n",
       " 308,\n",
       " 309,\n",
       " 310,\n",
       " 311,\n",
       " 312,\n",
       " 313,\n",
       " 314,\n",
       " 315,\n",
       " 316,\n",
       " 317,\n",
       " 318,\n",
       " 319,\n",
       " 320,\n",
       " 321,\n",
       " 322,\n",
       " 323,\n",
       " 324,\n",
       " 325,\n",
       " 326,\n",
       " 327,\n",
       " 328,\n",
       " 329,\n",
       " 330,\n",
       " 331,\n",
       " 332,\n",
       " 333,\n",
       " 334,\n",
       " 335,\n",
       " 337,\n",
       " 338,\n",
       " 339,\n",
       " 340,\n",
       " 341,\n",
       " 342,\n",
       " 343,\n",
       " 344,\n",
       " 345,\n",
       " 346,\n",
       " 347,\n",
       " 348,\n",
       " 349,\n",
       " 350,\n",
       " 351,\n",
       " 352,\n",
       " 353,\n",
       " 354,\n",
       " 355,\n",
       " 357,\n",
       " 358,\n",
       " 359,\n",
       " 360,\n",
       " 361,\n",
       " 362,\n",
       " 363,\n",
       " 364,\n",
       " 365,\n",
       " 366,\n",
       " 367,\n",
       " 368,\n",
       " 369,\n",
       " 370,\n",
       " 371,\n",
       " 372,\n",
       " 373,\n",
       " 374,\n",
       " 375,\n",
       " 376,\n",
       " 377,\n",
       " 378,\n",
       " 379,\n",
       " 380,\n",
       " 381,\n",
       " 382,\n",
       " 383,\n",
       " 384,\n",
       " 385,\n",
       " 386,\n",
       " 387,\n",
       " 388,\n",
       " 389,\n",
       " 390,\n",
       " 391,\n",
       " 392,\n",
       " 393,\n",
       " 394,\n",
       " 395,\n",
       " 396,\n",
       " 397,\n",
       " 399,\n",
       " 400,\n",
       " 401,\n",
       " 402,\n",
       " 404,\n",
       " 405,\n",
       " 406,\n",
       " 407,\n",
       " 408,\n",
       " 409,\n",
       " 410,\n",
       " 411,\n",
       " 412,\n",
       " 413,\n",
       " 414,\n",
       " 415,\n",
       " 416,\n",
       " 417,\n",
       " 418,\n",
       " 419,\n",
       " 420,\n",
       " 421,\n",
       " 422,\n",
       " 423,\n",
       " 424,\n",
       " 426,\n",
       " 427,\n",
       " 428,\n",
       " 429,\n",
       " 430,\n",
       " 431,\n",
       " 432,\n",
       " 433,\n",
       " 435,\n",
       " 436,\n",
       " 437,\n",
       " 439,\n",
       " 440,\n",
       " 441,\n",
       " 442,\n",
       " 443,\n",
       " 444,\n",
       " 445,\n",
       " 446,\n",
       " 447,\n",
       " 448,\n",
       " 449,\n",
       " 450,\n",
       " 451,\n",
       " 452,\n",
       " 453,\n",
       " 454,\n",
       " 455,\n",
       " 456,\n",
       " 457,\n",
       " 458,\n",
       " 459,\n",
       " 460,\n",
       " 461,\n",
       " 462,\n",
       " 464,\n",
       " 466,\n",
       " 467,\n",
       " 470,\n",
       " 471,\n",
       " 472,\n",
       " 473,\n",
       " 474,\n",
       " 489,\n",
       " 491,\n",
       " 492,\n",
       " 497,\n",
       " 498,\n",
       " 499,\n",
       " 507,\n",
       " 508,\n",
       " 509,\n",
       " 510,\n",
       " 511,\n",
       " 512,\n",
       " 513,\n",
       " 514,\n",
       " 515,\n",
       " 518,\n",
       " 520,\n",
       " 521,\n",
       " 522,\n",
       " 523,\n",
       " 524,\n",
       " 525,\n",
       " 526,\n",
       " 527,\n",
       " 528,\n",
       " 529,\n",
       " 533,\n",
       " 536,\n",
       " 537,\n",
       " 538,\n",
       " 539,\n",
       " 540,\n",
       " 541,\n",
       " 542,\n",
       " 543,\n",
       " 544,\n",
       " 545,\n",
       " 552,\n",
       " 553,\n",
       " 554,\n",
       " 555,\n",
       " 556,\n",
       " 557,\n",
       " 560,\n",
       " 562,\n",
       " 563,\n",
       " 564,\n",
       " 565,\n",
       " 566,\n",
       " 567,\n",
       " 573,\n",
       " 575,\n",
       " 584,\n",
       " 585,\n",
       " 586,\n",
       " 587,\n",
       " 588,\n",
       " 589,\n",
       " 592,\n",
       " 593,\n",
       " 594,\n",
       " 597,\n",
       " 598,\n",
       " 599,\n",
       " 600,\n",
       " 601,\n",
       " 602,\n",
       " 603,\n",
       " 604,\n",
       " 605,\n",
       " 606,\n",
       " 609,\n",
       " 610,\n",
       " 611,\n",
       " 612,\n",
       " 613,\n",
       " 614,\n",
       " 615,\n",
       " 616,\n",
       " 617,\n",
       " 618,\n",
       " 619,\n",
       " 620,\n",
       " 621,\n",
       " 623,\n",
       " 624,\n",
       " 625,\n",
       " 626,\n",
       " 627,\n",
       " 631,\n",
       " 632,\n",
       " 633,\n",
       " 634,\n",
       " 635,\n",
       " 636,\n",
       " 637,\n",
       " 638,\n",
       " 639,\n",
       " 640,\n",
       " 641,\n",
       " 642,\n",
       " 643,\n",
       " 644,\n",
       " 646,\n",
       " 647,\n",
       " 648,\n",
       " 651,\n",
       " 652,\n",
       " 653,\n",
       " 654,\n",
       " 655,\n",
       " 656,\n",
       " 657,\n",
       " 658,\n",
       " 660,\n",
       " 661,\n",
       " 662,\n",
       " 665,\n",
       " 666,\n",
       " 667,\n",
       " 668,\n",
       " 669,\n",
       " 670,\n",
       " 671,\n",
       " 672,\n",
       " 675,\n",
       " 676,\n",
       " 677,\n",
       " 678,\n",
       " 679,\n",
       " 680,\n",
       " 681,\n",
       " 682,\n",
       " 686,\n",
       " 688,\n",
       " 697,\n",
       " 698,\n",
       " 699,\n",
       " 700,\n",
       " 701,\n",
       " 708,\n",
       " 718,\n",
       " 720,\n",
       " 721,\n",
       " 722,\n",
       " 723,\n",
       " 724,\n",
       " 728,\n",
       " 729,\n",
       " 734,\n",
       " 735,\n",
       " 736,\n",
       " 742,\n",
       " 743,\n",
       " 744,\n",
       " 748,\n",
       " 755,\n",
       " 756,\n",
       " 757,\n",
       " 758,\n",
       " 761,\n",
       " 762,\n",
       " 763,\n",
       " 764,\n",
       " 766,\n",
       " 767,\n",
       " 768,\n",
       " 769,\n",
       " 770,\n",
       " 773,\n",
       " 775,\n",
       " 776,\n",
       " 777,\n",
       " 778,\n",
       " 779,\n",
       " 780,\n",
       " 781,\n",
       " 782,\n",
       " 783]"
      ]
     },
     "execution_count": 202,
     "metadata": {},
     "output_type": "execute_result"
    }
   ],
   "source": [
    "index_aa"
   ]
  },
  {
   "cell_type": "code",
   "execution_count": 203,
   "metadata": {},
   "outputs": [],
   "source": [
    "sum_mirror_binary_simi_index = np.vstack((sum_mirror_binary_simi,range(len(sum_mirror_binary_simi)))).T"
   ]
  },
  {
   "cell_type": "code",
   "execution_count": 204,
   "metadata": {},
   "outputs": [
    {
     "data": {
      "text/plain": [
       "array([[ 65, 311],\n",
       "       [ 64, 381],\n",
       "       [ 64, 314],\n",
       "       ...,\n",
       "       [ 11, 165],\n",
       "       [  9,   0],\n",
       "       [  8, 166]])"
      ]
     },
     "execution_count": 204,
     "metadata": {},
     "output_type": "execute_result"
    }
   ],
   "source": [
    "sorted_sum_mirror_binary_simi_index = sum_mirror_binary_simi_index[sum_mirror_binary_simi_index[:,0].argsort()][::-1]\n",
    "sorted_sum_mirror_binary_simi_index = sorted_sum_mirror_binary_simi_index.astype('int')\n",
    "sorted_sum_mirror_binary_simi_index"
   ]
  },
  {
   "cell_type": "code",
   "execution_count": 10,
   "metadata": {},
   "outputs": [
    {
     "name": "stderr",
     "output_type": "stream",
     "text": [
      "/home/liweichang/anaconda3/envs/msm/lib/python3.7/site-packages/ipykernel_launcher.py:3: FutureWarning: Using a non-tuple sequence for multidimensional indexing is deprecated; use `arr[tuple(seq)]` instead of `arr[seq]`. In the future this will be interpreted as an array index, `arr[np.array(seq)]`, which will result either in an error or a different result.\n",
      "  This is separate from the ipykernel package so we can avoid doing imports until\n"
     ]
    }
   ],
   "source": [
    "all_compare=[]\n",
    "for i in range(1,len(all_data)):\n",
    "    all_compare+=list(itertools.combinations(np.vstack((mirror_simi_matrix[sorted_sum_mirror_binary_simi_index[:,1][i]],mirror_simi_matrix[[sorted_sum_mirror_binary_simi_index[:,1][:i]]])),2))[:i]\n"
=======
   "execution_count": 9,
   "metadata": {},
   "outputs": [
    {
     "name": "stderr",
     "output_type": "stream",
     "text": [
      "/home/liwei/Prorgram/miniconda3/envs/msm/lib/python3.7/site-packages/ipykernel_launcher.py:3: FutureWarning: Using a non-tuple sequence for multidimensional indexing is deprecated; use `arr[tuple(seq)]` instead of `arr[seq]`. In the future this will be interpreted as an array index, `arr[np.array(seq)]`, which will result either in an error or a different result.\n",
      "  This is separate from the ipykernel package so we can avoid doing imports until\n"
     ]
    }
   ],
   "source": [
    "all_compare=[]\n",
    "for i in range(1,len(all_data)):\n",
    "    all_compare+=list(itertools.combinations(np.vstack((mirror_simi_matrix[sorted_sum_mirror_binary_simi_index[:,1][i]],mirror_simi_matrix[[sorted_sum_mirror_binary_simi_index[:,1][:i]]])),2))[:i]"
>>>>>>> ecb73c54a487c966d00eb80a38967405cf0f7fbe
   ]
  },
  {
   "cell_type": "code",
<<<<<<< HEAD
   "execution_count": 167,
=======
   "execution_count": null,
>>>>>>> ecb73c54a487c966d00eb80a38967405cf0f7fbe
   "metadata": {},
   "outputs": [],
   "source": [
    "all_input = all_compare\n",
    "batch_size=1000000\n",
    "inp_sliced=[all_input[i*batch_size:(i+1)*batch_size] for i in range(int(len(all_input)/batch_size))]\n",
    "if int(len(inp_sliced)) < len(all_input)/batch_size:\n",
    "    inp_sliced.append(all_input[len(inp_sliced)*batch_size:])\n",
    "for i in range(len(inp_sliced)):\n",
    "    temp_c = np.zeros((int(len(inp_sliced[i])),3))\n",
    "    temp_input = np.array(inp_sliced[i])\n",
    "    product = temp_input.reshape(-1,2,temp_input.shape[-1]).sum(1)\n",
    "#    product = np.linalg.norm(temp_input[:,0]-temp_input[:,1],axis=1)\n",
    "    for row in range(3):\n",
    "        temp_c[:,row] = np.sum(product==row,axis=1)\n",
    "    if i == 0:\n",
    "        all_c = temp_c\n",
    "    else:\n",
    "        all_c = np.concatenate((all_c,temp_c),axis=0)\n",
    "\n",
    "###calculate similarity\n",
    "\n",
    "simi = all_c[:,0]+all_c[:,2]\n",
    "dis_simi = all_c[:,1] #- all_c[:,2] - all_c[:,0]\n",
    "\n",
    "simi_matrix = np.zeros((len(all_data),len(all_data)))\n",
    "dis_simi_matrix = np.zeros((len(all_data),len(all_data)))\n",
    "indices = np.triu_indices(len(all_data),k=1)\n",
    "indices = (indices[1],indices[0])\n",
    "simi_matrix[indices] = simi\n",
    "dis_simi_matrix[indices] = simi"
   ]
  },
  {
   "cell_type": "code",
<<<<<<< HEAD
   "execution_count": 168,
=======
   "execution_count": 81,
>>>>>>> ecb73c54a487c966d00eb80a38967405cf0f7fbe
   "metadata": {},
   "outputs": [],
   "source": [
    "upper_indices = np.triu_indices(len(all_data),k=1)\n",
    "dis_simi_matrix[upper_indices] = np.Inf\n",
    "np.fill_diagonal(dis_simi_matrix,np.Inf)\n",
    "#min_dis_simi = np.array([dis_simi_matrix[i].sum()/i for i in range(len(all_data))])#,axis=1)\n",
    "min_dis_simi = np.min(dis_simi_matrix,axis=1)\n",
    "min_dis_simi[0] = min_dis_simi[1:].max()\n",
    "#dis_simi_matrix[0] = dis_simi_matrix.max()\n",
    "dis_all = np.vstack((min_dis_simi,sorted_sum_mirror_binary_simi_index[:,1])).T"
   ]
  },
  {
   "cell_type": "code",
<<<<<<< HEAD
   "execution_count": 169,
=======
   "execution_count": 82,
>>>>>>> ecb73c54a487c966d00eb80a38967405cf0f7fbe
   "metadata": {},
   "outputs": [
    {
     "data": {
      "text/plain": [
<<<<<<< HEAD
       "array([[  4.,   0.],\n",
       "       [  8.,   1.],\n",
       "       [  6.,   2.],\n",
       "       ...,\n",
       "       [  5., 785.],\n",
       "       [  5., 786.],\n",
       "       [  4., 787.]])"
      ]
     },
     "execution_count": 169,
=======
       "array([[779.,   0.],\n",
       "       [763.,   1.],\n",
       "       [760.,   2.],\n",
       "       ...,\n",
       "       [748., 785.],\n",
       "       [737., 786.],\n",
       "       [740., 787.]])"
      ]
     },
     "execution_count": 82,
>>>>>>> ecb73c54a487c966d00eb80a38967405cf0f7fbe
     "metadata": {},
     "output_type": "execute_result"
    }
   ],
   "source": [
    "sorted_dis_all = dis_all[dis_all[:,1].argsort()]\n",
    "sorted_dis_all"
   ]
  },
  {
   "cell_type": "code",
<<<<<<< HEAD
   "execution_count": 170,
=======
   "execution_count": 83,
>>>>>>> ecb73c54a487c966d00eb80a38967405cf0f7fbe
   "metadata": {},
   "outputs": [
    {
     "data": {
      "text/plain": [
<<<<<<< HEAD
       "<matplotlib.collections.PathCollection at 0x2ad357c3f3d0>"
      ]
     },
     "execution_count": 170,
=======
       "<matplotlib.collections.PathCollection at 0x7f03540f6b50>"
      ]
     },
     "execution_count": 83,
>>>>>>> ecb73c54a487c966d00eb80a38967405cf0f7fbe
     "metadata": {},
     "output_type": "execute_result"
    },
    {
     "data": {
<<<<<<< HEAD
      "image/png": "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\n",
=======
      "image/png": "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\n",
>>>>>>> ecb73c54a487c966d00eb80a38967405cf0f7fbe
      "text/plain": [
       "<Figure size 432x288 with 1 Axes>"
      ]
     },
     "metadata": {
      "needs_background": "light"
     },
     "output_type": "display_data"
    }
   ],
   "source": [
    "plt.scatter(sum_mirror_binary_simi,sorted_dis_all[:,0])"
   ]
  },
  {
   "cell_type": "code",
<<<<<<< HEAD
   "execution_count": 176,
=======
   "execution_count": 93,
>>>>>>> ecb73c54a487c966d00eb80a38967405cf0f7fbe
   "metadata": {},
   "outputs": [],
   "source": [
    "index_aa=[]\n",
    "for index_a,i in enumerate(sorted_dis_all[:,0]):\n",
<<<<<<< HEAD
    "    if i > 20 and sum_mirror_binary_simi[index_a]>25:# and 770<sum_mirror_binary_simi[index_a] < 1000:\n",
    "        index_aa.append(index_a)      "
=======
    "    if 592000<sum_mirror_binary_simi[index_a] < 620000:\n",
    "        index_aa.append(index_a)\n",
    "        "
>>>>>>> ecb73c54a487c966d00eb80a38967405cf0f7fbe
   ]
  },
  {
   "cell_type": "code",
   "execution_count": 79,
   "metadata": {},
   "outputs": [
    {
     "data": {
      "text/plain": [
       "array([  2.26770809, 381.        ])"
      ]
     },
     "execution_count": 79,
     "metadata": {},
     "output_type": "execute_result"
    }
   ],
   "source": [
    "sorted_dis_all[381]#.sum()#==mirror_simi_matrix[381]"
   ]
  },
  {
   "cell_type": "code",
   "execution_count": 78,
   "metadata": {},
   "outputs": [
    {
     "data": {
      "text/plain": [
       "[311, 381]"
      ]
     },
     "execution_count": 78,
     "metadata": {},
     "output_type": "execute_result"
    }
   ],
   "source": [
    "index_aa"
   ]
  },
  {
   "cell_type": "code",
   "execution_count": null,
   "metadata": {},
   "outputs": [],
   "source": []
  }
 ],
 "metadata": {
  "hide_input": false,
  "kernelspec": {
   "display_name": "Python 3",
   "language": "python",
   "name": "python3"
  },
  "language_info": {
   "codemirror_mode": {
    "name": "ipython",
    "version": 3
   },
   "file_extension": ".py",
   "mimetype": "text/x-python",
   "name": "python",
   "nbconvert_exporter": "python",
   "pygments_lexer": "ipython3",
   "version": "3.7.6"
  }
 },
 "nbformat": 4,
 "nbformat_minor": 4
}
